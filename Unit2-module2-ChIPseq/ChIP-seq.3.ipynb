{
 "cells": [
  {
   "cell_type": "markdown",
   "metadata": {},
   "source": [
    "# ChIP-seq intro 3\n",
    "Huitian Diao\n",
    "* __References__: \n",
    "* [ENCODE ChIP-seq pipeline](https://www.encodeproject.org/pipelines/ENCPL138KID/)"
   ]
  },
  {
   "cell_type": "markdown",
   "metadata": {},
   "source": [
    "## 1. Filter blacklisted regions\n",
    "### 1.1 Download blacklisted regions\n",
    "* [Chip-blacklisted regions](https://sites.google.com/site/anshulkundaje/projects/blacklists)"
   ]
  },
  {
   "cell_type": "markdown",
   "metadata": {},
   "source": [
    "### 1.2 Download aligned files\n",
    "* [SRR3001750_srt_dupr.chr10.bam](https://drive.google.com/open?id=17ASjdXGqagqblAzk2V3WBBDbcuEYyXDY)"
   ]
  },
  {
   "cell_type": "code",
   "execution_count": 1,
   "metadata": {},
   "outputs": [
    {
     "name": "stderr",
     "output_type": "stream",
     "text": [
      "mkdir: ChIP-seq.3: File exists\n"
     ]
    }
   ],
   "source": [
    "%%bash\n",
    "cd /Users/yolandatiao/Documents/0_Bioinformatics2017/2018_Bioinformatics/Applied-Bioinformatics-HW-Yolanda \n",
    "mkdir ChIP-seq.3\n",
    "cd ChIP-seq.3"
   ]
  },
  {
   "cell_type": "markdown",
   "metadata": {},
   "source": [
    "* Move download bam file and blacklist bed file into the new folder"
   ]
  },
  {
   "cell_type": "markdown",
   "metadata": {},
   "source": [
    "### 1.3 Use bedtools to remove blacklisted regions (Optional)\n",
    "* [Bioconda: bedtools](https://bioconda.github.io/recipes/bedtools/README.html)\n",
    "* [bedtools - intersect](https://bedtools.readthedocs.io/en/latest/content/tools/intersect.html)"
   ]
  },
  {
   "cell_type": "code",
   "execution_count": 2,
   "metadata": {},
   "outputs": [],
   "source": [
    "%%bash\n",
    "cd /Users/yolandatiao/Documents/0_Bioinformatics2017/2018_Bioinformatics/Applied-Bioinformatics-HW-Yolanda/ChIP-seq.3\n",
    "bedtools intersect -abam SRR3001750_srt_dupr.chr10.bam -b mm10.blacklist.bed -v > SRR3001750_srt_dupr.chr10_flb.bam"
   ]
  },
  {
   "cell_type": "code",
   "execution_count": 3,
   "metadata": {},
   "outputs": [
    {
     "name": "stdout",
     "output_type": "stream",
     "text": [
      "-rw-r--r--@ 1 yolandatiao  staff    36M Nov 12 15:07 SRR3001750_srt_dupr.chr10.bam\n",
      "-rw-r--r--  1 yolandatiao  staff    36M Nov 12 15:19 SRR3001750_srt_dupr.chr10_flb.bam\n"
     ]
    }
   ],
   "source": [
    "%%bash\n",
    "cd /Users/yolandatiao/Documents/0_Bioinformatics2017/2018_Bioinformatics/Applied-Bioinformatics-HW-Yolanda/ChIP-seq.3\n",
    "ls -lh SRR3001750_srt_dupr*"
   ]
  },
  {
   "cell_type": "code",
   "execution_count": 4,
   "metadata": {},
   "outputs": [],
   "source": [
    "%%bash\n",
    "cd /home/rtu/\n",
    "source activate chip\n",
    "bedtools intersect -abam SRR3001750_srt_dupr.chr2.chr11.bam -b mm10.blacklist.bed -v > SRR3001750_srt_dupr.chr2.chr11_flb.bam"
   ]
  },
  {
   "cell_type": "code",
   "execution_count": 10,
   "metadata": {},
   "outputs": [
    {
     "name": "stdout",
     "output_type": "stream",
     "text": [
      "-rw-rw-rw- 1 rtu rtu   0 Nov 13 09:12 SRR3001750_srt_dupr.chr10_flb.bam\n",
      "-rw-r--r-- 1 rtu rtu 98M Nov 13 08:42 SRR3001750_srt_dupr.chr2.chr11.bam\n",
      "-rw-rw-rw- 1 rtu rtu 98M Nov 13 09:22 SRR3001750_srt_dupr.chr2.chr11_flb.bam\n"
     ]
    }
   ],
   "source": [
    "%%bash\n",
    "cd /home/rtu/\n",
    "ls -lh SRR3001750_srt_dupr*\n",
    "samplebam=SRR3001750_srt_dupr.chr2.chr11.bam\n",
    "sampleflb=SRR3001750_srt_dupr.chr2.chr11_flb.bam"
   ]
  },
  {
   "cell_type": "markdown",
   "metadata": {},
   "source": [
    "### 1.4 Use awk to filter chrM (Optional)"
   ]
  },
  {
   "cell_type": "code",
   "execution_count": 7,
   "metadata": {},
   "outputs": [],
   "source": [
    "%%bash\n",
    "cd /Users/yolandatiao/Documents/0_Bioinformatics2017/2018_Bioinformatics/Applied-Bioinformatics-HW-Yolanda/ChIP-seq.3\n",
    "samtools view -h SRR3001750_srt_dupr.chr10_flb.bam | awk '{if ($3!=\"chrM\") {print $0}}' > SRR3001750_srt_dupr.chr10_flb_flt.sam\n",
    "samtools view -bS SRR3001750_srt_dupr.chr10_flb_flt.sam > SRR3001750_srt_dupr.chr10_flb_flt.bam\n",
    "rm SRR3001750_srt_dupr.chr10_flb_flt.sam"
   ]
  },
  {
   "cell_type": "code",
   "execution_count": 24,
   "metadata": {},
   "outputs": [
    {
     "name": "stdout",
     "output_type": "stream",
     "text": [
      "@HD VN:1.0 chrM\n",
      "@SQ SN:chr10 chrM\n",
      "@SQ SN:chr11 chrM\n",
      "@SQ SN:chr12 chrM\n",
      "@SQ SN:chr13 chrM\n",
      "@SQ SN:chr14 chrM\n",
      "@SQ SN:chr15 chrM\n",
      "@SQ SN:chr16 chrM\n",
      "@SQ SN:chr17 chrM\n",
      "@SQ SN:chr18 chrM\n"
     ]
    },
    {
     "name": "stderr",
     "output_type": "stream",
     "text": [
      "[sam_header_line_parse] expected '@XY', got [@HD VN:1.0 chrM]\n",
      "Hint: The header tags must be tab-separated.\n",
      "[samopen] no @SQ lines in the header.\n",
      "[sam_read1] missing header? Abort!\n"
     ]
    }
   ],
   "source": [
    "%%bash\n",
    "cd /home/rtu\n",
    "sampleflb=SRR3001750_srt_dupr.chr2.chr11_flb.bam\n",
    "samtools view -h $sampleflb | awk '{if($3=\"chrM\"){print}}' > SRR3001750_srt_dupr.chr2.chr11_flb_flt.sam\n",
    "sampleflt=SRR3001750_srt_dupr.chr2.chr11_flb_flt.sam\n",
    "head SRR3001750_srt_dupr.chr2.chr11_flb_flt.sam\n",
    "samtools view -bS $sampleflt > SRR3001750_srt_dupr.chr10_flb_flt.bam\n"
   ]
  },
  {
   "cell_type": "markdown",
   "metadata": {},
   "source": [
    "## 2. Peak calling with MACS2\n",
    "### 2.1 Peak calling"
   ]
  },
  {
   "cell_type": "markdown",
   "metadata": {},
   "source": [
    "* [__MACS2 parameters__](https://github.com/taoliu/MACS)\n",
    "* -t: Treatment filename\n",
    "* -f: Format\n",
    "* -g: Genome size\n",
    "* -n: Name string of experiment\n",
    "* -p: P-value cutoff\n",
    "* --broad: Broad regions\n",
    "* --nomodel: Bypass shifting model\n",
    "* --bdg: Store the fragment pileup, control lambda, -log10pvalue and -log10qvalue scores in bedGraph files\n",
    "* --shift: move 5' end towards 5' -> 3'\n",
    "* --extsize: extend reads from 5' -> 3'\n",
    "* --keep-dup: keep duplicate tags at exact same location"
   ]
  },
  {
   "cell_type": "markdown",
   "metadata": {},
   "source": [
    "#### 2.1.1 Use MACS2 to estimate extension size"
   ]
  },
  {
   "cell_type": "code",
   "execution_count": 12,
   "metadata": {},
   "outputs": [],
   "source": [
    "%%bash\n",
    "cd /Users/yolandatiao/Documents/0_Bioinformatics2017/2018_Bioinformatics/Applied-Bioinformatics-HW-Yolanda/ChIP-seq.3\n",
    "macs2 predictd -i SRR3001750_srt_dupr.chr10_flb_flt.bam &> SRR3001750_srt_dupr.chr10_flb_flt.predictd"
   ]
  },
  {
   "cell_type": "code",
   "execution_count": null,
   "metadata": {},
   "outputs": [],
   "source": [
    "%%bash\n",
    "cd /home/rtu/\n",
    "macs2 predictd -i"
   ]
  },
  {
   "cell_type": "markdown",
   "metadata": {},
   "source": [
    "#### 2.1.2 Peak calling for histone modification ChIP-seq\n",
    "* [Guidline from MACS Github page](https://github.com/taoliu/MACS/wiki/Call-differential-binding-events)"
   ]
  },
  {
   "cell_type": "code",
   "execution_count": 13,
   "metadata": {},
   "outputs": [
    {
     "name": "stderr",
     "output_type": "stream",
     "text": [
      "INFO  @ Mon, 12 Nov 2018 19:42:16: \n",
      "# Command line: callpeak -t SRR3001750_srt_dupr.chr10_flb_flt.bam -f BAM -n SRR3001750_srt_dupr.chr10 -g mm -p 1e-2 --broad --nomodel --bdg --shift 0 --extsize 147 --keep-dup all\n",
      "# ARGUMENTS LIST:\n",
      "# name = SRR3001750_srt_dupr.chr10\n",
      "# format = BAM\n",
      "# ChIP-seq file = ['SRR3001750_srt_dupr.chr10_flb_flt.bam']\n",
      "# control file = None\n",
      "# effective genome size = 1.87e+09\n",
      "# band width = 300\n",
      "# model fold = [5, 50]\n",
      "# pvalue cutoff for narrow/strong regions = 1.00e-02\n",
      "# pvalue cutoff for broad/weak regions = 1.00e-01\n",
      "# qvalue will not be calculated and reported as -1 in the final output.\n",
      "# Larger dataset will be scaled towards smaller dataset.\n",
      "# Range for calculating regional lambda is: 10000 bps\n",
      "# Broad region calling is on\n",
      "# Paired-End mode is off\n",
      " \n",
      "INFO  @ Mon, 12 Nov 2018 19:42:16: #1 read tag files... \n",
      "INFO  @ Mon, 12 Nov 2018 19:42:16: #1 read treatment tags... \n",
      "INFO  @ Mon, 12 Nov 2018 19:42:19: #1 tag size is determined as 49 bps \n",
      "INFO  @ Mon, 12 Nov 2018 19:42:19: #1 tag size = 49 \n",
      "INFO  @ Mon, 12 Nov 2018 19:42:19: #1  total tags in treatment: 607205 \n",
      "INFO  @ Mon, 12 Nov 2018 19:42:19: #1 finished! \n",
      "INFO  @ Mon, 12 Nov 2018 19:42:19: #2 Build Peak Model... \n",
      "INFO  @ Mon, 12 Nov 2018 19:42:19: #2 Skipped... \n",
      "INFO  @ Mon, 12 Nov 2018 19:42:19: #2 Use 147 as fragment length \n",
      "INFO  @ Mon, 12 Nov 2018 19:42:19: #3 Call peaks... \n",
      "INFO  @ Mon, 12 Nov 2018 19:42:19: #3 Call broad peaks with given level1 -log10pvalue cutoff and level2: 2.00000, 1.00000... \n",
      "INFO  @ Mon, 12 Nov 2018 19:42:19: #3 Pre-compute pvalue-qvalue table... \n",
      "INFO  @ Mon, 12 Nov 2018 19:42:21: #3 In the peak calling step, the following will be performed simultaneously: \n",
      "INFO  @ Mon, 12 Nov 2018 19:42:21: #3   Write bedGraph files for treatment pileup (after scaling if necessary)... SRR3001750_srt_dupr.chr10_treat_pileup.bdg \n",
      "INFO  @ Mon, 12 Nov 2018 19:42:21: #3   Write bedGraph files for control lambda (after scaling if necessary)... SRR3001750_srt_dupr.chr10_control_lambda.bdg \n",
      "INFO  @ Mon, 12 Nov 2018 19:42:21: #3 Call peaks for each chromosome... \n",
      "INFO  @ Mon, 12 Nov 2018 19:42:29: #4 Write output xls file... SRR3001750_srt_dupr.chr10_peaks.xls \n",
      "INFO  @ Mon, 12 Nov 2018 19:42:30: #4 Write broad peak in broadPeak format file... SRR3001750_srt_dupr.chr10_peaks.broadPeak \n",
      "INFO  @ Mon, 12 Nov 2018 19:42:30: #4 Write broad peak in bed12/gappedPeak format file... SRR3001750_srt_dupr.chr10_peaks.gappedPeak \n",
      "INFO  @ Mon, 12 Nov 2018 19:42:30: Done! \n"
     ]
    }
   ],
   "source": [
    "%%bash\n",
    "cd /Users/yolandatiao/Documents/0_Bioinformatics2017/2018_Bioinformatics/Applied-Bioinformatics-HW-Yolanda/ChIP-seq.3\n",
    "macs2 callpeak -t SRR3001750_srt_dupr.chr10_flb_flt.bam -f BAM -n SRR3001750_srt_dupr.chr10 -g mm -p 1e-2 --broad --nomodel --bdg --shift 0 --extsize 147 --keep-dup all "
   ]
  },
  {
   "cell_type": "markdown",
   "metadata": {},
   "source": [
    "### 2.2 Check output files\n",
    "* NAME_peaks.broadPeak: BED6+4 format file which contains the peak locations together with peak summit, pvalue and qvalue.\n",
    "* NAME_peaks.gappedPeak: BED12+3 format which contains both the broad region and narrow peaks. \n",
    "* NAME_treat_pileup.bdg: Fragment pileup, control lambda, -log10pvalue and -log10qvalue scores\n",
    "* NAME_control_lambda.bdg: Local lambda values from control\n",
    "* NAME_peaks.xls: A tabular file which contains information about called peaks. "
   ]
  },
  {
   "cell_type": "code",
   "execution_count": 16,
   "metadata": {},
   "outputs": [
    {
     "name": "stdout",
     "output_type": "stream",
     "text": [
      " 1201248 SRR3001750_srt_dupr.chr10_control_lambda.bdg\n",
      "      17 SRR3001750_srt_dupr.chr10_flb_flt.predictd\n",
      "   52711 SRR3001750_srt_dupr.chr10_peaks.broadPeak\n",
      "   52711 SRR3001750_srt_dupr.chr10_peaks.gappedPeak\n",
      "   52733 SRR3001750_srt_dupr.chr10_peaks.xls\n",
      " 1195664 SRR3001750_srt_dupr.chr10_treat_pileup.bdg\n",
      " 2555084 total\n"
     ]
    }
   ],
   "source": [
    "%%bash\n",
    "cd /Users/yolandatiao/Documents/0_Bioinformatics2017/2018_Bioinformatics/Applied-Bioinformatics-HW-Yolanda/ChIP-seq.3/MACS2\n",
    "wc -l *"
   ]
  },
  {
   "cell_type": "code",
   "execution_count": 18,
   "metadata": {},
   "outputs": [
    {
     "name": "stdout",
     "output_type": "stream",
     "text": [
      "chr10\t3099953\t3100100\tSRR3001750_srt_dupr.chr10_peak_1\t5\t.\t1.57646\t1.51967\t0.50929\n",
      "chr10\t3100698\t3103734\tSRR3001750_srt_dupr.chr10_peak_2\t6\t.\t1.82648\t1.78537\t0.63420\n",
      "chr10\t3109444\t3110452\tSRR3001750_srt_dupr.chr10_peak_3\t29\t.\t2.07850\t5.95290\t2.99776\n",
      "chr10\t3111278\t3115301\tSRR3001750_srt_dupr.chr10_peak_4\t20\t.\t1.74597\t4.39613\t2.00712\n",
      "chr10\t3116068\t3117178\tSRR3001750_srt_dupr.chr10_peak_5\t44\t.\t2.28970\t8.14641\t4.40801\n",
      "chr10\t3124590\t3125334\tSRR3001750_srt_dupr.chr10_peak_6\t5\t.\t1.66666\t1.45416\t0.52554\n",
      "chr10\t3126076\t3128929\tSRR3001750_srt_dupr.chr10_peak_7\t5\t.\t1.64651\t1.47578\t0.53620\n",
      "chr10\t3129691\t3130649\tSRR3001750_srt_dupr.chr10_peak_8\t4\t.\t1.39770\t1.12225\t0.42857\n",
      "chr10\t3131826\t3131973\tSRR3001750_srt_dupr.chr10_peak_9\t4\t.\t1.34671\t1.06692\t0.42004\n",
      "chr10\t3132717\t3132997\tSRR3001750_srt_dupr.chr10_peak_10\t4\t.\t1.38884\t1.12172\t0.43652\n"
     ]
    }
   ],
   "source": [
    "%%bash\n",
    "cd /Users/yolandatiao/Documents/0_Bioinformatics2017/2018_Bioinformatics/Applied-Bioinformatics-HW-Yolanda/ChIP-seq.3/MACS2\n",
    "head SRR3001750_srt_dupr.chr10_peaks.broadPeak"
   ]
  },
  {
   "cell_type": "code",
   "execution_count": 19,
   "metadata": {},
   "outputs": [
    {
     "name": "stdout",
     "output_type": "stream",
     "text": [
      "chr10\t3099953\t3100100\tSRR3001750_srt_dupr.chr10_peak_1\t5\t.\t3099953\t3100100\t0\t2\t1,1\t0,146\t1.57646\t1.51967\t0.50929\n",
      "chr10\t3100698\t3103734\tSRR3001750_srt_dupr.chr10_peak_2\t6\t.\t3100698\t3103734\t0\t3\t1,273,1\t0,938,3035\t1.82648\t1.78537\t0.63420\n",
      "chr10\t3109444\t3110452\tSRR3001750_srt_dupr.chr10_peak_3\t29\t.\t3109444\t3110452\t0\t4\t1,344,155,1\t0,13,457,1007\t2.07850\t5.95290\t2.99776\n",
      "chr10\t3111278\t3115301\tSRR3001750_srt_dupr.chr10_peak_4\t20\t.\t3111278\t3115301\t0\t7\t1,1696,183,509,147,180,1\t0,13,1837,2213,3250,3593,4022\t1.74597\t4.39613\t2.00712\n",
      "chr10\t3116068\t3117178\tSRR3001750_srt_dupr.chr10_peak_5\t44\t.\t3116068\t3117178\t0\t3\t1,1008,1\t0,92,1109\t2.28970\t8.14641\t4.40801\n",
      "chr10\t3124590\t3125334\tSRR3001750_srt_dupr.chr10_peak_6\t5\t.\t3124590\t3125334\t0\t2\t1,1\t0,743\t1.66666\t1.45416\t0.52554\n",
      "chr10\t3126076\t3128929\tSRR3001750_srt_dupr.chr10_peak_7\t5\t.\t3126076\t3128929\t0\t2\t1,1\t0,2852\t1.64651\t1.47578\t0.53620\n",
      "chr10\t3129691\t3130649\tSRR3001750_srt_dupr.chr10_peak_8\t4\t.\t3129691\t3130649\t0\t2\t1,1\t0,957\t1.39770\t1.12225\t0.42857\n",
      "chr10\t3131826\t3131973\tSRR3001750_srt_dupr.chr10_peak_9\t4\t.\t3131826\t3131973\t0\t2\t1,1\t0,146\t1.34671\t1.06692\t0.42004\n",
      "chr10\t3132717\t3132997\tSRR3001750_srt_dupr.chr10_peak_10\t4\t.\t3132717\t3132997\t0\t2\t1,1\t0,279\t1.38884\t1.12172\t0.43652\n"
     ]
    }
   ],
   "source": [
    "%%bash\n",
    "cd /Users/yolandatiao/Documents/0_Bioinformatics2017/2018_Bioinformatics/Applied-Bioinformatics-HW-Yolanda/ChIP-seq.3/MACS2\n",
    "head SRR3001750_srt_dupr.chr10_peaks.gappedPeak"
   ]
  },
  {
   "cell_type": "code",
   "execution_count": 20,
   "metadata": {},
   "outputs": [
    {
     "name": "stdout",
     "output_type": "stream",
     "text": [
      "chr10\t0\t3099953\t0.00000\n",
      "chr10\t3099953\t3100100\t1.00000\n",
      "chr10\t3100100\t3100698\t0.00000\n",
      "chr10\t3100698\t3100845\t1.00000\n",
      "chr10\t3100845\t3100867\t0.00000\n",
      "chr10\t3100867\t3100869\t1.00000\n",
      "chr10\t3100869\t3101014\t2.00000\n",
      "chr10\t3101014\t3101016\t1.00000\n",
      "chr10\t3101016\t3101562\t0.00000\n",
      "chr10\t3101562\t3101636\t1.00000\n"
     ]
    }
   ],
   "source": [
    "%%bash\n",
    "cd /Users/yolandatiao/Documents/0_Bioinformatics2017/2018_Bioinformatics/Applied-Bioinformatics-HW-Yolanda/ChIP-seq.3/MACS2\n",
    "head SRR3001750_srt_dupr.chr10_treat_pileup.bdg"
   ]
  },
  {
   "cell_type": "markdown",
   "metadata": {},
   "source": [
    "#### Convert bedgraph to bw\n",
    "* [bedGraphToBigWig usage](https://genome.ucsc.edu/goldenpath/help/bigWig.html)\n",
    "* [mm10.chrom.sizes](http://hgdownload.cse.ucsc.edu/goldenPath/mm10/bigZips/mm10.chrom.sizes)"
   ]
  },
  {
   "cell_type": "code",
   "execution_count": 21,
   "metadata": {},
   "outputs": [],
   "source": [
    "%%bash\n",
    "cd /Users/yolandatiao/Documents/0_Bioinformatics2017/2018_Bioinformatics/Applied-Bioinformatics-HW-Yolanda/ChIP-seq.3/MACS2\n",
    "bedGraphToBigWig SRR3001750_srt_dupr.chr10_treat_pileup.bdg mm10.chrom.sizes SRR3001750_srt_dupr.chr10_treat_pileup.bw "
   ]
  },
  {
   "cell_type": "code",
   "execution_count": 23,
   "metadata": {},
   "outputs": [
    {
     "name": "stdout",
     "output_type": "stream",
     "text": [
      "total 200992\n",
      "-rw-r--r--@ 1 yolandatiao  staff    37M Nov 12 19:42 SRR3001750_srt_dupr.chr10_control_lambda.bdg\n",
      "-rw-r--r--@ 1 yolandatiao  staff   1.1K Nov 12 19:39 SRR3001750_srt_dupr.chr10_flb_flt.predictd\n",
      "-rw-r--r--@ 1 yolandatiao  staff   4.5M Nov 12 19:42 SRR3001750_srt_dupr.chr10_peaks.broadPeak\n",
      "-rw-r--r--  1 yolandatiao  staff   6.3M Nov 12 19:42 SRR3001750_srt_dupr.chr10_peaks.gappedPeak\n",
      "-rw-r--r--@ 1 yolandatiao  staff   4.8M Nov 12 19:42 SRR3001750_srt_dupr.chr10_peaks.xls\n",
      "-rw-r--r--@ 1 yolandatiao  staff    37M Nov 12 19:42 SRR3001750_srt_dupr.chr10_treat_pileup.bdg\n",
      "-rw-r--r--  1 yolandatiao  staff   5.4M Nov 12 20:25 SRR3001750_srt_dupr.chr10_treat_pileup.bw\n",
      "-rw-r--r--@ 1 yolandatiao  staff   1.4K Nov 12 20:24 mm10.chrom.sizes\n"
     ]
    }
   ],
   "source": [
    "%%bash\n",
    "cd /Users/yolandatiao/Documents/0_Bioinformatics2017/2018_Bioinformatics/Applied-Bioinformatics-HW-Yolanda/ChIP-seq.3/MACS2\n",
    "ls -lh"
   ]
  },
  {
   "cell_type": "code",
   "execution_count": null,
   "metadata": {},
   "outputs": [],
   "source": []
  }
 ],
 "metadata": {
  "kernelspec": {
   "display_name": "Python 3",
   "language": "python",
   "name": "python3"
  },
  "language_info": {
   "codemirror_mode": {
    "name": "ipython",
    "version": 3
   },
   "file_extension": ".py",
   "mimetype": "text/x-python",
   "name": "python",
   "nbconvert_exporter": "python",
   "pygments_lexer": "ipython3",
   "version": "3.5.2"
  }
 },
 "nbformat": 4,
 "nbformat_minor": 2
}
