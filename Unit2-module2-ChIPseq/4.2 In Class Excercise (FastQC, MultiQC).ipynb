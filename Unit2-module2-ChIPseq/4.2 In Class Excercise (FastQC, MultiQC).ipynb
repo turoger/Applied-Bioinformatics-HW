{
 "cells": [
  {
   "cell_type": "markdown",
   "metadata": {},
   "source": [
    "### 1.0 Find Run Numbers for ChIP-seq data from this paper:\n",
    "CD8+ T Cells Utilize Highly Dynamic Enhancer Repertoires and Regulatory Circuitry in Response to Infections"
   ]
  },
  {
   "cell_type": "markdown",
   "metadata": {},
   "source": [
    "1.1) Search the GEO accension number from the paper. The Accension number is GSE76031."
   ]
  },
  {
   "cell_type": "markdown",
   "metadata": {},
   "source": [
    "1.2) The SubSeries for ChIP-seq data is GSE76029."
   ]
  },
  {
   "cell_type": "markdown",
   "metadata": {},
   "source": [
    "1.3) Search for ChIP-seq data accession number in SRA Run Selector."
   ]
  },
  {
   "cell_type": "markdown",
   "metadata": {},
   "source": [
    "1.4) Save RunInfo Table"
   ]
  },
  {
   "cell_type": "markdown",
   "metadata": {},
   "source": [
    "### 2.0 Build a folder named Sample_fastq ###"
   ]
  },
  {
   "cell_type": "markdown",
   "metadata": {},
   "source": [
    "2.1) Redirect to the new folder."
   ]
  },
  {
   "cell_type": "code",
   "execution_count": 1,
   "metadata": {},
   "outputs": [],
   "source": [
    "%%bash\n",
    "cd /home/rtu/\n",
    "mkdir Sample_fastq"
   ]
  },
  {
   "cell_type": "code",
   "execution_count": 2,
   "metadata": {},
   "outputs": [
    {
     "name": "stdout",
     "output_type": "stream",
     "text": [
      "Applied-Bioinformatics\n",
      "Configuration.md\n",
      "hisat2-2.1.0\n",
      "hisat_out\n",
      "Homo_sapiens.GRCh38.94.gtf\n",
      "Homo_sapiens.GRCh38.94.txt\n",
      "miniconda3\n",
      "Miniconda3-latest-Linux-x86_64.sh\n",
      "ncbi\n",
      "R\n",
      "README.md\n",
      "Sample_fastq\n",
      "sratoolkit.2.9.2-ubuntu64\n",
      "sratoolkit.current-ubuntu64.tar.gz\n",
      "SRR5454079_1.fastq\n",
      "SRR5454080_1.fastq\n",
      "SRR5830640_1.fastq\n",
      "SRR5830640_2.fastq\n",
      "test-repo\n",
      "\n"
     ]
    }
   ],
   "source": [
    "%%bash\n",
    "cd /home/rtu/\n",
    "ls\n",
    "echo\n",
    "cd /home/rtu/Sample_fastq/\n",
    "ls"
   ]
  },
  {
   "cell_type": "markdown",
   "metadata": {},
   "source": [
    "2.2) Save the first 500 spots of each file into Sample_fastq directory with a for loop."
   ]
  },
  {
   "cell_type": "code",
   "execution_count": 9,
   "metadata": {},
   "outputs": [
    {
     "name": "stderr",
     "output_type": "stream",
     "text": [
      "Read 500 spots for SRR3001750\n",
      "Written 500 spots for SRR3001750\n",
      "Read 500 spots for SRR3001751\n",
      "Written 500 spots for SRR3001751\n",
      "Read 500 spots for SRR3001752\n",
      "Written 500 spots for SRR3001752\n",
      "Read 500 spots for SRR3001753\n",
      "Written 500 spots for SRR3001753\n",
      "Read 500 spots for SRR3001754\n",
      "Written 500 spots for SRR3001754\n",
      "Read 500 spots for SRR3001755\n",
      "Written 500 spots for SRR3001755\n",
      "Read 500 spots for SRR3001756\n",
      "Written 500 spots for SRR3001756\n",
      "Read 500 spots for SRR3001757\n",
      "Written 500 spots for SRR3001757\n",
      "Read 500 spots for SRR3001758\n",
      "Written 500 spots for SRR3001758\n",
      "Read 500 spots for SRR3001759\n",
      "Written 500 spots for SRR3001759\n",
      "Read 500 spots for SRR3001760\n",
      "Written 500 spots for SRR3001760\n",
      "Read 500 spots for SRR3001761\n",
      "Written 500 spots for SRR3001761\n",
      "Read 500 spots for SRR3001762\n",
      "Written 500 spots for SRR3001762\n",
      "Read 500 spots for SRR3001763\n",
      "Written 500 spots for SRR3001763\n",
      "Read 500 spots for SRR3001764\n",
      "Written 500 spots for SRR3001764\n",
      "Read 500 spots for SRR3001765\n",
      "Written 500 spots for SRR3001765\n",
      "Read 500 spots for SRR3001766\n",
      "Written 500 spots for SRR3001766\n",
      "Read 500 spots for SRR3001767\n",
      "Written 500 spots for SRR3001767\n",
      "Read 500 spots for SRR3001768\n",
      "Written 500 spots for SRR3001768\n",
      "Read 500 spots for SRR3001769\n",
      "Written 500 spots for SRR3001769\n",
      "Read 500 spots for SRR3001770\n",
      "Written 500 spots for SRR3001770\n",
      "Read 500 spots for SRR3001771\n",
      "Written 500 spots for SRR3001771\n",
      "Read 500 spots for SRR3001772\n",
      "Written 500 spots for SRR3001772\n",
      "Read 500 spots for SRR3001773\n",
      "Written 500 spots for SRR3001773\n",
      "Read 500 spots for SRR3001774\n",
      "Written 500 spots for SRR3001774\n",
      "Read 500 spots for SRR3001775\n",
      "Written 500 spots for SRR3001775\n",
      "Read 500 spots for SRR3001776\n",
      "Written 500 spots for SRR3001776\n"
     ]
    }
   ],
   "source": [
    "%%bash\n",
    "cd /home/rtu/\n",
    "for((a=3001750; a<=3001776 ;a++))\n",
    "do\n",
    "    sratoolkit.2.9.2-ubuntu64/bin/fastq-dump --split-files -X 500 -Z SRR$a > /home/rtu/Sample_fastq/SRR$a.500.fastq\n",
    "done\n"
   ]
  },
  {
   "cell_type": "markdown",
   "metadata": {},
   "source": [
    "2.3) Run _fastqc_ on all the outputs."
   ]
  },
  {
   "cell_type": "code",
   "execution_count": 16,
   "metadata": {
    "scrolled": false
   },
   "outputs": [
    {
     "name": "stdout",
     "output_type": "stream",
     "text": [
      "Analysis complete for SRR3001750.500.fastq\n",
      "Analysis complete for SRR3001751.500.fastq\n",
      "Analysis complete for SRR3001752.500.fastq\n",
      "Analysis complete for SRR3001753.500.fastq\n",
      "Analysis complete for SRR3001754.500.fastq\n",
      "Analysis complete for SRR3001755.500.fastq\n",
      "Analysis complete for SRR3001756.500.fastq\n",
      "Analysis complete for SRR3001757.500.fastq\n",
      "Analysis complete for SRR3001758.500.fastq\n",
      "Analysis complete for SRR3001759.500.fastq\n",
      "Analysis complete for SRR3001760.500.fastq\n",
      "Analysis complete for SRR3001761.500.fastq\n",
      "Analysis complete for SRR3001762.500.fastq\n",
      "Analysis complete for SRR3001763.500.fastq\n",
      "Analysis complete for SRR3001764.500.fastq\n",
      "Analysis complete for SRR3001765.500.fastq\n",
      "Analysis complete for SRR3001766.500.fastq\n",
      "Analysis complete for SRR3001767.500.fastq\n",
      "Analysis complete for SRR3001768.500.fastq\n",
      "Analysis complete for SRR3001769.500.fastq\n",
      "Analysis complete for SRR3001770.500.fastq\n",
      "Analysis complete for SRR3001771.500.fastq\n",
      "Analysis complete for SRR3001772.500.fastq\n",
      "Analysis complete for SRR3001773.500.fastq\n",
      "Analysis complete for SRR3001774.500.fastq\n",
      "Analysis complete for SRR3001775.500.fastq\n",
      "Analysis complete for SRR3001776.500.fastq\n"
     ]
    },
    {
     "name": "stderr",
     "output_type": "stream",
     "text": [
      "Started analysis of SRR3001750.500.fastq\n",
      "Started analysis of SRR3001751.500.fastq\n",
      "Started analysis of SRR3001752.500.fastq\n",
      "Started analysis of SRR3001753.500.fastq\n",
      "Started analysis of SRR3001754.500.fastq\n",
      "Started analysis of SRR3001755.500.fastq\n",
      "Started analysis of SRR3001756.500.fastq\n",
      "Started analysis of SRR3001757.500.fastq\n",
      "Started analysis of SRR3001758.500.fastq\n",
      "Started analysis of SRR3001759.500.fastq\n",
      "Started analysis of SRR3001760.500.fastq\n",
      "Started analysis of SRR3001761.500.fastq\n",
      "Started analysis of SRR3001762.500.fastq\n",
      "Started analysis of SRR3001763.500.fastq\n",
      "Started analysis of SRR3001764.500.fastq\n",
      "Started analysis of SRR3001765.500.fastq\n",
      "Started analysis of SRR3001766.500.fastq\n",
      "Started analysis of SRR3001767.500.fastq\n",
      "Started analysis of SRR3001768.500.fastq\n",
      "Started analysis of SRR3001769.500.fastq\n",
      "Started analysis of SRR3001770.500.fastq\n",
      "Started analysis of SRR3001771.500.fastq\n",
      "Started analysis of SRR3001772.500.fastq\n",
      "Started analysis of SRR3001773.500.fastq\n",
      "Started analysis of SRR3001774.500.fastq\n",
      "Started analysis of SRR3001775.500.fastq\n",
      "Started analysis of SRR3001776.500.fastq\n"
     ]
    }
   ],
   "source": [
    "%%bash\n",
    "cd /home/rtu/\n",
    "for i in ./Sample_fastq/*.fastq\n",
    "    do\n",
    "        cd\n",
    "        source activate chip\n",
    "        fastqc $i\n",
    "done"
   ]
  },
  {
   "cell_type": "markdown",
   "metadata": {},
   "source": [
    "3.) Run multiqc on the fastqc outputs."
   ]
  },
  {
   "cell_type": "code",
   "execution_count": 17,
   "metadata": {},
   "outputs": [
    {
     "name": "stderr",
     "output_type": "stream",
     "text": [
      "[INFO   ]         multiqc : This is MultiQC v1.6 (862256f)\n",
      "[INFO   ]         multiqc : Template    : default\n",
      "[INFO   ]         multiqc : Searching './Sample_fastq/'\n",
      "[INFO   ]          fastqc : Found 27 reports\n",
      "[INFO   ]         multiqc : Compressing plot data\n",
      "[INFO   ]         multiqc : Report      : multiqc_report.html\n",
      "[INFO   ]         multiqc : Data        : multiqc_data\n",
      "[INFO   ]         multiqc : MultiQC complete\n"
     ]
    }
   ],
   "source": [
    "%%bash\n",
    "cd /home/rtu/\n",
    "source activate chip\n",
    "multiqc ./Sample_fastq/"
   ]
  },
  {
   "cell_type": "code",
   "execution_count": null,
   "metadata": {},
   "outputs": [],
   "source": []
  }
 ],
 "metadata": {
  "kernelspec": {
   "display_name": "Python 3",
   "language": "python",
   "name": "python3"
  },
  "language_info": {
   "codemirror_mode": {
    "name": "ipython",
    "version": 3
   },
   "file_extension": ".py",
   "mimetype": "text/x-python",
   "name": "python",
   "nbconvert_exporter": "python",
   "pygments_lexer": "ipython3",
   "version": "3.5.2"
  }
 },
 "nbformat": 4,
 "nbformat_minor": 2
}
