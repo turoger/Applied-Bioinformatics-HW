{
 "cells": [
  {
   "cell_type": "markdown",
   "metadata": {},
   "source": [
    "# ChIP-seq intro 5\n",
    "Huitian Diao\n",
    "* __References__: \n",
    "* [ENCODE ChIP-seq pipeline](https://www.encodeproject.org/pipelines/ENCPL138KID/)"
   ]
  },
  {
   "cell_type": "markdown",
   "metadata": {},
   "source": [
    "## 2. Homer\n",
    "### 2.0 Preparation: Add Homer's path to bash_profile"
   ]
  },
  {
   "cell_type": "code",
   "execution_count": 4,
   "metadata": {},
   "outputs": [
    {
     "name": "stdout",
     "output_type": "stream",
     "text": [
      "\n",
      "# added by Anaconda3 5.3.0 installer\n",
      "# >>> conda init >>>\n",
      "# !! Contents within this block are managed by 'conda init' !!\n",
      "__conda_setup=\"$(CONDA_REPORT_ERRORS=false '/Users/yolandatiao/anaconda3/bin/conda' shell.bash hook 2> /dev/null)\"\n",
      "if [ $? -eq 0 ]; then\n",
      "    \\eval \"$__conda_setup\"\n",
      "else\n",
      "    if [ -f \"/Users/yolandatiao/anaconda3/etc/profile.d/conda.sh\" ]; then\n",
      "        . \"/Users/yolandatiao/anaconda3/etc/profile.d/conda.sh\"\n",
      "        CONDA_CHANGEPS1=false conda activate base\n",
      "    else\n",
      "        \\export PATH=\"/Users/yolandatiao/anaconda3/bin:$PATH\"\n",
      "    fi\n",
      "fi\n",
      "unset __conda_setup\n",
      "# <<< conda init <<<\n",
      "\n",
      "\n",
      "# Add homer path\n",
      "export PATH=\"/Users/yolandatiao/Documents/0_Bioinformatics2017/2018_Bioinformatics/Applied-Bioinformatics-HW-Yolanda/homer/bin:$PATH\"\n",
      "\n",
      "\n",
      "# Add rclone path\n",
      "export PATH=\"/Users/yolandatiao/rclone:$PATH\"\n"
     ]
    }
   ],
   "source": [
    "%%bash\n",
    "cat ~/.bash_profile"
   ]
  },
  {
   "cell_type": "code",
   "execution_count": 1,
   "metadata": {},
   "outputs": [
    {
     "name": "stderr",
     "output_type": "stream",
     "text": [
      "\n",
      "\tProgram will find de novo and known motifs in a gene list\n",
      "\n",
      "\t\tUsage:  findMotifs.pl <input list> <promoter set> <output directory> [additoinal options]\n",
      "\n",
      "\t\texample: findMotifs.pl genelist.txt mouse motifResults/ -len 10\n",
      "\n",
      "\t\tFASTA example: findMotifs.pl targets.fa fasta motifResults/ -fasta background.fa\n",
      "\n",
      "\tAvailable Promoter Sets: Add custom promoters sets with loadPromoters.pl\n",
      "\n",
      "\t\tTry typing \"perl /home/rtu/homer//configureHomer.pl -list\" to see available promoter sets\n",
      "\t\tTyping \"perl /home/rtu/homer//configureHomer.pl -install NNN\" to install promoter set NNN\n",
      "\n",
      "\tBasic options:\n",
      "\t\t-len <#>[,<#>,<#>...] (motif length, default=8,10,12) [NOTE: values greater 12 may cause the program\n",
      "\t\t\tto run out of memmory - in these cases decrease the number of sequences analyzed]\n",
      "\t\t-bg <background file> (ids to use as background, default: all genes)\n",
      "\t\t-start <#> (offset from TSS, default=-300) [max=based on Promoter Set]\n",
      "\t\t-end <#> (offset from TSS, default=50) [max=based on Promoter Set]\n",
      "\t\t-rna (output RNA motif logos and compare to RNA motif database, automatically sets -norevopp)\n",
      "\t\t-mask/-nomask (use/don't use repeatmasked files, default: -mask)\n",
      "\t\t-S <#> (Number of motifs to optimize, default: 25)\n",
      "\t\t-mis <#> (global optimization: searches for strings with # mismatches, default: 1)\n",
      "\t\t-noconvert (will not worry about converting input files into unigene ids)\n",
      "\t\t-norevopp (do not search the reverse strand for motifs)\n",
      "\t\t-nomotif (don't search for de novo motif enrichment)\n",
      "\n",
      "\tScanning sequence for motifs\n",
      "\t\t-find <motif file> (This will cause the program to only scan for motifs)\n",
      "\n",
      "\tIncluding Enhancers - peak files of enhancer location, peak ID should be gene ID\n",
      "\t\t-enhancers <peak file> <genome verion>\n",
      "\t\t\t(enhancers to include in search space, peaks/sequences should be named with a gene ID\n",
      "\t\t\tIf multiple enhancers per gene, use the same gene ID, and all will be included)\n",
      "\t\t-enhancersOnly (do not include promoter sequence in motif search)\n",
      "\n",
      "\tFASTA files: If you prefer to use your own fasta files, place target sequences and \n",
      "\t\tbackground sequences in two separate FASTA formated files (must have unique identifiers)\n",
      "\t\tTarget File - use in place of <input list> (i.e. the first argument)\n",
      "\t\tBackground File - after output directory (with additional options) use the argument:\n",
      "\t\t\t-fastaBg <background fasta file> (This is recommended for fasta based analysis)\n",
      "\t\tIn place of the promoter set use \"fasta\", or any valid set (this parameter is ignored)\n",
      "\t\tWhen finding motifs [-find], only the target file with be searched)\n",
      "\t\t\t-chopify (chops up background regions to match size of target regions)\n",
      "\t\t\t\ti.e. if background is a full genome or all mRNAs\n",
      "\n",
      "\tKnown Motif Options/Visualization:\n",
      "\t\t-mset <vertebrates|insects|worms|plants|yeast|all> (check against motif collects, default: auto)\n",
      "\t\t-basic (don't check de novo motifs for similarity to known motifs)\n",
      "\t\t-bits (scale sequence logos by information content, default: doesn't scale)\n",
      "\t\t-nocheck (don't check for similarity between novo motif motifs and known motifs)\n",
      "\t\t-mcheck <motif file> (known motifs to check against de novo motifs,\n",
      "\t\t-noknown (don't search for known motif enrichment, default: -known)\n",
      "\t\t-mknown <motif file> (known motifs to check for enrichment,\n",
      "\t\t-nofacts (omit humor)\n",
      "\t\t-seqlogo (uses weblogo/seqlogo/ghostscript to visualize motifs, default uses SVG)\n",
      "\n",
      "\tAdvanced options:\n",
      "\t\t-b (use binomial distribution to calculate p-values, hypergeometric is default)\n",
      "\t\t-nogo (don't search for gene ontology enrichment)\n",
      "\t\t-humanGO (Convert IDs to human for GO analysis)\n",
      "\t\t-ontology <ont.genes> [ont.genes] ... (custom ontologies for GO analysis)\n",
      "\t\t-noweight (no CG correction)\n",
      "\t\t-noredun (Don't remove predetermined redundant promoters/sequences)\n",
      "\t\t-g (input file is a group file, i.e. 1st column = id, 2nd = 0 or 1 [1=target,0=back])\n",
      "\t\t-cpg (use CpG% instead of GC% for sequence normalization)\n",
      "\t\t-rand (randomize labels for target and backgound sequences)\n",
      "\t\t-maskMotif <motif file 1> [motif file 2] ... (motifs to mask before motif finding)\n",
      "\t\t-opt <motif file 1> [motif file 2] ... (motifs to optimize/change length)\n",
      "\t\t-peaks (will produce peak file of promoters to use with findMotifsGenome.pl)\n",
      "\t\t-nowarn (no warnings)\n",
      "\t\t-keepFiles (don't delete temporary files)\n",
      "\t\t-dumpFasta (create target.fa and background.fa files)\n",
      "\t\t-min <#> (remove sequences shorter than #, default: 0)\n",
      "\t\t-max <#> (remove sequences longer than #, default: 1e10)\n",
      "\t\t-reuse (rerun homer using old seq files etc. with new options\n",
      "\t\t\t  and ignores input list, organism)\n",
      "\t\t-fdr <#> (Calculate empirical FDR for de novo discovery #=number of randomizations)\n",
      "\n",
      "\thomer2 specific options:\n",
      "\t\t-homer2 (use homer2 instead of original homer, default)\n",
      "\t\t-nlen <#> (length of lower-order oligos to normalize - general sequences, default: 3)\n",
      "\t\t\t-nmax <#> (Max normalization iterations, default: 160)\n",
      "\t\t\t-neutral (weight sequences to neutral frequencies, i.e. 25%, 6.25%, etc.)\n",
      "\t\t-olen <#> (lower-order oligo normalization for oligo table, use if -nlen isn't working well)\n",
      "\t\t-p <#> (Number of processors to use, default: 1)\n",
      "\t\t-e <#> (Maximum expected motif instance per bp in random sequence, default: 0.01)\n",
      "\t\t-cache <#> (size in MB for statistics cache, default: 500)\n",
      "\t\t-quickMask (skip full masking after finding motifs, similar to original homer)\n",
      "\t\t-homer1 (to force the use of the original homer)\n",
      "\t\t-minlp <#> (stop looking for motifs when seed logp score gets above #, default: -10)\n",
      "\n",
      "\tOriginal homer specific options:\n",
      "\t\t-float (allow adjustment of the degeneracy threshold for known motifs to improve p-value[dangerous])\n",
      "\t\t-homer1 (to force the use of the original homer)\n",
      "\t\t-depth [low|med|high|allnight] (time spent on local optimization default: med)\n",
      "\n"
     ]
    }
   ],
   "source": [
    "%%bash\n",
    "# Check if Homer works\n",
    "findMotifs.pl"
   ]
  },
  {
   "cell_type": "markdown",
   "metadata": {},
   "source": [
    "### 2.1 Use Homer to find motifs in ChIP peaks\n",
    "* Genome fa file: https://drive.google.com/open?id=1n5-BAfI6SkjJZaniUZJDQCauZFlr_-8N"
   ]
  },
  {
   "cell_type": "code",
   "execution_count": 8,
   "metadata": {},
   "outputs": [],
   "source": [
    "%%bash\n",
    "cd /home/rtu/SRR3001750_files\n",
    "bed_name=SRR3001750_srt_dupr.chr10.srt_peaks.broadPeak\n",
    "chr10_genome=/home/rtu/genome_chr10.fa\n",
    "out_name=SRR3001750_srt_dupr.chr10_HomerMF\n",
    "err_name=SRR3001750_srt_dupr.chr10_HomerMF.out\n",
    "findMotifsGenome.pl $bed_name $chr10_genome $out_name &> $err_name                                                            "
   ]
  },
  {
   "cell_type": "code",
   "execution_count": null,
   "metadata": {},
   "outputs": [],
   "source": []
  }
 ],
 "metadata": {
  "kernelspec": {
   "display_name": "Python 3",
   "language": "python",
   "name": "python3"
  },
  "language_info": {
   "codemirror_mode": {
    "name": "ipython",
    "version": 3
   },
   "file_extension": ".py",
   "mimetype": "text/x-python",
   "name": "python",
   "nbconvert_exporter": "python",
   "pygments_lexer": "ipython3",
   "version": "3.5.2"
  }
 },
 "nbformat": 4,
 "nbformat_minor": 2
}
