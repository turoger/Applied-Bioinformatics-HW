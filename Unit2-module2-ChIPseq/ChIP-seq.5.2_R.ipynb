{
 "cells": [
  {
   "cell_type": "markdown",
   "metadata": {},
   "source": [
    "# ChIP-seq intro 5\n",
    "Huitian Diao\n",
    "* __References__: \n",
    "* [ENCODE ChIP-seq pipeline](https://www.encodeproject.org/pipelines/ENCPL138KID/)"
   ]
  },
  {
   "cell_type": "markdown",
   "metadata": {},
   "source": [
    "### 1.1 ChIPQC\n",
    "* 1.1.0 Load package and sampleSheet\n",
    "* 1.1.1 Create ChIPQC object\n",
    "* 1.1.2 Generate ChIPQC report"
   ]
  },
  {
   "cell_type": "code",
   "execution_count": 3,
   "metadata": {},
   "outputs": [],
   "source": [
    "setwd(\"/Users/yolandatiao/Documents/0_Bioinformatics2017/2018_Bioinformatics/Applied-Bioinformatics-HW-Yolanda/ChIP-seq.5/aligned_bam\")\n",
    "\n",
    "# Load ChIPQC package\n",
    "library(ChIPQC)"
   ]
  },
  {
   "cell_type": "code",
   "execution_count": 8,
   "metadata": {},
   "outputs": [
    {
     "name": "stderr",
     "output_type": "stream",
     "text": [
      "Warning message in read.table(file = file, header = header, sep = sep, quote = quote, :\n",
      "“incomplete final line found by readTableHeader on 'ChIPQC_samplesheet_chr10.csv'”"
     ]
    },
    {
     "data": {
      "text/html": [
       "<table>\n",
       "<thead><tr><th scope=col>SampleID</th><th scope=col>Tissue</th><th scope=col>Factor</th><th scope=col>Condition</th><th scope=col>Replicate</th><th scope=col>bamReads</th><th scope=col>ControlID</th><th scope=col>bamControl</th><th scope=col>Peaks</th><th scope=col>PeakCaller</th></tr></thead>\n",
       "<tbody>\n",
       "\t<tr><td>SRR3001750_chr10                             </td><td>NA                                           </td><td>NA                                           </td><td>NA                                           </td><td>NA                                           </td><td>SRR3001750_srt_dupr.chr10.srt.bam            </td><td>NA                                           </td><td>NA                                           </td><td>SRR3001750_srt_dupr.chr10.srt_peaks.broadPeak</td><td>macs                                         </td></tr>\n",
       "\t<tr><td>SRR3001751_chr10                             </td><td>NA                                           </td><td>NA                                           </td><td>NA                                           </td><td>NA                                           </td><td>SRR3001751_srt_dupr.chr10.srt.bam            </td><td>NA                                           </td><td>NA                                           </td><td>SRR3001751_srt_dupr.chr10.srt_peaks.broadPeak</td><td>macs                                         </td></tr>\n",
       "</tbody>\n",
       "</table>\n"
      ],
      "text/latex": [
       "\\begin{tabular}{r|llllllllll}\n",
       " SampleID & Tissue & Factor & Condition & Replicate & bamReads & ControlID & bamControl & Peaks & PeakCaller\\\\\n",
       "\\hline\n",
       "\t SRR3001750\\_chr10                                  & NA                                                  & NA                                                  & NA                                                  & NA                                                  & SRR3001750\\_srt\\_dupr.chr10.srt.bam               & NA                                                  & NA                                                  & SRR3001750\\_srt\\_dupr.chr10.srt\\_peaks.broadPeak & macs                                               \\\\\n",
       "\t SRR3001751\\_chr10                                  & NA                                                  & NA                                                  & NA                                                  & NA                                                  & SRR3001751\\_srt\\_dupr.chr10.srt.bam               & NA                                                  & NA                                                  & SRR3001751\\_srt\\_dupr.chr10.srt\\_peaks.broadPeak & macs                                               \\\\\n",
       "\\end{tabular}\n"
      ],
      "text/markdown": [
       "\n",
       "SampleID | Tissue | Factor | Condition | Replicate | bamReads | ControlID | bamControl | Peaks | PeakCaller | \n",
       "|---|---|\n",
       "| SRR3001750_chr10                              | NA                                            | NA                                            | NA                                            | NA                                            | SRR3001750_srt_dupr.chr10.srt.bam             | NA                                            | NA                                            | SRR3001750_srt_dupr.chr10.srt_peaks.broadPeak | macs                                          | \n",
       "| SRR3001751_chr10                              | NA                                            | NA                                            | NA                                            | NA                                            | SRR3001751_srt_dupr.chr10.srt.bam             | NA                                            | NA                                            | SRR3001751_srt_dupr.chr10.srt_peaks.broadPeak | macs                                          | \n",
       "\n",
       "\n"
      ],
      "text/plain": [
       "  SampleID         Tissue Factor Condition Replicate\n",
       "1 SRR3001750_chr10 NA     NA     NA        NA       \n",
       "2 SRR3001751_chr10 NA     NA     NA        NA       \n",
       "  bamReads                          ControlID bamControl\n",
       "1 SRR3001750_srt_dupr.chr10.srt.bam NA        NA        \n",
       "2 SRR3001751_srt_dupr.chr10.srt.bam NA        NA        \n",
       "  Peaks                                         PeakCaller\n",
       "1 SRR3001750_srt_dupr.chr10.srt_peaks.broadPeak macs      \n",
       "2 SRR3001751_srt_dupr.chr10.srt_peaks.broadPeak macs      "
      ]
     },
     "metadata": {},
     "output_type": "display_data"
    }
   ],
   "source": [
    "# Load sampleSheet\n",
    "samples <- read.csv(\"ChIPQC_samplesheet_chr10.csv\")\n",
    "head(samples)"
   ]
  },
  {
   "cell_type": "code",
   "execution_count": 9,
   "metadata": {},
   "outputs": [
    {
     "name": "stderr",
     "output_type": "stream",
     "text": [
      "SRR3001750_chr10     NA macs\n",
      "SRR3001751_chr10     NA macs\n",
      "Checking chromosomes:\n"
     ]
    },
    {
     "name": "stdout",
     "output_type": "stream",
     "text": [
      "[1] \"chr10\"\n"
     ]
    },
    {
     "name": "stderr",
     "output_type": "stream",
     "text": [
      "Compiling annotation...\n",
      "Computing metrics for 2 samples...\n",
      "R_zmq_msg_send errno: 4 strerror: Interrupted system call\n",
      "R_zmq_msg_send errno: 4 strerror: Interrupted system call\n",
      "R_zmq_msg_send errno: 4 strerror: Interrupted system call\n",
      "R_zmq_msg_send errno: 4 strerror: Interrupted system call\n",
      "R_zmq_msg_send errno: 4 strerror: Interrupted system call\n",
      "R_zmq_msg_send errno: 4 strerror: Interrupted system call\n",
      "R_zmq_msg_send errno: 4 strerror: Interrupted system call\n",
      " 300 / 300\n",
      "R_zmq_msg_send errno: 4 strerror: Interrupted system call\n",
      "R_zmq_msg_send errno: 4 strerror: Interrupted system call\n",
      "done\n",
      "Calculating coverage\n",
      "Calculating Summits on  chr10  ..[1] 1\n",
      "R_zmq_msg_send errno: 4 strerror: Interrupted system call\n",
      "R_zmq_msg_send errno: 4 strerror: Interrupted system call\n",
      "R_zmq_msg_send errno: 4 strerror: Interrupted system call\n",
      "R_zmq_msg_send errno: 4 strerror: Interrupted system call\n",
      "R_zmq_msg_send errno: 4 strerror: Interrupted system call\n",
      "R_zmq_msg_send errno: 4 strerror: Interrupted system call\n",
      "R_zmq_msg_send errno: 4 strerror: Interrupted system call\n",
      " 300 / 300\n",
      "R_zmq_msg_send errno: 4 strerror: Interrupted system call\n",
      "R_zmq_msg_send errno: 4 strerror: Interrupted system call\n",
      "done\n",
      "Calculating coverage\n",
      "Calculating Summits on  chr10  ..[1] 1\n"
     ]
    }
   ],
   "source": [
    "## Create ChIPQC object\n",
    "chipObj <- ChIPQC(samples, annotation=\"mm10\") "
   ]
  },
  {
   "cell_type": "code",
   "execution_count": 10,
   "metadata": {},
   "outputs": [
    {
     "name": "stderr",
     "output_type": "stream",
     "text": [
      "Saving 7 x 7 in image\n",
      "Saving 7 x 7 in image\n",
      "Saving 7 x 7 in image\n",
      "Using Sample as id variables\n",
      "Saving 7 x 7 in image\n",
      "Saving 7 x 7 in image\n"
     ]
    }
   ],
   "source": [
    "## Create ChIPQC report\n",
    "ChIPQCreport(chipObj, reportName=\"ChIP QC report - chr10\", reportFolder=\"ChIPQCreportChr10\")"
   ]
  },
  {
   "cell_type": "markdown",
   "metadata": {},
   "source": [
    "### Roger's Try at ChIPQC"
   ]
  },
  {
   "cell_type": "code",
   "execution_count": 1,
   "metadata": {},
   "outputs": [
    {
     "name": "stderr",
     "output_type": "stream",
     "text": [
      "Loading required package: ggplot2\n",
      "Loading required package: DiffBind\n",
      "Loading required package: GenomicRanges\n",
      "Loading required package: stats4\n",
      "Loading required package: BiocGenerics\n",
      "Loading required package: parallel\n",
      "\n",
      "Attaching package: ‘BiocGenerics’\n",
      "\n",
      "The following objects are masked from ‘package:parallel’:\n",
      "\n",
      "    clusterApply, clusterApplyLB, clusterCall, clusterEvalQ,\n",
      "    clusterExport, clusterMap, parApply, parCapply, parLapply,\n",
      "    parLapplyLB, parRapply, parSapply, parSapplyLB\n",
      "\n",
      "The following objects are masked from ‘package:stats’:\n",
      "\n",
      "    IQR, mad, sd, var, xtabs\n",
      "\n",
      "The following objects are masked from ‘package:base’:\n",
      "\n",
      "    anyDuplicated, append, as.data.frame, basename, cbind, colMeans,\n",
      "    colnames, colSums, dirname, do.call, duplicated, eval, evalq,\n",
      "    Filter, Find, get, grep, grepl, intersect, is.unsorted, lapply,\n",
      "    lengths, Map, mapply, match, mget, order, paste, pmax, pmax.int,\n",
      "    pmin, pmin.int, Position, rank, rbind, Reduce, rowMeans, rownames,\n",
      "    rowSums, sapply, setdiff, sort, table, tapply, union, unique,\n",
      "    unsplit, which, which.max, which.min\n",
      "\n",
      "Loading required package: S4Vectors\n",
      "\n",
      "Attaching package: ‘S4Vectors’\n",
      "\n",
      "The following object is masked from ‘package:base’:\n",
      "\n",
      "    expand.grid\n",
      "\n",
      "Loading required package: IRanges\n",
      "Loading required package: GenomeInfoDb\n",
      "Loading required package: SummarizedExperiment\n",
      "Loading required package: Biobase\n",
      "Welcome to Bioconductor\n",
      "\n",
      "    Vignettes contain introductory material; view with\n",
      "    'browseVignettes()'. To cite Bioconductor, see\n",
      "    'citation(\"Biobase\")', and for packages 'citation(\"pkgname\")'.\n",
      "\n",
      "Loading required package: DelayedArray\n",
      "Loading required package: matrixStats\n",
      "\n",
      "Attaching package: ‘matrixStats’\n",
      "\n",
      "The following objects are masked from ‘package:Biobase’:\n",
      "\n",
      "    anyMissing, rowMedians\n",
      "\n",
      "Loading required package: BiocParallel\n",
      "\n",
      "Attaching package: ‘DelayedArray’\n",
      "\n",
      "The following objects are masked from ‘package:matrixStats’:\n",
      "\n",
      "    colMaxs, colMins, colRanges, rowMaxs, rowMins, rowRanges\n",
      "\n",
      "The following objects are masked from ‘package:base’:\n",
      "\n",
      "    aperm, apply\n",
      "\n",
      "\n"
     ]
    }
   ],
   "source": [
    "setwd(\"/home/rtu/Applied-Bioinformatics/Applied-Bioinformatics-HW/Unit2-module2-ChIPseq/\")\n",
    "library(ChIPQC)"
   ]
  },
  {
   "cell_type": "code",
   "execution_count": 2,
   "metadata": {},
   "outputs": [
    {
     "name": "stderr",
     "output_type": "stream",
     "text": [
      "Warning message in read.table(file = file, header = header, sep = sep, quote = quote, :\n",
      "“incomplete final line found by readTableHeader on 'ChIPQC_samplesheet_header.csv'”"
     ]
    },
    {
     "data": {
      "text/html": [
       "<table>\n",
       "<thead><tr><th scope=col>SampleID</th><th scope=col>Tissue</th><th scope=col>Factor</th><th scope=col>Condition</th><th scope=col>Replicate</th><th scope=col>bamReads</th><th scope=col>ControlID</th><th scope=col>bamControl</th><th scope=col>Peaks</th><th scope=col>PeakCaller</th></tr></thead>\n",
       "<tbody>\n",
       "</tbody>\n",
       "</table>\n"
      ],
      "text/latex": [
       "\\begin{tabular}{r|llllllllll}\n",
       " SampleID & Tissue & Factor & Condition & Replicate & bamReads & ControlID & bamControl & Peaks & PeakCaller\\\\\n",
       "\\hline\n",
       "\\end{tabular}\n"
      ],
      "text/markdown": [
       "\n",
       "SampleID | Tissue | Factor | Condition | Replicate | bamReads | ControlID | bamControl | Peaks | PeakCaller | \n",
       "||\n",
       "\n",
       "\n"
      ],
      "text/plain": [
       "     SampleID Tissue Factor Condition Replicate bamReads ControlID bamControl\n",
       "     Peaks PeakCaller"
      ]
     },
     "metadata": {},
     "output_type": "display_data"
    }
   ],
   "source": [
    "samples <- read.csv(\"ChIPQC_samplesheet_header.csv\")\n",
    "head(samples)"
   ]
  },
  {
   "cell_type": "code",
   "execution_count": 4,
   "metadata": {},
   "outputs": [
    {
     "ename": "ERROR",
     "evalue": "Error in `$<-.data.frame`(`*tmp*`, \"Treatment\", value = \"\"): replacement has 1 row, data has 0\n",
     "output_type": "error",
     "traceback": [
      "Error in `$<-.data.frame`(`*tmp*`, \"Treatment\", value = \"\"): replacement has 1 row, data has 0\nTraceback:\n",
      "1. ChIPQC(samples, annotation = \"mm10\")",
      "2. dba(sampleSheet = experiment, bCorPlot = FALSE, peakCaller = \"bed\")",
      "3. pv.model(DBA, mask = mask, minOverlap = minOverlap, samplesheet = sampleSheet, \n .     config = config, caller = peakCaller, format = peakFormat, \n .     scorecol = scoreCol, bLowerBetter = bLowerScoreBetter, skipLines = skipLines, \n .     bAddCallerConsensus = bAddCallerConsensus, bRemoveM = bRemoveM, \n .     bRemoveRandom = bRemoveRandom, filter = filter, attributes = attributes, \n .     dir)",
      "4. `$<-`(`*tmp*`, \"Treatment\", value = \"\")",
      "5. `$<-.data.frame`(`*tmp*`, \"Treatment\", value = \"\")",
      "6. stop(sprintf(ngettext(N, \"replacement has %d row, data has %d\", \n .     \"replacement has %d rows, data has %d\"), N, nrows), domain = NA)"
     ]
    }
   ],
   "source": [
    "chipObj <- ChIPQC(samples, annotation=\"mm10\")"
   ]
  },
  {
   "cell_type": "code",
   "execution_count": null,
   "metadata": {},
   "outputs": [],
   "source": []
  }
 ],
 "metadata": {
  "kernelspec": {
   "display_name": "R",
   "language": "R",
   "name": "ir"
  },
  "language_info": {
   "codemirror_mode": "r",
   "file_extension": ".r",
   "mimetype": "text/x-r-source",
   "name": "R",
   "pygments_lexer": "r",
   "version": "3.5.1"
  }
 },
 "nbformat": 4,
 "nbformat_minor": 2
}
