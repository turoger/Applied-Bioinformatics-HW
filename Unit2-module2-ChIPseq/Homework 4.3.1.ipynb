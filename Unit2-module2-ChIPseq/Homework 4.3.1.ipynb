{
 "cells": [
  {
   "cell_type": "markdown",
   "metadata": {},
   "source": [
    "### 1 Run ChIPQC on: ###\n",
    "\n",
    "- EFF_H3K4Me1_1_srt_dupr_chr11.bam\n",
    "\n",
    "- EFF_H3K4Me1_2_srt_dupr_chr11.bam\n",
    "\n",
    "- EFF_Input_srt_dupr_chr11.bam (Control)"
   ]
  },
  {
   "cell_type": "markdown",
   "metadata": {},
   "source": [
    "Sort and index the bam files."
   ]
  },
  {
   "cell_type": "code",
   "execution_count": 2,
   "metadata": {},
   "outputs": [],
   "source": [
    "%%bash\n",
    "cd /home/rtu/EFF_homework/\n",
    "\n",
    "for i in *.bam\n",
    "    do\n",
    "    samtools sort -o ${i/.bam/.srt.bam} $i\n",
    "done"
   ]
  },
  {
   "cell_type": "code",
   "execution_count": 3,
   "metadata": {},
   "outputs": [
    {
     "name": "stdout",
     "output_type": "stream",
     "text": [
      "EFF_H3K4Me1_1_srt_dupr_chr11.bam\n",
      "EFF_H3K4Me1_1_srt_dupr_chr11.srt.bam\n",
      "EFF_H3K4Me1_2_srt_dupr_chr11.bam\n",
      "EFF_H3K4Me1_2_srt_dupr_chr11.srt.bam\n",
      "EFF_Input_srt_dupr_chr11.bam\n",
      "EFF_Input_srt_dupr_chr11.srt.bam\n"
     ]
    }
   ],
   "source": [
    "%%bash\n",
    "ls /home/rtu/EFF_homework/"
   ]
  },
  {
   "cell_type": "code",
   "execution_count": 4,
   "metadata": {},
   "outputs": [],
   "source": [
    "%%bash\n",
    "cd /home/rtu/EFF_homework/\n",
    "\n",
    "for i in *.srt.bam\n",
    "    do\n",
    "    samtools index $i\n",
    "done"
   ]
  },
  {
   "cell_type": "markdown",
   "metadata": {},
   "source": [
    "Run MACS2"
   ]
  },
  {
   "cell_type": "code",
   "execution_count": 1,
   "metadata": {},
   "outputs": [],
   "source": [
    "%%bash\n",
    "cd /home/rtu/EFF_homework/\n",
    "\n",
    "for i in *.srt.bam\n",
    "    do\n",
    "    macs2 callpeak -t $i -f BAM -n ${i/.bam/} -g mm -p 1e-2 --broad --nomodel --bdg --shift 0 --extsize 147 --keep-dup all &> ${i/.bam/.MACS2.out}\n",
    "done"
   ]
  },
  {
   "cell_type": "markdown",
   "metadata": {},
   "source": [
    "### 2. Use Homer to search for TF motifs in broadPeak file (from Q1, EFF_H3K4Me1_1_srt_dupr_chr11.bam) ###\n",
    "\n",
    "- genome reference: genome_chr11.fa\n",
    "\n",
    "- Testing Homer"
   ]
  },
  {
   "cell_type": "code",
   "execution_count": 1,
   "metadata": {},
   "outputs": [
    {
     "name": "stderr",
     "output_type": "stream",
     "text": [
      "\n",
      "\tProgram will find de novo and known motifs in a gene list\n",
      "\n",
      "\t\tUsage:  findMotifs.pl <input list> <promoter set> <output directory> [additoinal options]\n",
      "\n",
      "\t\texample: findMotifs.pl genelist.txt mouse motifResults/ -len 10\n",
      "\n",
      "\t\tFASTA example: findMotifs.pl targets.fa fasta motifResults/ -fasta background.fa\n",
      "\n",
      "\tAvailable Promoter Sets: Add custom promoters sets with loadPromoters.pl\n",
      "\n",
      "\t\tTry typing \"perl /home/rtu/homer//configureHomer.pl -list\" to see available promoter sets\n",
      "\t\tTyping \"perl /home/rtu/homer//configureHomer.pl -install NNN\" to install promoter set NNN\n",
      "\n",
      "\tBasic options:\n",
      "\t\t-len <#>[,<#>,<#>...] (motif length, default=8,10,12) [NOTE: values greater 12 may cause the program\n",
      "\t\t\tto run out of memmory - in these cases decrease the number of sequences analyzed]\n",
      "\t\t-bg <background file> (ids to use as background, default: all genes)\n",
      "\t\t-start <#> (offset from TSS, default=-300) [max=based on Promoter Set]\n",
      "\t\t-end <#> (offset from TSS, default=50) [max=based on Promoter Set]\n",
      "\t\t-rna (output RNA motif logos and compare to RNA motif database, automatically sets -norevopp)\n",
      "\t\t-mask/-nomask (use/don't use repeatmasked files, default: -mask)\n",
      "\t\t-S <#> (Number of motifs to optimize, default: 25)\n",
      "\t\t-mis <#> (global optimization: searches for strings with # mismatches, default: 1)\n",
      "\t\t-noconvert (will not worry about converting input files into unigene ids)\n",
      "\t\t-norevopp (do not search the reverse strand for motifs)\n",
      "\t\t-nomotif (don't search for de novo motif enrichment)\n",
      "\n",
      "\tScanning sequence for motifs\n",
      "\t\t-find <motif file> (This will cause the program to only scan for motifs)\n",
      "\n",
      "\tIncluding Enhancers - peak files of enhancer location, peak ID should be gene ID\n",
      "\t\t-enhancers <peak file> <genome verion>\n",
      "\t\t\t(enhancers to include in search space, peaks/sequences should be named with a gene ID\n",
      "\t\t\tIf multiple enhancers per gene, use the same gene ID, and all will be included)\n",
      "\t\t-enhancersOnly (do not include promoter sequence in motif search)\n",
      "\n",
      "\tFASTA files: If you prefer to use your own fasta files, place target sequences and \n",
      "\t\tbackground sequences in two separate FASTA formated files (must have unique identifiers)\n",
      "\t\tTarget File - use in place of <input list> (i.e. the first argument)\n",
      "\t\tBackground File - after output directory (with additional options) use the argument:\n",
      "\t\t\t-fastaBg <background fasta file> (This is recommended for fasta based analysis)\n",
      "\t\tIn place of the promoter set use \"fasta\", or any valid set (this parameter is ignored)\n",
      "\t\tWhen finding motifs [-find], only the target file with be searched)\n",
      "\t\t\t-chopify (chops up background regions to match size of target regions)\n",
      "\t\t\t\ti.e. if background is a full genome or all mRNAs\n",
      "\n",
      "\tKnown Motif Options/Visualization:\n",
      "\t\t-mset <vertebrates|insects|worms|plants|yeast|all> (check against motif collects, default: auto)\n",
      "\t\t-basic (don't check de novo motifs for similarity to known motifs)\n",
      "\t\t-bits (scale sequence logos by information content, default: doesn't scale)\n",
      "\t\t-nocheck (don't check for similarity between novo motif motifs and known motifs)\n",
      "\t\t-mcheck <motif file> (known motifs to check against de novo motifs,\n",
      "\t\t-noknown (don't search for known motif enrichment, default: -known)\n",
      "\t\t-mknown <motif file> (known motifs to check for enrichment,\n",
      "\t\t-nofacts (omit humor)\n",
      "\t\t-seqlogo (uses weblogo/seqlogo/ghostscript to visualize motifs, default uses SVG)\n",
      "\n",
      "\tAdvanced options:\n",
      "\t\t-b (use binomial distribution to calculate p-values, hypergeometric is default)\n",
      "\t\t-nogo (don't search for gene ontology enrichment)\n",
      "\t\t-humanGO (Convert IDs to human for GO analysis)\n",
      "\t\t-ontology <ont.genes> [ont.genes] ... (custom ontologies for GO analysis)\n",
      "\t\t-noweight (no CG correction)\n",
      "\t\t-noredun (Don't remove predetermined redundant promoters/sequences)\n",
      "\t\t-g (input file is a group file, i.e. 1st column = id, 2nd = 0 or 1 [1=target,0=back])\n",
      "\t\t-cpg (use CpG% instead of GC% for sequence normalization)\n",
      "\t\t-rand (randomize labels for target and backgound sequences)\n",
      "\t\t-maskMotif <motif file 1> [motif file 2] ... (motifs to mask before motif finding)\n",
      "\t\t-opt <motif file 1> [motif file 2] ... (motifs to optimize/change length)\n",
      "\t\t-peaks (will produce peak file of promoters to use with findMotifsGenome.pl)\n",
      "\t\t-nowarn (no warnings)\n",
      "\t\t-keepFiles (don't delete temporary files)\n",
      "\t\t-dumpFasta (create target.fa and background.fa files)\n",
      "\t\t-min <#> (remove sequences shorter than #, default: 0)\n",
      "\t\t-max <#> (remove sequences longer than #, default: 1e10)\n",
      "\t\t-reuse (rerun homer using old seq files etc. with new options\n",
      "\t\t\t  and ignores input list, organism)\n",
      "\t\t-fdr <#> (Calculate empirical FDR for de novo discovery #=number of randomizations)\n",
      "\n",
      "\thomer2 specific options:\n",
      "\t\t-homer2 (use homer2 instead of original homer, default)\n",
      "\t\t-nlen <#> (length of lower-order oligos to normalize - general sequences, default: 3)\n",
      "\t\t\t-nmax <#> (Max normalization iterations, default: 160)\n",
      "\t\t\t-neutral (weight sequences to neutral frequencies, i.e. 25%, 6.25%, etc.)\n",
      "\t\t-olen <#> (lower-order oligo normalization for oligo table, use if -nlen isn't working well)\n",
      "\t\t-p <#> (Number of processors to use, default: 1)\n",
      "\t\t-e <#> (Maximum expected motif instance per bp in random sequence, default: 0.01)\n",
      "\t\t-cache <#> (size in MB for statistics cache, default: 500)\n",
      "\t\t-quickMask (skip full masking after finding motifs, similar to original homer)\n",
      "\t\t-homer1 (to force the use of the original homer)\n",
      "\t\t-minlp <#> (stop looking for motifs when seed logp score gets above #, default: -10)\n",
      "\n",
      "\tOriginal homer specific options:\n",
      "\t\t-float (allow adjustment of the degeneracy threshold for known motifs to improve p-value[dangerous])\n",
      "\t\t-homer1 (to force the use of the original homer)\n",
      "\t\t-depth [low|med|high|allnight] (time spent on local optimization default: med)\n",
      "\n"
     ]
    }
   ],
   "source": [
    "%%bash\n",
    "findMotifs.pl"
   ]
  },
  {
   "cell_type": "code",
   "execution_count": 2,
   "metadata": {},
   "outputs": [],
   "source": [
    "%%bash\n",
    "cd /home/rtu/EFF_homework/\n",
    "bed_name=EFF_H3K4Me1_1_srt_dupr_chr11.srt_peaks.broadPeak\n",
    "chr11_genome=/home/rtu/genome_chr11.fa\n",
    "out_name=EFF_H3K4Me1_1_srt_dupr_chr11_HomerMF\n",
    "err_name=EFF_H3K4Me1_1_srt_dupr_chr11_HomerMF.out\n",
    "findMotifsGenome.pl $bed_name $chr11_genome $out_name &> $err_name\n"
   ]
  },
  {
   "cell_type": "markdown",
   "metadata": {},
   "source": [
    "- What are the top 5 knownResults?\n"
   ]
  },
  {
   "cell_type": "markdown",
   "metadata": {},
   "source": [
    "1. Eomes(T-box)/H9-Eomes-ChIP-Seq(GSE26097)/Homer\n",
    "\n",
    "2. AT1G76870(Trihelix)/col-AT1G76870-DAP-Seq(GSE60143)/Homer\n",
    "\n",
    "3. ETS1(ETS)/Jurkat-ETS1-ChIP-Seq(GSE17954)/Homer\n",
    "\n",
    "4. LBD19(LOBAS2)/colamp-LBD19-DAP-Seq(GSE60143)/Homer\n",
    "\n",
    "5. ETV1(ETS)/GIST48-ETV1-ChIP-Seq(GSE22441)/Homer"
   ]
  },
  {
   "cell_type": "markdown",
   "metadata": {},
   "source": [
    "- What are the top 5 homerResults?"
   ]
  },
  {
   "cell_type": "markdown",
   "metadata": {},
   "source": [
    "1. HAP2/Literature(Harbison)/Yeast(0.763)\n",
    "\n",
    "2. PCBP3(KH)/Mus_musculus-RNCMPT00215-PBM/HughesRNA(0.798)\n",
    "\n",
    "3. RUNX1(Runt)/Jurkat-RUNX1-ChIP-Seq(GSE29180)/Homer(0.868)\n",
    "\n",
    "4. EWS:ERG-fusion(ETS)/CADO_ES1-EWS:ERG-ChIP-Seq(SRA014231)/Homer(0.668)\n",
    "\n",
    "5. bZIP52(bZIP)/colamp-bZIP52-DAP-Seq(GSE60143)/Homer(0.695)"
   ]
  },
  {
   "cell_type": "markdown",
   "metadata": {},
   "source": [
    "- What is the difference between knownResults and homerResults?"
   ]
  },
  {
   "cell_type": "markdown",
   "metadata": {},
   "source": [
    "From the Homer website, it seems the difference between knownResults and homerResults is the difference between de novo motif discovery and known motif discovery. \"De novo motif discovery allows you to directly query the sequence to discover which motifs are the MOST enriched sequences in your target set.  Known motif discovery will simply tell you which of the known motifs is most enriched in your target set.\"\n",
    "\n",
    "http://homer.ucsd.edu/homer/introduction/basics.html\n",
    "\n",
    "homerResults seem to have P-values extremely low in comparison to the knownResults. homerResults also have the potential for false positives because you're looking for things that have not necessarily been annotated yet."
   ]
  },
  {
   "cell_type": "code",
   "execution_count": null,
   "metadata": {},
   "outputs": [],
   "source": []
  }
 ],
 "metadata": {
  "kernelspec": {
   "display_name": "Python 3",
   "language": "python",
   "name": "python3"
  },
  "language_info": {
   "codemirror_mode": {
    "name": "ipython",
    "version": 3
   },
   "file_extension": ".py",
   "mimetype": "text/x-python",
   "name": "python",
   "nbconvert_exporter": "python",
   "pygments_lexer": "ipython3",
   "version": "3.5.2"
  }
 },
 "nbformat": 4,
 "nbformat_minor": 2
}
