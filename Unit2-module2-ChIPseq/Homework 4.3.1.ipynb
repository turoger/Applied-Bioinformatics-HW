{
 "cells": [
  {
   "cell_type": "markdown",
   "metadata": {},
   "source": [
    "Run ChIPQC on:\n",
    "\n",
    "EFF_H3K4Me1_1_srt_dupr_chr11.bam\n",
    "\n",
    "EFF_H3K4Me1_2_srt_dupr_chr11.bam\n",
    "\n",
    "EFF_Input_srt_dupr_chr11.bam (Control)"
   ]
  },
  {
   "cell_type": "markdown",
   "metadata": {},
   "source": [
    "Sort and index the bam files."
   ]
  },
  {
   "cell_type": "code",
   "execution_count": 2,
   "metadata": {},
   "outputs": [],
   "source": [
    "%%bash\n",
    "cd /home/rtu/EFF_homework/\n",
    "\n",
    "for i in *.bam\n",
    "    do\n",
    "    samtools sort -o ${i/.bam/.srt.bam} $i\n",
    "done"
   ]
  },
  {
   "cell_type": "code",
   "execution_count": 3,
   "metadata": {},
   "outputs": [
    {
     "name": "stdout",
     "output_type": "stream",
     "text": [
      "EFF_H3K4Me1_1_srt_dupr_chr11.bam\n",
      "EFF_H3K4Me1_1_srt_dupr_chr11.srt.bam\n",
      "EFF_H3K4Me1_2_srt_dupr_chr11.bam\n",
      "EFF_H3K4Me1_2_srt_dupr_chr11.srt.bam\n",
      "EFF_Input_srt_dupr_chr11.bam\n",
      "EFF_Input_srt_dupr_chr11.srt.bam\n"
     ]
    }
   ],
   "source": [
    "%%bash\n",
    "ls /home/rtu/EFF_homework/"
   ]
  },
  {
   "cell_type": "code",
   "execution_count": 4,
   "metadata": {},
   "outputs": [],
   "source": [
    "%%bash\n",
    "cd /home/rtu/EFF_homework/\n",
    "\n",
    "for i in *.srt.bam\n",
    "    do\n",
    "    samtools index $i\n",
    "done"
   ]
  },
  {
   "cell_type": "markdown",
   "metadata": {},
   "source": [
    "Run MACS2"
   ]
  },
  {
   "cell_type": "code",
   "execution_count": 1,
   "metadata": {},
   "outputs": [],
   "source": [
    "%%bash\n",
    "cd /home/rtu/EFF_homework/\n",
    "\n",
    "for i in *.srt.bam\n",
    "    do\n",
    "    macs2 callpeak -t $i -f BAM -n ${i/.bam/} -g mm -p 1e-2 --broad --nomodel --bdg --shift 0 --extsize 147 --keep-dup all &> ${i/.bam/.MACS2.out}\n",
    "done"
   ]
  },
  {
   "cell_type": "code",
   "execution_count": 2,
   "metadata": {},
   "outputs": [
    {
     "name": "stdout",
     "output_type": "stream",
     "text": [
      "-rwxrwxrwx 1 rtu rtu 8127903 Dec 10 22:12 EFF_H3K4Me1_1_srt_dupr_chr11.srt_peaks.xls\n",
      "-rwxrwxrwx 1 rtu rtu 5900836 Dec 10 22:13 EFF_H3K4Me1_2_srt_dupr_chr11.srt_peaks.xls\n",
      "-rwxrwxrwx 1 rtu rtu 6124421 Dec 10 22:13 EFF_Input_srt_dupr_chr11.srt_peaks.xls\n"
     ]
    }
   ],
   "source": [
    "%%bash\n",
    "cd /home/rtu/EFF_homework/\n",
    "ls -l *.xls"
   ]
  },
  {
   "cell_type": "code",
   "execution_count": null,
   "metadata": {},
   "outputs": [],
   "source": []
  }
 ],
 "metadata": {
  "kernelspec": {
   "display_name": "Python 3",
   "language": "python",
   "name": "python3"
  },
  "language_info": {
   "codemirror_mode": {
    "name": "ipython",
    "version": 3
   },
   "file_extension": ".py",
   "mimetype": "text/x-python",
   "name": "python",
   "nbconvert_exporter": "python",
   "pygments_lexer": "ipython3",
   "version": "3.5.2"
  }
 },
 "nbformat": 4,
 "nbformat_minor": 2
}
