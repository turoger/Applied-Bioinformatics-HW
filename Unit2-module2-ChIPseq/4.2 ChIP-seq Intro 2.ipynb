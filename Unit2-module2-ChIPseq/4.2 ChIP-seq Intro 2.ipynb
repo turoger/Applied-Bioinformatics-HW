{
 "cells": [
  {
   "cell_type": "markdown",
   "metadata": {},
   "source": [
    "# ChIP-seq intro 2\n",
    "Huitian Diao\n",
    "* __References__: \n",
    "* [ENCODE ChIP-seq pipeline](https://www.encodeproject.org/pipelines/ENCPL138KID/)"
   ]
  },
  {
   "cell_type": "markdown",
   "metadata": {},
   "source": [
    "## 1. Alignment"
   ]
  },
  {
   "cell_type": "markdown",
   "metadata": {},
   "source": [
    "#### * [Bowtie2 Manual](http://bowtie-bio.sourceforge.net/bowtie2/manual.shtml)"
   ]
  },
  {
   "cell_type": "markdown",
   "metadata": {},
   "source": [
    "### 1.1 Making bowtie2 index"
   ]
  },
  {
   "cell_type": "code",
   "execution_count": null,
   "metadata": {},
   "outputs": [],
   "source": [
    "%%bash\n",
    "cd /Users/yolandatiao/Documents/0_Bioinformatics2017/2018_Bioinformatics/UCSC_mm10\n",
    "mkdir Bowtie2Index_mm10chr2 # Make a folder for the bowtie2 index\n",
    "cd Bowtie2Index_mm10chr2\n",
    "chr2_fa=/Users/yolandatiao/Documents/0_Bioinformatics2017/2018_Bioinformatics/UCSC_mm10/genome_chr2.fa # Genome fasta file\n",
    "bowtie2-build $chr2_fa genome_chr2 # Indexing"
   ]
  },
  {
   "cell_type": "code",
   "execution_count": 1,
   "metadata": {},
   "outputs": [
    {
     "name": "stderr",
     "output_type": "stream",
     "text": [
      "bash: line 1: c: command not found\n",
      "bash: line 2: bowtie2-build: command not found\n"
     ]
    }
   ],
   "source": [
    "%%bash\n",
    "c\n",
    "bowtie2-build $chra_fa genome_chr2"
   ]
  },
  {
   "cell_type": "markdown",
   "metadata": {},
   "source": [
    "### 1.2 Alignment"
   ]
  },
  {
   "cell_type": "markdown",
   "metadata": {},
   "source": [
    "#### Download a sample of fastq file"
   ]
  },
  {
   "cell_type": "code",
   "execution_count": 3,
   "metadata": {},
   "outputs": [
    {
     "name": "stderr",
     "output_type": "stream",
     "text": [
      "Read 1000 spots for SRR3001750\n",
      "Written 1000 spots for SRR3001750\n"
     ]
    }
   ],
   "source": [
    "%%bash\n",
    "cd /Users/yolandatiao/Documents/0_Bioinformatics2017/2018_Bioinformatics/Applied-Bioinformatics-HW-Yolanda\n",
    "mkdir ChIP-seq.2\n",
    "cd ChIP-seq.2\n",
    "fastq-dump --split-files -X 1000 -Z SRR3001750 > SRR3001750.1000.fastq"
   ]
  },
  {
   "cell_type": "code",
   "execution_count": null,
   "metadata": {},
   "outputs": [],
   "source": []
  },
  {
   "cell_type": "markdown",
   "metadata": {},
   "source": [
    "#### Alignment\n",
    "* -x: The basename of the index for the reference genome\n",
    "* -U: Unpaired reads to be aligned\n",
    "* -S: File to write SAM alignments to\n",
    "* &>: Redirect stderr"
   ]
  },
  {
   "cell_type": "code",
   "execution_count": 7,
   "metadata": {},
   "outputs": [],
   "source": [
    "%%bash\n",
    "cd /Users/yolandatiao/Documents/0_Bioinformatics2017/2018_Bioinformatics/Applied-Bioinformatics-HW-Yolanda/ChIP-seq.2\n",
    "bowtie2_index_mm10=/Users/yolandatiao/Documents/0_Bioinformatics2017/2018_Bioinformatics/UCSC_mm10/Bowtie2Index_mm10chr2/genome_chr2\n",
    "bowtie2 -x $bowtie2_index_mm10 -U SRR3001750.1000.fastq -S SRR3001750.1000.sam &> SRR3001750.1000.align.out"
   ]
  },
  {
   "cell_type": "code",
   "execution_count": 9,
   "metadata": {},
   "outputs": [
    {
     "name": "stdout",
     "output_type": "stream",
     "text": [
      "1000 reads; of these:\n",
      "  1000 (100.00%) were unpaired; of these:\n",
      "    815 (81.50%) aligned 0 times\n",
      "    63 (6.30%) aligned exactly 1 time\n",
      "    122 (12.20%) aligned >1 times\n",
      "18.50% overall alignment rate\n"
     ]
    }
   ],
   "source": [
    "%%bash\n",
    "cd /Users/yolandatiao/Documents/0_Bioinformatics2017/2018_Bioinformatics/Applied-Bioinformatics-HW-Yolanda/ChIP-seq.2\n",
    "cat SRR3001750.1000.align.out"
   ]
  },
  {
   "cell_type": "code",
   "execution_count": 2,
   "metadata": {},
   "outputs": [
    {
     "name": "stderr",
     "output_type": "stream",
     "text": [
      "bash: line 2: /home/rtu/genome_chr2/: Is a directory\n"
     ]
    }
   ],
   "source": [
    "%%bash\n",
    "cd /home/rtu/\n",
    "bowtie2_index_mm10= /home/rtu/genome_chr2/\n",
    "bowtie2-x $bowtie2_index_mm10 -U SRR3001750.sample.fastq -S SRR3001750.sample.sam &> SRR3001750.sample.sam.align.out"
   ]
  },
  {
   "cell_type": "markdown",
   "metadata": {},
   "source": [
    "## 2. File conversion and filter"
   ]
  },
  {
   "cell_type": "markdown",
   "metadata": {},
   "source": [
    "#### * [Samtools manual](http://www.htslib.org/doc/samtools.html)"
   ]
  },
  {
   "cell_type": "code",
   "execution_count": 10,
   "metadata": {},
   "outputs": [
    {
     "name": "stderr",
     "output_type": "stream",
     "text": [
      "[bam_rmdupse_core] 2 / 185 = 0.0108 in library '\t'\n"
     ]
    }
   ],
   "source": [
    "%%bash\n",
    "cd /Users/yolandatiao/Documents/0_Bioinformatics2017/2018_Bioinformatics/Applied-Bioinformatics-HW-Yolanda/ChIP-seq.2\n",
    "# Convert sam file to bam file\n",
    "samtools view -bS SRR3001750.1000.sam > SRR3001750.1000.bam\n",
    "# Sort bam file\n",
    "samtools sort SRR3001750.1000.bam -o SRR3001750.1000.srt.bam\n",
    "# Remove PCR duplicates\n",
    "samtools rmdup -S SRR3001750.1000.srt.bam SRR3001750.1000.srt.dupr.bam"
   ]
  },
  {
   "cell_type": "code",
   "execution_count": null,
   "metadata": {},
   "outputs": [],
   "source": []
  },
  {
   "cell_type": "code",
   "execution_count": null,
   "metadata": {},
   "outputs": [],
   "source": []
  }
 ],
 "metadata": {
  "kernelspec": {
   "display_name": "Python 3",
   "language": "python",
   "name": "python3"
  },
  "language_info": {
   "codemirror_mode": {
    "name": "ipython",
    "version": 3
   },
   "file_extension": ".py",
   "mimetype": "text/x-python",
   "name": "python",
   "nbconvert_exporter": "python",
   "pygments_lexer": "ipython3",
   "version": "3.5.2"
  }
 },
 "nbformat": 4,
 "nbformat_minor": 2
}
