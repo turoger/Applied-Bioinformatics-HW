{
 "cells": [
  {
   "cell_type": "markdown",
   "metadata": {},
   "source": [
    "### Q1. Why when using some packages we need to include the __full path__ but for others we don't have to?"
   ]
  },
  {
   "cell_type": "markdown",
   "metadata": {},
   "source": [
    "### Answer for Q1:\n",
    "##### Step 1. For those packages we use without full path, where are the EXECUTABLE FILES stored?"
   ]
  },
  {
   "cell_type": "code",
   "execution_count": 2,
   "metadata": {},
   "outputs": [
    {
     "name": "stdout",
     "output_type": "stream",
     "text": [
      "/usr/bin/grep\n",
      "/Users/yolandatiao/anaconda/bin/fastqc\n"
     ]
    }
   ],
   "source": [
    "%%bash\n",
    "which grep\n",
    "which fastqc"
   ]
  },
  {
   "cell_type": "markdown",
   "metadata": {},
   "source": [
    "##### Step 2. How does the computer know where to find those EXECUTABLE FILES?"
   ]
  },
  {
   "cell_type": "code",
   "execution_count": 5,
   "metadata": {},
   "outputs": [
    {
     "name": "stdout",
     "output_type": "stream",
     "text": [
      "PATH=/Users/yolandatiao/anaconda/envs/HDpython3/bin:/Users/yolandatiao/anaconda/envs/HDpython3/bin:/Users/yolandatiao/Documents/0_Bioinformatics2017/201804_Cousera_Unix/Code/newCmd:/Users/yolandatiao/Documents/0_Bioinformatics2017/201804_Cousera_Unix/Code/Commands:/Users/yolandatiao/anaconda/bin:/Users/yolandatiao/anaconda/bin:/Users/yolandatiao/anaconda2/bin:/usr/local/bin:/usr/bin:/bin:/usr/sbin:/sbin:/Users/yolandatiao/.local/bin:/Library/Frameworks/Mono.framework/Versions/Current/Commands\n"
     ]
    }
   ],
   "source": [
    "%%bash\n",
    "printenv | grep \"PATH\""
   ]
  },
  {
   "cell_type": "markdown",
   "metadata": {},
   "source": [
    "* PATH is an environment variable on Unix-like operating systems, DOS, OS/2, and Microsoft Windows, specifying a set of directories where __executable programs__ are located. \n",
    "* Each directory is seperated by `:`\n",
    "* In the PATH we printed out, we can find the directory for \"grep\" and \"fastqc\" that we checked before."
   ]
  },
  {
   "cell_type": "markdown",
   "metadata": {},
   "source": [
    "##### Step 3. Conclusion: computer will only know where to find things when we TELL it!!!"
   ]
  },
  {
   "cell_type": "code",
   "execution_count": null,
   "metadata": {},
   "outputs": [],
   "source": []
  }
 ],
 "metadata": {
  "kernelspec": {
   "display_name": "Python 3",
   "language": "python",
   "name": "python3"
  },
  "language_info": {
   "codemirror_mode": {
    "name": "ipython",
    "version": 3
   },
   "file_extension": ".py",
   "mimetype": "text/x-python",
   "name": "python",
   "nbconvert_exporter": "python",
   "pygments_lexer": "ipython3",
   "version": "3.6.5"
  }
 },
 "nbformat": 4,
 "nbformat_minor": 2
}
