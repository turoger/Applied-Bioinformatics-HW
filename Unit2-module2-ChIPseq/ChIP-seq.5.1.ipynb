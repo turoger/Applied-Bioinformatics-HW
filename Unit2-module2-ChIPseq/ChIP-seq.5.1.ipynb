{
 "cells": [
  {
   "cell_type": "markdown",
   "metadata": {},
   "source": [
    "# ChIP-seq intro 5\n",
    "Huitian Diao\n",
    "* __References__: \n",
    "* [ENCODE ChIP-seq pipeline](https://www.encodeproject.org/pipelines/ENCPL138KID/)"
   ]
  },
  {
   "cell_type": "markdown",
   "metadata": {},
   "source": [
    "## 1. ChIPQC\n",
    "### 1.0 Preparation: _Bam file_ and _MACS2_ \n",
    "* 1.0.0 Download bam files: https://drive.google.com/open?id=1EJJ58DaOKSG_9d_--8WSZ1qkeD3KHZAR\n",
    "* 1.0.1 Index bam files\n",
    "* 1.0.2 Peak calling\n",
    "* 1.0.3 Create __sampleSheet__ file"
   ]
  },
  {
   "cell_type": "code",
   "execution_count": 7,
   "metadata": {},
   "outputs": [],
   "source": [
    "%%bash\n",
    "cd /Users/yolandatiao/Documents/0_Bioinformatics2017/2018_Bioinformatics/Applied-Bioinformatics-HW-Yolanda/ChIP-seq.5/aligned_bam\n",
    "\n",
    "# Sort all the bam files\n",
    "for i in *.bam\n",
    "do\n",
    "samtools sort -o ${i/.bam/.srt.bam} $i\n",
    "done"
   ]
  },
  {
   "cell_type": "code",
   "execution_count": 2,
   "metadata": {},
   "outputs": [
    {
     "name": "stdout",
     "output_type": "stream",
     "text": [
      "SRR3001750_srt_dupr.chr10.bam\n",
      "SRR3001750_srt_dupr.chr12.bam\n",
      "SRR3001750_srt_dupr.chr2.chr11.bam\n",
      "SRR3001751_srt_dupr.chr10.bam\n",
      "SRR3001751_srt_dupr.chr12.bam\n"
     ]
    }
   ],
   "source": [
    "%%bash\n",
    "dir=/home/rtu/Applied-Bioinformatics/Applied-Bioinformatics-HW/Unit2-module2-ChIPseq/ChIP-Seq.5_BAM_files\n",
    "cd $dir\n",
    "for i in *.bam\n",
    "do\n",
    "echo $i\n",
    "samtools sort -o ${i/.bam/.srt.bam} $i\n",
    "#samtools view -H $dir/$i\n",
    "done"
   ]
  },
  {
   "cell_type": "code",
   "execution_count": 8,
   "metadata": {},
   "outputs": [],
   "source": [
    "%%bash\n",
    "cd /Users/yolandatiao/Documents/0_Bioinformatics2017/2018_Bioinformatics/Applied-Bioinformatics-HW-Yolanda/ChIP-seq.5/aligned_bam\n",
    "\n",
    "# Index all the bam files\n",
    "for i in *.srt.bam\n",
    "do\n",
    "samtools index $i\n",
    "done"
   ]
  },
  {
   "cell_type": "code",
   "execution_count": 4,
   "metadata": {},
   "outputs": [],
   "source": [
    "%%bash\n",
    "cd /home/rtu/Applied-Bioinformatics/Applied-Bioinformatics-HW/Unit2-module2-ChIPseq/ChIP-Seq.5_BAM_files/\n",
    "for i in *.srt.bam\n",
    "do\n",
    "samtools index $i\n",
    "done"
   ]
  },
  {
   "cell_type": "code",
   "execution_count": 9,
   "metadata": {},
   "outputs": [],
   "source": [
    "%%bash\n",
    "cd /Users/yolandatiao/Documents/0_Bioinformatics2017/2018_Bioinformatics/Applied-Bioinformatics-HW-Yolanda/ChIP-seq.5/aligned_bam\n",
    "\n",
    "# MACS2 Peak calling\n",
    "for i in *.srt.bam\n",
    "do\n",
    "macs2 callpeak -t $i -f BAM -n ${i/.bam/} -g mm -p 1e-2 --broad --nomodel --bdg --shift 0 --extsize 147 --keep-dup all &> ${i/.bam/.MACS2.out}\n",
    "done\n"
   ]
  },
  {
   "cell_type": "code",
   "execution_count": 7,
   "metadata": {},
   "outputs": [],
   "source": [
    "%%bash\n",
    "cd /home/rtu/Applied-Bioinformatics/Applied-Bioinformatics-HW/Unit2-module2-ChIPseq/ChIP-Seq.5_BAM_files/\n",
    "for i in *.srt.bam\n",
    "do\n",
    "macs2 callpeak -t $i -f BAM -n ${i/.bam/} -g mm -p 1e-2 --broad --nomodel --bdg --shift 0 --extsize 147 --keep-dup all &> ${i/.bam/.MACS2.out}\n",
    "done"
   ]
  },
  {
   "cell_type": "code",
   "execution_count": null,
   "metadata": {},
   "outputs": [],
   "source": []
  }
 ],
 "metadata": {
  "kernelspec": {
   "display_name": "Python 3",
   "language": "python",
   "name": "python3"
  },
  "language_info": {
   "codemirror_mode": {
    "name": "ipython",
    "version": 3
   },
   "file_extension": ".py",
   "mimetype": "text/x-python",
   "name": "python",
   "nbconvert_exporter": "python",
   "pygments_lexer": "ipython3",
   "version": "3.5.2"
  }
 },
 "nbformat": 4,
 "nbformat_minor": 2
}
