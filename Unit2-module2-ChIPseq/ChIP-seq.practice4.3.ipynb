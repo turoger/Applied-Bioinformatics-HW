{
 "cells": [
  {
   "cell_type": "markdown",
   "metadata": {},
   "source": [
    "### 1. For SRR3001750, save first 100,000 read spots into a file named SRR3001750.sample.fastq, run fastqc for the output file."
   ]
  },
  {
   "cell_type": "code",
   "execution_count": 7,
   "metadata": {},
   "outputs": [
    {
     "name": "stdout",
     "output_type": "stream",
     "text": [
      "Analysis complete for SRR3001750.sample.fastq\n"
     ]
    },
    {
     "name": "stderr",
     "output_type": "stream",
     "text": [
      "Read 100000 spots for SRR3001750\n",
      "Written 100000 spots for SRR3001750\n",
      "Started analysis of SRR3001750.sample.fastq\n",
      "Approx 5% complete for SRR3001750.sample.fastq\n",
      "Approx 10% complete for SRR3001750.sample.fastq\n",
      "Approx 15% complete for SRR3001750.sample.fastq\n",
      "Approx 20% complete for SRR3001750.sample.fastq\n",
      "Approx 25% complete for SRR3001750.sample.fastq\n",
      "Approx 30% complete for SRR3001750.sample.fastq\n",
      "Approx 35% complete for SRR3001750.sample.fastq\n",
      "Approx 40% complete for SRR3001750.sample.fastq\n",
      "Approx 45% complete for SRR3001750.sample.fastq\n",
      "Approx 50% complete for SRR3001750.sample.fastq\n",
      "Approx 55% complete for SRR3001750.sample.fastq\n",
      "Approx 60% complete for SRR3001750.sample.fastq\n",
      "Approx 65% complete for SRR3001750.sample.fastq\n",
      "Approx 70% complete for SRR3001750.sample.fastq\n",
      "Approx 75% complete for SRR3001750.sample.fastq\n",
      "Approx 80% complete for SRR3001750.sample.fastq\n",
      "Approx 85% complete for SRR3001750.sample.fastq\n",
      "Approx 90% complete for SRR3001750.sample.fastq\n",
      "Approx 95% complete for SRR3001750.sample.fastq\n",
      "Approx 100% complete for SRR3001750.sample.fastq\n"
     ]
    }
   ],
   "source": [
    "%%bash\n",
    "cd /Users/yolandatiao/Documents/0_Bioinformatics2017/2018_Bioinformatics/Applied-Bioinformatics-HW-Yolanda\n",
    "mkdir ChIP-seq.practice4.3\n",
    "cd ChIP-seq.practice4.3\n",
    "fastq-dump --split-files -X 100000 -Z SRR3001750 > SRR3001750.sample.fastq\n",
    "fastqc SRR3001750.sample.fastq"
   ]
  },
  {
   "cell_type": "markdown",
   "metadata": {},
   "source": [
    "### 2. Use Trim_galore to trim the output fastq, with: \n",
    "* Minimum read length 24\n",
    "* Fastqc for the output"
   ]
  },
  {
   "cell_type": "code",
   "execution_count": 1,
   "metadata": {},
   "outputs": [
    {
     "name": "stdout",
     "output_type": "stream",
     "text": [
      "1.18\n",
      "Analysis complete for SRR3001750.sample_trimmed.fq\n"
     ]
    },
    {
     "name": "stderr",
     "output_type": "stream",
     "text": [
      "No quality encoding type selected. Assuming that the data provided uses Sanger encoded Phred scores (default)\n",
      "\n",
      "Path to Cutadapt set as: 'cutadapt' (default)\n",
      "Cutadapt seems to be working fine (tested command 'cutadapt --version')\n",
      "\n",
      "\n",
      "AUTO-DETECTING ADAPTER TYPE\n",
      "===========================\n",
      "Attempting to auto-detect adapter type from the first 1 million sequences of the first file (>> SRR3001750.sample.fastq <<)\n",
      "\n",
      "Found perfect matches for the following adapter sequences:\n",
      "Adapter type\tCount\tSequence\tSequences analysed\tPercentage\n",
      "Illumina\t3\tAGATCGGAAGAGC\t100000\t0.00\n",
      "smallRNA\t0\tTGGAATTCTCGG\t100000\t0.00\n",
      "Nextera\t0\tCTGTCTCTTATA\t100000\t0.00\n",
      "Using Illumina adapter for trimming (count: 3). Second best hit was smallRNA (count: 0)\n",
      "\n",
      "Writing report to 'SRR3001750.sample.fastq_trimming_report.txt'\n",
      "\n",
      "SUMMARISING RUN PARAMETERS\n",
      "==========================\n",
      "Input filename: SRR3001750.sample.fastq\n",
      "Trimming mode: single-end\n",
      "Trim Galore version: 0.5.0\n",
      "Cutadapt version: 1.18\n",
      "Quality Phred score cutoff: 20\n",
      "Quality encoding type selected: ASCII+33\n",
      "Adapter sequence: 'AGATCGGAAGAGC' (Illumina TruSeq, Sanger iPCR; auto-detected)\n",
      "Maximum trimming error rate: 0.1 (default)\n",
      "Minimum required adapter overlap (stringency): 1 bp\n",
      "Minimum required sequence length before a sequence gets removed: 24 bp\n",
      "Running FastQC on the data once trimming has completed\n",
      "\n",
      "Writing final adapter and quality trimmed output to SRR3001750.sample_trimmed.fq\n",
      "\n",
      "\n",
      "  >>> Now performing quality (cutoff 20) and adapter trimming in a single pass for the adapter sequence: 'AGATCGGAAGAGC' from file SRR3001750.sample.fastq <<< \n",
      "This is cutadapt 1.18 with Python 2.7.6\n",
      "Command line parameters: -f fastq -e 0.1 -q 20 -O 1 -a AGATCGGAAGAGC SRR3001750.sample.fastq\n",
      "Processing reads on 1 core in single-end mode ...\n",
      "Finished in 1.44 s (14 us/read; 4.15 M reads/minute).\n",
      "\n",
      "=== Summary ===\n",
      "\n",
      "Total reads processed:                 100,000\n",
      "Reads with adapters:                    32,599 (32.6%)\n",
      "Reads written (passing filters):       100,000 (100.0%)\n",
      "\n",
      "Total basepairs processed:     5,000,000 bp\n",
      "Quality-trimmed:                 504,181 bp (10.1%)\n",
      "Total written (filtered):      4,449,720 bp (89.0%)\n",
      "\n",
      "=== Adapter 1 ===\n",
      "\n",
      "Sequence: AGATCGGAAGAGC; Type: regular 3'; Length: 13; Trimmed: 32599 times.\n",
      "\n",
      "No. of allowed errors:\n",
      "0-9 bp: 0; 10-13 bp: 1\n",
      "\n",
      "Bases preceding removed adapters:\n",
      "  A: 28.2%\n",
      "  C: 34.2%\n",
      "  G: 19.4%\n",
      "  T: 18.1%\n",
      "  none/other: 0.1%\n",
      "\n",
      "Overview of removed sequences\n",
      "length\tcount\texpect\tmax.err\terror counts\n",
      "1\t22408\t25000.0\t0\t22408\n",
      "2\t7665\t6250.0\t0\t7665\n",
      "3\t2038\t1562.5\t0\t2038\n",
      "4\t381\t390.6\t0\t381\n",
      "5\t88\t97.7\t0\t88\n",
      "6\t2\t24.4\t0\t2\n",
      "7\t5\t6.1\t0\t5\n",
      "8\t1\t1.5\t0\t1\n",
      "9\t1\t0.4\t0\t1\n",
      "10\t1\t0.1\t1\t1\n",
      "11\t2\t0.0\t1\t0 2\n",
      "12\t1\t0.0\t1\t0 1\n",
      "14\t1\t0.0\t1\t1\n",
      "17\t1\t0.0\t1\t1\n",
      "21\t1\t0.0\t1\t0 1\n",
      "31\t1\t0.0\t1\t0 1\n",
      "42\t1\t0.0\t1\t0 1\n",
      "50\t1\t0.0\t1\t0 1\n",
      "\n",
      "\n",
      "RUN STATISTICS FOR INPUT FILE: SRR3001750.sample.fastq\n",
      "=============================================\n",
      "100000 sequences processed in total\n",
      "Sequences removed because they became shorter than the length cutoff of 24 bp:\t9031 (9.0%)\n",
      "\n",
      "\n",
      "  >>> Now running FastQC on the data <<<\n",
      "\n",
      "Started analysis of SRR3001750.sample_trimmed.fq\n",
      "Approx 5% complete for SRR3001750.sample_trimmed.fq\n",
      "Approx 10% complete for SRR3001750.sample_trimmed.fq\n",
      "Approx 15% complete for SRR3001750.sample_trimmed.fq\n",
      "Approx 20% complete for SRR3001750.sample_trimmed.fq\n",
      "Approx 25% complete for SRR3001750.sample_trimmed.fq\n",
      "Approx 30% complete for SRR3001750.sample_trimmed.fq\n",
      "Approx 35% complete for SRR3001750.sample_trimmed.fq\n",
      "Approx 40% complete for SRR3001750.sample_trimmed.fq\n",
      "Approx 45% complete for SRR3001750.sample_trimmed.fq\n",
      "Approx 50% complete for SRR3001750.sample_trimmed.fq\n",
      "Approx 55% complete for SRR3001750.sample_trimmed.fq\n",
      "Approx 60% complete for SRR3001750.sample_trimmed.fq\n",
      "Approx 65% complete for SRR3001750.sample_trimmed.fq\n",
      "Approx 70% complete for SRR3001750.sample_trimmed.fq\n",
      "Approx 75% complete for SRR3001750.sample_trimmed.fq\n",
      "Approx 80% complete for SRR3001750.sample_trimmed.fq\n",
      "Approx 85% complete for SRR3001750.sample_trimmed.fq\n",
      "Approx 90% complete for SRR3001750.sample_trimmed.fq\n",
      "Approx 95% complete for SRR3001750.sample_trimmed.fq\n"
     ]
    }
   ],
   "source": [
    "%%bash\n",
    "cd /Users/yolandatiao/Documents/0_Bioinformatics2017/2018_Bioinformatics/Applied-Bioinformatics-HW-Yolanda/ChIP-seq.practice4.3\n",
    "trim_galore --length 24 --fastqc SRR3001750.sample.fastq"
   ]
  },
  {
   "cell_type": "markdown",
   "metadata": {},
   "source": [
    "### 3. Compare the fastqc result difference between trimmed and untrimmed file."
   ]
  },
  {
   "cell_type": "code",
   "execution_count": null,
   "metadata": {},
   "outputs": [],
   "source": []
  }
 ],
 "metadata": {
  "kernelspec": {
   "display_name": "Python 3",
   "language": "python",
   "name": "python3"
  },
  "language_info": {
   "codemirror_mode": {
    "name": "ipython",
    "version": 3
   },
   "file_extension": ".py",
   "mimetype": "text/x-python",
   "name": "python",
   "nbconvert_exporter": "python",
   "pygments_lexer": "ipython3",
   "version": "3.6.6"
  }
 },
 "nbformat": 4,
 "nbformat_minor": 2
}
