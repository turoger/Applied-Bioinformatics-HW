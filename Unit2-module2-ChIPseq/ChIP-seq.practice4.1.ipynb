{
 "cells": [
  {
   "cell_type": "markdown",
   "metadata": {},
   "source": [
    "### 1. Find Run numbers for ChIP-seq data from this paper:\n",
    "* B. H., Immunity, 2016"
   ]
  },
  {
   "cell_type": "markdown",
   "metadata": {},
   "source": [
    "#### 1.1 Search for GEO accession number from paper\n",
    "GSE76031"
   ]
  },
  {
   "cell_type": "markdown",
   "metadata": {},
   "source": [
    "#### 1.2 Find SubSerie for ChIP-seq data\n",
    "GSE76029"
   ]
  },
  {
   "cell_type": "markdown",
   "metadata": {},
   "source": [
    "#### 1.3 Search for ChIP-seq data accession number in SRA Run Selector\n",
    "https://www.ncbi.nlm.nih.gov/Traces/study/?acc=GSE76029&go=go"
   ]
  },
  {
   "cell_type": "markdown",
   "metadata": {},
   "source": [
    "#### 1.4 Save RunInfo Table"
   ]
  },
  {
   "cell_type": "markdown",
   "metadata": {},
   "source": [
    "### 2. For the first file in the RunInfoTable: \n",
    "#### Save the first 1000 spots into a file named test_1000.fastq"
   ]
  },
  {
   "cell_type": "code",
   "execution_count": 3,
   "metadata": {},
   "outputs": [
    {
     "name": "stderr",
     "output_type": "stream",
     "text": [
      "Read 50000 spots for SRR3001750\n",
      "Written 50000 spots for SRR3001750\n"
     ]
    }
   ],
   "source": [
    "%%bash\n",
    "cd /Users/yolandatiao/Documents/0_Bioinformatics2017/2018_Bioinformatics/Applied-Bioinformatics-HW-Yolanda\n",
    "mkdir ChIP-seq.practice4.1\n",
    "cd ChIP-seq.practice4.1\n",
    "fastq-dump --split-files -X 50000 -Z SRR3001750 > test_50000.fastq"
   ]
  },
  {
   "cell_type": "markdown",
   "metadata": {},
   "source": [
    "### 3. Run fastqc for test_1000.fastq\n",
    "#### Check the quality of the sequcnce"
   ]
  },
  {
   "cell_type": "code",
   "execution_count": 4,
   "metadata": {},
   "outputs": [
    {
     "name": "stdout",
     "output_type": "stream",
     "text": [
      "Analysis complete for test_50000.fastq\n"
     ]
    },
    {
     "name": "stderr",
     "output_type": "stream",
     "text": [
      "Started analysis of test_50000.fastq\n",
      "Approx 5% complete for test_50000.fastq\n",
      "Approx 10% complete for test_50000.fastq\n",
      "Approx 15% complete for test_50000.fastq\n",
      "Approx 20% complete for test_50000.fastq\n",
      "Approx 25% complete for test_50000.fastq\n",
      "Approx 30% complete for test_50000.fastq\n",
      "Approx 35% complete for test_50000.fastq\n",
      "Approx 40% complete for test_50000.fastq\n",
      "Approx 45% complete for test_50000.fastq\n",
      "Approx 50% complete for test_50000.fastq\n",
      "Approx 55% complete for test_50000.fastq\n",
      "Approx 60% complete for test_50000.fastq\n",
      "Approx 65% complete for test_50000.fastq\n",
      "Approx 70% complete for test_50000.fastq\n",
      "Approx 75% complete for test_50000.fastq\n",
      "Approx 80% complete for test_50000.fastq\n",
      "Approx 85% complete for test_50000.fastq\n",
      "Approx 90% complete for test_50000.fastq\n",
      "Approx 95% complete for test_50000.fastq\n",
      "Approx 100% complete for test_50000.fastq\n"
     ]
    }
   ],
   "source": [
    "%%bash\n",
    "cd /Users/yolandatiao/Documents/0_Bioinformatics2017/2018_Bioinformatics/Applied-Bioinformatics-HW-Yolanda/ChIP-seq.practice4.1\n",
    "fastqc test_50000.fastq"
   ]
  },
  {
   "cell_type": "code",
   "execution_count": null,
   "metadata": {
    "collapsed": true
   },
   "outputs": [],
   "source": []
  }
 ],
 "metadata": {
  "kernelspec": {
   "display_name": "Python 3",
   "language": "python",
   "name": "python3"
  },
  "language_info": {
   "codemirror_mode": {
    "name": "ipython",
    "version": 3
   },
   "file_extension": ".py",
   "mimetype": "text/x-python",
   "name": "python",
   "nbconvert_exporter": "python",
   "pygments_lexer": "ipython3",
   "version": "3.5.2"
  }
 },
 "nbformat": 4,
 "nbformat_minor": 2
}
