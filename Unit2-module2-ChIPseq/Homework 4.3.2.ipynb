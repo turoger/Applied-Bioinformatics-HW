{
 "cells": [
  {
   "cell_type": "markdown",
   "metadata": {},
   "source": [
    "### ***ChIPQC***"
   ]
  },
  {
   "cell_type": "code",
   "execution_count": 1,
   "metadata": {},
   "outputs": [
    {
     "name": "stderr",
     "output_type": "stream",
     "text": [
      "Loading required package: ggplot2\n",
      "Loading required package: DiffBind\n",
      "Loading required package: GenomicRanges\n",
      "Loading required package: stats4\n",
      "Loading required package: BiocGenerics\n",
      "Loading required package: parallel\n",
      "\n",
      "Attaching package: ‘BiocGenerics’\n",
      "\n",
      "The following objects are masked from ‘package:parallel’:\n",
      "\n",
      "    clusterApply, clusterApplyLB, clusterCall, clusterEvalQ,\n",
      "    clusterExport, clusterMap, parApply, parCapply, parLapply,\n",
      "    parLapplyLB, parRapply, parSapply, parSapplyLB\n",
      "\n",
      "The following objects are masked from ‘package:stats’:\n",
      "\n",
      "    IQR, mad, sd, var, xtabs\n",
      "\n",
      "The following objects are masked from ‘package:base’:\n",
      "\n",
      "    anyDuplicated, append, as.data.frame, basename, cbind, colMeans,\n",
      "    colnames, colSums, dirname, do.call, duplicated, eval, evalq,\n",
      "    Filter, Find, get, grep, grepl, intersect, is.unsorted, lapply,\n",
      "    lengths, Map, mapply, match, mget, order, paste, pmax, pmax.int,\n",
      "    pmin, pmin.int, Position, rank, rbind, Reduce, rowMeans, rownames,\n",
      "    rowSums, sapply, setdiff, sort, table, tapply, union, unique,\n",
      "    unsplit, which, which.max, which.min\n",
      "\n",
      "Loading required package: S4Vectors\n",
      "\n",
      "Attaching package: ‘S4Vectors’\n",
      "\n",
      "The following object is masked from ‘package:base’:\n",
      "\n",
      "    expand.grid\n",
      "\n",
      "Loading required package: IRanges\n",
      "Loading required package: GenomeInfoDb\n",
      "Loading required package: SummarizedExperiment\n",
      "Loading required package: Biobase\n",
      "Welcome to Bioconductor\n",
      "\n",
      "    Vignettes contain introductory material; view with\n",
      "    'browseVignettes()'. To cite Bioconductor, see\n",
      "    'citation(\"Biobase\")', and for packages 'citation(\"pkgname\")'.\n",
      "\n",
      "Loading required package: DelayedArray\n",
      "Loading required package: matrixStats\n",
      "\n",
      "Attaching package: ‘matrixStats’\n",
      "\n",
      "The following objects are masked from ‘package:Biobase’:\n",
      "\n",
      "    anyMissing, rowMedians\n",
      "\n",
      "Loading required package: BiocParallel\n",
      "\n",
      "Attaching package: ‘DelayedArray’\n",
      "\n",
      "The following objects are masked from ‘package:matrixStats’:\n",
      "\n",
      "    colMaxs, colMins, colRanges, rowMaxs, rowMins, rowRanges\n",
      "\n",
      "The following objects are masked from ‘package:base’:\n",
      "\n",
      "    aperm, apply\n",
      "\n",
      "\n"
     ]
    }
   ],
   "source": [
    "setwd (\"/home/rtu/EFF_homework/\")\n",
    "\n",
    "library(ChIPQC)"
   ]
  },
  {
   "cell_type": "code",
   "execution_count": 2,
   "metadata": {},
   "outputs": [
    {
     "name": "stderr",
     "output_type": "stream",
     "text": [
      "Warning message in file(file, \"rt\"):\n",
      "“cannot open file 'EFF_Input_srt_dupr_chr11.srt_peaks.csv': No such file or directory”"
     ]
    },
    {
     "ename": "ERROR",
     "evalue": "Error in file(file, \"rt\"): cannot open the connection\n",
     "output_type": "error",
     "traceback": [
      "Error in file(file, \"rt\"): cannot open the connection\nTraceback:\n",
      "1. read.csv(\"EFF_Input_srt_dupr_chr11.srt_peaks.csv\")",
      "2. read.table(file = file, header = header, sep = sep, quote = quote, \n .     dec = dec, fill = fill, comment.char = comment.char, ...)",
      "3. file(file, \"rt\")"
     ]
    }
   ],
   "source": [
    "\n",
    "samsheet1 <- read.csv(\"EFF_Input_srt_dupr_chr11.srt_peaks.csv\")\n",
    "samsheet2 <- read.csv(\"EFF_H3K4Me1_2_srt_dupr_chr11.srt_peaks.csv\")\n",
    "samsheet3 <- read.csv(\"EFF_H3K4Me1_1_srt_dupr_chr11.srt_peaks.csv\")\n",
    "head(samsheet1)\n",
    "head(samsheet2)\n",
    "head(samsheet3)"
   ]
  },
  {
   "cell_type": "code",
   "execution_count": 4,
   "metadata": {},
   "outputs": [
    {
     "data": {
      "text/html": [
       "<table>\n",
       "<thead><tr><th scope=col>X..This.file.is.generated.by.MACS.version.2.1.2</th></tr></thead>\n",
       "<tbody>\n",
       "\t<tr><td># Command line: callpeak -t EFF_Input_srt_dupr_chr11.srt.bam -f BAM -n EFF_Input_srt_dupr_chr11.srt -g mm -p 1e-2 --broad --nomodel --bdg --shift 0 --extsize 147 --keep-dup all</td></tr>\n",
       "\t<tr><td># ARGUMENTS LIST:                                                                                                                                                               </td></tr>\n",
       "\t<tr><td># name = EFF_Input_srt_dupr_chr11.srt                                                                                                                                           </td></tr>\n",
       "\t<tr><td># format = BAM                                                                                                                                                                  </td></tr>\n",
       "\t<tr><td># ChIP-seq file = ['EFF_Input_srt_dupr_chr11.srt.bam']                                                                                                                          </td></tr>\n",
       "\t<tr><td># control file = None                                                                                                                                                           </td></tr>\n",
       "</tbody>\n",
       "</table>\n"
      ],
      "text/latex": [
       "\\begin{tabular}{r|l}\n",
       " X..This.file.is.generated.by.MACS.version.2.1.2\\\\\n",
       "\\hline\n",
       "\t \\# Command line: callpeak -t EFF\\_Input\\_srt\\_dupr\\_chr11.srt.bam -f BAM -n EFF\\_Input\\_srt\\_dupr\\_chr11.srt -g mm -p 1e-2 --broad --nomodel --bdg --shift 0 --extsize 147 --keep-dup all\\\\\n",
       "\t \\# ARGUMENTS LIST:                                                                                                                                                               \\\\\n",
       "\t \\# name = EFF\\_Input\\_srt\\_dupr\\_chr11.srt                                                                                                                                           \\\\\n",
       "\t \\# format = BAM                                                                                                                                                                  \\\\\n",
       "\t \\# ChIP-seq file = {[}'EFF\\_Input\\_srt\\_dupr\\_chr11.srt.bam'{]}                                                                                                                          \\\\\n",
       "\t \\# control file = None                                                                                                                                                           \\\\\n",
       "\\end{tabular}\n"
      ],
      "text/markdown": [
       "\n",
       "X..This.file.is.generated.by.MACS.version.2.1.2 | \n",
       "|---|---|---|---|---|---|\n",
       "| # Command line: callpeak -t EFF_Input_srt_dupr_chr11.srt.bam -f BAM -n EFF_Input_srt_dupr_chr11.srt -g mm -p 1e-2 --broad --nomodel --bdg --shift 0 --extsize 147 --keep-dup all | \n",
       "| # ARGUMENTS LIST:                                                                                                                                                                | \n",
       "| # name = EFF_Input_srt_dupr_chr11.srt                                                                                                                                            | \n",
       "| # format = BAM                                                                                                                                                                   | \n",
       "| # ChIP-seq file = ['EFF_Input_srt_dupr_chr11.srt.bam']                                                                                                                           | \n",
       "| # control file = None                                                                                                                                                            | \n",
       "\n",
       "\n"
      ],
      "text/plain": [
       "  X..This.file.is.generated.by.MACS.version.2.1.2                                                                                                                                 \n",
       "1 # Command line: callpeak -t EFF_Input_srt_dupr_chr11.srt.bam -f BAM -n EFF_Input_srt_dupr_chr11.srt -g mm -p 1e-2 --broad --nomodel --bdg --shift 0 --extsize 147 --keep-dup all\n",
       "2 # ARGUMENTS LIST:                                                                                                                                                               \n",
       "3 # name = EFF_Input_srt_dupr_chr11.srt                                                                                                                                           \n",
       "4 # format = BAM                                                                                                                                                                  \n",
       "5 # ChIP-seq file = ['EFF_Input_srt_dupr_chr11.srt.bam']                                                                                                                          \n",
       "6 # control file = None                                                                                                                                                           "
      ]
     },
     "metadata": {},
     "output_type": "display_data"
    }
   ],
   "source": [
    "#samsheet1 <- read.csv(\"EFF_Input_srt_dupr_chr11.srt_peaks.csv\")\n",
    "samsheet11 <- read.csv(\"EFF_Input_srt_dupr_chr11.srt_peaks.xls\")\n",
    "#head(samsheet1)\n",
    "head(samsheet11)"
   ]
  },
  {
   "cell_type": "code",
   "execution_count": null,
   "metadata": {},
   "outputs": [],
   "source": []
  }
 ],
 "metadata": {
  "kernelspec": {
   "display_name": "R",
   "language": "R",
   "name": "ir"
  },
  "language_info": {
   "codemirror_mode": "r",
   "file_extension": ".r",
   "mimetype": "text/x-r-source",
   "name": "R",
   "pygments_lexer": "r",
   "version": "3.5.1"
  }
 },
 "nbformat": 4,
 "nbformat_minor": 2
}
