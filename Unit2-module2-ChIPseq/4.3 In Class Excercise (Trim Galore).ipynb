{
 "cells": [
  {
   "cell_type": "markdown",
   "metadata": {},
   "source": [
    "### Questions: ###\n",
    "1) For SRR3001750, save the first 100k spots in a file named SRR3001750.sample.fastq. Run Fastqc on the output."
   ]
  },
  {
   "cell_type": "code",
   "execution_count": 2,
   "metadata": {},
   "outputs": [
    {
     "name": "stderr",
     "output_type": "stream",
     "text": [
      "Read 100000 spots for SRR3001750\n",
      "Written 100000 spots for SRR3001750\n"
     ]
    }
   ],
   "source": [
    "%%bash\n",
    "cd /home/rtu/\n",
    "sratoolkit.2.9.2-ubuntu64/bin/fastq-dump --split-files -X 100000 -Z SRR3001750 > SRR3001750.sample.fastq"
   ]
  },
  {
   "cell_type": "code",
   "execution_count": 3,
   "metadata": {},
   "outputs": [
    {
     "name": "stdout",
     "output_type": "stream",
     "text": [
      "Analysis complete for SRR3001750.sample.fastq\n"
     ]
    },
    {
     "name": "stderr",
     "output_type": "stream",
     "text": [
      "Started analysis of SRR3001750.sample.fastq\n",
      "Approx 5% complete for SRR3001750.sample.fastq\n",
      "Approx 10% complete for SRR3001750.sample.fastq\n",
      "Approx 15% complete for SRR3001750.sample.fastq\n",
      "Approx 20% complete for SRR3001750.sample.fastq\n",
      "Approx 25% complete for SRR3001750.sample.fastq\n",
      "Approx 30% complete for SRR3001750.sample.fastq\n",
      "Approx 35% complete for SRR3001750.sample.fastq\n",
      "Approx 40% complete for SRR3001750.sample.fastq\n",
      "Approx 45% complete for SRR3001750.sample.fastq\n",
      "Approx 50% complete for SRR3001750.sample.fastq\n",
      "Approx 55% complete for SRR3001750.sample.fastq\n",
      "Approx 60% complete for SRR3001750.sample.fastq\n",
      "Approx 65% complete for SRR3001750.sample.fastq\n",
      "Approx 70% complete for SRR3001750.sample.fastq\n",
      "Approx 75% complete for SRR3001750.sample.fastq\n",
      "Approx 80% complete for SRR3001750.sample.fastq\n",
      "Approx 85% complete for SRR3001750.sample.fastq\n",
      "Approx 90% complete for SRR3001750.sample.fastq\n",
      "Approx 95% complete for SRR3001750.sample.fastq\n",
      "Approx 100% complete for SRR3001750.sample.fastq\n"
     ]
    }
   ],
   "source": [
    "%%bash\n",
    "cd /home/rtu/\n",
    "source activate chip\n",
    "fastqc SRR3001750.sample.fastq"
   ]
  },
  {
   "cell_type": "code",
   "execution_count": null,
   "metadata": {},
   "outputs": [],
   "source": [
    "%%bash\n",
    "cd /home/rtu/\n",
    "trim_galore --24 "
   ]
  },
  {
   "cell_type": "code",
   "execution_count": null,
   "metadata": {},
   "outputs": [],
   "source": []
  },
  {
   "cell_type": "code",
   "execution_count": null,
   "metadata": {},
   "outputs": [],
   "source": []
  },
  {
   "cell_type": "code",
   "execution_count": null,
   "metadata": {},
   "outputs": [],
   "source": []
  },
  {
   "cell_type": "code",
   "execution_count": null,
   "metadata": {},
   "outputs": [],
   "source": []
  }
 ],
 "metadata": {
  "kernelspec": {
   "display_name": "Python 3",
   "language": "python",
   "name": "python3"
  },
  "language_info": {
   "codemirror_mode": {
    "name": "ipython",
    "version": 3
   },
   "file_extension": ".py",
   "mimetype": "text/x-python",
   "name": "python",
   "nbconvert_exporter": "python",
   "pygments_lexer": "ipython3",
   "version": "3.5.2"
  }
 },
 "nbformat": 4,
 "nbformat_minor": 2
}
