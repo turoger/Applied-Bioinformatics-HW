{
 "cells": [
  {
   "cell_type": "markdown",
   "metadata": {},
   "source": [
    "#### 2. Filter blacklisted regions from the bam file, name output SRR3001750_srt_dupr.chr2.chr11_flb.bam"
   ]
  },
  {
   "cell_type": "code",
   "execution_count": 1,
   "metadata": {},
   "outputs": [],
   "source": [
    "%%bash\n",
    "cd /Users/yolandatiao/Documents/0_Bioinformatics2017/2018_Bioinformatics/Applied-Bioinformatics-HW-Yolanda/ChIP-seq.practice4.5\n",
    "bedtools intersect -abam SRR3001750_srt_dupr.chr2.chr11.bam -b mm10.blacklist.bed -v > SRR3001750_srt_dupr.chr2.chr11_flb.bam"
   ]
  },
  {
   "cell_type": "code",
   "execution_count": 4,
   "metadata": {},
   "outputs": [
    {
     "name": "stdout",
     "output_type": "stream",
     "text": [
      "total 462024\n",
      "-rw-r--r--@ 1 yolandatiao  staff  102250566 Nov 12 15:30 SRR3001750_srt_dupr.chr2.chr11.bam\n",
      "-rw-r--r--  1 yolandatiao  staff  101887581 Nov 12 16:41 SRR3001750_srt_dupr.chr2.chr11_flb.bam\n",
      "-rw-r--r--@ 1 yolandatiao  staff       3767 Nov 12 13:19 mm10.blacklist.bed\n"
     ]
    }
   ],
   "source": [
    "%%bash\n",
    "cd /Users/yolandatiao/Documents/0_Bioinformatics2017/2018_Bioinformatics/Applied-Bioinformatics-HW-Yolanda/ChIP-seq.practice4.5\n",
    "ls -l"
   ]
  },
  {
   "cell_type": "code",
   "execution_count": 3,
   "metadata": {},
   "outputs": [],
   "source": [
    "%%bash\n",
    "source activate chip\n",
    "cd /home/rtu/\n",
    "bedtools intersect -abam SRR3001750_srt_dupr.chr2.chr11.bam -b mm10.blacklist.bed -v > SRR3001750_srt_dupr.chr.chr11_flb.bam"
   ]
  },
  {
   "cell_type": "code",
   "execution_count": 4,
   "metadata": {},
   "outputs": [
    {
     "name": "stdout",
     "output_type": "stream",
     "text": [
      "total 1519684\n",
      "drwxrwxrwx 1 rtu rtu       4096 Oct 10 20:33 Applied-Bioinformatics\n",
      "drwxrwxrwx 1 rtu rtu       4096 Nov  8 09:17 genome_chr2\n",
      "drwxr-xr-x 1 rtu rtu       4096 Jun  7  2017 hisat2-2.1.0\n",
      "drwxrwxrwx 1 rtu rtu       4096 Oct 30 22:15 hisat_out\n",
      "-rw-rw-rw- 1 rtu rtu 1163315582 Oct 25 08:31 Homo_sapiens.GRCh38.94.gtf\n",
      "-rw-rw-rw- 1 rtu rtu    1089103 Oct 25 09:27 Homo_sapiens.GRCh38.94.txt\n",
      "drwxrwxrwx 1 rtu rtu       4096 Nov  5 15:24 miniconda3\n",
      "-rw-rw-rw- 1 rtu rtu   62574861 Sep  4 10:23 Miniconda3-latest-Linux-x86_64.sh\n",
      "-rw-r--r-- 1 rtu rtu       3767 Nov 13 08:50 mm10.blacklist.bed\n",
      "drwxrwxrwx 1 rtu rtu       4096 Nov  7 18:48 multiqc_data\n",
      "-rw-rw-rw- 1 rtu rtu    1326076 Nov  7 18:48 multiqc_report.html\n",
      "drwxrwxr-x 1 rtu rtu       4096 Oct 10 17:42 ncbi\n",
      "drwxrwxrwx 1 rtu rtu       4096 Aug 17 15:50 R\n",
      "drwxrwxrwx 1 rtu rtu       4096 Nov 15 09:05 Sample_fastq\n",
      "drwxrwxr-x 1 rtu rtu       4096 Jul 23 14:34 sratoolkit.2.9.2-ubuntu64\n",
      "-rw-rw-rw- 1 rtu rtu     221294 Nov  8 08:56 SRR3001750.sample_fastqc.html\n",
      "-rw-rw-rw- 1 rtu rtu       2216 Nov 15 09:11 SRR3001750.sample.fastq_trimming_report.txt\n",
      "-rw-rw-rw- 1 rtu rtu         41 Nov 15 13:02 SRR3001750.sample.nontrimmed.align.out\n",
      "-rw-rw-rw- 1 rtu rtu         43 Nov  8 09:39 SRR3001750.sample.sam.align.out\n",
      "-rw-rw-rw- 1 rtu rtu         42 Nov 15 13:02 SRR3001750.sample.trimmed.align.out\n",
      "-rw-rw-rw- 1 rtu rtu   21417468 Nov 15 09:11 SRR3001750.sample_trimmed.fq\n",
      "-rw-rw-rw- 1 rtu rtu          0 Nov 13 09:12 SRR3001750_srt_dupr.chr10_flb.bam\n",
      "-rw-rw-rw- 1 rtu rtu        306 Nov 13 10:00 SRR3001750_srt_dupr.chr10_flb_flt.bam\n",
      "-rw-r--r-- 1 rtu rtu  102250566 Nov 13 08:42 SRR3001750_srt_dupr.chr2.chr11.bam\n",
      "-rw-rw-rw- 1 rtu rtu  101887581 Nov 13 09:22 SRR3001750_srt_dupr.chr2.chr11_flb.bam\n",
      "-rw-rw-rw- 1 rtu rtu  101887581 Nov 15 14:46 SRR3001750_srt_dupr.chr.chr11_flb.bam\n"
     ]
    }
   ],
   "source": [
    "%%bash\n",
    "cd /home/rtu/\n",
    "ls -l"
   ]
  },
  {
   "cell_type": "markdown",
   "metadata": {},
   "source": [
    "#### 3. Filter out chr11 reads from SRR3001750_srt_dupr.chr2.chr11_flb.bam, name SRR3001750_srt_dupr.chr2.chr11_flb_flt.bam"
   ]
  },
  {
   "cell_type": "code",
   "execution_count": 7,
   "metadata": {},
   "outputs": [
    {
     "name": "stdout",
     "output_type": "stream",
     "text": [
      "total 570568\n",
      "-rw-r--r--@ 1 yolandatiao  staff  102250566 Nov 12 15:30 SRR3001750_srt_dupr.chr2.chr11.bam\n",
      "-rw-r--r--  1 yolandatiao  staff  101887581 Nov 12 16:41 SRR3001750_srt_dupr.chr2.chr11_flb.bam\n",
      "-rw-r--r--  1 yolandatiao  staff   54968726 Nov 12 16:44 SRR3001750_srt_dupr.chr2.chr11_flb_flt.bam\n",
      "-rw-r--r--@ 1 yolandatiao  staff       3767 Nov 12 13:19 mm10.blacklist.bed\n",
      "SRR3001750.10646571\t16\tchr2\t3050671\t0\t28M1D22M\t*\t0\t0\tTAATGCCAGCACTCTGGAGGCAGTGGTAATGCAGAAGCAAGCAGGTTTCT\tJJJJJJJJIIHFHHJJJJJJJJJJIJJJJJJJJJJJJHHHHHFFFFFCCC\tAS:i:-19\tXS:i:-25\tXN:i:0\tXM:i:2\tXO:i:1\tXG:i:1\tNM:i:3\tMD:Z:28^G1G9G10\tYT:Z:UU\n",
      "SRR3001750.9755936\t0\tchr2\t3050860\t1\t50M\t*\t0\t0\tATAAAGAAAGAAAGAAACAAAGAAACAAAGAAACAAAGAAACAAAGAAAC\t+1?DBDEFHHHHHJJIJJIIJJJJJJJJJJJIGGGIIJIJIJIIJJJJII\tAS:i:-3\tXS:i:-3\tXN:i:0\tXM:i:1\tXO:i:0\tXG:i:0\tNM:i:1\tMD:Z:1G48\tYT:Z:UU\n",
      "SRR3001750.1340458\t16\tchr2\t3051201\t42\t50M\t*\t0\t0\tGAGTTCGAGGCTTTTTCCCTAAAAAGTACTAGGGCTGAACCTGCGTGGTT\tEGCGGIIIIIIIIIIIGCIIIIEIIHCGIIIIIIHIIHHHGHFFDDD=8<\tAS:i:0\tXN:i:0\tXM:i:0\tXO:i:0\tXG:i:0\tNM:i:0\tMD:Z:50\tYT:Z:UU\n",
      "SRR3001750.403476\t0\tchr2\t3052163\t1\t50M\t*\t0\t0\tGGAGTGAGACAGTGGAGTTGTGGCAGTTCTGTTTGAGGTGGTCTGGGAAC\t@@CFDFFFHGHHHGGIJIGIIJEHHIIIJICEGH??BA9D=@*??DH?BB\tAS:i:0\tXS:i:0\tXN:i:0\tXM:i:0\tXO:i:0\tXG:i:0\tNM:i:0\tMD:Z:50\tYT:Z:UU\n",
      "SRR3001750.3521352\t16\tchr2\t3052252\t30\t50M\t*\t0\t0\tGGAATTGAATCCCTGTCTTCTGAAAGGGTGGCTAGTATTCTTCACACCTG\tJJGIJIIHGEGIGIIHGGGCIJIIJJIGIIIJIJJJJHHHHHFDDDF@C@\tAS:i:0\tXS:i:-6\tXN:i:0\tXM:i:0\tXO:i:0\tXG:i:0\tNM:i:0\tMD:Z:50\tYT:Z:UU\n",
      "SRR3001750.8327062\t0\tchr2\t3052785\t42\t50M\t*\t0\t0\tCCGGCATGCTGGTGAAATTCAAAATGGGCAGCACAGCGAAGGGCAGCAGT\t=1:BDFFDHFBF<?FHIIJIJJJJIGCFGHJJIJJJJIJGH@GGIBHIGC\tAS:i:-3\tXN:i:0\tXM:i:1\tXO:i:0\tXG:i:0\tNM:i:1\tMD:Z:1T48\tYT:Z:UU\n",
      "SRR3001750.8465746\t16\tchr2\t3052787\t42\t48M\t*\t0\t0\tGGCATGCTGGTGAAATTCAAAATGGGCAGCACAGCGAAGGGCAGCAGT\tIJJJJJIIJJGHJJIHIIJJIHIJJJJIJIJIJIGFHHHHFFFFFC@@\tAS:i:0\tXN:i:0\tXM:i:0\tXO:i:0\tXG:i:0\tNM:i:0\tMD:Z:48\tYT:Z:UU\n",
      "SRR3001750.7074175\t0\tchr2\t3052793\t42\t50M\t*\t0\t0\tCTGGTGAAATTCAAAATGGGCAGCACAGCGAAGGGCAGCAGTAGACTCTG\t@@@FDE4BFHDFFBEGHICGGGEEIJGHG1CFHGBGIIHGIHGDCHHEIC\tAS:i:0\tXN:i:0\tXM:i:0\tXO:i:0\tXG:i:0\tNM:i:0\tMD:Z:50\tYT:Z:UU\n",
      "SRR3001750.8023218\t16\tchr2\t3052897\t30\t50M\t*\t0\t0\tTACACCTAGATTGTAGACATGTCCCACAACACCTAGAGTATAGACATTTC\tFBF@IHGEGF?GFFFACGHGAE6;BEDGFFCGGGEIGFGHFFDB?BF@@@\tAS:i:0\tXS:i:-5\tXN:i:0\tXM:i:0\tXO:i:0\tXG:i:0\tNM:i:0\tMD:Z:50\tYT:Z:UU\n",
      "SRR3001750.12426695\t16\tchr2\t3052952\t42\t47M\t*\t0\t0\tGCATGAAGTCTATAGACCTGTCCCACTACACGAAGTCTATAGACATG\tF<HHAGIJIGGIIHFDDDJIGGHGHEGJIGJIJIFFFHBDADDB=+?\tAS:i:0\tXN:i:0\tXM:i:0\tXO:i:0\tXG:i:0\tNM:i:0\tMD:Z:47\tYT:Z:UU\n"
     ]
    },
    {
     "name": "stderr",
     "output_type": "stream",
     "text": [
      "rm: SRR3001750_srt_dupr.chr2.chr11_flb_flt.sam: No such file or directory\n"
     ]
    }
   ],
   "source": [
    "%%bash\n",
    "cd /Users/yolandatiao/Documents/0_Bioinformatics2017/2018_Bioinformatics/Applied-Bioinformatics-HW-Yolanda/ChIP-seq.practice4.5\n",
    "#samtools view -h SRR3001750_srt_dupr.chr2.chr11_flb.bam | awk '{if ($3!=\"chr11\") {print $0}}' > SRR3001750_srt_dupr.chr2.chr11_flb_flt.sam\n",
    "#samtools view -bS SRR3001750_srt_dupr.chr2.chr11_flb_flt.sam > SRR3001750_srt_dupr.chr2.chr11_flb_flt.bam\n",
    "rm SRR3001750_srt_dupr.chr2.chr11_flb_flt.sam\n",
    "ls -l\n",
    "samtools view SRR3001750_srt_dupr.chr2.chr11_flb_flt.bam | head\n"
   ]
  },
  {
   "cell_type": "code",
   "execution_count": 5,
   "metadata": {},
   "outputs": [
    {
     "name": "stdout",
     "output_type": "stream",
     "text": [
      "total 1573188\n",
      "drwxrwxrwx 1 rtu rtu       4096 Oct 10 20:33 Applied-Bioinformatics\n",
      "drwxrwxrwx 1 rtu rtu       4096 Nov  8 09:17 genome_chr2\n",
      "drwxr-xr-x 1 rtu rtu       4096 Jun  7  2017 hisat2-2.1.0\n",
      "drwxrwxrwx 1 rtu rtu       4096 Oct 30 22:15 hisat_out\n",
      "-rw-rw-rw- 1 rtu rtu 1163315582 Oct 25 08:31 Homo_sapiens.GRCh38.94.gtf\n",
      "-rw-rw-rw- 1 rtu rtu    1089103 Oct 25 09:27 Homo_sapiens.GRCh38.94.txt\n",
      "drwxrwxrwx 1 rtu rtu       4096 Nov  5 15:24 miniconda3\n",
      "-rw-rw-rw- 1 rtu rtu   62574861 Sep  4 10:23 Miniconda3-latest-Linux-x86_64.sh\n",
      "-rw-r--r-- 1 rtu rtu       3767 Nov 13 08:50 mm10.blacklist.bed\n",
      "drwxrwxrwx 1 rtu rtu       4096 Nov  7 18:48 multiqc_data\n",
      "-rw-rw-rw- 1 rtu rtu    1326076 Nov  7 18:48 multiqc_report.html\n",
      "drwxrwxr-x 1 rtu rtu       4096 Oct 10 17:42 ncbi\n",
      "drwxrwxrwx 1 rtu rtu       4096 Aug 17 15:50 R\n",
      "drwxrwxrwx 1 rtu rtu       4096 Nov 15 09:05 Sample_fastq\n",
      "drwxrwxr-x 1 rtu rtu       4096 Jul 23 14:34 sratoolkit.2.9.2-ubuntu64\n",
      "-rw-rw-rw- 1 rtu rtu     221294 Nov  8 08:56 SRR3001750.sample_fastqc.html\n",
      "-rw-rw-rw- 1 rtu rtu       2216 Nov 15 09:11 SRR3001750.sample.fastq_trimming_report.txt\n",
      "-rw-rw-rw- 1 rtu rtu         41 Nov 15 13:02 SRR3001750.sample.nontrimmed.align.out\n",
      "-rw-rw-rw- 1 rtu rtu         43 Nov  8 09:39 SRR3001750.sample.sam.align.out\n",
      "-rw-rw-rw- 1 rtu rtu         42 Nov 15 13:02 SRR3001750.sample.trimmed.align.out\n",
      "-rw-rw-rw- 1 rtu rtu   21417468 Nov 15 09:11 SRR3001750.sample_trimmed.fq\n",
      "-rw-rw-rw- 1 rtu rtu          0 Nov 13 09:12 SRR3001750_srt_dupr.chr10_flb.bam\n",
      "-rw-rw-rw- 1 rtu rtu        306 Nov 13 10:00 SRR3001750_srt_dupr.chr10_flb_flt.bam\n",
      "-rw-r--r-- 1 rtu rtu  102250566 Nov 13 08:42 SRR3001750_srt_dupr.chr2.chr11.bam\n",
      "-rw-rw-rw- 1 rtu rtu  101887581 Nov 13 09:22 SRR3001750_srt_dupr.chr2.chr11_flb.bam\n",
      "-rw-rw-rw- 1 rtu rtu   54757092 Nov 15 14:52 SRR3001750_srt_dupr.chr2.chr11_flb_flt.bam\n",
      "-rw-rw-rw- 1 rtu rtu  101887581 Nov 15 14:46 SRR3001750_srt_dupr.chr.chr11_flb.bam\n",
      "SRR3001750.10646571\t16\tchr2\t3050671\t0\t28M1D22M\t*\t0\t0\tTAATGCCAGCACTCTGGAGGCAGTGGTAATGCAGAAGCAAGCAGGTTTCT\tJJJJJJJJIIHFHHJJJJJJJJJJIJJJJJJJJJJJJHHHHHFFFFFCCC\tAS:i:-19\tXS:i:-25\tXN:i:0\tXM:i:2\tXO:i:1\tXG:i:1\tNM:i:3\tMD:Z:28^G1G9G10\tYT:Z:UU\n",
      "SRR3001750.9755936\t0\tchr2\t3050860\t1\t50M\t*\t0\t0\tATAAAGAAAGAAAGAAACAAAGAAACAAAGAAACAAAGAAACAAAGAAAC\t+1?DBDEFHHHHHJJIJJIIJJJJJJJJJJJIGGGIIJIJIJIIJJJJII\tAS:i:-3\tXS:i:-3\tXN:i:0\tXM:i:1\tXO:i:0\tXG:i:0\tNM:i:1\tMD:Z:1G48\tYT:Z:UU\n",
      "SRR3001750.1340458\t16\tchr2\t3051201\t42\t50M\t*\t0\t0\tGAGTTCGAGGCTTTTTCCCTAAAAAGTACTAGGGCTGAACCTGCGTGGTT\tEGCGGIIIIIIIIIIIGCIIIIEIIHCGIIIIIIHIIHHHGHFFDDD=8<\tAS:i:0\tXN:i:0\tXM:i:0\tXO:i:0\tXG:i:0\tNM:i:0\tMD:Z:50\tYT:Z:UU\n",
      "SRR3001750.403476\t0\tchr2\t3052163\t1\t50M\t*\t0\t0\tGGAGTGAGACAGTGGAGTTGTGGCAGTTCTGTTTGAGGTGGTCTGGGAAC\t@@CFDFFFHGHHHGGIJIGIIJEHHIIIJICEGH??BA9D=@*??DH?BB\tAS:i:0\tXS:i:0\tXN:i:0\tXM:i:0\tXO:i:0\tXG:i:0\tNM:i:0\tMD:Z:50\tYT:Z:UU\n",
      "SRR3001750.3521352\t16\tchr2\t3052252\t30\t50M\t*\t0\t0\tGGAATTGAATCCCTGTCTTCTGAAAGGGTGGCTAGTATTCTTCACACCTG\tJJGIJIIHGEGIGIIHGGGCIJIIJJIGIIIJIJJJJHHHHHFDDDF@C@\tAS:i:0\tXS:i:-6\tXN:i:0\tXM:i:0\tXO:i:0\tXG:i:0\tNM:i:0\tMD:Z:50\tYT:Z:UU\n",
      "SRR3001750.8327062\t0\tchr2\t3052785\t42\t50M\t*\t0\t0\tCCGGCATGCTGGTGAAATTCAAAATGGGCAGCACAGCGAAGGGCAGCAGT\t=1:BDFFDHFBF<?FHIIJIJJJJIGCFGHJJIJJJJIJGH@GGIBHIGC\tAS:i:-3\tXN:i:0\tXM:i:1\tXO:i:0\tXG:i:0\tNM:i:1\tMD:Z:1T48\tYT:Z:UU\n",
      "SRR3001750.8465746\t16\tchr2\t3052787\t42\t48M\t*\t0\t0\tGGCATGCTGGTGAAATTCAAAATGGGCAGCACAGCGAAGGGCAGCAGT\tIJJJJJIIJJGHJJIHIIJJIHIJJJJIJIJIJIGFHHHHFFFFFC@@\tAS:i:0\tXN:i:0\tXM:i:0\tXO:i:0\tXG:i:0\tNM:i:0\tMD:Z:48\tYT:Z:UU\n",
      "SRR3001750.7074175\t0\tchr2\t3052793\t42\t50M\t*\t0\t0\tCTGGTGAAATTCAAAATGGGCAGCACAGCGAAGGGCAGCAGTAGACTCTG\t@@@FDE4BFHDFFBEGHICGGGEEIJGHG1CFHGBGIIHGIHGDCHHEIC\tAS:i:0\tXN:i:0\tXM:i:0\tXO:i:0\tXG:i:0\tNM:i:0\tMD:Z:50\tYT:Z:UU\n",
      "SRR3001750.8023218\t16\tchr2\t3052897\t30\t50M\t*\t0\t0\tTACACCTAGATTGTAGACATGTCCCACAACACCTAGAGTATAGACATTTC\tFBF@IHGEGF?GFFFACGHGAE6;BEDGFFCGGGEIGFGHFFDB?BF@@@\tAS:i:0\tXS:i:-5\tXN:i:0\tXM:i:0\tXO:i:0\tXG:i:0\tNM:i:0\tMD:Z:50\tYT:Z:UU\n",
      "SRR3001750.12426695\t16\tchr2\t3052952\t42\t47M\t*\t0\t0\tGCATGAAGTCTATAGACCTGTCCCACTACACGAAGTCTATAGACATG\tF<HHAGIJIGGIIHFDDDJIGGHGHEGJIGJIJIFFFHBDADDB=+?\tAS:i:0\tXN:i:0\tXM:i:0\tXO:i:0\tXG:i:0\tNM:i:0\tMD:Z:47\tYT:Z:UU\n"
     ]
    },
    {
     "name": "stderr",
     "output_type": "stream",
     "text": [
      "[samopen] SAM header is present: 22 sequences.\n"
     ]
    }
   ],
   "source": [
    "%%bash\n",
    "cd\n",
    "samtools view -h SRR3001750_srt_dupr.chr2.chr11_flb.bam | awk '{if ($3!=\"chr11\") {print $0}}' > SRR3001750_srt_dupr.chr2.chr11_flb_flt.sam\n",
    "samtools view -bS SRR3001750_srt_dupr.chr2.chr11_flb_flt.sam > SRR3001750_srt_dupr.chr2.chr11_flb_flt.bam\n",
    "rm SRR3001750_srt_dupr.chr2.chr11_flb_flt.sam\n",
    "ls -l\n",
    "samtools view SRR3001750_srt_dupr.chr2.chr11_flb_flt.bam | head"
   ]
  },
  {
   "cell_type": "code",
   "execution_count": null,
   "metadata": {},
   "outputs": [],
   "source": []
  }
 ],
 "metadata": {
  "kernelspec": {
   "display_name": "Python 3",
   "language": "python",
   "name": "python3"
  },
  "language_info": {
   "codemirror_mode": {
    "name": "ipython",
    "version": 3
   },
   "file_extension": ".py",
   "mimetype": "text/x-python",
   "name": "python",
   "nbconvert_exporter": "python",
   "pygments_lexer": "ipython3",
   "version": "3.5.2"
  }
 },
 "nbformat": 4,
 "nbformat_minor": 2
}
