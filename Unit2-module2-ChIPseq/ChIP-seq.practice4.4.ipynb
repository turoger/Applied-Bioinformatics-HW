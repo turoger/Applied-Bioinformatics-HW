{
 "cells": [
  {
   "cell_type": "markdown",
   "metadata": {},
   "source": [
    "### 1. Use bowtie2 to align the trimmed and non-trimmed fastq files from Practice 4.3 to Bowtie2Index_mm10chr2/genome_chr2\n",
    "* Compare the alignment rate of the two files"
   ]
  },
  {
   "cell_type": "code",
   "execution_count": 9,
   "metadata": {},
   "outputs": [
    {
     "name": "stderr",
     "output_type": "stream",
     "text": [
      "mkdir: ChIP-seq.practice4.4: File exists\n"
     ]
    }
   ],
   "source": [
    "%%bash\n",
    "cd /Users/yolandatiao/Documents/0_Bioinformatics2017/2018_Bioinformatics/Applied-Bioinformatics-HW-Yolanda\n",
    "mkdir ChIP-seq.practice4.4\n",
    "cd ChIP-seq.practice4.4\n",
    "\n",
    "non_trim_file=/Users/yolandatiao/Documents/0_Bioinformatics2017/2018_Bioinformatics/Applied-Bioinformatics-HW-Yolanda/ChIP-seq.practice4.3/SRR3001750.sample.fastq\n",
    "trimmed_file=/Users/yolandatiao/Documents/0_Bioinformatics2017/2018_Bioinformatics/Applied-Bioinformatics-HW-Yolanda/ChIP-seq.practice4.3/SRR3001750.sample_trimmed.fq\n",
    "bowtie2_index_mm10=/Users/yolandatiao/Documents/0_Bioinformatics2017/2018_Bioinformatics/UCSC_mm10/Bowtie2Index_mm10chr2/genome_chr2\n",
    "\n",
    "bowtie2 -x $bowtie2_index_mm10 -U $non_trim_file -S SRR3001750.sample.nontrimmed.sam &> SRR3001750.sample.nontrimmed.align.out\n",
    "bowtie2 -x $bowtie2_index_mm10 -U $trimmed_file -S SRR3001750.sample.trimmed.sam &> SRR3001750.sample.trimmed.align.out"
   ]
  },
  {
   "cell_type": "code",
   "execution_count": 21,
   "metadata": {},
   "outputs": [],
   "source": [
    "%%bash\n",
    "cd /home/rtu/Applied-Bioinformatics/Applied-Bioinformatics-HW/Unit2-module2-ChIPseq/ChIP-seq.practice_4.4/\n",
    "nontrimmed_file=/home/rtu/SRR3001750.sample.fastq\n",
    "trimmed_file=/home/rtu/SRR3001750.sample_trimmed.fq\n",
    "bowtie2_index_mm10=/home/rtu/genome_chr2\n",
    "\n",
    "source activate chip\n",
    "\n",
    "bowtie2 -x $bowtie2_index_mm10 -U $nontrimmed_file -S SRR3001750.sample.nontrimmed.sam &> SRR3001750.sample.nontrimmed1.align.out\n",
    "bowtie2 -x $bowtie2_index_mm10 -U $trimmed_file -S SRR3001750.sample.trimmed.sam &> SRR3001750.sample.trimmed1.align.out\n"
   ]
  },
  {
   "cell_type": "code",
   "execution_count": 1,
   "metadata": {},
   "outputs": [
    {
     "name": "stdout",
     "output_type": "stream",
     "text": [
      "100000 reads; of these:\n",
      "  100000 (100.00%) were unpaired; of these:\n",
      "    80862 (80.86%) aligned 0 times\n",
      "    6983 (6.98%) aligned exactly 1 time\n",
      "    12155 (12.15%) aligned >1 times\n",
      "19.14% overall alignment rate\n",
      "91593 reads; of these:\n",
      "  91593 (100.00%) were unpaired; of these:\n",
      "    73080 (79.79%) aligned 0 times\n",
      "    6710 (7.33%) aligned exactly 1 time\n",
      "    11803 (12.89%) aligned >1 times\n",
      "20.21% overall alignment rate\n"
     ]
    }
   ],
   "source": [
    "%%bash\n",
    "cd /Users/yolandatiao/Documents/0_Bioinformatics2017/2018_Bioinformatics/Applied-Bioinformatics-HW-Yolanda/ChIP-seq.practice4.4\n",
    "cat SRR3001750.sample.nontrimmed.align.out\n",
    "cat SRR3001750.sample.trimmed.align.out"
   ]
  },
  {
   "cell_type": "code",
   "execution_count": 24,
   "metadata": {
    "scrolled": true
   },
   "outputs": [
    {
     "name": "stdout",
     "output_type": "stream",
     "text": [
      "(ERR): \"/home/rtu/genome_chr2\" does not exist or is not a Bowtie 2 index\n",
      "Exiting now ...\n",
      "(ERR): \"/home/rtu/genome_chr2\" does not exist or is not a Bowtie 2 index\n",
      "Exiting now ...\n"
     ]
    }
   ],
   "source": [
    "%%bash\n",
    "source activate chip\n",
    "cd /home/rtu/\n",
    "cat /home/rtu/Applied-Bioinformatics/Applied-Bioinformatics-HW/Unit2-module2-ChIPseq/ChIP-seq.practice_4.4/SRR3001750.sample.nontrimmed1.align.out\n",
    "cat /home/rtu/Applied-Bioinformatics/Applied-Bioinformatics-HW/Unit2-module2-ChIPseq/ChIP-seq.practice_4.4/SRR3001750.sample.trimmed1.align.out"
   ]
  },
  {
   "cell_type": "markdown",
   "metadata": {},
   "source": [
    "### 2. Sort and filter the alignment output sam files"
   ]
  },
  {
   "cell_type": "code",
   "execution_count": 12,
   "metadata": {},
   "outputs": [
    {
     "name": "stderr",
     "output_type": "stream",
     "text": [
      "[bam_rmdupse_core] 1796 / 19138 = 0.0938 in library '\t'\n",
      "[bam_rmdupse_core] 1747 / 18513 = 0.0944 in library '\t'\n"
     ]
    }
   ],
   "source": [
    "%%bash\n",
    "cd /Users/yolandatiao/Documents/0_Bioinformatics2017/2018_Bioinformatics/Applied-Bioinformatics-HW-Yolanda/ChIP-seq.practice4.4\n",
    "samtools view -bS SRR3001750.sample.nontrimmed.sam > SRR3001750.sample.nontrimmed.bam\n",
    "samtools sort SRR3001750.sample.nontrimmed.bam -o SRR3001750.sample.nontrimmed.srt.bam\n",
    "samtools rmdup -S SRR3001750.sample.nontrimmed.srt.bam SRR3001750.sample.nontrimmed.srt.dupr.bam\n",
    "\n",
    "samtools view -bS SRR3001750.sample.trimmed.sam > SRR3001750.sample.trimmed.bam\n",
    "samtools sort SRR3001750.sample.trimmed.bam -o SRR3001750.sample.trimmed.srt.bam\n",
    "samtools rmdup -S SRR3001750.sample.trimmed.srt.bam SRR3001750.sample.trimmed.srt.dupr.bam"
   ]
  },
  {
   "cell_type": "code",
   "execution_count": 25,
   "metadata": {},
   "outputs": [
    {
     "name": "stderr",
     "output_type": "stream",
     "text": [
      "[main_samview] fail to open \"SRR3001750.sample.nontrimmed.sam\" for reading.\n"
     ]
    }
   ],
   "source": [
    "%%bash\n",
    "cd /home/rtu/Applied-Bioinformatics/Applied-Bioinformatics-HW/Unit2-module2-ChIPseq/ChIP-seq.practice_4.4/\n",
    "samtools view -bS SRR3001750.sample.nontrimmed.sam > SRR3001750.sample.nontrimmed.bam"
   ]
  },
  {
   "cell_type": "code",
   "execution_count": null,
   "metadata": {},
   "outputs": [],
   "source": []
  }
 ],
 "metadata": {
  "kernelspec": {
   "display_name": "Python 3",
   "language": "python",
   "name": "python3"
  },
  "language_info": {
   "codemirror_mode": {
    "name": "ipython",
    "version": 3
   },
   "file_extension": ".py",
   "mimetype": "text/x-python",
   "name": "python",
   "nbconvert_exporter": "python",
   "pygments_lexer": "ipython3",
   "version": "3.5.2"
  }
 },
 "nbformat": 4,
 "nbformat_minor": 2
}
