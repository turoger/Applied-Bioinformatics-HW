{
 "cells": [
  {
   "cell_type": "markdown",
   "metadata": {},
   "source": [
    "# find\n",
    "\n",
    "Syntax to find all .txt files in a directory,\n",
    "\n",
    "```\n",
    "find ./<dir-name> -name \"*.txt\"\n",
    "```"
   ]
  },
  {
   "cell_type": "code",
   "execution_count": null,
   "metadata": {},
   "outputs": [],
   "source": [
    "%%bash\n",
    "find ./data -name \"*.txt\""
   ]
  },
  {
   "cell_type": "markdown",
   "metadata": {},
   "source": [
    "Syntax to execute a command on all the files that match a pattern.\n",
    "\n",
    "```\n",
    "find ./<dir-name> -name \"*.txt\" -exec bash -c 'wc -l $1' _ {} \\;\n",
    "```"
   ]
  },
  {
   "cell_type": "code",
   "execution_count": null,
   "metadata": {},
   "outputs": [],
   "source": [
    "%%bash\n",
    "find ./data  -name \"*.txt\" -exec bash -c 'wc -l $1' _ {} \\;"
   ]
  },
  {
   "cell_type": "markdown",
   "metadata": {},
   "source": [
    "# Git\n",
    "\n",
    "Git Commands,\n",
    "\n",
    "```\n",
    "cd test-repo/\n",
    "```"
   ]
  },
  {
   "cell_type": "markdown",
   "metadata": {},
   "source": [
    "```\n",
    "git init # Start a git repository\n",
    "```"
   ]
  },
  {
   "cell_type": "markdown",
   "metadata": {},
   "source": [
    "```\n",
    "git add . # Adds files into the git index\n",
    "```"
   ]
  },
  {
   "cell_type": "markdown",
   "metadata": {},
   "source": [
    "```\n",
    "git commit -m \"Message here\" # Takes a snapshot of the index\n",
    "```"
   ]
  },
  {
   "cell_type": "markdown",
   "metadata": {},
   "source": [
    "```\n",
    "git push <remote-url> master # Pushed commits to a remote repository\n",
    "```"
   ]
  },
  {
   "cell_type": "markdown",
   "metadata": {},
   "source": [
    "```\n",
    "git pull # Pulls from a remote repository\n",
    "```"
   ]
  },
  {
   "cell_type": "markdown",
   "metadata": {},
   "source": [
    "# String Replacement\n",
    "\n",
    "Command to replace pattern in string,\n",
    "\n",
    "```\n",
    "a=\"helloworld\"\n",
    "a=${a/world/hello}\n",
    "echo $a\n",
    "```"
   ]
  },
  {
   "cell_type": "markdown",
   "metadata": {},
   "source": [
    "# FASTQs\n",
    "\n",
    "Command to extract all read names from FASTQ files,\n",
    "\n",
    "```\n",
    "awk 'NR%4==1' data/tmp/simulated1.R1.fq\n",
    "```"
   ]
  },
  {
   "cell_type": "markdown",
   "metadata": {},
   "source": [
    "## Questions\n",
    "\n",
    "1. Count number of lines in each .txt files in ./data/tmp/ folder.\n",
    "\n"
   ]
  },
  {
   "cell_type": "markdown",
   "metadata": {},
   "source": [
    "2. Create a local `git` repository on your account. Add atleast two files and make a commit. "
   ]
  },
  {
   "cell_type": "markdown",
   "metadata": {},
   "source": [
    "3. Push these changes to a remote repository and add the url here."
   ]
  },
  {
   "cell_type": "markdown",
   "metadata": {},
   "source": [
    "4. Print all nucleotide sequences from data/tmp/simulate1.R1.fq"
   ]
  },
  {
   "cell_type": "markdown",
   "metadata": {},
   "source": [
    "## HW\n",
    "\n",
    "1. Count number of characters in the filename of each .txt file in ./data/tmp/ folder.\n"
   ]
  },
  {
   "cell_type": "code",
   "execution_count": null,
   "metadata": {},
   "outputs": [],
   "source": [
    "%%bash\n"
   ]
  },
  {
   "cell_type": "markdown",
   "metadata": {},
   "source": [
    "2. Print all nucleotide sequences from ./data/fastq/simulated1.R1.fq by replacing all 'T's in the nucleotide sequences with 'U's. Hint: ${variable//123/112} will replace all occurences of 123 with 112."
   ]
  },
  {
   "cell_type": "code",
   "execution_count": null,
   "metadata": {},
   "outputs": [],
   "source": []
  }
 ],
 "metadata": {
  "kernelspec": {
   "display_name": "Python 3",
   "language": "python",
   "name": "python3"
  },
  "language_info": {
   "codemirror_mode": {
    "name": "ipython",
    "version": 3
   },
   "file_extension": ".py",
   "mimetype": "text/x-python",
   "name": "python",
   "nbconvert_exporter": "python",
   "pygments_lexer": "ipython3",
   "version": "3.5.2"
  }
 },
 "nbformat": 4,
 "nbformat_minor": 2
}
