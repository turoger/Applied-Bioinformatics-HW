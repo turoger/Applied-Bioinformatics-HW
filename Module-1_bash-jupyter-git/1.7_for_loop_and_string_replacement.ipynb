{
 "cells": [
  {
   "cell_type": "markdown",
   "metadata": {},
   "source": [
    "## For\n",
    "\n",
    "```\n",
    "for i in {1..10}\n",
    "do\n",
    "echo $i\n",
    "done\n",
    "```\n"
   ]
  },
  {
   "cell_type": "code",
   "execution_count": 2,
   "metadata": {},
   "outputs": [
    {
     "name": "stdout",
     "output_type": "stream",
     "text": [
      "1\n",
      "2\n",
      "3\n",
      "4\n",
      "5\n",
      "6\n",
      "7\n",
      "8\n",
      "9\n",
      "10\n"
     ]
    }
   ],
   "source": [
    "%%bash\n",
    "for i in {1..10}\n",
    "do\n",
    "echo $i\n",
    "done"
   ]
  },
  {
   "cell_type": "markdown",
   "metadata": {},
   "source": [
    "## Loop through files using ls\n",
    "\n",
    "ls - lists all files and directories\n",
    "\n",
    "```\n",
    "for i in $(ls data/fastq/)\n",
    "do\n",
    "echo $i\n",
    "done\n",
    "```"
   ]
  },
  {
   "cell_type": "code",
   "execution_count": 1,
   "metadata": {},
   "outputs": [
    {
     "name": "stdout",
     "output_type": "stream",
     "text": [
      "simulated1.R1.fastq\n",
      "simulated1.R2.fastq\n",
      "simulated2.R1.fastq\n",
      "simulated2.R2.fastq\n",
      "simulated3.R1.fastq\n",
      "simulated3.R2.fastq\n",
      "simulated4.R1.fastq\n",
      "simulated4.R2.fastq\n",
      "simulated5.R1.fastq\n",
      "simulated5.R2.fastq\n"
     ]
    }
   ],
   "source": [
    "%%bash\n",
    "for i in $(ls data/fastq/)\n",
    "do\n",
    "echo $i\n",
    "done"
   ]
  },
  {
   "cell_type": "markdown",
   "metadata": {},
   "source": [
    "\n",
    "## String Replacement\n",
    "\n",
    "```\n",
    "a=\"helloworld\"\n",
    "echo $a\n",
    "echo ${a/world/foo}\n",
    "```"
   ]
  },
  {
   "cell_type": "code",
   "execution_count": 3,
   "metadata": {},
   "outputs": [
    {
     "name": "stdout",
     "output_type": "stream",
     "text": [
      "helloworld\n",
      "hellofoo\n"
     ]
    }
   ],
   "source": [
    "%%bash\n",
    "a=\"helloworld\"\n",
    "echo $a\n",
    "echo ${a/world/foo}"
   ]
  },
  {
   "cell_type": "markdown",
   "metadata": {},
   "source": [
    "## For loop to rename files\n",
    "\n",
    "```\n",
    "cd data/fastq\n",
    "for i in $(ls)\n",
    "do\n",
    "mv $i ${i/.fq/.fastq}\n",
    "done\n",
    "\n",
    "ls #See if files have been renamed\n",
    "```"
   ]
  },
  {
   "cell_type": "code",
   "execution_count": 10,
   "metadata": {},
   "outputs": [
    {
     "name": "stdout",
     "output_type": "stream",
     "text": [
      "simulated1.R1.fq\n",
      "simulated1.R2.fq\n",
      "simulated2.R1.fq\n",
      "simulated2.R2.fq\n",
      "simulated3.R1.fq\n",
      "simulated3.R2.fq\n",
      "simulated4.R1.fq\n",
      "simulated4.R2.fq\n",
      "simulated5.R1.fq\n",
      "simulated5.R2.fq\n",
      "simulated1.R1.fastq\n",
      "simulated1.R2.fastq\n",
      "simulated2.R1.fastq\n",
      "simulated2.R2.fastq\n",
      "simulated3.R1.fastq\n",
      "simulated3.R2.fastq\n",
      "simulated4.R1.fastq\n",
      "simulated4.R2.fastq\n",
      "simulated5.R1.fastq\n",
      "simulated5.R2.fastq\n"
     ]
    }
   ],
   "source": [
    "%%bash\n",
    "cd data/fastq\n",
    "ls\n",
    "for i in $(ls)\n",
    "do\n",
    "mv $i ${i/.fq/.fastq}\n",
    "done\n",
    "ls"
   ]
  },
  {
   "cell_type": "markdown",
   "metadata": {},
   "source": [
    "## Homework\n",
    "\n",
    "#### HW1: Print first 10 alphabets each in a new line\n",
    "\n"
   ]
  },
  {
   "cell_type": "code",
   "execution_count": 12,
   "metadata": {
    "scrolled": true
   },
   "outputs": [
    {
     "name": "stdout",
     "output_type": "stream",
     "text": [
      "a\n",
      "b\n",
      "c\n",
      "d\n",
      "e\n",
      "f\n",
      "g\n",
      "h\n",
      "i\n",
      "j\n"
     ]
    }
   ],
   "source": [
    "%%bash\n",
    "for i in {a..j}\n",
    "do\n",
    "echo $i\n",
    "done"
   ]
  },
  {
   "cell_type": "markdown",
   "metadata": {},
   "source": [
    "#### HW2: Print first 10 multiples of 42 \n",
    "Tip: Use this syntax `echo $((2*2))` to evaluate numerical expressions.\n",
    "\n",
    "\n",
    "\n"
   ]
  },
  {
   "cell_type": "code",
   "execution_count": 15,
   "metadata": {},
   "outputs": [
    {
     "name": "stdout",
     "output_type": "stream",
     "text": [
      "42\n",
      "84\n",
      "126\n",
      "168\n",
      "210\n",
      "252\n",
      "294\n",
      "336\n",
      "378\n",
      "420\n"
     ]
    }
   ],
   "source": [
    "%%bash\n",
    "for i in {1..10}\n",
    "do\n",
    "echo $((42*i))\n",
    "done"
   ]
  },
  {
   "cell_type": "markdown",
   "metadata": {},
   "source": [
    "#### HW3: Find the error in the program below. It is supposed to print the first 10 alphabets\n",
    "\n",
    "```\n",
    "for i in {a.,j}\n",
    "do\n",
    "echo $i\n",
    "done\n",
    "```\n",
    "\n"
   ]
  },
  {
   "cell_type": "code",
   "execution_count": 16,
   "metadata": {},
   "outputs": [
    {
     "name": "stdout",
     "output_type": "stream",
     "text": [
      "a\n",
      "b\n",
      "c\n",
      "d\n",
      "e\n",
      "f\n",
      "g\n",
      "h\n",
      "i\n",
      "j\n"
     ]
    }
   ],
   "source": [
    "%%bash\n",
    "for i in {a..j}\n",
    "do\n",
    "echo $i\n",
    "done"
   ]
  },
  {
   "cell_type": "markdown",
   "metadata": {},
   "source": [
    "#### HW4(Bonus): Print only odd numbers till 10"
   ]
  },
  {
   "cell_type": "code",
   "execution_count": 32,
   "metadata": {},
   "outputs": [
    {
     "name": "stdout",
     "output_type": "stream",
     "text": [
      "1\n",
      "3\n",
      "5\n",
      "7\n",
      "9\n"
     ]
    }
   ],
   "source": [
    "%%bash\n",
    "for i in {1..10}\n",
    "do\n",
    "    if (($i % 2 == 1)); then\n",
    "        echo $i\n",
    "    fi\n",
    "done"
   ]
  }
 ],
 "metadata": {
  "kernelspec": {
   "display_name": "Python 3",
   "language": "python",
   "name": "python3"
  },
  "language_info": {
   "codemirror_mode": {
    "name": "ipython",
    "version": 3
   },
   "file_extension": ".py",
   "mimetype": "text/x-python",
   "name": "python",
   "nbconvert_exporter": "python",
   "pygments_lexer": "ipython3",
   "version": "3.5.2"
  }
 },
 "nbformat": 4,
 "nbformat_minor": 2
}
