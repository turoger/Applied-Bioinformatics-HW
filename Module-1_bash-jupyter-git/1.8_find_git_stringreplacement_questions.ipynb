{
 "cells": [
  {
   "cell_type": "markdown",
   "metadata": {},
   "source": [
    "# find\n",
    "\n",
    "Syntax to find all .txt files in a directory,\n",
    "\n",
    "```\n",
    "find ./<dir-name> -name \"*.txt\"\n",
    "```"
   ]
  },
  {
   "cell_type": "code",
   "execution_count": null,
   "metadata": {},
   "outputs": [],
   "source": [
    "%%bash\n",
    "find ./data -name \"*.txt\""
   ]
  },
  {
   "cell_type": "markdown",
   "metadata": {},
   "source": [
    "Syntax to execute a command on all the files that match a pattern.\n",
    "\n",
    "```\n",
    "find ./<dir-name> -name \"*.txt\" -exec bash -c 'wc -l $1' _ {} \\;\n",
    "```"
   ]
  },
  {
   "cell_type": "code",
   "execution_count": null,
   "metadata": {},
   "outputs": [],
   "source": [
    "%%bash\n",
    "find ./data  -name \"*.txt\" -exec bash -c 'wc -l $1' _ {} \\;"
   ]
  },
  {
   "cell_type": "markdown",
   "metadata": {},
   "source": [
    "# Git\n",
    "\n",
    "Git Commands,\n",
    "\n",
    "```\n",
    "cd test-repo/\n",
    "```"
   ]
  },
  {
   "cell_type": "markdown",
   "metadata": {},
   "source": [
    "```\n",
    "git init # Start a git repository\n",
    "```"
   ]
  },
  {
   "cell_type": "markdown",
   "metadata": {},
   "source": [
    "```\n",
    "git add . # Adds files into the git index\n",
    "```"
   ]
  },
  {
   "cell_type": "markdown",
   "metadata": {},
   "source": [
    "```\n",
    "git commit -m \"Message here\" # Takes a snapshot of the index\n",
    "```"
   ]
  },
  {
   "cell_type": "markdown",
   "metadata": {},
   "source": [
    "```\n",
    "git push <remote-url> master # Pushed commits to a remote repository\n",
    "```"
   ]
  },
  {
   "cell_type": "markdown",
   "metadata": {},
   "source": [
    "```\n",
    "git pull # Pulls from a remote repository\n",
    "```"
   ]
  },
  {
   "cell_type": "markdown",
   "metadata": {},
   "source": [
    "# String Replacement\n",
    "\n",
    "Command to replace pattern in string,\n",
    "\n",
    "```\n",
    "a=\"helloworld\"\n",
    "a=${a/world/hello}\n",
    "echo $a\n",
    "```"
   ]
  },
  {
   "cell_type": "markdown",
   "metadata": {},
   "source": [
    "# FASTQs\n",
    "\n",
    "Command to extract all read names from FASTQ files,\n",
    "\n",
    "```\n",
    "awk 'NR%4==1' data/tmp/simulated1.R1.fq\n",
    "```"
   ]
  },
  {
   "cell_type": "markdown",
   "metadata": {},
   "source": [
    "## Questions\n",
    "\n",
    "1. Count number of lines in each .txt files in ./data/tmp/ folder.\n",
    "\n"
   ]
  },
  {
   "cell_type": "code",
   "execution_count": 12,
   "metadata": {},
   "outputs": [
    {
     "name": "stdout",
     "output_type": "stream",
     "text": [
      "0 ./data/tmp/file1.txt\n",
      "0 ./data/tmp/file10.txt\n",
      "0 ./data/tmp/file100.txt\n",
      "0 ./data/tmp/file101.txt\n",
      "0 ./data/tmp/file102.txt\n",
      "0 ./data/tmp/file103.txt\n",
      "0 ./data/tmp/file104.txt\n",
      "0 ./data/tmp/file105.txt\n",
      "0 ./data/tmp/file106.txt\n",
      "0 ./data/tmp/file107.txt\n",
      "0 ./data/tmp/file108.txt\n",
      "0 ./data/tmp/file109.txt\n",
      "0 ./data/tmp/file11.txt\n",
      "0 ./data/tmp/file110.txt\n",
      "0 ./data/tmp/file111.txt\n",
      "0 ./data/tmp/file114.txt\n",
      "0 ./data/tmp/file115.txt\n",
      "0 ./data/tmp/file116.txt\n",
      "0 ./data/tmp/file117.txt\n",
      "0 ./data/tmp/file118.txt\n",
      "0 ./data/tmp/file119.txt\n",
      "0 ./data/tmp/file12.txt\n",
      "0 ./data/tmp/file120.txt\n",
      "0 ./data/tmp/file121.txt\n",
      "0 ./data/tmp/file122.txt\n",
      "0 ./data/tmp/file123.txt\n",
      "0 ./data/tmp/file124.txt\n",
      "0 ./data/tmp/file125.txt\n",
      "0 ./data/tmp/file126.txt\n",
      "0 ./data/tmp/file127.txt\n",
      "0 ./data/tmp/file128.txt\n",
      "0 ./data/tmp/file129.txt\n",
      "0 ./data/tmp/file13.txt\n",
      "0 ./data/tmp/file130.txt\n",
      "0 ./data/tmp/file131.txt\n",
      "0 ./data/tmp/file132.txt\n",
      "0 ./data/tmp/file133.txt\n",
      "0 ./data/tmp/file134.txt\n",
      "0 ./data/tmp/file135.txt\n",
      "0 ./data/tmp/file136.txt\n",
      "0 ./data/tmp/file138.txt\n",
      "0 ./data/tmp/file139.txt\n",
      "0 ./data/tmp/file14.txt\n",
      "0 ./data/tmp/file140.txt\n",
      "0 ./data/tmp/file141.txt\n",
      "0 ./data/tmp/file142.txt\n",
      "0 ./data/tmp/file143.txt\n",
      "0 ./data/tmp/file144.txt\n",
      "0 ./data/tmp/file145.txt\n",
      "0 ./data/tmp/file146.txt\n",
      "0 ./data/tmp/file147.txt\n",
      "0 ./data/tmp/file148.txt\n",
      "0 ./data/tmp/file149.txt\n",
      "0 ./data/tmp/file15.txt\n",
      "0 ./data/tmp/file150.txt\n",
      "0 ./data/tmp/file151.txt\n",
      "0 ./data/tmp/file152.txt\n",
      "0 ./data/tmp/file153.txt\n",
      "0 ./data/tmp/file154.txt\n",
      "0 ./data/tmp/file155.txt\n",
      "0 ./data/tmp/file156.txt\n",
      "0 ./data/tmp/file157.txt\n",
      "0 ./data/tmp/file158.txt\n",
      "0 ./data/tmp/file159.txt\n",
      "0 ./data/tmp/file16.txt\n",
      "0 ./data/tmp/file160.txt\n",
      "0 ./data/tmp/file161.txt\n",
      "0 ./data/tmp/file162.txt\n",
      "0 ./data/tmp/file163.txt\n",
      "0 ./data/tmp/file164.txt\n",
      "0 ./data/tmp/file165.txt\n",
      "0 ./data/tmp/file166.txt\n",
      "0 ./data/tmp/file167.txt\n",
      "0 ./data/tmp/file168.txt\n",
      "0 ./data/tmp/file169.txt\n",
      "0 ./data/tmp/file17.txt\n",
      "0 ./data/tmp/file170.txt\n",
      "0 ./data/tmp/file171.txt\n",
      "0 ./data/tmp/file172.txt\n",
      "0 ./data/tmp/file173.txt\n",
      "0 ./data/tmp/file174.txt\n",
      "0 ./data/tmp/file175.txt\n",
      "0 ./data/tmp/file176.txt\n",
      "0 ./data/tmp/file177.txt\n",
      "0 ./data/tmp/file178.txt\n",
      "0 ./data/tmp/file179.txt\n",
      "0 ./data/tmp/file18.txt\n",
      "0 ./data/tmp/file180.txt\n",
      "0 ./data/tmp/file181.txt\n",
      "0 ./data/tmp/file182.txt\n",
      "0 ./data/tmp/file183.txt\n",
      "0 ./data/tmp/file184.txt\n",
      "0 ./data/tmp/file185.txt\n",
      "0 ./data/tmp/file186.txt\n",
      "0 ./data/tmp/file187.txt\n",
      "0 ./data/tmp/file188.txt\n",
      "0 ./data/tmp/file189.txt\n",
      "0 ./data/tmp/file19.txt\n",
      "0 ./data/tmp/file190.txt\n",
      "0 ./data/tmp/file191.txt\n",
      "0 ./data/tmp/file192.txt\n",
      "0 ./data/tmp/file193.txt\n",
      "0 ./data/tmp/file194.txt\n",
      "0 ./data/tmp/file195.txt\n",
      "0 ./data/tmp/file196.txt\n",
      "0 ./data/tmp/file197.txt\n",
      "0 ./data/tmp/file198.txt\n",
      "0 ./data/tmp/file199.txt\n",
      "0 ./data/tmp/file2.txt\n",
      "0 ./data/tmp/file200.txt\n",
      "0 ./data/tmp/file21.txt\n",
      "0 ./data/tmp/file22.txt\n",
      "0 ./data/tmp/file23.txt\n",
      "0 ./data/tmp/file24.txt\n",
      "0 ./data/tmp/file25.txt\n",
      "0 ./data/tmp/file26.txt\n",
      "0 ./data/tmp/file27.txt\n",
      "0 ./data/tmp/file28.txt\n",
      "0 ./data/tmp/file29.txt\n",
      "0 ./data/tmp/file3.txt\n",
      "0 ./data/tmp/file30.txt\n",
      "0 ./data/tmp/file31.txt\n",
      "0 ./data/tmp/file32.txt\n",
      "0 ./data/tmp/file33.txt\n",
      "0 ./data/tmp/file34.txt\n",
      "0 ./data/tmp/file35.txt\n",
      "0 ./data/tmp/file36.txt\n",
      "0 ./data/tmp/file38.txt\n",
      "0 ./data/tmp/file39.txt\n",
      "0 ./data/tmp/file4.txt\n",
      "0 ./data/tmp/file40.txt\n",
      "0 ./data/tmp/file41.txt\n",
      "0 ./data/tmp/file42.txt\n",
      "0 ./data/tmp/file44.txt\n",
      "0 ./data/tmp/file45.txt\n",
      "0 ./data/tmp/file46.txt\n",
      "0 ./data/tmp/file47.txt\n",
      "0 ./data/tmp/file48.txt\n",
      "0 ./data/tmp/file49.txt\n",
      "0 ./data/tmp/file5.txt\n",
      "0 ./data/tmp/file50.txt\n",
      "0 ./data/tmp/file51.txt\n",
      "0 ./data/tmp/file52.txt\n",
      "0 ./data/tmp/file53.txt\n",
      "0 ./data/tmp/file54.txt\n",
      "0 ./data/tmp/file55.txt\n",
      "0 ./data/tmp/file56.txt\n",
      "0 ./data/tmp/file57.txt\n",
      "0 ./data/tmp/file58.txt\n",
      "0 ./data/tmp/file59.txt\n",
      "0 ./data/tmp/file6.txt\n",
      "0 ./data/tmp/file60.txt\n",
      "0 ./data/tmp/file61.txt\n",
      "0 ./data/tmp/file62.txt\n",
      "0 ./data/tmp/file64.txt\n",
      "0 ./data/tmp/file65.txt\n",
      "0 ./data/tmp/file66.txt\n",
      "0 ./data/tmp/file67.txt\n",
      "0 ./data/tmp/file68.txt\n",
      "0 ./data/tmp/file69.txt\n",
      "0 ./data/tmp/file7.txt\n",
      "0 ./data/tmp/file70.txt\n",
      "0 ./data/tmp/file71.txt\n",
      "0 ./data/tmp/file72.txt\n",
      "0 ./data/tmp/file73.txt\n",
      "0 ./data/tmp/file74.txt\n",
      "0 ./data/tmp/file75.txt\n",
      "0 ./data/tmp/file76.txt\n",
      "0 ./data/tmp/file77.txt\n",
      "0 ./data/tmp/file78.txt\n",
      "0 ./data/tmp/file79.txt\n",
      "0 ./data/tmp/file8.txt\n",
      "0 ./data/tmp/file80.txt\n",
      "0 ./data/tmp/file81.txt\n",
      "0 ./data/tmp/file82.txt\n",
      "0 ./data/tmp/file84.txt\n",
      "0 ./data/tmp/file85.txt\n",
      "0 ./data/tmp/file86.txt\n",
      "0 ./data/tmp/file87.txt\n",
      "0 ./data/tmp/file88.txt\n",
      "0 ./data/tmp/file89.txt\n",
      "0 ./data/tmp/file9.txt\n",
      "0 ./data/tmp/file90.txt\n",
      "0 ./data/tmp/file91.txt\n",
      "0 ./data/tmp/file92.txt\n",
      "0 ./data/tmp/file93.txt\n",
      "0 ./data/tmp/file94.txt\n",
      "0 ./data/tmp/file96.txt\n",
      "0 ./data/tmp/file97.txt\n",
      "0 ./data/tmp/file98.txt\n",
      "0 ./data/tmp/file99.txt\n"
     ]
    }
   ],
   "source": [
    "%%bash\n",
    "find ./data/tmp/ -name \"*.txt\" -exec bash -c 'wc -l $1' _ {} \\;"
   ]
  },
  {
   "cell_type": "markdown",
   "metadata": {},
   "source": [
    "2. Create a local `git` repository on your account. Add atleast two files and make a commit. "
   ]
  },
  {
   "cell_type": "markdown",
   "metadata": {},
   "source": [
    "3. Push these changes to a remote repository and add the url here."
   ]
  },
  {
   "cell_type": "markdown",
   "metadata": {},
   "source": [
    "4. Print all nucleotide sequences from data/tmp/simulate1.R1.fq"
   ]
  },
  {
   "cell_type": "markdown",
   "metadata": {},
   "source": [
    "## HW\n",
    "\n",
    "1. Count number of characters in the filename of each .txt file in ./data/tmp/ folder.\n"
   ]
  },
  {
   "cell_type": "code",
   "execution_count": null,
   "metadata": {},
   "outputs": [],
   "source": [
    "%%bash\n"
   ]
  },
  {
   "cell_type": "markdown",
   "metadata": {},
   "source": [
    "2. Print all nucleotide sequences from ./data/fastq/simulated1.R1.fq by replacing all 'T's in the nucleotide sequences with 'U's. Hint: ${variable//123/112} will replace all occurences of 123 with 112."
   ]
  },
  {
   "cell_type": "code",
   "execution_count": null,
   "metadata": {},
   "outputs": [],
   "source": []
  }
 ],
 "metadata": {
  "kernelspec": {
   "display_name": "Python 3",
   "language": "python",
   "name": "python3"
  },
  "language_info": {
   "codemirror_mode": {
    "name": "ipython",
    "version": 3
   },
   "file_extension": ".py",
   "mimetype": "text/x-python",
   "name": "python",
   "nbconvert_exporter": "python",
   "pygments_lexer": "ipython3",
   "version": "3.5.2"
  }
 },
 "nbformat": 4,
 "nbformat_minor": 2
}
