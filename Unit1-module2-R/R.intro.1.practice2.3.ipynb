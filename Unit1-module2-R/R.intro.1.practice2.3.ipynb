{
 "cells": [
  {
   "cell_type": "markdown",
   "metadata": {},
   "source": [
    "# R intro 1 - Practice 2.3"
   ]
  },
  {
   "attachments": {},
   "cell_type": "markdown",
   "metadata": {},
   "source": [
    "### 1. Import NAV-D14_DEseq2.csv to a dataframe, sort according to padj"
   ]
  },
  {
   "cell_type": "code",
   "execution_count": 1,
   "metadata": {},
   "outputs": [
    {
     "data": {
      "text/html": [
       "<table>\n",
       "<thead><tr><th scope=col>gene.name</th><th scope=col>baseMean</th><th scope=col>log2FoldChange</th><th scope=col>lfcSE</th><th scope=col>stat</th><th scope=col>pvalue</th><th scope=col>padj</th></tr></thead>\n",
       "<tbody>\n",
       "\t<tr><td>TSPAN6      </td><td> 25.256745  </td><td> 1.30246882 </td><td>0.4166710   </td><td> 3.1258926  </td><td>1.772662e-03</td><td>8.209295e-03</td></tr>\n",
       "\t<tr><td>TNMD        </td><td>  0.288508  </td><td>-0.05077872 </td><td>0.4875003   </td><td>-0.1041614  </td><td>9.170413e-01</td><td>          NA</td></tr>\n",
       "\t<tr><td>DPM1        </td><td>163.507773  </td><td>-0.05502833 </td><td>0.2492486   </td><td>-0.2207769  </td><td>8.252662e-01</td><td>9.144493e-01</td></tr>\n",
       "\t<tr><td>SCYL3       </td><td>296.461713  </td><td> 0.27370099 </td><td>0.1964251   </td><td> 1.3934117  </td><td>1.634953e-01</td><td>3.312390e-01</td></tr>\n",
       "\t<tr><td>C1orf112    </td><td>199.011986  </td><td>-1.62012005 </td><td>0.2833121   </td><td>-5.7184998  </td><td>1.070000e-08</td><td>1.590000e-07</td></tr>\n",
       "\t<tr><td>FGR         </td><td>122.792530  </td><td>-5.60936805 </td><td>0.6378324   </td><td>-8.7944226  </td><td>1.440000e-18</td><td>7.150000e-17</td></tr>\n",
       "</tbody>\n",
       "</table>\n"
      ],
      "text/latex": [
       "\\begin{tabular}{r|lllllll}\n",
       " gene.name & baseMean & log2FoldChange & lfcSE & stat & pvalue & padj\\\\\n",
       "\\hline\n",
       "\t TSPAN6       &  25.256745   &  1.30246882  & 0.4166710    &  3.1258926   & 1.772662e-03 & 8.209295e-03\\\\\n",
       "\t TNMD         &   0.288508   & -0.05077872  & 0.4875003    & -0.1041614   & 9.170413e-01 &           NA\\\\\n",
       "\t DPM1         & 163.507773   & -0.05502833  & 0.2492486    & -0.2207769   & 8.252662e-01 & 9.144493e-01\\\\\n",
       "\t SCYL3        & 296.461713   &  0.27370099  & 0.1964251    &  1.3934117   & 1.634953e-01 & 3.312390e-01\\\\\n",
       "\t C1orf112     & 199.011986   & -1.62012005  & 0.2833121    & -5.7184998   & 1.070000e-08 & 1.590000e-07\\\\\n",
       "\t FGR          & 122.792530   & -5.60936805  & 0.6378324    & -8.7944226   & 1.440000e-18 & 7.150000e-17\\\\\n",
       "\\end{tabular}\n"
      ],
      "text/markdown": [
       "\n",
       "gene.name | baseMean | log2FoldChange | lfcSE | stat | pvalue | padj | \n",
       "|---|---|---|---|---|---|\n",
       "| TSPAN6       |  25.256745   |  1.30246882  | 0.4166710    |  3.1258926   | 1.772662e-03 | 8.209295e-03 | \n",
       "| TNMD         |   0.288508   | -0.05077872  | 0.4875003    | -0.1041614   | 9.170413e-01 |           NA | \n",
       "| DPM1         | 163.507773   | -0.05502833  | 0.2492486    | -0.2207769   | 8.252662e-01 | 9.144493e-01 | \n",
       "| SCYL3        | 296.461713   |  0.27370099  | 0.1964251    |  1.3934117   | 1.634953e-01 | 3.312390e-01 | \n",
       "| C1orf112     | 199.011986   | -1.62012005  | 0.2833121    | -5.7184998   | 1.070000e-08 | 1.590000e-07 | \n",
       "| FGR          | 122.792530   | -5.60936805  | 0.6378324    | -8.7944226   | 1.440000e-18 | 7.150000e-17 | \n",
       "\n",
       "\n"
      ],
      "text/plain": [
       "  gene.name baseMean   log2FoldChange lfcSE     stat       pvalue      \n",
       "1 TSPAN6     25.256745  1.30246882    0.4166710  3.1258926 1.772662e-03\n",
       "2 TNMD        0.288508 -0.05077872    0.4875003 -0.1041614 9.170413e-01\n",
       "3 DPM1      163.507773 -0.05502833    0.2492486 -0.2207769 8.252662e-01\n",
       "4 SCYL3     296.461713  0.27370099    0.1964251  1.3934117 1.634953e-01\n",
       "5 C1orf112  199.011986 -1.62012005    0.2833121 -5.7184998 1.070000e-08\n",
       "6 FGR       122.792530 -5.60936805    0.6378324 -8.7944226 1.440000e-18\n",
       "  padj        \n",
       "1 8.209295e-03\n",
       "2           NA\n",
       "3 9.144493e-01\n",
       "4 3.312390e-01\n",
       "5 1.590000e-07\n",
       "6 7.150000e-17"
      ]
     },
     "metadata": {},
     "output_type": "display_data"
    }
   ],
   "source": [
    "setwd(\"/Users/yolandatiao/Documents/0_Bioinformatics2017/2018_Bioinformatics/Applied-Bioinformatics-Course/Unit1-module2-R\")\n",
    "nav.d14 <- read.csv(\"NAV-D14_DEseq2.csv\")\n",
    "head(nav.d14)"
   ]
  },
  {
   "cell_type": "code",
   "execution_count": 2,
   "metadata": {},
   "outputs": [
    {
     "data": {
      "text/html": [
       "<table>\n",
       "<thead><tr><th></th><th scope=col>gene.name</th><th scope=col>baseMean</th><th scope=col>log2FoldChange</th><th scope=col>lfcSE</th><th scope=col>stat</th><th scope=col>pvalue</th><th scope=col>padj</th></tr></thead>\n",
       "<tbody>\n",
       "\t<tr><th scope=row>469</th><td>TNFRSF1B  </td><td> 542.82545</td><td>-3.406411 </td><td>0.2267235 </td><td>-15.02452 </td><td>5.07e-51  </td><td>3.25e-48  </td></tr>\n",
       "\t<tr><th scope=row>394</th><td>CD74      </td><td>2666.66747</td><td>-3.133593 </td><td>0.2146900 </td><td>-14.59590 </td><td>2.98e-48  </td><td>1.54e-45  </td></tr>\n",
       "\t<tr><th scope=row>460</th><td>SLAMF7    </td><td> 796.08484</td><td>-5.924170 </td><td>0.4107372 </td><td>-14.42326 </td><td>3.69e-47  </td><td>1.85e-44  </td></tr>\n",
       "\t<tr><th scope=row>298</th><td>ANLN      </td><td>  86.61972</td><td>-4.292672 </td><td>0.3590313 </td><td>-11.95626 </td><td>6.02e-33  </td><td>1.02e-30  </td></tr>\n",
       "\t<tr><th scope=row>197</th><td>E2F2      </td><td>  56.39916</td><td>-5.011194 </td><td>0.4223203 </td><td>-11.86586 </td><td>1.78e-32  </td><td>2.95e-30  </td></tr>\n",
       "\t<tr><th scope=row>76</th><td>SLC25A5   </td><td> 839.58682</td><td>-1.630522 </td><td>0.1549378 </td><td>-10.52372 </td><td>6.72e-26  </td><td>6.58e-24  </td></tr>\n",
       "</tbody>\n",
       "</table>\n"
      ],
      "text/latex": [
       "\\begin{tabular}{r|lllllll}\n",
       "  & gene.name & baseMean & log2FoldChange & lfcSE & stat & pvalue & padj\\\\\n",
       "\\hline\n",
       "\t469 & TNFRSF1B   &  542.82545 & -3.406411  & 0.2267235  & -15.02452  & 5.07e-51   & 3.25e-48  \\\\\n",
       "\t394 & CD74       & 2666.66747 & -3.133593  & 0.2146900  & -14.59590  & 2.98e-48   & 1.54e-45  \\\\\n",
       "\t460 & SLAMF7     &  796.08484 & -5.924170  & 0.4107372  & -14.42326  & 3.69e-47   & 1.85e-44  \\\\\n",
       "\t298 & ANLN       &   86.61972 & -4.292672  & 0.3590313  & -11.95626  & 6.02e-33   & 1.02e-30  \\\\\n",
       "\t197 & E2F2       &   56.39916 & -5.011194  & 0.4223203  & -11.86586  & 1.78e-32   & 2.95e-30  \\\\\n",
       "\t76 & SLC25A5    &  839.58682 & -1.630522  & 0.1549378  & -10.52372  & 6.72e-26   & 6.58e-24  \\\\\n",
       "\\end{tabular}\n"
      ],
      "text/markdown": [
       "\n",
       "| <!--/--> | gene.name | baseMean | log2FoldChange | lfcSE | stat | pvalue | padj | \n",
       "|---|---|---|---|---|---|\n",
       "| 469 | TNFRSF1B   |  542.82545 | -3.406411  | 0.2267235  | -15.02452  | 5.07e-51   | 3.25e-48   | \n",
       "| 394 | CD74       | 2666.66747 | -3.133593  | 0.2146900  | -14.59590  | 2.98e-48   | 1.54e-45   | \n",
       "| 460 | SLAMF7     |  796.08484 | -5.924170  | 0.4107372  | -14.42326  | 3.69e-47   | 1.85e-44   | \n",
       "| 298 | ANLN       |   86.61972 | -4.292672  | 0.3590313  | -11.95626  | 6.02e-33   | 1.02e-30   | \n",
       "| 197 | E2F2       |   56.39916 | -5.011194  | 0.4223203  | -11.86586  | 1.78e-32   | 2.95e-30   | \n",
       "| 76 | SLC25A5    |  839.58682 | -1.630522  | 0.1549378  | -10.52372  | 6.72e-26   | 6.58e-24   | \n",
       "\n",
       "\n"
      ],
      "text/plain": [
       "    gene.name baseMean   log2FoldChange lfcSE     stat      pvalue   padj    \n",
       "469 TNFRSF1B   542.82545 -3.406411      0.2267235 -15.02452 5.07e-51 3.25e-48\n",
       "394 CD74      2666.66747 -3.133593      0.2146900 -14.59590 2.98e-48 1.54e-45\n",
       "460 SLAMF7     796.08484 -5.924170      0.4107372 -14.42326 3.69e-47 1.85e-44\n",
       "298 ANLN        86.61972 -4.292672      0.3590313 -11.95626 6.02e-33 1.02e-30\n",
       "197 E2F2        56.39916 -5.011194      0.4223203 -11.86586 1.78e-32 2.95e-30\n",
       "76  SLC25A5    839.58682 -1.630522      0.1549378 -10.52372 6.72e-26 6.58e-24"
      ]
     },
     "metadata": {},
     "output_type": "display_data"
    }
   ],
   "source": [
    "nav.d14 <- nav.d14[order(nav.d14$padj),]\n",
    "head(nav.d14)"
   ]
  },
  {
   "attachments": {},
   "cell_type": "markdown",
   "metadata": {},
   "source": [
    "### 2. Check the first 7 rows and last 8 rows of dataframe. Check the dimensions of the dataframe."
   ]
  },
  {
   "cell_type": "code",
   "execution_count": 3,
   "metadata": {},
   "outputs": [
    {
     "data": {
      "text/html": [
       "<table>\n",
       "<thead><tr><th></th><th scope=col>gene.name</th><th scope=col>baseMean</th><th scope=col>log2FoldChange</th><th scope=col>lfcSE</th><th scope=col>stat</th><th scope=col>pvalue</th><th scope=col>padj</th></tr></thead>\n",
       "<tbody>\n",
       "\t<tr><th scope=row>469</th><td>TNFRSF1B  </td><td> 542.82545</td><td>-3.406411 </td><td>0.2267235 </td><td>-15.02452 </td><td>5.07e-51  </td><td>3.25e-48  </td></tr>\n",
       "\t<tr><th scope=row>394</th><td>CD74      </td><td>2666.66747</td><td>-3.133593 </td><td>0.2146900 </td><td>-14.59590 </td><td>2.98e-48  </td><td>1.54e-45  </td></tr>\n",
       "\t<tr><th scope=row>460</th><td>SLAMF7    </td><td> 796.08484</td><td>-5.924170 </td><td>0.4107372 </td><td>-14.42326 </td><td>3.69e-47  </td><td>1.85e-44  </td></tr>\n",
       "\t<tr><th scope=row>298</th><td>ANLN      </td><td>  86.61972</td><td>-4.292672 </td><td>0.3590313 </td><td>-11.95626 </td><td>6.02e-33  </td><td>1.02e-30  </td></tr>\n",
       "\t<tr><th scope=row>197</th><td>E2F2      </td><td>  56.39916</td><td>-5.011194 </td><td>0.4223203 </td><td>-11.86586 </td><td>1.78e-32  </td><td>2.95e-30  </td></tr>\n",
       "\t<tr><th scope=row>76</th><td>SLC25A5   </td><td> 839.58682</td><td>-1.630522 </td><td>0.1549378 </td><td>-10.52372 </td><td>6.72e-26  </td><td>6.58e-24  </td></tr>\n",
       "\t<tr><th scope=row>482</th><td>HMGB3     </td><td>  84.36925</td><td>-4.387288 </td><td>0.4200637 </td><td>-10.44434 </td><td>1.56e-25  </td><td>1.45e-23  </td></tr>\n",
       "</tbody>\n",
       "</table>\n"
      ],
      "text/latex": [
       "\\begin{tabular}{r|lllllll}\n",
       "  & gene.name & baseMean & log2FoldChange & lfcSE & stat & pvalue & padj\\\\\n",
       "\\hline\n",
       "\t469 & TNFRSF1B   &  542.82545 & -3.406411  & 0.2267235  & -15.02452  & 5.07e-51   & 3.25e-48  \\\\\n",
       "\t394 & CD74       & 2666.66747 & -3.133593  & 0.2146900  & -14.59590  & 2.98e-48   & 1.54e-45  \\\\\n",
       "\t460 & SLAMF7     &  796.08484 & -5.924170  & 0.4107372  & -14.42326  & 3.69e-47   & 1.85e-44  \\\\\n",
       "\t298 & ANLN       &   86.61972 & -4.292672  & 0.3590313  & -11.95626  & 6.02e-33   & 1.02e-30  \\\\\n",
       "\t197 & E2F2       &   56.39916 & -5.011194  & 0.4223203  & -11.86586  & 1.78e-32   & 2.95e-30  \\\\\n",
       "\t76 & SLC25A5    &  839.58682 & -1.630522  & 0.1549378  & -10.52372  & 6.72e-26   & 6.58e-24  \\\\\n",
       "\t482 & HMGB3      &   84.36925 & -4.387288  & 0.4200637  & -10.44434  & 1.56e-25   & 1.45e-23  \\\\\n",
       "\\end{tabular}\n"
      ],
      "text/markdown": [
       "\n",
       "| <!--/--> | gene.name | baseMean | log2FoldChange | lfcSE | stat | pvalue | padj | \n",
       "|---|---|---|---|---|---|---|\n",
       "| 469 | TNFRSF1B   |  542.82545 | -3.406411  | 0.2267235  | -15.02452  | 5.07e-51   | 3.25e-48   | \n",
       "| 394 | CD74       | 2666.66747 | -3.133593  | 0.2146900  | -14.59590  | 2.98e-48   | 1.54e-45   | \n",
       "| 460 | SLAMF7     |  796.08484 | -5.924170  | 0.4107372  | -14.42326  | 3.69e-47   | 1.85e-44   | \n",
       "| 298 | ANLN       |   86.61972 | -4.292672  | 0.3590313  | -11.95626  | 6.02e-33   | 1.02e-30   | \n",
       "| 197 | E2F2       |   56.39916 | -5.011194  | 0.4223203  | -11.86586  | 1.78e-32   | 2.95e-30   | \n",
       "| 76 | SLC25A5    |  839.58682 | -1.630522  | 0.1549378  | -10.52372  | 6.72e-26   | 6.58e-24   | \n",
       "| 482 | HMGB3      |   84.36925 | -4.387288  | 0.4200637  | -10.44434  | 1.56e-25   | 1.45e-23   | \n",
       "\n",
       "\n"
      ],
      "text/plain": [
       "    gene.name baseMean   log2FoldChange lfcSE     stat      pvalue   padj    \n",
       "469 TNFRSF1B   542.82545 -3.406411      0.2267235 -15.02452 5.07e-51 3.25e-48\n",
       "394 CD74      2666.66747 -3.133593      0.2146900 -14.59590 2.98e-48 1.54e-45\n",
       "460 SLAMF7     796.08484 -5.924170      0.4107372 -14.42326 3.69e-47 1.85e-44\n",
       "298 ANLN        86.61972 -4.292672      0.3590313 -11.95626 6.02e-33 1.02e-30\n",
       "197 E2F2        56.39916 -5.011194      0.4223203 -11.86586 1.78e-32 2.95e-30\n",
       "76  SLC25A5    839.58682 -1.630522      0.1549378 -10.52372 6.72e-26 6.58e-24\n",
       "482 HMGB3       84.36925 -4.387288      0.4200637 -10.44434 1.56e-25 1.45e-23"
      ]
     },
     "metadata": {},
     "output_type": "display_data"
    },
    {
     "data": {
      "text/html": [
       "<table>\n",
       "<thead><tr><th></th><th scope=col>gene.name</th><th scope=col>baseMean</th><th scope=col>log2FoldChange</th><th scope=col>lfcSE</th><th scope=col>stat</th><th scope=col>pvalue</th><th scope=col>padj</th></tr></thead>\n",
       "<tbody>\n",
       "\t<tr><th scope=row>370</th><td>CLCA1      </td><td>0.7493588  </td><td> 0.23091544</td><td>0.6475585  </td><td> 0.3565939 </td><td>0.7213958  </td><td>NA         </td></tr>\n",
       "\t<tr><th scope=row>371</th><td>CLCA4      </td><td>1.6817338  </td><td> 0.39653581</td><td>0.7113675  </td><td> 0.5574275 </td><td>0.5772354  </td><td>NA         </td></tr>\n",
       "\t<tr><th scope=row>382</th><td>ZNF806     </td><td>0.1578702  </td><td>-0.11999276</td><td>0.4857462  </td><td>-0.2470277 </td><td>0.8048868  </td><td>NA         </td></tr>\n",
       "\t<tr><th scope=row>389</th><td>MARCO      </td><td>0.5402799  </td><td> 0.12559922</td><td>0.5751475  </td><td> 0.2183774 </td><td>0.8271351  </td><td>NA         </td></tr>\n",
       "\t<tr><th scope=row>393</th><td>SNAI2      </td><td>1.3670266  </td><td>-0.30391273</td><td>0.6481433  </td><td>-0.4688974 </td><td>0.6391430  </td><td>NA         </td></tr>\n",
       "\t<tr><th scope=row>399</th><td>CCT8L1P    </td><td>0.1434554  </td><td> 0.06952303</td><td>0.4857462  </td><td> 0.1431262 </td><td>0.8861905  </td><td>NA         </td></tr>\n",
       "\t<tr><th scope=row>479</th><td>IBSP       </td><td>0.5011933  </td><td>-0.10374941</td><td>0.5662591  </td><td>-0.1832190 </td><td>0.8546262  </td><td>NA         </td></tr>\n",
       "\t<tr><th scope=row>485</th><td>MUSK       </td><td>1.3780993  </td><td> 0.48417947</td><td>0.7300010  </td><td> 0.6632586 </td><td>0.5071649  </td><td>NA         </td></tr>\n",
       "</tbody>\n",
       "</table>\n"
      ],
      "text/latex": [
       "\\begin{tabular}{r|lllllll}\n",
       "  & gene.name & baseMean & log2FoldChange & lfcSE & stat & pvalue & padj\\\\\n",
       "\\hline\n",
       "\t370 & CLCA1       & 0.7493588   &  0.23091544 & 0.6475585   &  0.3565939  & 0.7213958   & NA         \\\\\n",
       "\t371 & CLCA4       & 1.6817338   &  0.39653581 & 0.7113675   &  0.5574275  & 0.5772354   & NA         \\\\\n",
       "\t382 & ZNF806      & 0.1578702   & -0.11999276 & 0.4857462   & -0.2470277  & 0.8048868   & NA         \\\\\n",
       "\t389 & MARCO       & 0.5402799   &  0.12559922 & 0.5751475   &  0.2183774  & 0.8271351   & NA         \\\\\n",
       "\t393 & SNAI2       & 1.3670266   & -0.30391273 & 0.6481433   & -0.4688974  & 0.6391430   & NA         \\\\\n",
       "\t399 & CCT8L1P     & 0.1434554   &  0.06952303 & 0.4857462   &  0.1431262  & 0.8861905   & NA         \\\\\n",
       "\t479 & IBSP        & 0.5011933   & -0.10374941 & 0.5662591   & -0.1832190  & 0.8546262   & NA         \\\\\n",
       "\t485 & MUSK        & 1.3780993   &  0.48417947 & 0.7300010   &  0.6632586  & 0.5071649   & NA         \\\\\n",
       "\\end{tabular}\n"
      ],
      "text/markdown": [
       "\n",
       "| <!--/--> | gene.name | baseMean | log2FoldChange | lfcSE | stat | pvalue | padj | \n",
       "|---|---|---|---|---|---|---|---|\n",
       "| 370 | CLCA1       | 0.7493588   |  0.23091544 | 0.6475585   |  0.3565939  | 0.7213958   | NA          | \n",
       "| 371 | CLCA4       | 1.6817338   |  0.39653581 | 0.7113675   |  0.5574275  | 0.5772354   | NA          | \n",
       "| 382 | ZNF806      | 0.1578702   | -0.11999276 | 0.4857462   | -0.2470277  | 0.8048868   | NA          | \n",
       "| 389 | MARCO       | 0.5402799   |  0.12559922 | 0.5751475   |  0.2183774  | 0.8271351   | NA          | \n",
       "| 393 | SNAI2       | 1.3670266   | -0.30391273 | 0.6481433   | -0.4688974  | 0.6391430   | NA          | \n",
       "| 399 | CCT8L1P     | 0.1434554   |  0.06952303 | 0.4857462   |  0.1431262  | 0.8861905   | NA          | \n",
       "| 479 | IBSP        | 0.5011933   | -0.10374941 | 0.5662591   | -0.1832190  | 0.8546262   | NA          | \n",
       "| 485 | MUSK        | 1.3780993   |  0.48417947 | 0.7300010   |  0.6632586  | 0.5071649   | NA          | \n",
       "\n",
       "\n"
      ],
      "text/plain": [
       "    gene.name baseMean  log2FoldChange lfcSE     stat       pvalue    padj\n",
       "370 CLCA1     0.7493588  0.23091544    0.6475585  0.3565939 0.7213958 NA  \n",
       "371 CLCA4     1.6817338  0.39653581    0.7113675  0.5574275 0.5772354 NA  \n",
       "382 ZNF806    0.1578702 -0.11999276    0.4857462 -0.2470277 0.8048868 NA  \n",
       "389 MARCO     0.5402799  0.12559922    0.5751475  0.2183774 0.8271351 NA  \n",
       "393 SNAI2     1.3670266 -0.30391273    0.6481433 -0.4688974 0.6391430 NA  \n",
       "399 CCT8L1P   0.1434554  0.06952303    0.4857462  0.1431262 0.8861905 NA  \n",
       "479 IBSP      0.5011933 -0.10374941    0.5662591 -0.1832190 0.8546262 NA  \n",
       "485 MUSK      1.3780993  0.48417947    0.7300010  0.6632586 0.5071649 NA  "
      ]
     },
     "metadata": {},
     "output_type": "display_data"
    },
    {
     "data": {
      "text/html": [
       "<ol class=list-inline>\n",
       "\t<li>500</li>\n",
       "\t<li>7</li>\n",
       "</ol>\n"
      ],
      "text/latex": [
       "\\begin{enumerate*}\n",
       "\\item 500\n",
       "\\item 7\n",
       "\\end{enumerate*}\n"
      ],
      "text/markdown": [
       "1. 500\n",
       "2. 7\n",
       "\n",
       "\n"
      ],
      "text/plain": [
       "[1] 500   7"
      ]
     },
     "metadata": {},
     "output_type": "display_data"
    }
   ],
   "source": [
    "head(nav.d14, n=7)\n",
    "tail(nav.d14, n=8)\n",
    "dim(nav.d14)"
   ]
  },
  {
   "attachments": {},
   "cell_type": "markdown",
   "metadata": {},
   "source": [
    "### 3. Create a self defined function that evaluate p-value, use lappy to apply function to all the pvalues, and use summarize p-value types."
   ]
  },
  {
   "cell_type": "code",
   "execution_count": 4,
   "metadata": {
    "collapsed": true
   },
   "outputs": [],
   "source": [
    "# p-value types\n",
    "# p > 0.05: n.s.\n",
    "# 0.05 >= p > 0.01: *\n",
    "# 0.01 >= p > 0.001: **\n",
    "# 0.001 >= p > 0.0001: ***\n",
    "# 0.0001 >= p: ****\n",
    "pType <- function(p.val) {\n",
    "    if (is.na(p.val)) {\n",
    "        return(NA)\n",
    "    }\n",
    "    else if(p.val > 0.05) {\n",
    "        return(\"n.s.\")\n",
    "    }\n",
    "    else if(p.val > 0.01) {\n",
    "        return(\"*\")\n",
    "    }\n",
    "    else if(p.val > 0.001) {\n",
    "        return(\"**\")\n",
    "    }\n",
    "    else if(p.val > 0.0001) {\n",
    "        return(\"***\")\n",
    "    }\n",
    "    else {\n",
    "        return(\"****\")\n",
    "    }\n",
    "}"
   ]
  },
  {
   "cell_type": "code",
   "execution_count": 5,
   "metadata": {},
   "outputs": [
    {
     "data": {
      "text/html": [
       "<dl class=dl-horizontal>\n",
       "\t<dt>*</dt>\n",
       "\t\t<dd>37</dd>\n",
       "\t<dt>**</dt>\n",
       "\t\t<dd>34</dd>\n",
       "\t<dt>***</dt>\n",
       "\t\t<dd>25</dd>\n",
       "\t<dt>****</dt>\n",
       "\t\t<dd>93</dd>\n",
       "\t<dt>n.s.</dt>\n",
       "\t\t<dd>306</dd>\n",
       "\t<dt>NA's</dt>\n",
       "\t\t<dd>5</dd>\n",
       "</dl>\n"
      ],
      "text/latex": [
       "\\begin{description*}\n",
       "\\item[*] 37\n",
       "\\item[**] 34\n",
       "\\item[***] 25\n",
       "\\item[****] 93\n",
       "\\item[n.s.] 306\n",
       "\\item[NA's] 5\n",
       "\\end{description*}\n"
      ],
      "text/markdown": [
       "*\n",
       ":   37**\n",
       ":   34***\n",
       ":   25****\n",
       ":   93n.s.\n",
       ":   306NA's\n",
       ":   5\n",
       "\n"
      ],
      "text/plain": [
       "   *   **  *** **** n.s. NA's \n",
       "  37   34   25   93  306    5 "
      ]
     },
     "metadata": {},
     "output_type": "display_data"
    }
   ],
   "source": [
    "nav.d14.ptype <- lapply(nav.d14$pvalue, pType)\n",
    "nav.d14.ptype <- factor(unlist(nav.d14.ptype))\n",
    "summary(nav.d14.ptype)"
   ]
  },
  {
   "attachments": {},
   "cell_type": "markdown",
   "metadata": {},
   "source": [
    "### 4. Add list of p-value type to dataframe, subset dataframe to exclude p-value that is not significant, and write the dataframe into a csv file."
   ]
  },
  {
   "cell_type": "code",
   "execution_count": 7,
   "metadata": {},
   "outputs": [
    {
     "data": {
      "text/html": [
       "<table>\n",
       "<thead><tr><th></th><th scope=col>gene.name</th><th scope=col>baseMean</th><th scope=col>log2FoldChange</th><th scope=col>lfcSE</th><th scope=col>stat</th><th scope=col>pvalue</th><th scope=col>padj</th><th scope=col>nav.d14.ptype</th></tr></thead>\n",
       "<tbody>\n",
       "\t<tr><th scope=row>469</th><td>TNFRSF1B  </td><td> 542.82545</td><td>-3.406411 </td><td>0.2267235 </td><td>-15.02452 </td><td>5.07e-51  </td><td>3.25e-48  </td><td>****      </td></tr>\n",
       "\t<tr><th scope=row>394</th><td>CD74      </td><td>2666.66747</td><td>-3.133593 </td><td>0.2146900 </td><td>-14.59590 </td><td>2.98e-48  </td><td>1.54e-45  </td><td>****      </td></tr>\n",
       "\t<tr><th scope=row>460</th><td>SLAMF7    </td><td> 796.08484</td><td>-5.924170 </td><td>0.4107372 </td><td>-14.42326 </td><td>3.69e-47  </td><td>1.85e-44  </td><td>****      </td></tr>\n",
       "\t<tr><th scope=row>298</th><td>ANLN      </td><td>  86.61972</td><td>-4.292672 </td><td>0.3590313 </td><td>-11.95626 </td><td>6.02e-33  </td><td>1.02e-30  </td><td>****      </td></tr>\n",
       "\t<tr><th scope=row>197</th><td>E2F2      </td><td>  56.39916</td><td>-5.011194 </td><td>0.4223203 </td><td>-11.86586 </td><td>1.78e-32  </td><td>2.95e-30  </td><td>****      </td></tr>\n",
       "\t<tr><th scope=row>76</th><td>SLC25A5   </td><td> 839.58682</td><td>-1.630522 </td><td>0.1549378 </td><td>-10.52372 </td><td>6.72e-26  </td><td>6.58e-24  </td><td>****      </td></tr>\n",
       "</tbody>\n",
       "</table>\n"
      ],
      "text/latex": [
       "\\begin{tabular}{r|llllllll}\n",
       "  & gene.name & baseMean & log2FoldChange & lfcSE & stat & pvalue & padj & nav.d14.ptype\\\\\n",
       "\\hline\n",
       "\t469 & TNFRSF1B   &  542.82545 & -3.406411  & 0.2267235  & -15.02452  & 5.07e-51   & 3.25e-48   & ****      \\\\\n",
       "\t394 & CD74       & 2666.66747 & -3.133593  & 0.2146900  & -14.59590  & 2.98e-48   & 1.54e-45   & ****      \\\\\n",
       "\t460 & SLAMF7     &  796.08484 & -5.924170  & 0.4107372  & -14.42326  & 3.69e-47   & 1.85e-44   & ****      \\\\\n",
       "\t298 & ANLN       &   86.61972 & -4.292672  & 0.3590313  & -11.95626  & 6.02e-33   & 1.02e-30   & ****      \\\\\n",
       "\t197 & E2F2       &   56.39916 & -5.011194  & 0.4223203  & -11.86586  & 1.78e-32   & 2.95e-30   & ****      \\\\\n",
       "\t76 & SLC25A5    &  839.58682 & -1.630522  & 0.1549378  & -10.52372  & 6.72e-26   & 6.58e-24   & ****      \\\\\n",
       "\\end{tabular}\n"
      ],
      "text/markdown": [
       "\n",
       "| <!--/--> | gene.name | baseMean | log2FoldChange | lfcSE | stat | pvalue | padj | nav.d14.ptype | \n",
       "|---|---|---|---|---|---|\n",
       "| 469 | TNFRSF1B   |  542.82545 | -3.406411  | 0.2267235  | -15.02452  | 5.07e-51   | 3.25e-48   | ****       | \n",
       "| 394 | CD74       | 2666.66747 | -3.133593  | 0.2146900  | -14.59590  | 2.98e-48   | 1.54e-45   | ****       | \n",
       "| 460 | SLAMF7     |  796.08484 | -5.924170  | 0.4107372  | -14.42326  | 3.69e-47   | 1.85e-44   | ****       | \n",
       "| 298 | ANLN       |   86.61972 | -4.292672  | 0.3590313  | -11.95626  | 6.02e-33   | 1.02e-30   | ****       | \n",
       "| 197 | E2F2       |   56.39916 | -5.011194  | 0.4223203  | -11.86586  | 1.78e-32   | 2.95e-30   | ****       | \n",
       "| 76 | SLC25A5    |  839.58682 | -1.630522  | 0.1549378  | -10.52372  | 6.72e-26   | 6.58e-24   | ****       | \n",
       "\n",
       "\n"
      ],
      "text/plain": [
       "    gene.name baseMean   log2FoldChange lfcSE     stat      pvalue   padj    \n",
       "469 TNFRSF1B   542.82545 -3.406411      0.2267235 -15.02452 5.07e-51 3.25e-48\n",
       "394 CD74      2666.66747 -3.133593      0.2146900 -14.59590 2.98e-48 1.54e-45\n",
       "460 SLAMF7     796.08484 -5.924170      0.4107372 -14.42326 3.69e-47 1.85e-44\n",
       "298 ANLN        86.61972 -4.292672      0.3590313 -11.95626 6.02e-33 1.02e-30\n",
       "197 E2F2        56.39916 -5.011194      0.4223203 -11.86586 1.78e-32 2.95e-30\n",
       "76  SLC25A5    839.58682 -1.630522      0.1549378 -10.52372 6.72e-26 6.58e-24\n",
       "    nav.d14.ptype\n",
       "469 ****         \n",
       "394 ****         \n",
       "460 ****         \n",
       "298 ****         \n",
       "197 ****         \n",
       "76  ****         "
      ]
     },
     "metadata": {},
     "output_type": "display_data"
    }
   ],
   "source": [
    "nav.d14 <- cbind(nav.d14, nav.d14.ptype)\n",
    "head(nav.d14)"
   ]
  },
  {
   "cell_type": "code",
   "execution_count": 9,
   "metadata": {},
   "outputs": [
    {
     "data": {
      "text/html": [
       "<ol class=list-inline>\n",
       "\t<li>500</li>\n",
       "\t<li>8</li>\n",
       "</ol>\n"
      ],
      "text/latex": [
       "\\begin{enumerate*}\n",
       "\\item 500\n",
       "\\item 8\n",
       "\\end{enumerate*}\n"
      ],
      "text/markdown": [
       "1. 500\n",
       "2. 8\n",
       "\n",
       "\n"
      ],
      "text/plain": [
       "[1] 500   8"
      ]
     },
     "metadata": {},
     "output_type": "display_data"
    },
    {
     "data": {
      "text/html": [
       "<ol class=list-inline>\n",
       "\t<li>189</li>\n",
       "\t<li>8</li>\n",
       "</ol>\n"
      ],
      "text/latex": [
       "\\begin{enumerate*}\n",
       "\\item 189\n",
       "\\item 8\n",
       "\\end{enumerate*}\n"
      ],
      "text/markdown": [
       "1. 189\n",
       "2. 8\n",
       "\n",
       "\n"
      ],
      "text/plain": [
       "[1] 189   8"
      ]
     },
     "metadata": {},
     "output_type": "display_data"
    }
   ],
   "source": [
    "nav.d14.sig <- subset(nav.d14, nav.d14.ptype != \"n.s.\")\n",
    "dim(nav.d14)\n",
    "dim(nav.d14.sig)"
   ]
  },
  {
   "cell_type": "code",
   "execution_count": 10,
   "metadata": {
    "collapsed": true
   },
   "outputs": [],
   "source": [
    "write.table(nav.d14.sig, row.names=FALSE, \"nav.d14.sig.csv\", sep=\",\")"
   ]
  },
  {
   "cell_type": "code",
   "execution_count": null,
   "metadata": {
    "collapsed": true
   },
   "outputs": [],
   "source": []
  }
 ],
 "metadata": {
  "kernelspec": {
   "display_name": "R",
   "language": "R",
   "name": "ir"
  },
  "language_info": {
   "codemirror_mode": "r",
   "file_extension": ".r",
   "mimetype": "text/x-r-source",
   "name": "R",
   "pygments_lexer": "r",
   "version": "3.3.2"
  }
 },
 "nbformat": 4,
 "nbformat_minor": 2
}
