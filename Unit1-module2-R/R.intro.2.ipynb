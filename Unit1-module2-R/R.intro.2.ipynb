{
 "cells": [
  {
   "cell_type": "markdown",
   "metadata": {},
   "source": [
    "# R intro\n",
    "Huitian Diao\n",
    "* Reference: \n",
    "* Quick-R by DataCamp\n",
    "* R for Beginners by emmanuel Paradis"
   ]
  },
  {
   "cell_type": "markdown",
   "metadata": {},
   "source": [
    "## More on data operations"
   ]
  },
  {
   "cell_type": "markdown",
   "metadata": {},
   "source": [
    "### 1. Import data"
   ]
  },
  {
   "cell_type": "code",
   "execution_count": 2,
   "metadata": {},
   "outputs": [
    {
     "data": {
      "text/html": [
       "'data.frame'"
      ],
      "text/latex": [
       "'data.frame'"
      ],
      "text/markdown": [
       "'data.frame'"
      ],
      "text/plain": [
       "[1] \"data.frame\""
      ]
     },
     "metadata": {},
     "output_type": "display_data"
    }
   ],
   "source": [
    "setwd(\"/Users/yolandatiao/Documents/0_Bioinformatics2017/2018_Bioinformatics/Applied-Bioinformatics-Course/Unit1-module2-R\")\n",
    "nav.d14 <- read.csv(\"NAV-D14_DEseq2.csv\", header=TRUE)\n",
    "class(nav.d14)"
   ]
  },
  {
   "cell_type": "markdown",
   "metadata": {},
   "source": [
    "### 2. View data"
   ]
  },
  {
   "cell_type": "code",
   "execution_count": 3,
   "metadata": {
    "scrolled": true
   },
   "outputs": [
    {
     "name": "stdout",
     "output_type": "stream",
     "text": [
      "'data.frame':\t500 obs. of  7 variables:\n",
      " $ gene.name     : Factor w/ 500 levels \"AASS\",\"ABCB4\",..: 452 448 137 380 58 159 92 164 171 284 ...\n",
      " $ baseMean      : num  25.257 0.289 163.508 296.462 199.012 ...\n",
      " $ log2FoldChange: num  1.3025 -0.0508 -0.055 0.2737 -1.6201 ...\n",
      " $ lfcSE         : num  0.417 0.488 0.249 0.196 0.283 ...\n",
      " $ stat          : num  3.126 -0.104 -0.221 1.393 -5.718 ...\n",
      " $ pvalue        : num  1.77e-03 9.17e-01 8.25e-01 1.63e-01 1.07e-08 ...\n",
      " $ padj          : num  8.21e-03 NA 9.14e-01 3.31e-01 1.59e-07 ...\n"
     ]
    },
    {
     "data": {
      "text/html": [
       "<ol class=list-inline>\n",
       "\t<li>500</li>\n",
       "\t<li>7</li>\n",
       "</ol>\n"
      ],
      "text/latex": [
       "\\begin{enumerate*}\n",
       "\\item 500\n",
       "\\item 7\n",
       "\\end{enumerate*}\n"
      ],
      "text/markdown": [
       "1. 500\n",
       "2. 7\n",
       "\n",
       "\n"
      ],
      "text/plain": [
       "[1] 500   7"
      ]
     },
     "metadata": {},
     "output_type": "display_data"
    },
    {
     "data": {
      "text/html": [
       "<table>\n",
       "<thead><tr><th scope=col>gene.name</th><th scope=col>baseMean</th><th scope=col>log2FoldChange</th><th scope=col>lfcSE</th><th scope=col>stat</th><th scope=col>pvalue</th><th scope=col>padj</th></tr></thead>\n",
       "<tbody>\n",
       "\t<tr><td>TSPAN6      </td><td> 25.256745  </td><td> 1.30246882 </td><td>0.4166710   </td><td> 3.1258926  </td><td>0.0017726620</td><td>0.008209295 </td></tr>\n",
       "\t<tr><td>TNMD        </td><td>  0.288508  </td><td>-0.05077872 </td><td>0.4875003   </td><td>-0.1041614  </td><td>0.9170412620</td><td>         NA </td></tr>\n",
       "\t<tr><td>DPM1        </td><td>163.507773  </td><td>-0.05502833 </td><td>0.2492486   </td><td>-0.2207769  </td><td>0.8252661650</td><td>0.914449315 </td></tr>\n",
       "\t<tr><td>SCYL3       </td><td>296.461713  </td><td> 0.27370099 </td><td>0.1964251   </td><td> 1.3934117  </td><td>0.1634953240</td><td>0.331239000 </td></tr>\n",
       "\t<tr><td>C1orf112    </td><td>199.011986  </td><td>-1.62012005 </td><td>0.2833121   </td><td>-5.7184998  </td><td>0.0000000107</td><td>0.000000159 </td></tr>\n",
       "</tbody>\n",
       "</table>\n"
      ],
      "text/latex": [
       "\\begin{tabular}{r|lllllll}\n",
       " gene.name & baseMean & log2FoldChange & lfcSE & stat & pvalue & padj\\\\\n",
       "\\hline\n",
       "\t TSPAN6       &  25.256745   &  1.30246882  & 0.4166710    &  3.1258926   & 0.0017726620 & 0.008209295 \\\\\n",
       "\t TNMD         &   0.288508   & -0.05077872  & 0.4875003    & -0.1041614   & 0.9170412620 &          NA \\\\\n",
       "\t DPM1         & 163.507773   & -0.05502833  & 0.2492486    & -0.2207769   & 0.8252661650 & 0.914449315 \\\\\n",
       "\t SCYL3        & 296.461713   &  0.27370099  & 0.1964251    &  1.3934117   & 0.1634953240 & 0.331239000 \\\\\n",
       "\t C1orf112     & 199.011986   & -1.62012005  & 0.2833121    & -5.7184998   & 0.0000000107 & 0.000000159 \\\\\n",
       "\\end{tabular}\n"
      ],
      "text/markdown": [
       "\n",
       "gene.name | baseMean | log2FoldChange | lfcSE | stat | pvalue | padj | \n",
       "|---|---|---|---|---|\n",
       "| TSPAN6       |  25.256745   |  1.30246882  | 0.4166710    |  3.1258926   | 0.0017726620 | 0.008209295  | \n",
       "| TNMD         |   0.288508   | -0.05077872  | 0.4875003    | -0.1041614   | 0.9170412620 |          NA  | \n",
       "| DPM1         | 163.507773   | -0.05502833  | 0.2492486    | -0.2207769   | 0.8252661650 | 0.914449315  | \n",
       "| SCYL3        | 296.461713   |  0.27370099  | 0.1964251    |  1.3934117   | 0.1634953240 | 0.331239000  | \n",
       "| C1orf112     | 199.011986   | -1.62012005  | 0.2833121    | -5.7184998   | 0.0000000107 | 0.000000159  | \n",
       "\n",
       "\n"
      ],
      "text/plain": [
       "  gene.name baseMean   log2FoldChange lfcSE     stat       pvalue      \n",
       "1 TSPAN6     25.256745  1.30246882    0.4166710  3.1258926 0.0017726620\n",
       "2 TNMD        0.288508 -0.05077872    0.4875003 -0.1041614 0.9170412620\n",
       "3 DPM1      163.507773 -0.05502833    0.2492486 -0.2207769 0.8252661650\n",
       "4 SCYL3     296.461713  0.27370099    0.1964251  1.3934117 0.1634953240\n",
       "5 C1orf112  199.011986 -1.62012005    0.2833121 -5.7184998 0.0000000107\n",
       "  padj       \n",
       "1 0.008209295\n",
       "2          NA\n",
       "3 0.914449315\n",
       "4 0.331239000\n",
       "5 0.000000159"
      ]
     },
     "metadata": {},
     "output_type": "display_data"
    },
    {
     "data": {
      "text/html": [
       "<table>\n",
       "<thead><tr><th></th><th scope=col>gene.name</th><th scope=col>baseMean</th><th scope=col>log2FoldChange</th><th scope=col>lfcSE</th><th scope=col>stat</th><th scope=col>pvalue</th><th scope=col>padj</th></tr></thead>\n",
       "<tbody>\n",
       "\t<tr><th scope=row>491</th><td>SARS       </td><td> 383.40062 </td><td>-0.01094582</td><td>0.1850942  </td><td>-0.0591365 </td><td>0.95284338 </td><td>0.979777765</td></tr>\n",
       "\t<tr><th scope=row>492</th><td>RANBP3     </td><td> 379.84288 </td><td> 0.08522877</td><td>0.1708371  </td><td> 0.4988890 </td><td>0.61785761 </td><td>0.784887312</td></tr>\n",
       "\t<tr><th scope=row>493</th><td>ARID4A     </td><td>1435.32399 </td><td> 0.04869732</td><td>0.1904170  </td><td> 0.2557404 </td><td>0.79815131 </td><td>0.901071201</td></tr>\n",
       "\t<tr><th scope=row>494</th><td>EIPR1      </td><td>  87.86504 </td><td>-0.95503525</td><td>0.2356304  </td><td>-4.0531067 </td><td>0.00005050 </td><td>0.000358293</td></tr>\n",
       "\t<tr><th scope=row>495</th><td>PNPLA6     </td><td> 146.41751 </td><td>-0.14635328</td><td>0.2900234  </td><td>-0.5046257 </td><td>0.61382175 </td><td>0.782170557</td></tr>\n",
       "\t<tr><th scope=row>496</th><td>IFT88      </td><td> 111.71539 </td><td> 0.60100567</td><td>0.3082850  </td><td> 1.9495130 </td><td>0.05123419 </td><td>0.136193820</td></tr>\n",
       "\t<tr><th scope=row>497</th><td>ALG1       </td><td>  72.37193 </td><td> 0.33922670</td><td>0.2449200  </td><td> 1.3850512 </td><td>0.16603683 </td><td>0.335217676</td></tr>\n",
       "\t<tr><th scope=row>498</th><td>ZCCHC8     </td><td> 270.00278 </td><td>-0.22916478</td><td>0.1966266  </td><td>-1.1654819 </td><td>0.24382397 </td><td>0.441891441</td></tr>\n",
       "\t<tr><th scope=row>499</th><td>ABCF2      </td><td> 288.47676 </td><td> 0.10264088</td><td>0.2711067  </td><td> 0.3785995 </td><td>0.70498528 </td><td>0.845654432</td></tr>\n",
       "\t<tr><th scope=row>500</th><td>CHPF2      </td><td> 171.74016 </td><td>-0.07133449</td><td>0.2608077  </td><td>-0.2735138 </td><td>0.78445831 </td><td>0.893661075</td></tr>\n",
       "</tbody>\n",
       "</table>\n"
      ],
      "text/latex": [
       "\\begin{tabular}{r|lllllll}\n",
       "  & gene.name & baseMean & log2FoldChange & lfcSE & stat & pvalue & padj\\\\\n",
       "\\hline\n",
       "\t491 & SARS        &  383.40062  & -0.01094582 & 0.1850942   & -0.0591365  & 0.95284338  & 0.979777765\\\\\n",
       "\t492 & RANBP3      &  379.84288  &  0.08522877 & 0.1708371   &  0.4988890  & 0.61785761  & 0.784887312\\\\\n",
       "\t493 & ARID4A      & 1435.32399  &  0.04869732 & 0.1904170   &  0.2557404  & 0.79815131  & 0.901071201\\\\\n",
       "\t494 & EIPR1       &   87.86504  & -0.95503525 & 0.2356304   & -4.0531067  & 0.00005050  & 0.000358293\\\\\n",
       "\t495 & PNPLA6      &  146.41751  & -0.14635328 & 0.2900234   & -0.5046257  & 0.61382175  & 0.782170557\\\\\n",
       "\t496 & IFT88       &  111.71539  &  0.60100567 & 0.3082850   &  1.9495130  & 0.05123419  & 0.136193820\\\\\n",
       "\t497 & ALG1        &   72.37193  &  0.33922670 & 0.2449200   &  1.3850512  & 0.16603683  & 0.335217676\\\\\n",
       "\t498 & ZCCHC8      &  270.00278  & -0.22916478 & 0.1966266   & -1.1654819  & 0.24382397  & 0.441891441\\\\\n",
       "\t499 & ABCF2       &  288.47676  &  0.10264088 & 0.2711067   &  0.3785995  & 0.70498528  & 0.845654432\\\\\n",
       "\t500 & CHPF2       &  171.74016  & -0.07133449 & 0.2608077   & -0.2735138  & 0.78445831  & 0.893661075\\\\\n",
       "\\end{tabular}\n"
      ],
      "text/markdown": [
       "\n",
       "| <!--/--> | gene.name | baseMean | log2FoldChange | lfcSE | stat | pvalue | padj | \n",
       "|---|---|---|---|---|---|---|---|---|---|\n",
       "| 491 | SARS        |  383.40062  | -0.01094582 | 0.1850942   | -0.0591365  | 0.95284338  | 0.979777765 | \n",
       "| 492 | RANBP3      |  379.84288  |  0.08522877 | 0.1708371   |  0.4988890  | 0.61785761  | 0.784887312 | \n",
       "| 493 | ARID4A      | 1435.32399  |  0.04869732 | 0.1904170   |  0.2557404  | 0.79815131  | 0.901071201 | \n",
       "| 494 | EIPR1       |   87.86504  | -0.95503525 | 0.2356304   | -4.0531067  | 0.00005050  | 0.000358293 | \n",
       "| 495 | PNPLA6      |  146.41751  | -0.14635328 | 0.2900234   | -0.5046257  | 0.61382175  | 0.782170557 | \n",
       "| 496 | IFT88       |  111.71539  |  0.60100567 | 0.3082850   |  1.9495130  | 0.05123419  | 0.136193820 | \n",
       "| 497 | ALG1        |   72.37193  |  0.33922670 | 0.2449200   |  1.3850512  | 0.16603683  | 0.335217676 | \n",
       "| 498 | ZCCHC8      |  270.00278  | -0.22916478 | 0.1966266   | -1.1654819  | 0.24382397  | 0.441891441 | \n",
       "| 499 | ABCF2       |  288.47676  |  0.10264088 | 0.2711067   |  0.3785995  | 0.70498528  | 0.845654432 | \n",
       "| 500 | CHPF2       |  171.74016  | -0.07133449 | 0.2608077   | -0.2735138  | 0.78445831  | 0.893661075 | \n",
       "\n",
       "\n"
      ],
      "text/plain": [
       "    gene.name baseMean   log2FoldChange lfcSE     stat       pvalue    \n",
       "491 SARS       383.40062 -0.01094582    0.1850942 -0.0591365 0.95284338\n",
       "492 RANBP3     379.84288  0.08522877    0.1708371  0.4988890 0.61785761\n",
       "493 ARID4A    1435.32399  0.04869732    0.1904170  0.2557404 0.79815131\n",
       "494 EIPR1       87.86504 -0.95503525    0.2356304 -4.0531067 0.00005050\n",
       "495 PNPLA6     146.41751 -0.14635328    0.2900234 -0.5046257 0.61382175\n",
       "496 IFT88      111.71539  0.60100567    0.3082850  1.9495130 0.05123419\n",
       "497 ALG1        72.37193  0.33922670    0.2449200  1.3850512 0.16603683\n",
       "498 ZCCHC8     270.00278 -0.22916478    0.1966266 -1.1654819 0.24382397\n",
       "499 ABCF2      288.47676  0.10264088    0.2711067  0.3785995 0.70498528\n",
       "500 CHPF2      171.74016 -0.07133449    0.2608077 -0.2735138 0.78445831\n",
       "    padj       \n",
       "491 0.979777765\n",
       "492 0.784887312\n",
       "493 0.901071201\n",
       "494 0.000358293\n",
       "495 0.782170557\n",
       "496 0.136193820\n",
       "497 0.335217676\n",
       "498 0.441891441\n",
       "499 0.845654432\n",
       "500 0.893661075"
      ]
     },
     "metadata": {},
     "output_type": "display_data"
    }
   ],
   "source": [
    "str(nav.d14)\n",
    "dim(nav.d14)\n",
    "head(nav.d14, n=5)\n",
    "tail(nav.d14, n=10)\n",
    "#levels() # List levels of factor"
   ]
  },
  {
   "cell_type": "markdown",
   "metadata": {},
   "source": [
    "### 3. Subsetting / Merging data"
   ]
  },
  {
   "cell_type": "code",
   "execution_count": 22,
   "metadata": {
    "collapsed": true
   },
   "outputs": [],
   "source": [
    "nav.d14.sub <- nav.d14[c(\"gene.name\", \"log2FoldChange\", \"pvalue\")] # Subsetting by column names"
   ]
  },
  {
   "cell_type": "code",
   "execution_count": 23,
   "metadata": {},
   "outputs": [
    {
     "data": {
      "text/html": [
       "<table>\n",
       "<thead><tr><th scope=col>gene.name</th><th scope=col>log2FoldChange</th><th scope=col>pvalue</th><th scope=col>baseMean</th></tr></thead>\n",
       "<tbody>\n",
       "\t<tr><td>TSPAN6      </td><td> 1.30246882 </td><td>1.772662e-03</td><td> 25.256745  </td></tr>\n",
       "\t<tr><td>TNMD        </td><td>-0.05077872 </td><td>9.170413e-01</td><td>  0.288508  </td></tr>\n",
       "\t<tr><td>DPM1        </td><td>-0.05502833 </td><td>8.252662e-01</td><td>163.507773  </td></tr>\n",
       "\t<tr><td>SCYL3       </td><td> 0.27370099 </td><td>1.634953e-01</td><td>296.461713  </td></tr>\n",
       "\t<tr><td>C1orf112    </td><td>-1.62012005 </td><td>1.070000e-08</td><td>199.011986  </td></tr>\n",
       "\t<tr><td>FGR         </td><td>-5.60936805 </td><td>1.440000e-18</td><td>122.792530  </td></tr>\n",
       "</tbody>\n",
       "</table>\n"
      ],
      "text/latex": [
       "\\begin{tabular}{r|llll}\n",
       " gene.name & log2FoldChange & pvalue & baseMean\\\\\n",
       "\\hline\n",
       "\t TSPAN6       &  1.30246882  & 1.772662e-03 &  25.256745  \\\\\n",
       "\t TNMD         & -0.05077872  & 9.170413e-01 &   0.288508  \\\\\n",
       "\t DPM1         & -0.05502833  & 8.252662e-01 & 163.507773  \\\\\n",
       "\t SCYL3        &  0.27370099  & 1.634953e-01 & 296.461713  \\\\\n",
       "\t C1orf112     & -1.62012005  & 1.070000e-08 & 199.011986  \\\\\n",
       "\t FGR          & -5.60936805  & 1.440000e-18 & 122.792530  \\\\\n",
       "\\end{tabular}\n"
      ],
      "text/markdown": [
       "\n",
       "gene.name | log2FoldChange | pvalue | baseMean | \n",
       "|---|---|---|---|---|---|\n",
       "| TSPAN6       |  1.30246882  | 1.772662e-03 |  25.256745   | \n",
       "| TNMD         | -0.05077872  | 9.170413e-01 |   0.288508   | \n",
       "| DPM1         | -0.05502833  | 8.252662e-01 | 163.507773   | \n",
       "| SCYL3        |  0.27370099  | 1.634953e-01 | 296.461713   | \n",
       "| C1orf112     | -1.62012005  | 1.070000e-08 | 199.011986   | \n",
       "| FGR          | -5.60936805  | 1.440000e-18 | 122.792530   | \n",
       "\n",
       "\n"
      ],
      "text/plain": [
       "  gene.name log2FoldChange pvalue       baseMean  \n",
       "1 TSPAN6     1.30246882    1.772662e-03  25.256745\n",
       "2 TNMD      -0.05077872    9.170413e-01   0.288508\n",
       "3 DPM1      -0.05502833    8.252662e-01 163.507773\n",
       "4 SCYL3      0.27370099    1.634953e-01 296.461713\n",
       "5 C1orf112  -1.62012005    1.070000e-08 199.011986\n",
       "6 FGR       -5.60936805    1.440000e-18 122.792530"
      ]
     },
     "metadata": {},
     "output_type": "display_data"
    }
   ],
   "source": [
    "nav.d14.sub <- cbind(nav.d14.sub, nav.d14[\"baseMean\"]) # Merging columns\n",
    "head(nav.d14.sub)"
   ]
  },
  {
   "cell_type": "code",
   "execution_count": 24,
   "metadata": {
    "collapsed": true
   },
   "outputs": [],
   "source": [
    "nav.d14.sub.sig.less <- subset(nav.d14.sub, pvalue <= 0.05 & log2FoldChange < 0) # Subsetting by value\n",
    "nav.d14.sub.sig.more <- subset(nav.d14.sub, pvalue <= 0.05 & log2FoldChange > 0)"
   ]
  },
  {
   "cell_type": "code",
   "execution_count": 25,
   "metadata": {},
   "outputs": [
    {
     "data": {
      "text/html": [
       "<ol class=list-inline>\n",
       "\t<li>116</li>\n",
       "\t<li>4</li>\n",
       "</ol>\n"
      ],
      "text/latex": [
       "\\begin{enumerate*}\n",
       "\\item 116\n",
       "\\item 4\n",
       "\\end{enumerate*}\n"
      ],
      "text/markdown": [
       "1. 116\n",
       "2. 4\n",
       "\n",
       "\n"
      ],
      "text/plain": [
       "[1] 116   4"
      ]
     },
     "metadata": {},
     "output_type": "display_data"
    },
    {
     "data": {
      "text/html": [
       "<ol class=list-inline>\n",
       "\t<li>73</li>\n",
       "\t<li>4</li>\n",
       "</ol>\n"
      ],
      "text/latex": [
       "\\begin{enumerate*}\n",
       "\\item 73\n",
       "\\item 4\n",
       "\\end{enumerate*}\n"
      ],
      "text/markdown": [
       "1. 73\n",
       "2. 4\n",
       "\n",
       "\n"
      ],
      "text/plain": [
       "[1] 73  4"
      ]
     },
     "metadata": {},
     "output_type": "display_data"
    },
    {
     "data": {
      "text/html": [
       "<ol class=list-inline>\n",
       "\t<li>189</li>\n",
       "\t<li>4</li>\n",
       "</ol>\n"
      ],
      "text/latex": [
       "\\begin{enumerate*}\n",
       "\\item 189\n",
       "\\item 4\n",
       "\\end{enumerate*}\n"
      ],
      "text/markdown": [
       "1. 189\n",
       "2. 4\n",
       "\n",
       "\n"
      ],
      "text/plain": [
       "[1] 189   4"
      ]
     },
     "metadata": {},
     "output_type": "display_data"
    }
   ],
   "source": [
    "nav.d14.sub.sig.all <- rbind(nav.d14.sub.sig.less, nav.d14.sub.sig.more) # Merging rows\n",
    "dim(nav.d14.sub.sig.less)\n",
    "dim(nav.d14.sub.sig.more)\n",
    "dim(nav.d14.sub.sig.all)"
   ]
  },
  {
   "cell_type": "markdown",
   "metadata": {},
   "source": [
    "#### * Change column names"
   ]
  },
  {
   "cell_type": "code",
   "execution_count": 26,
   "metadata": {},
   "outputs": [
    {
     "data": {
      "text/html": [
       "<table>\n",
       "<thead><tr><th></th><th scope=col>gn</th><th scope=col>fc</th><th scope=col>pval</th><th scope=col>bm</th></tr></thead>\n",
       "<tbody>\n",
       "\t<tr><th scope=row>5</th><td>C1orf112    </td><td>-1.6201201  </td><td>1.070000e-08</td><td>199.01199   </td></tr>\n",
       "\t<tr><th scope=row>6</th><td>FGR         </td><td>-5.6093681  </td><td>1.440000e-18</td><td>122.79253   </td></tr>\n",
       "\t<tr><th scope=row>8</th><td>FUCA2       </td><td>-0.7644220  </td><td>5.400523e-03</td><td> 72.03849   </td></tr>\n",
       "\t<tr><th scope=row>9</th><td>GCLC        </td><td>-0.6690268  </td><td>1.563919e-03</td><td>232.82360   </td></tr>\n",
       "\t<tr><th scope=row>14</th><td>ENPP4       </td><td>-1.0797584  </td><td>5.970000e-05</td><td>166.51521   </td></tr>\n",
       "\t<tr><th scope=row>22</th><td>BAD         </td><td>-1.0572374  </td><td>1.526298e-02</td><td> 17.43336   </td></tr>\n",
       "</tbody>\n",
       "</table>\n"
      ],
      "text/latex": [
       "\\begin{tabular}{r|llll}\n",
       "  & gn & fc & pval & bm\\\\\n",
       "\\hline\n",
       "\t5 & C1orf112     & -1.6201201   & 1.070000e-08 & 199.01199   \\\\\n",
       "\t6 & FGR          & -5.6093681   & 1.440000e-18 & 122.79253   \\\\\n",
       "\t8 & FUCA2        & -0.7644220   & 5.400523e-03 &  72.03849   \\\\\n",
       "\t9 & GCLC         & -0.6690268   & 1.563919e-03 & 232.82360   \\\\\n",
       "\t14 & ENPP4        & -1.0797584   & 5.970000e-05 & 166.51521   \\\\\n",
       "\t22 & BAD          & -1.0572374   & 1.526298e-02 &  17.43336   \\\\\n",
       "\\end{tabular}\n"
      ],
      "text/markdown": [
       "\n",
       "| <!--/--> | gn | fc | pval | bm | \n",
       "|---|---|---|---|---|---|\n",
       "| 5 | C1orf112     | -1.6201201   | 1.070000e-08 | 199.01199    | \n",
       "| 6 | FGR          | -5.6093681   | 1.440000e-18 | 122.79253    | \n",
       "| 8 | FUCA2        | -0.7644220   | 5.400523e-03 |  72.03849    | \n",
       "| 9 | GCLC         | -0.6690268   | 1.563919e-03 | 232.82360    | \n",
       "| 14 | ENPP4        | -1.0797584   | 5.970000e-05 | 166.51521    | \n",
       "| 22 | BAD          | -1.0572374   | 1.526298e-02 |  17.43336    | \n",
       "\n",
       "\n"
      ],
      "text/plain": [
       "   gn       fc         pval         bm       \n",
       "5  C1orf112 -1.6201201 1.070000e-08 199.01199\n",
       "6  FGR      -5.6093681 1.440000e-18 122.79253\n",
       "8  FUCA2    -0.7644220 5.400523e-03  72.03849\n",
       "9  GCLC     -0.6690268 1.563919e-03 232.82360\n",
       "14 ENPP4    -1.0797584 5.970000e-05 166.51521\n",
       "22 BAD      -1.0572374 1.526298e-02  17.43336"
      ]
     },
     "metadata": {},
     "output_type": "display_data"
    }
   ],
   "source": [
    "colnames(nav.d14.sub.sig.all) <- c(\"gn\",\"fc\",\"pval\",\"bm\")\n",
    "head(nav.d14.sub.sig.all)"
   ]
  },
  {
   "cell_type": "markdown",
   "metadata": {},
   "source": [
    "### 4. Sort data"
   ]
  },
  {
   "cell_type": "code",
   "execution_count": 27,
   "metadata": {
    "scrolled": true
   },
   "outputs": [
    {
     "data": {
      "text/html": [
       "<table>\n",
       "<thead><tr><th></th><th scope=col>gn</th><th scope=col>fc</th><th scope=col>pval</th><th scope=col>bm</th></tr></thead>\n",
       "<tbody>\n",
       "\t<tr><th scope=row>5</th><td>C1orf112    </td><td>-1.6201201  </td><td>1.070000e-08</td><td>199.01199   </td></tr>\n",
       "\t<tr><th scope=row>6</th><td>FGR         </td><td>-5.6093681  </td><td>1.440000e-18</td><td>122.79253   </td></tr>\n",
       "\t<tr><th scope=row>8</th><td>FUCA2       </td><td>-0.7644220  </td><td>5.400523e-03</td><td> 72.03849   </td></tr>\n",
       "\t<tr><th scope=row>9</th><td>GCLC        </td><td>-0.6690268  </td><td>1.563919e-03</td><td>232.82360   </td></tr>\n",
       "\t<tr><th scope=row>14</th><td>ENPP4       </td><td>-1.0797584  </td><td>5.970000e-05</td><td>166.51521   </td></tr>\n",
       "</tbody>\n",
       "</table>\n"
      ],
      "text/latex": [
       "\\begin{tabular}{r|llll}\n",
       "  & gn & fc & pval & bm\\\\\n",
       "\\hline\n",
       "\t5 & C1orf112     & -1.6201201   & 1.070000e-08 & 199.01199   \\\\\n",
       "\t6 & FGR          & -5.6093681   & 1.440000e-18 & 122.79253   \\\\\n",
       "\t8 & FUCA2        & -0.7644220   & 5.400523e-03 &  72.03849   \\\\\n",
       "\t9 & GCLC         & -0.6690268   & 1.563919e-03 & 232.82360   \\\\\n",
       "\t14 & ENPP4        & -1.0797584   & 5.970000e-05 & 166.51521   \\\\\n",
       "\\end{tabular}\n"
      ],
      "text/markdown": [
       "\n",
       "| <!--/--> | gn | fc | pval | bm | \n",
       "|---|---|---|---|---|\n",
       "| 5 | C1orf112     | -1.6201201   | 1.070000e-08 | 199.01199    | \n",
       "| 6 | FGR          | -5.6093681   | 1.440000e-18 | 122.79253    | \n",
       "| 8 | FUCA2        | -0.7644220   | 5.400523e-03 |  72.03849    | \n",
       "| 9 | GCLC         | -0.6690268   | 1.563919e-03 | 232.82360    | \n",
       "| 14 | ENPP4        | -1.0797584   | 5.970000e-05 | 166.51521    | \n",
       "\n",
       "\n"
      ],
      "text/plain": [
       "   gn       fc         pval         bm       \n",
       "5  C1orf112 -1.6201201 1.070000e-08 199.01199\n",
       "6  FGR      -5.6093681 1.440000e-18 122.79253\n",
       "8  FUCA2    -0.7644220 5.400523e-03  72.03849\n",
       "9  GCLC     -0.6690268 1.563919e-03 232.82360\n",
       "14 ENPP4    -1.0797584 5.970000e-05 166.51521"
      ]
     },
     "metadata": {},
     "output_type": "display_data"
    },
    {
     "data": {
      "text/html": [
       "<table>\n",
       "<thead><tr><th></th><th scope=col>gn</th><th scope=col>fc</th><th scope=col>pval</th><th scope=col>bm</th></tr></thead>\n",
       "<tbody>\n",
       "\t<tr><th scope=row>220</th><td>PGLYRP1    </td><td> 1.794950  </td><td>0.013660222</td><td> 2.276910  </td></tr>\n",
       "\t<tr><th scope=row>163</th><td>UPP2       </td><td> 1.062059  </td><td>0.042900000</td><td> 9.993211  </td></tr>\n",
       "\t<tr><th scope=row>253</th><td>CD9        </td><td> 1.817403  </td><td>0.002944941</td><td>10.048876  </td></tr>\n",
       "\t<tr><th scope=row>37</th><td>DBNDD1     </td><td> 1.824313  </td><td>0.003734245</td><td>10.811359  </td></tr>\n",
       "\t<tr><th scope=row>307</th><td>TYROBP     </td><td>-2.110031  </td><td>0.001129604</td><td>12.701733  </td></tr>\n",
       "</tbody>\n",
       "</table>\n"
      ],
      "text/latex": [
       "\\begin{tabular}{r|llll}\n",
       "  & gn & fc & pval & bm\\\\\n",
       "\\hline\n",
       "\t220 & PGLYRP1     &  1.794950   & 0.013660222 &  2.276910  \\\\\n",
       "\t163 & UPP2        &  1.062059   & 0.042900000 &  9.993211  \\\\\n",
       "\t253 & CD9         &  1.817403   & 0.002944941 & 10.048876  \\\\\n",
       "\t37 & DBNDD1      &  1.824313   & 0.003734245 & 10.811359  \\\\\n",
       "\t307 & TYROBP      & -2.110031   & 0.001129604 & 12.701733  \\\\\n",
       "\\end{tabular}\n"
      ],
      "text/markdown": [
       "\n",
       "| <!--/--> | gn | fc | pval | bm | \n",
       "|---|---|---|---|---|\n",
       "| 220 | PGLYRP1     |  1.794950   | 0.013660222 |  2.276910   | \n",
       "| 163 | UPP2        |  1.062059   | 0.042900000 |  9.993211   | \n",
       "| 253 | CD9         |  1.817403   | 0.002944941 | 10.048876   | \n",
       "| 37 | DBNDD1      |  1.824313   | 0.003734245 | 10.811359   | \n",
       "| 307 | TYROBP      | -2.110031   | 0.001129604 | 12.701733   | \n",
       "\n",
       "\n"
      ],
      "text/plain": [
       "    gn      fc        pval        bm       \n",
       "220 PGLYRP1  1.794950 0.013660222  2.276910\n",
       "163 UPP2     1.062059 0.042900000  9.993211\n",
       "253 CD9      1.817403 0.002944941 10.048876\n",
       "37  DBNDD1   1.824313 0.003734245 10.811359\n",
       "307 TYROBP  -2.110031 0.001129604 12.701733"
      ]
     },
     "metadata": {},
     "output_type": "display_data"
    }
   ],
   "source": [
    "nav.d14.sub.sig.all.srt <- nav.d14.sub.sig.all[order(nav.d14.sub.sig.all$bm),]\n",
    "head(nav.d14.sub.sig.all, n=5)\n",
    "head(nav.d14.sub.sig.all.srt, n=5)"
   ]
  },
  {
   "cell_type": "markdown",
   "metadata": {},
   "source": [
    "### 5. User defined function and apply"
   ]
  },
  {
   "cell_type": "code",
   "execution_count": 28,
   "metadata": {
    "collapsed": true
   },
   "outputs": [],
   "source": [
    "# Define a function to evaluate fold change, up-regulation/ down-regulation / no fold change\n",
    "fcEval <- function(x) {\n",
    "    if(x>0){\n",
    "        return(\"UP\")\n",
    "    }\n",
    "    else if(x<0){\n",
    "        return(\"DOWN\")\n",
    "    }\n",
    "    else{\n",
    "        return(\"NONE\")\n",
    "    }\n",
    "}"
   ]
  },
  {
   "cell_type": "code",
   "execution_count": 29,
   "metadata": {},
   "outputs": [
    {
     "data": {
      "text/html": [
       "<dl class=dl-horizontal>\n",
       "\t<dt>DOWN</dt>\n",
       "\t\t<dd>116</dd>\n",
       "\t<dt>UP</dt>\n",
       "\t\t<dd>73</dd>\n",
       "</dl>\n"
      ],
      "text/latex": [
       "\\begin{description*}\n",
       "\\item[DOWN] 116\n",
       "\\item[UP] 73\n",
       "\\end{description*}\n"
      ],
      "text/markdown": [
       "DOWN\n",
       ":   116UP\n",
       ":   73\n",
       "\n"
      ],
      "text/plain": [
       "DOWN   UP \n",
       " 116   73 "
      ]
     },
     "metadata": {},
     "output_type": "display_data"
    }
   ],
   "source": [
    "fc.eval.results <- lapply(nav.d14.sub.sig.all$fc,fcEval) # Use lapply to process all the \n",
    "fc.eval.results <- factor(unlist(fc.eval.results)) # Convert list to vector\n",
    "summary(fc.eval.results)"
   ]
  },
  {
   "cell_type": "markdown",
   "metadata": {
    "collapsed": true
   },
   "source": [
    "### 6. Export data"
   ]
  },
  {
   "cell_type": "code",
   "execution_count": 37,
   "metadata": {
    "collapsed": true
   },
   "outputs": [],
   "source": [
    "write.table(nav.d14.sub.sig.all.srt,row.names=FALSE, \"nav.d14.sub.sig.all.srt.csv\", sep=\",\")"
   ]
  },
  {
   "cell_type": "markdown",
   "metadata": {},
   "source": [
    "## Homework"
   ]
  },
  {
   "cell_type": "markdown",
   "metadata": {},
   "source": [
    "### 1. Read both NAV-D14_DEseq2.csv and NAV-MEM-DEseq2.csv into dataframes: df.nav.d14 and df.nav.mem .\n",
    "#### 1.1 Subset both dataframes to include only \"baseMean\", \"log2FoldChange\" and \"padj\"\n",
    "#### 1.2 Merge the two dataframes (Change column names so that there are no repetative column names. The base mean in two spreadsheets are the same so delete the extra one.) into a dataframe df.nav.d14.mem.\n",
    "#### 1.3 Sort the new dataframe on \" baseMean\"."
   ]
  },
  {
   "cell_type": "markdown",
   "metadata": {},
   "source": [
    "## 2. For the merged dataframe:\n",
    "#### 2.1 Define a function to evaluate padj output:\n",
    "    - padj > 0.05: nonsig\n",
    "    - padj <= 0.05: sig\n",
    "#### 2.2 Apply the function to both nav.mem and nav.d14 and create one column to add the evaluation result."
   ]
  },
  {
   "cell_type": "markdown",
   "metadata": {},
   "source": [
    "## 3. Install Swirl,  do \"R programming\" and \"Data analysis\"\n",
    "https://swirlstats.com/students.html"
   ]
  },
  {
   "cell_type": "code",
   "execution_count": null,
   "metadata": {
    "collapsed": true
   },
   "outputs": [],
   "source": []
  }
 ],
 "metadata": {
  "kernelspec": {
   "display_name": "R",
   "language": "R",
   "name": "ir"
  },
  "language_info": {
   "codemirror_mode": "r",
   "file_extension": ".r",
   "mimetype": "text/x-r-source",
   "name": "R",
   "pygments_lexer": "r",
   "version": "3.3.2"
  }
 },
 "nbformat": 4,
 "nbformat_minor": 2
}
