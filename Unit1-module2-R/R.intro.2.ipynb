{
 "cells": [
  {
   "cell_type": "markdown",
   "metadata": {},
   "source": [
    "# R intro\n",
    "Huitian Diao\n",
    "* Reference: \n",
    "* Quick-R by DataCamp\n",
    "* R for Beginners by emmanuel Paradis"
   ]
  },
  {
   "cell_type": "markdown",
   "metadata": {},
   "source": [
    "## Data operations"
   ]
  },
  {
   "cell_type": "markdown",
   "metadata": {},
   "source": [
    "### 1. Operators"
   ]
  },
  {
   "cell_type": "markdown",
   "metadata": {},
   "source": [
    "#### 1.1 Arithemetic operators\n",
    "```\n",
    "x+y\n",
    "x-y\n",
    "x*y\n",
    "x/y\n",
    "x**y # exponentiation\n",
    "x%%y # modulus\n",
    "x%/%y # integer division\n",
    "```"
   ]
  },
  {
   "cell_type": "code",
   "execution_count": 7,
   "metadata": {},
   "outputs": [
    {
     "data": {
      "text/html": [
       "8"
      ],
      "text/latex": [
       "8"
      ],
      "text/markdown": [
       "8"
      ],
      "text/plain": [
       "[1] 8"
      ]
     },
     "metadata": {},
     "output_type": "display_data"
    },
    {
     "data": {
      "text/html": [
       "8"
      ],
      "text/latex": [
       "8"
      ],
      "text/markdown": [
       "8"
      ],
      "text/plain": [
       "[1] 8"
      ]
     },
     "metadata": {},
     "output_type": "display_data"
    },
    {
     "data": {
      "text/html": [
       "-2"
      ],
      "text/latex": [
       "-2"
      ],
      "text/markdown": [
       "-2"
      ],
      "text/plain": [
       "[1] -2"
      ]
     },
     "metadata": {},
     "output_type": "display_data"
    },
    {
     "data": {
      "text/html": [
       "0.6"
      ],
      "text/latex": [
       "0.6"
      ],
      "text/markdown": [
       "0.6"
      ],
      "text/plain": [
       "[1] 0.6"
      ]
     },
     "metadata": {},
     "output_type": "display_data"
    },
    {
     "data": {
      "text/html": [
       "15"
      ],
      "text/latex": [
       "15"
      ],
      "text/markdown": [
       "15"
      ],
      "text/plain": [
       "[1] 15"
      ]
     },
     "metadata": {},
     "output_type": "display_data"
    },
    {
     "data": {
      "text/html": [
       "243"
      ],
      "text/latex": [
       "243"
      ],
      "text/markdown": [
       "243"
      ],
      "text/plain": [
       "[1] 243"
      ]
     },
     "metadata": {},
     "output_type": "display_data"
    },
    {
     "data": {
      "text/html": [
       "3"
      ],
      "text/latex": [
       "3"
      ],
      "text/markdown": [
       "3"
      ],
      "text/plain": [
       "[1] 3"
      ]
     },
     "metadata": {},
     "output_type": "display_data"
    },
    {
     "data": {
      "text/html": [
       "0"
      ],
      "text/latex": [
       "0"
      ],
      "text/markdown": [
       "0"
      ],
      "text/plain": [
       "[1] 0"
      ]
     },
     "metadata": {},
     "output_type": "display_data"
    }
   ],
   "source": [
    "# Try the calculations!\n",
    "x <- 3\n",
    "y <- 5\n",
    "z <- x + y\n",
    "z\n",
    "x+y\n",
    "x-y\n",
    "x/y\n",
    "x*y\n",
    "x**y\n",
    "x%%y\n",
    "x%/%y"
   ]
  },
  {
   "cell_type": "markdown",
   "metadata": {},
   "source": [
    "#### 1.2 Logical operators\n",
    "##### Comparisons:\n",
    "```\n",
    "<\n",
    ">\n",
    "<=\n",
    ">=\n",
    "==\n",
    "!=\n",
    "```"
   ]
  },
  {
   "cell_type": "code",
   "execution_count": 11,
   "metadata": {},
   "outputs": [
    {
     "data": {
      "text/html": [
       "FALSE"
      ],
      "text/latex": [
       "FALSE"
      ],
      "text/markdown": [
       "FALSE"
      ],
      "text/plain": [
       "[1] FALSE"
      ]
     },
     "metadata": {},
     "output_type": "display_data"
    }
   ],
   "source": [
    "# Try comparisons!\n",
    "x <- 5\n",
    "y <- 11\n",
    "z <- x > y\n",
    "z\n"
   ]
  },
  {
   "cell_type": "markdown",
   "metadata": {},
   "source": [
    "##### Logical operations:\n",
    "```\n",
    "!\n",
    "|\n",
    "&\n",
    "isTRUE()\n",
    "```"
   ]
  },
  {
   "cell_type": "code",
   "execution_count": 13,
   "metadata": {},
   "outputs": [
    {
     "data": {
      "text/html": [
       "FALSE"
      ],
      "text/latex": [
       "FALSE"
      ],
      "text/markdown": [
       "FALSE"
      ],
      "text/plain": [
       "[1] FALSE"
      ]
     },
     "metadata": {},
     "output_type": "display_data"
    }
   ],
   "source": [
    "# Try logical operators!\n",
    "like.chocolate <- TRUE\n",
    "like.spam <- FALSE\n",
    "!like.chocolate"
   ]
  },
  {
   "cell_type": "markdown",
   "metadata": {},
   "source": [
    "#### 1.3 Built-in functions"
   ]
  },
  {
   "cell_type": "markdown",
   "metadata": {},
   "source": [
    "##### Math built-in functions"
   ]
  },
  {
   "cell_type": "code",
   "execution_count": 15,
   "metadata": {},
   "outputs": [
    {
     "data": {
      "text/html": [
       "16"
      ],
      "text/latex": [
       "16"
      ],
      "text/markdown": [
       "16"
      ],
      "text/plain": [
       "[1] 16"
      ]
     },
     "metadata": {},
     "output_type": "display_data"
    },
    {
     "data": {
      "text/html": [
       "4"
      ],
      "text/latex": [
       "4"
      ],
      "text/markdown": [
       "4"
      ],
      "text/plain": [
       "[1] 4"
      ]
     },
     "metadata": {},
     "output_type": "display_data"
    },
    {
     "data": {
      "text/html": [
       "2"
      ],
      "text/latex": [
       "2"
      ],
      "text/markdown": [
       "2"
      ],
      "text/plain": [
       "[1] 2"
      ]
     },
     "metadata": {},
     "output_type": "display_data"
    },
    {
     "data": {
      "text/html": [
       "-3"
      ],
      "text/latex": [
       "-3"
      ],
      "text/markdown": [
       "-3"
      ],
      "text/plain": [
       "[1] -3"
      ]
     },
     "metadata": {},
     "output_type": "display_data"
    },
    {
     "data": {
      "text/html": [
       "-2"
      ],
      "text/latex": [
       "-2"
      ],
      "text/markdown": [
       "-2"
      ],
      "text/plain": [
       "[1] -2"
      ]
     },
     "metadata": {},
     "output_type": "display_data"
    },
    {
     "data": {
      "text/html": [
       "1.24"
      ],
      "text/latex": [
       "1.24"
      ],
      "text/markdown": [
       "1.24"
      ],
      "text/plain": [
       "[1] 1.24"
      ]
     },
     "metadata": {},
     "output_type": "display_data"
    },
    {
     "data": {
      "text/html": [
       "1.2"
      ],
      "text/latex": [
       "1.2"
      ],
      "text/markdown": [
       "1.2"
      ],
      "text/plain": [
       "[1] 1.2"
      ]
     },
     "metadata": {},
     "output_type": "display_data"
    },
    {
     "data": {
      "text/html": [
       "-0.957659480323385"
      ],
      "text/latex": [
       "-0.957659480323385"
      ],
      "text/markdown": [
       "-0.957659480323385"
      ],
      "text/plain": [
       "[1] -0.9576595"
      ]
     },
     "metadata": {},
     "output_type": "display_data"
    },
    {
     "data": {
      "text/html": [
       "0.287903316665065"
      ],
      "text/latex": [
       "0.287903316665065"
      ],
      "text/markdown": [
       "0.287903316665065"
      ],
      "text/plain": [
       "[1] 0.2879033"
      ]
     },
     "metadata": {},
     "output_type": "display_data"
    },
    {
     "data": {
      "text/html": [
       "-0.300632242023903"
      ],
      "text/latex": [
       "-0.300632242023903"
      ],
      "text/markdown": [
       "-0.300632242023903"
      ],
      "text/plain": [
       "[1] -0.3006322"
      ]
     },
     "metadata": {},
     "output_type": "display_data"
    },
    {
     "data": {
      "text/html": [
       "0.214304602647005"
      ],
      "text/latex": [
       "0.214304602647005"
      ],
      "text/markdown": [
       "0.214304602647005"
      ],
      "text/plain": [
       "[1] 0.2143046"
      ]
     },
     "metadata": {},
     "output_type": "display_data"
    },
    {
     "data": {
      "text/html": [
       "0.0930713063760635"
      ],
      "text/latex": [
       "0.0930713063760635"
      ],
      "text/markdown": [
       "0.0930713063760635"
      ],
      "text/plain": [
       "[1] 0.09307131"
      ]
     },
     "metadata": {},
     "output_type": "display_data"
    },
    {
     "data": {
      "text/html": [
       "1.12535174719259e-07"
      ],
      "text/latex": [
       "1.12535174719259e-07"
      ],
      "text/markdown": [
       "1.12535174719259e-07"
      ],
      "text/plain": [
       "[1] 1.125352e-07"
      ]
     },
     "metadata": {},
     "output_type": "display_data"
    }
   ],
   "source": [
    "# Have fun with math!\n",
    "x <- -16\n",
    "y <- 1.239\n",
    "z <- -2.251\n",
    "abs(x)\n",
    "sqrt(-x)\n",
    "ceiling(y)\n",
    "floor(z)\n",
    "trunc(z)\n",
    "round(y, digits=2)\n",
    "signif(y, digits=2)\n",
    "cos(x)\n",
    "sin(x)\n",
    "tan(x)\n",
    "log(y)\n",
    "log10(y)\n",
    "exp(x)"
   ]
  },
  {
   "cell_type": "markdown",
   "metadata": {},
   "source": [
    "##### Other useful built-in operators\n",
    "```\n",
    "substr() # Extract part of the string\n",
    "grep() # Search for pattern (It is different from Bash grep!!!)\n",
    "sub() # Replace pattern\n",
    "strsplit() # Split elements fro a string\n",
    "paste() # Concatenate strings\n",
    "toupper() # Convert to upper case\n",
    "tolower() # Convert to lower case\n",
    "```"
   ]
  },
  {
   "cell_type": "code",
   "execution_count": 16,
   "metadata": {},
   "outputs": [
    {
     "data": {
      "text/html": [
       "'Nutel'"
      ],
      "text/latex": [
       "'Nutel'"
      ],
      "text/markdown": [
       "'Nutel'"
      ],
      "text/plain": [
       "[1] \"Nutel\""
      ]
     },
     "metadata": {},
     "output_type": "display_data"
    },
    {
     "data": {
      "text/html": [
       "3"
      ],
      "text/latex": [
       "3"
      ],
      "text/markdown": [
       "3"
      ],
      "text/plain": [
       "[1] 3"
      ]
     },
     "metadata": {},
     "output_type": "display_data"
    },
    {
     "data": {
      "text/html": [
       "'I love cheese. --Nutella'"
      ],
      "text/latex": [
       "'I love cheese. --Nutella'"
      ],
      "text/markdown": [
       "'I love cheese. --Nutella'"
      ],
      "text/plain": [
       "[1] \"I love cheese. --Nutella\""
      ]
     },
     "metadata": {},
     "output_type": "display_data"
    },
    {
     "data": {
      "text/html": [
       "<ol>\n",
       "\t<li><ol class=list-inline>\n",
       "\t<li>'I'</li>\n",
       "\t<li>'love'</li>\n",
       "\t<li>'chocolate.'</li>\n",
       "\t<li>'--Nutella'</li>\n",
       "</ol>\n",
       "</li>\n",
       "</ol>\n"
      ],
      "text/latex": [
       "\\begin{enumerate}\n",
       "\\item \\begin{enumerate*}\n",
       "\\item 'I'\n",
       "\\item 'love'\n",
       "\\item 'chocolate.'\n",
       "\\item '--Nutella'\n",
       "\\end{enumerate*}\n",
       "\n",
       "\\end{enumerate}\n"
      ],
      "text/markdown": [
       "1. 1. 'I'\n",
       "2. 'love'\n",
       "3. 'chocolate.'\n",
       "4. '--Nutella'\n",
       "\n",
       "\n",
       "\n",
       "\n",
       "\n"
      ],
      "text/plain": [
       "[[1]]\n",
       "[1] \"I\"          \"love\"       \"chocolate.\" \"--Nutella\" \n"
      ]
     },
     "metadata": {},
     "output_type": "display_data"
    },
    {
     "data": {
      "text/html": [
       "<ol class=list-inline>\n",
       "\t<li>'1: chocolate'</li>\n",
       "\t<li>'2: peanut'</li>\n",
       "\t<li>'3: cheese'</li>\n",
       "</ol>\n"
      ],
      "text/latex": [
       "\\begin{enumerate*}\n",
       "\\item '1: chocolate'\n",
       "\\item '2: peanut'\n",
       "\\item '3: cheese'\n",
       "\\end{enumerate*}\n"
      ],
      "text/markdown": [
       "1. '1: chocolate'\n",
       "2. '2: peanut'\n",
       "3. '3: cheese'\n",
       "\n",
       "\n"
      ],
      "text/plain": [
       "[1] \"1: chocolate\" \"2: peanut\"    \"3: cheese\"   "
      ]
     },
     "metadata": {},
     "output_type": "display_data"
    },
    {
     "data": {
      "text/html": [
       "'I LOVE CHOCOLATE. --NUTELLA'"
      ],
      "text/latex": [
       "'I LOVE CHOCOLATE. --NUTELLA'"
      ],
      "text/markdown": [
       "'I LOVE CHOCOLATE. --NUTELLA'"
      ],
      "text/plain": [
       "[1] \"I LOVE CHOCOLATE. --NUTELLA\""
      ]
     },
     "metadata": {},
     "output_type": "display_data"
    },
    {
     "data": {
      "text/html": [
       "'i love chocolate. --nutella'"
      ],
      "text/latex": [
       "'i love chocolate. --nutella'"
      ],
      "text/markdown": [
       "'i love chocolate. --nutella'"
      ],
      "text/plain": [
       "[1] \"i love chocolate. --nutella\""
      ]
     },
     "metadata": {},
     "output_type": "display_data"
    }
   ],
   "source": [
    "# Try it out!\n",
    "my.name <- \"Nutella\"\n",
    "my.fav <- c(\"chocolate\", \"peanut\", \"cheese\")\n",
    "my.motto <- \"I love chocolate. --Nutella\"\n",
    "substr(my.name, start=1, stop=5) # Extract from 1st character to 5th character\n",
    "grep(\"cheese\", my.fav) # Find the position of \"cheese\" in the vector\n",
    "sub(\"chocolate\", \"cheese\", my.motto) # Replace \"chocolate\" by \"cheese\" in my.motto\n",
    "strsplit(my.motto, \" \") # Split my.motto by space\n",
    "paste(1:3, my.fav, sep=\": \") # Concatenate elements in vector c(1, 2, 3) with elements in vector my.fav, seprate by \": \"\n",
    "toupper(my.motto)\n",
    "tolower(my.motto)"
   ]
  },
  {
   "cell_type": "markdown",
   "metadata": {},
   "source": [
    "### 2. Control structures"
   ]
  },
  {
   "cell_type": "markdown",
   "metadata": {},
   "source": [
    "#### 2.1 If-else\n",
    "```\n",
    "# if ... else ...\n",
    "like.peanut <- TRUE\n",
    "if (like.peanut){\n",
    "    print(\"I like peanuts!\")\n",
    "} else {\n",
    "    print(\"What do I like?\")\n",
    "}\n",
    "```"
   ]
  },
  {
   "cell_type": "code",
   "execution_count": 26,
   "metadata": {},
   "outputs": [],
   "source": [
    "# Try if... else ... !"
   ]
  },
  {
   "cell_type": "markdown",
   "metadata": {},
   "source": [
    "```\n",
    "# if .. else if ... else ...\n",
    "like.hay <- FALSE\n",
    "like.cotton <- TRUE\n",
    "if (like.hay){\n",
    "    print(\"I like to build my nest with hay!\")\n",
    "} else if (like.cotton){\n",
    "    print(\"I like to build my nest with cotton!\")\n",
    "} else {\n",
    "    print(\"Ummm.... what should I use...?\")\n",
    "}\n",
    "```"
   ]
  },
  {
   "cell_type": "code",
   "execution_count": 27,
   "metadata": {},
   "outputs": [],
   "source": [
    "# Try if ... else if ... else ... !"
   ]
  },
  {
   "cell_type": "markdown",
   "metadata": {},
   "source": [
    "#### 2.2 for\n",
    "```\n",
    "# Looping a numeric vector\n",
    "for (i in c(1:10)) {\n",
    "    print(\"More chocolate please!\")\n",
    "}\n",
    "```"
   ]
  },
  {
   "cell_type": "code",
   "execution_count": 23,
   "metadata": {},
   "outputs": [],
   "source": [
    "# Try numeric vector for loop!"
   ]
  },
  {
   "cell_type": "markdown",
   "metadata": {},
   "source": [
    "```\n",
    "# Looping a character vector\n",
    "my.fav <- c(\"chocolate\", \"peanut\", \"cheese\")\n",
    "for (i in my.fav) {\n",
    "    out.put <- paste(\"More\", i, \"please!\") # Paste 3 elements into a single string\n",
    "    print(out.put)\n",
    "}\n",
    "```"
   ]
  },
  {
   "cell_type": "code",
   "execution_count": 28,
   "metadata": {},
   "outputs": [],
   "source": [
    "# Try character vector for loop!"
   ]
  },
  {
   "cell_type": "markdown",
   "metadata": {},
   "source": [
    "#### 2.3 while\n",
    "```\n",
    "i <- 0\n",
    "while (i < 10) {\n",
    "    print(\"More chocolate please!\")\n",
    "    i <- i+1 # Super important! Or your while loop will never end...\n",
    "}\n",
    "```"
   ]
  },
  {
   "cell_type": "code",
   "execution_count": 30,
   "metadata": {},
   "outputs": [],
   "source": [
    "# Try while!"
   ]
  },
  {
   "cell_type": "markdown",
   "metadata": {},
   "source": [
    "### 3. Import data\n",
    "##### read.csv()\n",
    "```\n",
    "setwd(\"YOUR/DIRECTORY/TO/Unit1-module2-R\")\n",
    "nav.d14 <- read.csv(\"NAV-D14_DEseq2.csv\", header=TRUE)\n",
    "nav.d14\n",
    "class(nav.d14)\n",
    "```"
   ]
  },
  {
   "cell_type": "code",
   "execution_count": 4,
   "metadata": {},
   "outputs": [
    {
     "data": {
      "text/html": [
       "'/home/rtu/Applied-Bioinformatics/Applied-Bioinformatics-HW/Unit1-module2-R'"
      ],
      "text/latex": [
       "'/home/rtu/Applied-Bioinformatics/Applied-Bioinformatics-HW/Unit1-module2-R'"
      ],
      "text/markdown": [
       "'/home/rtu/Applied-Bioinformatics/Applied-Bioinformatics-HW/Unit1-module2-R'"
      ],
      "text/plain": [
       "[1] \"/home/rtu/Applied-Bioinformatics/Applied-Bioinformatics-HW/Unit1-module2-R\""
      ]
     },
     "metadata": {},
     "output_type": "display_data"
    },
    {
     "data": {
      "text/html": [
       "<table>\n",
       "<thead><tr><th scope=col>gene.name</th><th scope=col>baseMean</th><th scope=col>log2FoldChange</th><th scope=col>lfcSE</th><th scope=col>stat</th><th scope=col>pvalue</th><th scope=col>padj</th></tr></thead>\n",
       "<tbody>\n",
       "\t<tr><td>TSPAN6      </td><td>  25.2567446</td><td> 1.302468822</td><td>0.4166710   </td><td> 3.12589265 </td><td>1.772662e-03</td><td>8.209295e-03</td></tr>\n",
       "\t<tr><td>TNMD        </td><td>   0.2885080</td><td>-0.050778715</td><td>0.4875003   </td><td>-0.10416140 </td><td>9.170413e-01</td><td>          NA</td></tr>\n",
       "\t<tr><td>DPM1        </td><td> 163.5077733</td><td>-0.055028326</td><td>0.2492486   </td><td>-0.22077688 </td><td>8.252662e-01</td><td>9.144493e-01</td></tr>\n",
       "\t<tr><td>SCYL3       </td><td> 296.4617127</td><td> 0.273700992</td><td>0.1964251   </td><td> 1.39341172 </td><td>1.634953e-01</td><td>3.312390e-01</td></tr>\n",
       "\t<tr><td>C1orf112    </td><td> 199.0119864</td><td>-1.620120054</td><td>0.2833121   </td><td>-5.71849983 </td><td>1.070000e-08</td><td>1.590000e-07</td></tr>\n",
       "\t<tr><td>FGR         </td><td> 122.7925300</td><td>-5.609368054</td><td>0.6378324   </td><td>-8.79442261 </td><td>1.440000e-18</td><td>7.150000e-17</td></tr>\n",
       "\t<tr><td>CFH         </td><td>  27.4052165</td><td>-0.054920405</td><td>0.7307163   </td><td>-0.07515968 </td><td>9.400877e-01</td><td>9.742211e-01</td></tr>\n",
       "\t<tr><td>FUCA2       </td><td>  72.0384923</td><td>-0.764421958</td><td>0.2747625   </td><td>-2.78211902 </td><td>5.400523e-03</td><td>2.135803e-02</td></tr>\n",
       "\t<tr><td>GCLC        </td><td> 232.8235989</td><td>-0.669026757</td><td>0.2115464   </td><td>-3.16255365 </td><td>1.563919e-03</td><td>7.365785e-03</td></tr>\n",
       "\t<tr><td>NFYA        </td><td> 557.5801607</td><td>-0.007449532</td><td>0.1711775   </td><td>-0.04351935 </td><td>9.652875e-01</td><td>9.850497e-01</td></tr>\n",
       "\t<tr><td>STPG1       </td><td> 108.0712339</td><td> 0.772006269</td><td>0.3912334   </td><td> 1.97326292 </td><td>4.846561e-02</td><td>1.301502e-01</td></tr>\n",
       "\t<tr><td>NIPAL3      </td><td> 810.6565538</td><td> 0.890087366</td><td>0.1898787   </td><td> 4.68766347 </td><td>2.760000e-06</td><td>2.670000e-05</td></tr>\n",
       "\t<tr><td>LAS1L       </td><td> 541.2743227</td><td> 0.243789623</td><td>0.2180177   </td><td> 1.11821039 </td><td>2.634771e-01</td><td>4.646951e-01</td></tr>\n",
       "\t<tr><td>ENPP4       </td><td> 166.5152095</td><td>-1.079758358</td><td>0.2689947   </td><td>-4.01405008 </td><td>5.970000e-05</td><td>4.158050e-04</td></tr>\n",
       "\t<tr><td>SEMA3F      </td><td>   0.7756764</td><td> 0.018149013</td><td>0.6453546   </td><td> 0.02812254 </td><td>9.775644e-01</td><td>          NA</td></tr>\n",
       "\t<tr><td>CFTR        </td><td>  21.0101464</td><td>-0.152174024</td><td>0.5171924   </td><td>-0.29423100 </td><td>7.685814e-01</td><td>8.859011e-01</td></tr>\n",
       "\t<tr><td>ANKIB1      </td><td> 851.1972930</td><td>-0.244293694</td><td>0.1690986   </td><td>-1.44468216 </td><td>1.485472e-01</td><td>3.091941e-01</td></tr>\n",
       "\t<tr><td>CYP51A1     </td><td> 232.2112019</td><td>-0.375691024</td><td>0.2540015   </td><td>-1.47908991 </td><td>1.391163e-01</td><td>2.950932e-01</td></tr>\n",
       "\t<tr><td>KRIT1       </td><td> 646.5918389</td><td> 0.231034820</td><td>0.1921657   </td><td> 1.20226885 </td><td>2.292594e-01</td><td>4.243037e-01</td></tr>\n",
       "\t<tr><td>RAD52       </td><td> 239.2300392</td><td>-0.232950518</td><td>0.3036473   </td><td>-0.76717469 </td><td>4.429777e-01</td><td>6.475512e-01</td></tr>\n",
       "\t<tr><td>MYH16       </td><td>   4.3225472</td><td> 0.928279411</td><td>0.7054943   </td><td> 1.31578591 </td><td>1.882459e-01</td><td>3.681571e-01</td></tr>\n",
       "\t<tr><td>BAD         </td><td>  17.4333591</td><td>-1.057237408</td><td>0.4357804   </td><td>-2.42607817 </td><td>1.526298e-02</td><td>5.114864e-02</td></tr>\n",
       "\t<tr><td>LAP3        </td><td> 365.2625318</td><td>-1.030560331</td><td>0.2976147   </td><td>-3.46273320 </td><td>5.347180e-04</td><td>2.888787e-03</td></tr>\n",
       "\t<tr><td>CD99        </td><td> 643.5209068</td><td>-2.255638839</td><td>0.2760949   </td><td>-8.16979570 </td><td>3.090000e-16</td><td>1.250000e-14</td></tr>\n",
       "\t<tr><td>HS3ST1      </td><td>  14.7767394</td><td> 0.270394524</td><td>0.4535042   </td><td> 0.59623380 </td><td>5.510190e-01</td><td>7.364323e-01</td></tr>\n",
       "\t<tr><td>AOC1        </td><td>   3.1094441</td><td> 0.241018564</td><td>0.6968345   </td><td> 0.34587635 </td><td>7.294356e-01</td><td>8.623265e-01</td></tr>\n",
       "\t<tr><td>WNT16       </td><td>   4.1070926</td><td> 1.180624115</td><td>0.6672935   </td><td> 1.76927268 </td><td>7.684838e-02</td><td>1.870495e-01</td></tr>\n",
       "\t<tr><td>HECW1       </td><td>  17.8167829</td><td>-0.026159525</td><td>0.7386516   </td><td>-0.03541524 </td><td>9.717486e-01</td><td>9.877749e-01</td></tr>\n",
       "\t<tr><td>MAD1L1      </td><td>  99.3680284</td><td>-0.144866391</td><td>0.3272707   </td><td>-0.44265005 </td><td>6.580189e-01</td><td>8.151420e-01</td></tr>\n",
       "\t<tr><td>LASP1       </td><td>1961.0769280</td><td>-1.336887734</td><td>0.2236797   </td><td>-5.97679587 </td><td>2.280000e-09</td><td>3.760000e-08</td></tr>\n",
       "\t<tr><td>⋮</td><td>⋮</td><td>⋮</td><td>⋮</td><td>⋮</td><td>⋮</td><td>⋮</td></tr>\n",
       "\t<tr><td>POU2F2      </td><td> 463.1803447</td><td> 0.53986676 </td><td>0.2563443   </td><td>  2.10602249</td><td>3.520240e-02</td><td>1.006744e-01</td></tr>\n",
       "\t<tr><td>BRD9        </td><td> 281.2836333</td><td> 0.34280709 </td><td>0.2197456   </td><td>  1.56001805</td><td>1.187556e-01</td><td>2.619995e-01</td></tr>\n",
       "\t<tr><td>SNX1        </td><td>1190.4092840</td><td> 0.01255498 </td><td>0.3117198   </td><td>  0.04027648</td><td>9.678727e-01</td><td>9.858765e-01</td></tr>\n",
       "\t<tr><td>TBPL1       </td><td> 175.5906321</td><td>-0.62320065 </td><td>0.2586071   </td><td> -2.40983538</td><td>1.595972e-02</td><td>5.305227e-02</td></tr>\n",
       "\t<tr><td>ARNTL2      </td><td>  74.6212440</td><td>-2.76567200 </td><td>0.4814649   </td><td> -5.74428622</td><td>9.230000e-09</td><td>1.380000e-07</td></tr>\n",
       "\t<tr><td>BCLAF1      </td><td>6448.8751000</td><td> 0.02525367 </td><td>0.2124010   </td><td>  0.11889616</td><td>9.053576e-01</td><td>9.572118e-01</td></tr>\n",
       "\t<tr><td>SLC39A9     </td><td> 488.5664401</td><td>-0.49177374 </td><td>0.1882554   </td><td> -2.61226964</td><td>8.994328e-03</td><td>3.281471e-02</td></tr>\n",
       "\t<tr><td>ANK1        </td><td>  20.2343537</td><td> 0.57319429 </td><td>0.4799837   </td><td>  1.19419521</td><td>2.324016e-01</td><td>4.280409e-01</td></tr>\n",
       "\t<tr><td>IBSP        </td><td>   0.5011933</td><td>-0.10374941 </td><td>0.5662591   </td><td> -0.18321899</td><td>8.546262e-01</td><td>          NA</td></tr>\n",
       "\t<tr><td>TFB1M       </td><td> 131.0923289</td><td> 0.31741102 </td><td>0.2100039   </td><td>  1.51145279</td><td>1.306731e-01</td><td>2.814311e-01</td></tr>\n",
       "\t<tr><td>RABEP1      </td><td>1068.0602190</td><td>-0.21975993 </td><td>0.1682325   </td><td> -1.30628694</td><td>1.914550e-01</td><td>3.729001e-01</td></tr>\n",
       "\t<tr><td>HMGB3       </td><td>  84.3692469</td><td>-4.38728848 </td><td>0.4200637   </td><td>-10.44434052</td><td>1.560000e-25</td><td>1.450000e-23</td></tr>\n",
       "\t<tr><td>NUP160      </td><td> 822.1479147</td><td> 0.41786705 </td><td>0.2635444   </td><td>  1.58556612</td><td>1.128378e-01</td><td>2.519199e-01</td></tr>\n",
       "\t<tr><td>BAK1        </td><td> 120.1631076</td><td>-1.71103311 </td><td>0.2624051   </td><td> -6.52057921</td><td>7.000000e-11</td><td>1.480000e-09</td></tr>\n",
       "\t<tr><td>MUSK        </td><td>   1.3780993</td><td> 0.48417947 </td><td>0.7300010   </td><td>  0.66325862</td><td>5.071649e-01</td><td>          NA</td></tr>\n",
       "\t<tr><td>IKZF2       </td><td> 289.8239287</td><td>-1.63161054 </td><td>0.3979249   </td><td> -4.10029788</td><td>4.130000e-05</td><td>2.998390e-04</td></tr>\n",
       "\t<tr><td>GRN         </td><td>  80.1371645</td><td>-1.09598517 </td><td>0.5196457   </td><td> -2.10910091</td><td>3.493587e-02</td><td>1.000973e-01</td></tr>\n",
       "\t<tr><td>FAM13B      </td><td> 965.9769543</td><td>-0.12459964 </td><td>0.2179400   </td><td> -0.57171524</td><td>5.675149e-01</td><td>7.485698e-01</td></tr>\n",
       "\t<tr><td>ARHGAP31    </td><td>  66.8541134</td><td>-0.70478574 </td><td>0.4528221   </td><td> -1.55642967</td><td>1.196060e-01</td><td>2.632495e-01</td></tr>\n",
       "\t<tr><td>CENPQ       </td><td>  24.1658529</td><td>-0.99668553 </td><td>0.4652864   </td><td> -2.14209029</td><td>3.218622e-02</td><td>9.348970e-02</td></tr>\n",
       "\t<tr><td>SARS        </td><td> 383.4006187</td><td>-0.01094582 </td><td>0.1850942   </td><td> -0.05913650</td><td>9.528434e-01</td><td>9.797778e-01</td></tr>\n",
       "\t<tr><td>RANBP3      </td><td> 379.8428768</td><td> 0.08522877 </td><td>0.1708371   </td><td>  0.49888897</td><td>6.178576e-01</td><td>7.848873e-01</td></tr>\n",
       "\t<tr><td>ARID4A      </td><td>1435.3239890</td><td> 0.04869732 </td><td>0.1904170   </td><td>  0.25574039</td><td>7.981513e-01</td><td>9.010712e-01</td></tr>\n",
       "\t<tr><td>EIPR1       </td><td>  87.8650442</td><td>-0.95503525 </td><td>0.2356304   </td><td> -4.05310668</td><td>5.050000e-05</td><td>3.582930e-04</td></tr>\n",
       "\t<tr><td>PNPLA6      </td><td> 146.4175068</td><td>-0.14635328 </td><td>0.2900234   </td><td> -0.50462571</td><td>6.138218e-01</td><td>7.821706e-01</td></tr>\n",
       "\t<tr><td>IFT88       </td><td> 111.7153911</td><td> 0.60100567 </td><td>0.3082850   </td><td>  1.94951303</td><td>5.123419e-02</td><td>1.361938e-01</td></tr>\n",
       "\t<tr><td>ALG1        </td><td>  72.3719334</td><td> 0.33922670 </td><td>0.2449200   </td><td>  1.38505115</td><td>1.660368e-01</td><td>3.352177e-01</td></tr>\n",
       "\t<tr><td>ZCCHC8      </td><td> 270.0027762</td><td>-0.22916478 </td><td>0.1966266   </td><td> -1.16548193</td><td>2.438240e-01</td><td>4.418914e-01</td></tr>\n",
       "\t<tr><td>ABCF2       </td><td> 288.4767585</td><td> 0.10264088 </td><td>0.2711067   </td><td>  0.37859951</td><td>7.049853e-01</td><td>8.456544e-01</td></tr>\n",
       "\t<tr><td>CHPF2       </td><td> 171.7401625</td><td>-0.07133449 </td><td>0.2608077   </td><td> -0.27351377</td><td>7.844583e-01</td><td>8.936611e-01</td></tr>\n",
       "</tbody>\n",
       "</table>\n"
      ],
      "text/latex": [
       "\\begin{tabular}{r|lllllll}\n",
       " gene.name & baseMean & log2FoldChange & lfcSE & stat & pvalue & padj\\\\\n",
       "\\hline\n",
       "\t TSPAN6       &   25.2567446 &  1.302468822 & 0.4166710    &  3.12589265  & 1.772662e-03 & 8.209295e-03\\\\\n",
       "\t TNMD         &    0.2885080 & -0.050778715 & 0.4875003    & -0.10416140  & 9.170413e-01 &           NA\\\\\n",
       "\t DPM1         &  163.5077733 & -0.055028326 & 0.2492486    & -0.22077688  & 8.252662e-01 & 9.144493e-01\\\\\n",
       "\t SCYL3        &  296.4617127 &  0.273700992 & 0.1964251    &  1.39341172  & 1.634953e-01 & 3.312390e-01\\\\\n",
       "\t C1orf112     &  199.0119864 & -1.620120054 & 0.2833121    & -5.71849983  & 1.070000e-08 & 1.590000e-07\\\\\n",
       "\t FGR          &  122.7925300 & -5.609368054 & 0.6378324    & -8.79442261  & 1.440000e-18 & 7.150000e-17\\\\\n",
       "\t CFH          &   27.4052165 & -0.054920405 & 0.7307163    & -0.07515968  & 9.400877e-01 & 9.742211e-01\\\\\n",
       "\t FUCA2        &   72.0384923 & -0.764421958 & 0.2747625    & -2.78211902  & 5.400523e-03 & 2.135803e-02\\\\\n",
       "\t GCLC         &  232.8235989 & -0.669026757 & 0.2115464    & -3.16255365  & 1.563919e-03 & 7.365785e-03\\\\\n",
       "\t NFYA         &  557.5801607 & -0.007449532 & 0.1711775    & -0.04351935  & 9.652875e-01 & 9.850497e-01\\\\\n",
       "\t STPG1        &  108.0712339 &  0.772006269 & 0.3912334    &  1.97326292  & 4.846561e-02 & 1.301502e-01\\\\\n",
       "\t NIPAL3       &  810.6565538 &  0.890087366 & 0.1898787    &  4.68766347  & 2.760000e-06 & 2.670000e-05\\\\\n",
       "\t LAS1L        &  541.2743227 &  0.243789623 & 0.2180177    &  1.11821039  & 2.634771e-01 & 4.646951e-01\\\\\n",
       "\t ENPP4        &  166.5152095 & -1.079758358 & 0.2689947    & -4.01405008  & 5.970000e-05 & 4.158050e-04\\\\\n",
       "\t SEMA3F       &    0.7756764 &  0.018149013 & 0.6453546    &  0.02812254  & 9.775644e-01 &           NA\\\\\n",
       "\t CFTR         &   21.0101464 & -0.152174024 & 0.5171924    & -0.29423100  & 7.685814e-01 & 8.859011e-01\\\\\n",
       "\t ANKIB1       &  851.1972930 & -0.244293694 & 0.1690986    & -1.44468216  & 1.485472e-01 & 3.091941e-01\\\\\n",
       "\t CYP51A1      &  232.2112019 & -0.375691024 & 0.2540015    & -1.47908991  & 1.391163e-01 & 2.950932e-01\\\\\n",
       "\t KRIT1        &  646.5918389 &  0.231034820 & 0.1921657    &  1.20226885  & 2.292594e-01 & 4.243037e-01\\\\\n",
       "\t RAD52        &  239.2300392 & -0.232950518 & 0.3036473    & -0.76717469  & 4.429777e-01 & 6.475512e-01\\\\\n",
       "\t MYH16        &    4.3225472 &  0.928279411 & 0.7054943    &  1.31578591  & 1.882459e-01 & 3.681571e-01\\\\\n",
       "\t BAD          &   17.4333591 & -1.057237408 & 0.4357804    & -2.42607817  & 1.526298e-02 & 5.114864e-02\\\\\n",
       "\t LAP3         &  365.2625318 & -1.030560331 & 0.2976147    & -3.46273320  & 5.347180e-04 & 2.888787e-03\\\\\n",
       "\t CD99         &  643.5209068 & -2.255638839 & 0.2760949    & -8.16979570  & 3.090000e-16 & 1.250000e-14\\\\\n",
       "\t HS3ST1       &   14.7767394 &  0.270394524 & 0.4535042    &  0.59623380  & 5.510190e-01 & 7.364323e-01\\\\\n",
       "\t AOC1         &    3.1094441 &  0.241018564 & 0.6968345    &  0.34587635  & 7.294356e-01 & 8.623265e-01\\\\\n",
       "\t WNT16        &    4.1070926 &  1.180624115 & 0.6672935    &  1.76927268  & 7.684838e-02 & 1.870495e-01\\\\\n",
       "\t HECW1        &   17.8167829 & -0.026159525 & 0.7386516    & -0.03541524  & 9.717486e-01 & 9.877749e-01\\\\\n",
       "\t MAD1L1       &   99.3680284 & -0.144866391 & 0.3272707    & -0.44265005  & 6.580189e-01 & 8.151420e-01\\\\\n",
       "\t LASP1        & 1961.0769280 & -1.336887734 & 0.2236797    & -5.97679587  & 2.280000e-09 & 3.760000e-08\\\\\n",
       "\t ⋮ & ⋮ & ⋮ & ⋮ & ⋮ & ⋮ & ⋮\\\\\n",
       "\t POU2F2       &  463.1803447 &  0.53986676  & 0.2563443    &   2.10602249 & 3.520240e-02 & 1.006744e-01\\\\\n",
       "\t BRD9         &  281.2836333 &  0.34280709  & 0.2197456    &   1.56001805 & 1.187556e-01 & 2.619995e-01\\\\\n",
       "\t SNX1         & 1190.4092840 &  0.01255498  & 0.3117198    &   0.04027648 & 9.678727e-01 & 9.858765e-01\\\\\n",
       "\t TBPL1        &  175.5906321 & -0.62320065  & 0.2586071    &  -2.40983538 & 1.595972e-02 & 5.305227e-02\\\\\n",
       "\t ARNTL2       &   74.6212440 & -2.76567200  & 0.4814649    &  -5.74428622 & 9.230000e-09 & 1.380000e-07\\\\\n",
       "\t BCLAF1       & 6448.8751000 &  0.02525367  & 0.2124010    &   0.11889616 & 9.053576e-01 & 9.572118e-01\\\\\n",
       "\t SLC39A9      &  488.5664401 & -0.49177374  & 0.1882554    &  -2.61226964 & 8.994328e-03 & 3.281471e-02\\\\\n",
       "\t ANK1         &   20.2343537 &  0.57319429  & 0.4799837    &   1.19419521 & 2.324016e-01 & 4.280409e-01\\\\\n",
       "\t IBSP         &    0.5011933 & -0.10374941  & 0.5662591    &  -0.18321899 & 8.546262e-01 &           NA\\\\\n",
       "\t TFB1M        &  131.0923289 &  0.31741102  & 0.2100039    &   1.51145279 & 1.306731e-01 & 2.814311e-01\\\\\n",
       "\t RABEP1       & 1068.0602190 & -0.21975993  & 0.1682325    &  -1.30628694 & 1.914550e-01 & 3.729001e-01\\\\\n",
       "\t HMGB3        &   84.3692469 & -4.38728848  & 0.4200637    & -10.44434052 & 1.560000e-25 & 1.450000e-23\\\\\n",
       "\t NUP160       &  822.1479147 &  0.41786705  & 0.2635444    &   1.58556612 & 1.128378e-01 & 2.519199e-01\\\\\n",
       "\t BAK1         &  120.1631076 & -1.71103311  & 0.2624051    &  -6.52057921 & 7.000000e-11 & 1.480000e-09\\\\\n",
       "\t MUSK         &    1.3780993 &  0.48417947  & 0.7300010    &   0.66325862 & 5.071649e-01 &           NA\\\\\n",
       "\t IKZF2        &  289.8239287 & -1.63161054  & 0.3979249    &  -4.10029788 & 4.130000e-05 & 2.998390e-04\\\\\n",
       "\t GRN          &   80.1371645 & -1.09598517  & 0.5196457    &  -2.10910091 & 3.493587e-02 & 1.000973e-01\\\\\n",
       "\t FAM13B       &  965.9769543 & -0.12459964  & 0.2179400    &  -0.57171524 & 5.675149e-01 & 7.485698e-01\\\\\n",
       "\t ARHGAP31     &   66.8541134 & -0.70478574  & 0.4528221    &  -1.55642967 & 1.196060e-01 & 2.632495e-01\\\\\n",
       "\t CENPQ        &   24.1658529 & -0.99668553  & 0.4652864    &  -2.14209029 & 3.218622e-02 & 9.348970e-02\\\\\n",
       "\t SARS         &  383.4006187 & -0.01094582  & 0.1850942    &  -0.05913650 & 9.528434e-01 & 9.797778e-01\\\\\n",
       "\t RANBP3       &  379.8428768 &  0.08522877  & 0.1708371    &   0.49888897 & 6.178576e-01 & 7.848873e-01\\\\\n",
       "\t ARID4A       & 1435.3239890 &  0.04869732  & 0.1904170    &   0.25574039 & 7.981513e-01 & 9.010712e-01\\\\\n",
       "\t EIPR1        &   87.8650442 & -0.95503525  & 0.2356304    &  -4.05310668 & 5.050000e-05 & 3.582930e-04\\\\\n",
       "\t PNPLA6       &  146.4175068 & -0.14635328  & 0.2900234    &  -0.50462571 & 6.138218e-01 & 7.821706e-01\\\\\n",
       "\t IFT88        &  111.7153911 &  0.60100567  & 0.3082850    &   1.94951303 & 5.123419e-02 & 1.361938e-01\\\\\n",
       "\t ALG1         &   72.3719334 &  0.33922670  & 0.2449200    &   1.38505115 & 1.660368e-01 & 3.352177e-01\\\\\n",
       "\t ZCCHC8       &  270.0027762 & -0.22916478  & 0.1966266    &  -1.16548193 & 2.438240e-01 & 4.418914e-01\\\\\n",
       "\t ABCF2        &  288.4767585 &  0.10264088  & 0.2711067    &   0.37859951 & 7.049853e-01 & 8.456544e-01\\\\\n",
       "\t CHPF2        &  171.7401625 & -0.07133449  & 0.2608077    &  -0.27351377 & 7.844583e-01 & 8.936611e-01\\\\\n",
       "\\end{tabular}\n"
      ],
      "text/markdown": [
       "\n",
       "gene.name | baseMean | log2FoldChange | lfcSE | stat | pvalue | padj | \n",
       "|---|---|---|---|---|---|---|---|---|---|---|---|---|---|---|---|---|---|---|---|---|---|---|---|---|---|---|---|---|---|---|---|---|---|---|---|---|---|---|---|---|---|---|---|---|---|---|---|---|---|---|---|---|---|---|---|---|---|---|---|---|\n",
       "| TSPAN6       |   25.2567446 |  1.302468822 | 0.4166710    |  3.12589265  | 1.772662e-03 | 8.209295e-03 | \n",
       "| TNMD         |    0.2885080 | -0.050778715 | 0.4875003    | -0.10416140  | 9.170413e-01 |           NA | \n",
       "| DPM1         |  163.5077733 | -0.055028326 | 0.2492486    | -0.22077688  | 8.252662e-01 | 9.144493e-01 | \n",
       "| SCYL3        |  296.4617127 |  0.273700992 | 0.1964251    |  1.39341172  | 1.634953e-01 | 3.312390e-01 | \n",
       "| C1orf112     |  199.0119864 | -1.620120054 | 0.2833121    | -5.71849983  | 1.070000e-08 | 1.590000e-07 | \n",
       "| FGR          |  122.7925300 | -5.609368054 | 0.6378324    | -8.79442261  | 1.440000e-18 | 7.150000e-17 | \n",
       "| CFH          |   27.4052165 | -0.054920405 | 0.7307163    | -0.07515968  | 9.400877e-01 | 9.742211e-01 | \n",
       "| FUCA2        |   72.0384923 | -0.764421958 | 0.2747625    | -2.78211902  | 5.400523e-03 | 2.135803e-02 | \n",
       "| GCLC         |  232.8235989 | -0.669026757 | 0.2115464    | -3.16255365  | 1.563919e-03 | 7.365785e-03 | \n",
       "| NFYA         |  557.5801607 | -0.007449532 | 0.1711775    | -0.04351935  | 9.652875e-01 | 9.850497e-01 | \n",
       "| STPG1        |  108.0712339 |  0.772006269 | 0.3912334    |  1.97326292  | 4.846561e-02 | 1.301502e-01 | \n",
       "| NIPAL3       |  810.6565538 |  0.890087366 | 0.1898787    |  4.68766347  | 2.760000e-06 | 2.670000e-05 | \n",
       "| LAS1L        |  541.2743227 |  0.243789623 | 0.2180177    |  1.11821039  | 2.634771e-01 | 4.646951e-01 | \n",
       "| ENPP4        |  166.5152095 | -1.079758358 | 0.2689947    | -4.01405008  | 5.970000e-05 | 4.158050e-04 | \n",
       "| SEMA3F       |    0.7756764 |  0.018149013 | 0.6453546    |  0.02812254  | 9.775644e-01 |           NA | \n",
       "| CFTR         |   21.0101464 | -0.152174024 | 0.5171924    | -0.29423100  | 7.685814e-01 | 8.859011e-01 | \n",
       "| ANKIB1       |  851.1972930 | -0.244293694 | 0.1690986    | -1.44468216  | 1.485472e-01 | 3.091941e-01 | \n",
       "| CYP51A1      |  232.2112019 | -0.375691024 | 0.2540015    | -1.47908991  | 1.391163e-01 | 2.950932e-01 | \n",
       "| KRIT1        |  646.5918389 |  0.231034820 | 0.1921657    |  1.20226885  | 2.292594e-01 | 4.243037e-01 | \n",
       "| RAD52        |  239.2300392 | -0.232950518 | 0.3036473    | -0.76717469  | 4.429777e-01 | 6.475512e-01 | \n",
       "| MYH16        |    4.3225472 |  0.928279411 | 0.7054943    |  1.31578591  | 1.882459e-01 | 3.681571e-01 | \n",
       "| BAD          |   17.4333591 | -1.057237408 | 0.4357804    | -2.42607817  | 1.526298e-02 | 5.114864e-02 | \n",
       "| LAP3         |  365.2625318 | -1.030560331 | 0.2976147    | -3.46273320  | 5.347180e-04 | 2.888787e-03 | \n",
       "| CD99         |  643.5209068 | -2.255638839 | 0.2760949    | -8.16979570  | 3.090000e-16 | 1.250000e-14 | \n",
       "| HS3ST1       |   14.7767394 |  0.270394524 | 0.4535042    |  0.59623380  | 5.510190e-01 | 7.364323e-01 | \n",
       "| AOC1         |    3.1094441 |  0.241018564 | 0.6968345    |  0.34587635  | 7.294356e-01 | 8.623265e-01 | \n",
       "| WNT16        |    4.1070926 |  1.180624115 | 0.6672935    |  1.76927268  | 7.684838e-02 | 1.870495e-01 | \n",
       "| HECW1        |   17.8167829 | -0.026159525 | 0.7386516    | -0.03541524  | 9.717486e-01 | 9.877749e-01 | \n",
       "| MAD1L1       |   99.3680284 | -0.144866391 | 0.3272707    | -0.44265005  | 6.580189e-01 | 8.151420e-01 | \n",
       "| LASP1        | 1961.0769280 | -1.336887734 | 0.2236797    | -5.97679587  | 2.280000e-09 | 3.760000e-08 | \n",
       "| ⋮ | ⋮ | ⋮ | ⋮ | ⋮ | ⋮ | ⋮ | \n",
       "| POU2F2       |  463.1803447 |  0.53986676  | 0.2563443    |   2.10602249 | 3.520240e-02 | 1.006744e-01 | \n",
       "| BRD9         |  281.2836333 |  0.34280709  | 0.2197456    |   1.56001805 | 1.187556e-01 | 2.619995e-01 | \n",
       "| SNX1         | 1190.4092840 |  0.01255498  | 0.3117198    |   0.04027648 | 9.678727e-01 | 9.858765e-01 | \n",
       "| TBPL1        |  175.5906321 | -0.62320065  | 0.2586071    |  -2.40983538 | 1.595972e-02 | 5.305227e-02 | \n",
       "| ARNTL2       |   74.6212440 | -2.76567200  | 0.4814649    |  -5.74428622 | 9.230000e-09 | 1.380000e-07 | \n",
       "| BCLAF1       | 6448.8751000 |  0.02525367  | 0.2124010    |   0.11889616 | 9.053576e-01 | 9.572118e-01 | \n",
       "| SLC39A9      |  488.5664401 | -0.49177374  | 0.1882554    |  -2.61226964 | 8.994328e-03 | 3.281471e-02 | \n",
       "| ANK1         |   20.2343537 |  0.57319429  | 0.4799837    |   1.19419521 | 2.324016e-01 | 4.280409e-01 | \n",
       "| IBSP         |    0.5011933 | -0.10374941  | 0.5662591    |  -0.18321899 | 8.546262e-01 |           NA | \n",
       "| TFB1M        |  131.0923289 |  0.31741102  | 0.2100039    |   1.51145279 | 1.306731e-01 | 2.814311e-01 | \n",
       "| RABEP1       | 1068.0602190 | -0.21975993  | 0.1682325    |  -1.30628694 | 1.914550e-01 | 3.729001e-01 | \n",
       "| HMGB3        |   84.3692469 | -4.38728848  | 0.4200637    | -10.44434052 | 1.560000e-25 | 1.450000e-23 | \n",
       "| NUP160       |  822.1479147 |  0.41786705  | 0.2635444    |   1.58556612 | 1.128378e-01 | 2.519199e-01 | \n",
       "| BAK1         |  120.1631076 | -1.71103311  | 0.2624051    |  -6.52057921 | 7.000000e-11 | 1.480000e-09 | \n",
       "| MUSK         |    1.3780993 |  0.48417947  | 0.7300010    |   0.66325862 | 5.071649e-01 |           NA | \n",
       "| IKZF2        |  289.8239287 | -1.63161054  | 0.3979249    |  -4.10029788 | 4.130000e-05 | 2.998390e-04 | \n",
       "| GRN          |   80.1371645 | -1.09598517  | 0.5196457    |  -2.10910091 | 3.493587e-02 | 1.000973e-01 | \n",
       "| FAM13B       |  965.9769543 | -0.12459964  | 0.2179400    |  -0.57171524 | 5.675149e-01 | 7.485698e-01 | \n",
       "| ARHGAP31     |   66.8541134 | -0.70478574  | 0.4528221    |  -1.55642967 | 1.196060e-01 | 2.632495e-01 | \n",
       "| CENPQ        |   24.1658529 | -0.99668553  | 0.4652864    |  -2.14209029 | 3.218622e-02 | 9.348970e-02 | \n",
       "| SARS         |  383.4006187 | -0.01094582  | 0.1850942    |  -0.05913650 | 9.528434e-01 | 9.797778e-01 | \n",
       "| RANBP3       |  379.8428768 |  0.08522877  | 0.1708371    |   0.49888897 | 6.178576e-01 | 7.848873e-01 | \n",
       "| ARID4A       | 1435.3239890 |  0.04869732  | 0.1904170    |   0.25574039 | 7.981513e-01 | 9.010712e-01 | \n",
       "| EIPR1        |   87.8650442 | -0.95503525  | 0.2356304    |  -4.05310668 | 5.050000e-05 | 3.582930e-04 | \n",
       "| PNPLA6       |  146.4175068 | -0.14635328  | 0.2900234    |  -0.50462571 | 6.138218e-01 | 7.821706e-01 | \n",
       "| IFT88        |  111.7153911 |  0.60100567  | 0.3082850    |   1.94951303 | 5.123419e-02 | 1.361938e-01 | \n",
       "| ALG1         |   72.3719334 |  0.33922670  | 0.2449200    |   1.38505115 | 1.660368e-01 | 3.352177e-01 | \n",
       "| ZCCHC8       |  270.0027762 | -0.22916478  | 0.1966266    |  -1.16548193 | 2.438240e-01 | 4.418914e-01 | \n",
       "| ABCF2        |  288.4767585 |  0.10264088  | 0.2711067    |   0.37859951 | 7.049853e-01 | 8.456544e-01 | \n",
       "| CHPF2        |  171.7401625 | -0.07133449  | 0.2608077    |  -0.27351377 | 7.844583e-01 | 8.936611e-01 | \n",
       "\n",
       "\n"
      ],
      "text/plain": [
       "    gene.name baseMean     log2FoldChange lfcSE     stat         pvalue      \n",
       "1   TSPAN6      25.2567446  1.302468822   0.4166710  3.12589265  1.772662e-03\n",
       "2   TNMD         0.2885080 -0.050778715   0.4875003 -0.10416140  9.170413e-01\n",
       "3   DPM1       163.5077733 -0.055028326   0.2492486 -0.22077688  8.252662e-01\n",
       "4   SCYL3      296.4617127  0.273700992   0.1964251  1.39341172  1.634953e-01\n",
       "5   C1orf112   199.0119864 -1.620120054   0.2833121 -5.71849983  1.070000e-08\n",
       "6   FGR        122.7925300 -5.609368054   0.6378324 -8.79442261  1.440000e-18\n",
       "7   CFH         27.4052165 -0.054920405   0.7307163 -0.07515968  9.400877e-01\n",
       "8   FUCA2       72.0384923 -0.764421958   0.2747625 -2.78211902  5.400523e-03\n",
       "9   GCLC       232.8235989 -0.669026757   0.2115464 -3.16255365  1.563919e-03\n",
       "10  NFYA       557.5801607 -0.007449532   0.1711775 -0.04351935  9.652875e-01\n",
       "11  STPG1      108.0712339  0.772006269   0.3912334  1.97326292  4.846561e-02\n",
       "12  NIPAL3     810.6565538  0.890087366   0.1898787  4.68766347  2.760000e-06\n",
       "13  LAS1L      541.2743227  0.243789623   0.2180177  1.11821039  2.634771e-01\n",
       "14  ENPP4      166.5152095 -1.079758358   0.2689947 -4.01405008  5.970000e-05\n",
       "15  SEMA3F       0.7756764  0.018149013   0.6453546  0.02812254  9.775644e-01\n",
       "16  CFTR        21.0101464 -0.152174024   0.5171924 -0.29423100  7.685814e-01\n",
       "17  ANKIB1     851.1972930 -0.244293694   0.1690986 -1.44468216  1.485472e-01\n",
       "18  CYP51A1    232.2112019 -0.375691024   0.2540015 -1.47908991  1.391163e-01\n",
       "19  KRIT1      646.5918389  0.231034820   0.1921657  1.20226885  2.292594e-01\n",
       "20  RAD52      239.2300392 -0.232950518   0.3036473 -0.76717469  4.429777e-01\n",
       "21  MYH16        4.3225472  0.928279411   0.7054943  1.31578591  1.882459e-01\n",
       "22  BAD         17.4333591 -1.057237408   0.4357804 -2.42607817  1.526298e-02\n",
       "23  LAP3       365.2625318 -1.030560331   0.2976147 -3.46273320  5.347180e-04\n",
       "24  CD99       643.5209068 -2.255638839   0.2760949 -8.16979570  3.090000e-16\n",
       "25  HS3ST1      14.7767394  0.270394524   0.4535042  0.59623380  5.510190e-01\n",
       "26  AOC1         3.1094441  0.241018564   0.6968345  0.34587635  7.294356e-01\n",
       "27  WNT16        4.1070926  1.180624115   0.6672935  1.76927268  7.684838e-02\n",
       "28  HECW1       17.8167829 -0.026159525   0.7386516 -0.03541524  9.717486e-01\n",
       "29  MAD1L1      99.3680284 -0.144866391   0.3272707 -0.44265005  6.580189e-01\n",
       "30  LASP1     1961.0769280 -1.336887734   0.2236797 -5.97679587  2.280000e-09\n",
       "⋮   ⋮         ⋮            ⋮              ⋮         ⋮            ⋮           \n",
       "471 POU2F2     463.1803447  0.53986676    0.2563443   2.10602249 3.520240e-02\n",
       "472 BRD9       281.2836333  0.34280709    0.2197456   1.56001805 1.187556e-01\n",
       "473 SNX1      1190.4092840  0.01255498    0.3117198   0.04027648 9.678727e-01\n",
       "474 TBPL1      175.5906321 -0.62320065    0.2586071  -2.40983538 1.595972e-02\n",
       "475 ARNTL2      74.6212440 -2.76567200    0.4814649  -5.74428622 9.230000e-09\n",
       "476 BCLAF1    6448.8751000  0.02525367    0.2124010   0.11889616 9.053576e-01\n",
       "477 SLC39A9    488.5664401 -0.49177374    0.1882554  -2.61226964 8.994328e-03\n",
       "478 ANK1        20.2343537  0.57319429    0.4799837   1.19419521 2.324016e-01\n",
       "479 IBSP         0.5011933 -0.10374941    0.5662591  -0.18321899 8.546262e-01\n",
       "480 TFB1M      131.0923289  0.31741102    0.2100039   1.51145279 1.306731e-01\n",
       "481 RABEP1    1068.0602190 -0.21975993    0.1682325  -1.30628694 1.914550e-01\n",
       "482 HMGB3       84.3692469 -4.38728848    0.4200637 -10.44434052 1.560000e-25\n",
       "483 NUP160     822.1479147  0.41786705    0.2635444   1.58556612 1.128378e-01\n",
       "484 BAK1       120.1631076 -1.71103311    0.2624051  -6.52057921 7.000000e-11\n",
       "485 MUSK         1.3780993  0.48417947    0.7300010   0.66325862 5.071649e-01\n",
       "486 IKZF2      289.8239287 -1.63161054    0.3979249  -4.10029788 4.130000e-05\n",
       "487 GRN         80.1371645 -1.09598517    0.5196457  -2.10910091 3.493587e-02\n",
       "488 FAM13B     965.9769543 -0.12459964    0.2179400  -0.57171524 5.675149e-01\n",
       "489 ARHGAP31    66.8541134 -0.70478574    0.4528221  -1.55642967 1.196060e-01\n",
       "490 CENPQ       24.1658529 -0.99668553    0.4652864  -2.14209029 3.218622e-02\n",
       "491 SARS       383.4006187 -0.01094582    0.1850942  -0.05913650 9.528434e-01\n",
       "492 RANBP3     379.8428768  0.08522877    0.1708371   0.49888897 6.178576e-01\n",
       "493 ARID4A    1435.3239890  0.04869732    0.1904170   0.25574039 7.981513e-01\n",
       "494 EIPR1       87.8650442 -0.95503525    0.2356304  -4.05310668 5.050000e-05\n",
       "495 PNPLA6     146.4175068 -0.14635328    0.2900234  -0.50462571 6.138218e-01\n",
       "496 IFT88      111.7153911  0.60100567    0.3082850   1.94951303 5.123419e-02\n",
       "497 ALG1        72.3719334  0.33922670    0.2449200   1.38505115 1.660368e-01\n",
       "498 ZCCHC8     270.0027762 -0.22916478    0.1966266  -1.16548193 2.438240e-01\n",
       "499 ABCF2      288.4767585  0.10264088    0.2711067   0.37859951 7.049853e-01\n",
       "500 CHPF2      171.7401625 -0.07133449    0.2608077  -0.27351377 7.844583e-01\n",
       "    padj        \n",
       "1   8.209295e-03\n",
       "2             NA\n",
       "3   9.144493e-01\n",
       "4   3.312390e-01\n",
       "5   1.590000e-07\n",
       "6   7.150000e-17\n",
       "7   9.742211e-01\n",
       "8   2.135803e-02\n",
       "9   7.365785e-03\n",
       "10  9.850497e-01\n",
       "11  1.301502e-01\n",
       "12  2.670000e-05\n",
       "13  4.646951e-01\n",
       "14  4.158050e-04\n",
       "15            NA\n",
       "16  8.859011e-01\n",
       "17  3.091941e-01\n",
       "18  2.950932e-01\n",
       "19  4.243037e-01\n",
       "20  6.475512e-01\n",
       "21  3.681571e-01\n",
       "22  5.114864e-02\n",
       "23  2.888787e-03\n",
       "24  1.250000e-14\n",
       "25  7.364323e-01\n",
       "26  8.623265e-01\n",
       "27  1.870495e-01\n",
       "28  9.877749e-01\n",
       "29  8.151420e-01\n",
       "30  3.760000e-08\n",
       "⋮   ⋮           \n",
       "471 1.006744e-01\n",
       "472 2.619995e-01\n",
       "473 9.858765e-01\n",
       "474 5.305227e-02\n",
       "475 1.380000e-07\n",
       "476 9.572118e-01\n",
       "477 3.281471e-02\n",
       "478 4.280409e-01\n",
       "479           NA\n",
       "480 2.814311e-01\n",
       "481 3.729001e-01\n",
       "482 1.450000e-23\n",
       "483 2.519199e-01\n",
       "484 1.480000e-09\n",
       "485           NA\n",
       "486 2.998390e-04\n",
       "487 1.000973e-01\n",
       "488 7.485698e-01\n",
       "489 2.632495e-01\n",
       "490 9.348970e-02\n",
       "491 9.797778e-01\n",
       "492 7.848873e-01\n",
       "493 9.010712e-01\n",
       "494 3.582930e-04\n",
       "495 7.821706e-01\n",
       "496 1.361938e-01\n",
       "497 3.352177e-01\n",
       "498 4.418914e-01\n",
       "499 8.456544e-01\n",
       "500 8.936611e-01"
      ]
     },
     "metadata": {},
     "output_type": "display_data"
    },
    {
     "data": {
      "text/html": [
       "'data.frame'"
      ],
      "text/latex": [
       "'data.frame'"
      ],
      "text/markdown": [
       "'data.frame'"
      ],
      "text/plain": [
       "[1] \"data.frame\""
      ]
     },
     "metadata": {},
     "output_type": "display_data"
    }
   ],
   "source": [
    "# Try read.csv!\n",
    "getwd()\n",
    "setwd('/home/rtu/Applied-Bioinformatics/Applied-Bioinformatics-HW/Unit1-module2-R')\n",
    "nav.d14 <- read.csv(\"NAV-D14_DEseq2.csv\", header = TRUE)\n",
    "nav.d14\n",
    "class(nav.d14)"
   ]
  },
  {
   "cell_type": "markdown",
   "metadata": {},
   "source": [
    "### 4. View data\n",
    "```\n",
    "str(nav.d14) # Structure\n",
    "dim(nav.d14) # Dimensions\n",
    "head(nav.d14, n=5) # Top 5 rows\n",
    "tail(nav.d14, n=10) # Bottom 5 rows\n",
    "#levels() # List of levels in a factor vector\n",
    "```"
   ]
  },
  {
   "cell_type": "code",
   "execution_count": 20,
   "metadata": {
    "scrolled": true
   },
   "outputs": [
    {
     "name": "stdout",
     "output_type": "stream",
     "text": [
      "'data.frame':\t500 obs. of  7 variables:\n",
      " $ gene.name     : Factor w/ 500 levels \"AASS\",\"ABCB4\",..: 452 448 137 380 58 159 92 164 171 284 ...\n",
      " $ baseMean      : num  25.257 0.289 163.508 296.462 199.012 ...\n",
      " $ log2FoldChange: num  1.3025 -0.0508 -0.055 0.2737 -1.6201 ...\n",
      " $ lfcSE         : num  0.417 0.488 0.249 0.196 0.283 ...\n",
      " $ stat          : num  3.126 -0.104 -0.221 1.393 -5.718 ...\n",
      " $ pvalue        : num  1.77e-03 9.17e-01 8.25e-01 1.63e-01 1.07e-08 ...\n",
      " $ padj          : num  8.21e-03 NA 9.14e-01 3.31e-01 1.59e-07 ...\n"
     ]
    },
    {
     "data": {
      "text/html": [
       "<ol class=list-inline>\n",
       "\t<li>500</li>\n",
       "\t<li>7</li>\n",
       "</ol>\n"
      ],
      "text/latex": [
       "\\begin{enumerate*}\n",
       "\\item 500\n",
       "\\item 7\n",
       "\\end{enumerate*}\n"
      ],
      "text/markdown": [
       "1. 500\n",
       "2. 7\n",
       "\n",
       "\n"
      ],
      "text/plain": [
       "[1] 500   7"
      ]
     },
     "metadata": {},
     "output_type": "display_data"
    },
    {
     "data": {
      "text/html": [
       "<table>\n",
       "<thead><tr><th scope=col>gene.name</th><th scope=col>baseMean</th><th scope=col>log2FoldChange</th><th scope=col>lfcSE</th><th scope=col>stat</th><th scope=col>pvalue</th><th scope=col>padj</th></tr></thead>\n",
       "<tbody>\n",
       "\t<tr><td>TSPAN6      </td><td> 25.256745  </td><td> 1.30246882 </td><td>0.4166710   </td><td> 3.1258926  </td><td>0.0017726620</td><td>0.008209295 </td></tr>\n",
       "\t<tr><td>TNMD        </td><td>  0.288508  </td><td>-0.05077872 </td><td>0.4875003   </td><td>-0.1041614  </td><td>0.9170412620</td><td>         NA </td></tr>\n",
       "\t<tr><td>DPM1        </td><td>163.507773  </td><td>-0.05502833 </td><td>0.2492486   </td><td>-0.2207769  </td><td>0.8252661650</td><td>0.914449315 </td></tr>\n",
       "\t<tr><td>SCYL3       </td><td>296.461713  </td><td> 0.27370099 </td><td>0.1964251   </td><td> 1.3934117  </td><td>0.1634953240</td><td>0.331239000 </td></tr>\n",
       "\t<tr><td>C1orf112    </td><td>199.011986  </td><td>-1.62012005 </td><td>0.2833121   </td><td>-5.7184998  </td><td>0.0000000107</td><td>0.000000159 </td></tr>\n",
       "</tbody>\n",
       "</table>\n"
      ],
      "text/latex": [
       "\\begin{tabular}{r|lllllll}\n",
       " gene.name & baseMean & log2FoldChange & lfcSE & stat & pvalue & padj\\\\\n",
       "\\hline\n",
       "\t TSPAN6       &  25.256745   &  1.30246882  & 0.4166710    &  3.1258926   & 0.0017726620 & 0.008209295 \\\\\n",
       "\t TNMD         &   0.288508   & -0.05077872  & 0.4875003    & -0.1041614   & 0.9170412620 &          NA \\\\\n",
       "\t DPM1         & 163.507773   & -0.05502833  & 0.2492486    & -0.2207769   & 0.8252661650 & 0.914449315 \\\\\n",
       "\t SCYL3        & 296.461713   &  0.27370099  & 0.1964251    &  1.3934117   & 0.1634953240 & 0.331239000 \\\\\n",
       "\t C1orf112     & 199.011986   & -1.62012005  & 0.2833121    & -5.7184998   & 0.0000000107 & 0.000000159 \\\\\n",
       "\\end{tabular}\n"
      ],
      "text/markdown": [
       "\n",
       "gene.name | baseMean | log2FoldChange | lfcSE | stat | pvalue | padj | \n",
       "|---|---|---|---|---|\n",
       "| TSPAN6       |  25.256745   |  1.30246882  | 0.4166710    |  3.1258926   | 0.0017726620 | 0.008209295  | \n",
       "| TNMD         |   0.288508   | -0.05077872  | 0.4875003    | -0.1041614   | 0.9170412620 |          NA  | \n",
       "| DPM1         | 163.507773   | -0.05502833  | 0.2492486    | -0.2207769   | 0.8252661650 | 0.914449315  | \n",
       "| SCYL3        | 296.461713   |  0.27370099  | 0.1964251    |  1.3934117   | 0.1634953240 | 0.331239000  | \n",
       "| C1orf112     | 199.011986   | -1.62012005  | 0.2833121    | -5.7184998   | 0.0000000107 | 0.000000159  | \n",
       "\n",
       "\n"
      ],
      "text/plain": [
       "  gene.name baseMean   log2FoldChange lfcSE     stat       pvalue      \n",
       "1 TSPAN6     25.256745  1.30246882    0.4166710  3.1258926 0.0017726620\n",
       "2 TNMD        0.288508 -0.05077872    0.4875003 -0.1041614 0.9170412620\n",
       "3 DPM1      163.507773 -0.05502833    0.2492486 -0.2207769 0.8252661650\n",
       "4 SCYL3     296.461713  0.27370099    0.1964251  1.3934117 0.1634953240\n",
       "5 C1orf112  199.011986 -1.62012005    0.2833121 -5.7184998 0.0000000107\n",
       "  padj       \n",
       "1 0.008209295\n",
       "2          NA\n",
       "3 0.914449315\n",
       "4 0.331239000\n",
       "5 0.000000159"
      ]
     },
     "metadata": {},
     "output_type": "display_data"
    },
    {
     "data": {
      "text/html": [
       "<table>\n",
       "<thead><tr><th></th><th scope=col>gene.name</th><th scope=col>baseMean</th><th scope=col>log2FoldChange</th><th scope=col>lfcSE</th><th scope=col>stat</th><th scope=col>pvalue</th><th scope=col>padj</th></tr></thead>\n",
       "<tbody>\n",
       "\t<tr><th scope=row>496</th><td>IFT88      </td><td>111.71539  </td><td> 0.60100567</td><td>0.3082850  </td><td> 1.9495130 </td><td>0.05123419 </td><td>0.1361938  </td></tr>\n",
       "\t<tr><th scope=row>497</th><td>ALG1       </td><td> 72.37193  </td><td> 0.33922670</td><td>0.2449200  </td><td> 1.3850512 </td><td>0.16603683 </td><td>0.3352177  </td></tr>\n",
       "\t<tr><th scope=row>498</th><td>ZCCHC8     </td><td>270.00278  </td><td>-0.22916478</td><td>0.1966266  </td><td>-1.1654819 </td><td>0.24382397 </td><td>0.4418914  </td></tr>\n",
       "\t<tr><th scope=row>499</th><td>ABCF2      </td><td>288.47676  </td><td> 0.10264088</td><td>0.2711067  </td><td> 0.3785995 </td><td>0.70498528 </td><td>0.8456544  </td></tr>\n",
       "\t<tr><th scope=row>500</th><td>CHPF2      </td><td>171.74016  </td><td>-0.07133449</td><td>0.2608077  </td><td>-0.2735138 </td><td>0.78445831 </td><td>0.8936611  </td></tr>\n",
       "</tbody>\n",
       "</table>\n"
      ],
      "text/latex": [
       "\\begin{tabular}{r|lllllll}\n",
       "  & gene.name & baseMean & log2FoldChange & lfcSE & stat & pvalue & padj\\\\\n",
       "\\hline\n",
       "\t496 & IFT88       & 111.71539   &  0.60100567 & 0.3082850   &  1.9495130  & 0.05123419  & 0.1361938  \\\\\n",
       "\t497 & ALG1        &  72.37193   &  0.33922670 & 0.2449200   &  1.3850512  & 0.16603683  & 0.3352177  \\\\\n",
       "\t498 & ZCCHC8      & 270.00278   & -0.22916478 & 0.1966266   & -1.1654819  & 0.24382397  & 0.4418914  \\\\\n",
       "\t499 & ABCF2       & 288.47676   &  0.10264088 & 0.2711067   &  0.3785995  & 0.70498528  & 0.8456544  \\\\\n",
       "\t500 & CHPF2       & 171.74016   & -0.07133449 & 0.2608077   & -0.2735138  & 0.78445831  & 0.8936611  \\\\\n",
       "\\end{tabular}\n"
      ],
      "text/markdown": [
       "\n",
       "| <!--/--> | gene.name | baseMean | log2FoldChange | lfcSE | stat | pvalue | padj | \n",
       "|---|---|---|---|---|\n",
       "| 496 | IFT88       | 111.71539   |  0.60100567 | 0.3082850   |  1.9495130  | 0.05123419  | 0.1361938   | \n",
       "| 497 | ALG1        |  72.37193   |  0.33922670 | 0.2449200   |  1.3850512  | 0.16603683  | 0.3352177   | \n",
       "| 498 | ZCCHC8      | 270.00278   | -0.22916478 | 0.1966266   | -1.1654819  | 0.24382397  | 0.4418914   | \n",
       "| 499 | ABCF2       | 288.47676   |  0.10264088 | 0.2711067   |  0.3785995  | 0.70498528  | 0.8456544   | \n",
       "| 500 | CHPF2       | 171.74016   | -0.07133449 | 0.2608077   | -0.2735138  | 0.78445831  | 0.8936611   | \n",
       "\n",
       "\n"
      ],
      "text/plain": [
       "    gene.name baseMean  log2FoldChange lfcSE     stat       pvalue    \n",
       "496 IFT88     111.71539  0.60100567    0.3082850  1.9495130 0.05123419\n",
       "497 ALG1       72.37193  0.33922670    0.2449200  1.3850512 0.16603683\n",
       "498 ZCCHC8    270.00278 -0.22916478    0.1966266 -1.1654819 0.24382397\n",
       "499 ABCF2     288.47676  0.10264088    0.2711067  0.3785995 0.70498528\n",
       "500 CHPF2     171.74016 -0.07133449    0.2608077 -0.2735138 0.78445831\n",
       "    padj     \n",
       "496 0.1361938\n",
       "497 0.3352177\n",
       "498 0.4418914\n",
       "499 0.8456544\n",
       "500 0.8936611"
      ]
     },
     "metadata": {},
     "output_type": "display_data"
    },
    {
     "data": {
      "text/plain": [
       "NULL"
      ]
     },
     "metadata": {},
     "output_type": "display_data"
    }
   ],
   "source": [
    "# Try viewing data!\n",
    "str(nav.d14)\n",
    "dim(nav.d14)\n",
    "head(nav.d14, n=5)\n",
    "tail(nav.d14, n=5)\n",
    "levels(nav.d14)"
   ]
  },
  {
   "cell_type": "markdown",
   "metadata": {},
   "source": [
    "### 3. Subsetting / Merging data"
   ]
  },
  {
   "cell_type": "markdown",
   "metadata": {
    "collapsed": true
   },
   "source": [
    "#### 3.1 Subsetting by column names\n",
    "```\n",
    "nav.d14.sub <- nav.d14[c(\"gene.name\", \"log2FoldChange\", \"pvalue\")]\n",
    "head(nav.d14.sub)\n",
    "```"
   ]
  },
  {
   "cell_type": "code",
   "execution_count": 21,
   "metadata": {},
   "outputs": [
    {
     "data": {
      "text/html": [
       "<table>\n",
       "<thead><tr><th scope=col>gene.name</th><th scope=col>log2FoldChange</th><th scope=col>pvalue</th></tr></thead>\n",
       "<tbody>\n",
       "\t<tr><td>TSPAN6      </td><td> 1.30246882 </td><td>1.772662e-03</td></tr>\n",
       "\t<tr><td>TNMD        </td><td>-0.05077872 </td><td>9.170413e-01</td></tr>\n",
       "\t<tr><td>DPM1        </td><td>-0.05502833 </td><td>8.252662e-01</td></tr>\n",
       "\t<tr><td>SCYL3       </td><td> 0.27370099 </td><td>1.634953e-01</td></tr>\n",
       "\t<tr><td>C1orf112    </td><td>-1.62012005 </td><td>1.070000e-08</td></tr>\n",
       "\t<tr><td>FGR         </td><td>-5.60936805 </td><td>1.440000e-18</td></tr>\n",
       "</tbody>\n",
       "</table>\n"
      ],
      "text/latex": [
       "\\begin{tabular}{r|lll}\n",
       " gene.name & log2FoldChange & pvalue\\\\\n",
       "\\hline\n",
       "\t TSPAN6       &  1.30246882  & 1.772662e-03\\\\\n",
       "\t TNMD         & -0.05077872  & 9.170413e-01\\\\\n",
       "\t DPM1         & -0.05502833  & 8.252662e-01\\\\\n",
       "\t SCYL3        &  0.27370099  & 1.634953e-01\\\\\n",
       "\t C1orf112     & -1.62012005  & 1.070000e-08\\\\\n",
       "\t FGR          & -5.60936805  & 1.440000e-18\\\\\n",
       "\\end{tabular}\n"
      ],
      "text/markdown": [
       "\n",
       "gene.name | log2FoldChange | pvalue | \n",
       "|---|---|---|---|---|---|\n",
       "| TSPAN6       |  1.30246882  | 1.772662e-03 | \n",
       "| TNMD         | -0.05077872  | 9.170413e-01 | \n",
       "| DPM1         | -0.05502833  | 8.252662e-01 | \n",
       "| SCYL3        |  0.27370099  | 1.634953e-01 | \n",
       "| C1orf112     | -1.62012005  | 1.070000e-08 | \n",
       "| FGR          | -5.60936805  | 1.440000e-18 | \n",
       "\n",
       "\n"
      ],
      "text/plain": [
       "  gene.name log2FoldChange pvalue      \n",
       "1 TSPAN6     1.30246882    1.772662e-03\n",
       "2 TNMD      -0.05077872    9.170413e-01\n",
       "3 DPM1      -0.05502833    8.252662e-01\n",
       "4 SCYL3      0.27370099    1.634953e-01\n",
       "5 C1orf112  -1.62012005    1.070000e-08\n",
       "6 FGR       -5.60936805    1.440000e-18"
      ]
     },
     "metadata": {},
     "output_type": "display_data"
    }
   ],
   "source": [
    "# Try subsetting by column names!\n",
    "nav.d14.sub <- nav.d14[c(\"gene.name\",\"log2FoldChange\",\"pvalue\")]\n",
    "head(nav.d14.sub)"
   ]
  },
  {
   "cell_type": "markdown",
   "metadata": {},
   "source": [
    "#### 3.2  cbind(): merging dataframe vertically\n",
    "```\n",
    "# cbind -- column-bind\n",
    "nav.d14.sub <- cbind(nav.d14.sub, nav.d14[\"baseMean\"]) # For instance you forgot you need baseMean too...\n",
    "head(nav.d14.sub)\n",
    "```"
   ]
  },
  {
   "cell_type": "code",
   "execution_count": 22,
   "metadata": {},
   "outputs": [
    {
     "data": {
      "text/html": [
       "<table>\n",
       "<thead><tr><th scope=col>gene.name</th><th scope=col>log2FoldChange</th><th scope=col>pvalue</th><th scope=col>baseMean</th></tr></thead>\n",
       "<tbody>\n",
       "\t<tr><td>TSPAN6      </td><td> 1.30246882 </td><td>1.772662e-03</td><td> 25.256745  </td></tr>\n",
       "\t<tr><td>TNMD        </td><td>-0.05077872 </td><td>9.170413e-01</td><td>  0.288508  </td></tr>\n",
       "\t<tr><td>DPM1        </td><td>-0.05502833 </td><td>8.252662e-01</td><td>163.507773  </td></tr>\n",
       "\t<tr><td>SCYL3       </td><td> 0.27370099 </td><td>1.634953e-01</td><td>296.461713  </td></tr>\n",
       "\t<tr><td>C1orf112    </td><td>-1.62012005 </td><td>1.070000e-08</td><td>199.011986  </td></tr>\n",
       "\t<tr><td>FGR         </td><td>-5.60936805 </td><td>1.440000e-18</td><td>122.792530  </td></tr>\n",
       "</tbody>\n",
       "</table>\n"
      ],
      "text/latex": [
       "\\begin{tabular}{r|llll}\n",
       " gene.name & log2FoldChange & pvalue & baseMean\\\\\n",
       "\\hline\n",
       "\t TSPAN6       &  1.30246882  & 1.772662e-03 &  25.256745  \\\\\n",
       "\t TNMD         & -0.05077872  & 9.170413e-01 &   0.288508  \\\\\n",
       "\t DPM1         & -0.05502833  & 8.252662e-01 & 163.507773  \\\\\n",
       "\t SCYL3        &  0.27370099  & 1.634953e-01 & 296.461713  \\\\\n",
       "\t C1orf112     & -1.62012005  & 1.070000e-08 & 199.011986  \\\\\n",
       "\t FGR          & -5.60936805  & 1.440000e-18 & 122.792530  \\\\\n",
       "\\end{tabular}\n"
      ],
      "text/markdown": [
       "\n",
       "gene.name | log2FoldChange | pvalue | baseMean | \n",
       "|---|---|---|---|---|---|\n",
       "| TSPAN6       |  1.30246882  | 1.772662e-03 |  25.256745   | \n",
       "| TNMD         | -0.05077872  | 9.170413e-01 |   0.288508   | \n",
       "| DPM1         | -0.05502833  | 8.252662e-01 | 163.507773   | \n",
       "| SCYL3        |  0.27370099  | 1.634953e-01 | 296.461713   | \n",
       "| C1orf112     | -1.62012005  | 1.070000e-08 | 199.011986   | \n",
       "| FGR          | -5.60936805  | 1.440000e-18 | 122.792530   | \n",
       "\n",
       "\n"
      ],
      "text/plain": [
       "  gene.name log2FoldChange pvalue       baseMean  \n",
       "1 TSPAN6     1.30246882    1.772662e-03  25.256745\n",
       "2 TNMD      -0.05077872    9.170413e-01   0.288508\n",
       "3 DPM1      -0.05502833    8.252662e-01 163.507773\n",
       "4 SCYL3      0.27370099    1.634953e-01 296.461713\n",
       "5 C1orf112  -1.62012005    1.070000e-08 199.011986\n",
       "6 FGR       -5.60936805    1.440000e-18 122.792530"
      ]
     },
     "metadata": {},
     "output_type": "display_data"
    }
   ],
   "source": [
    "# Try cbind()!\n",
    "nav.d14.sub <-cbind(nav.d14.sub, nav.d14[\"baseMean\"])\n",
    "head(nav.d14.sub)"
   ]
  },
  {
   "cell_type": "markdown",
   "metadata": {},
   "source": [
    "#### 3.3 subset()\n",
    "```\n",
    "nav.d14.sub.sig.less <- subset(nav.d14.sub, pvalue <= 0.05 & log2FoldChange < 0) # Subsetting by value\n",
    "nav.d14.sub.sig.more <- subset(nav.d14.sub, pvalue <= 0.05 & log2FoldChange > 0)\n",
    "```"
   ]
  },
  {
   "cell_type": "code",
   "execution_count": 23,
   "metadata": {},
   "outputs": [
    {
     "data": {
      "text/html": [
       "<table>\n",
       "<thead><tr><th></th><th scope=col>gene.name</th><th scope=col>log2FoldChange</th><th scope=col>pvalue</th><th scope=col>baseMean</th></tr></thead>\n",
       "<tbody>\n",
       "\t<tr><th scope=row>5</th><td>C1orf112    </td><td>-1.6201201  </td><td>1.070000e-08</td><td>199.01199   </td></tr>\n",
       "\t<tr><th scope=row>6</th><td>FGR         </td><td>-5.6093681  </td><td>1.440000e-18</td><td>122.79253   </td></tr>\n",
       "\t<tr><th scope=row>8</th><td>FUCA2       </td><td>-0.7644220  </td><td>5.400523e-03</td><td> 72.03849   </td></tr>\n",
       "\t<tr><th scope=row>9</th><td>GCLC        </td><td>-0.6690268  </td><td>1.563919e-03</td><td>232.82360   </td></tr>\n",
       "\t<tr><th scope=row>14</th><td>ENPP4       </td><td>-1.0797584  </td><td>5.970000e-05</td><td>166.51521   </td></tr>\n",
       "\t<tr><th scope=row>22</th><td>BAD         </td><td>-1.0572374  </td><td>1.526298e-02</td><td> 17.43336   </td></tr>\n",
       "</tbody>\n",
       "</table>\n"
      ],
      "text/latex": [
       "\\begin{tabular}{r|llll}\n",
       "  & gene.name & log2FoldChange & pvalue & baseMean\\\\\n",
       "\\hline\n",
       "\t5 & C1orf112     & -1.6201201   & 1.070000e-08 & 199.01199   \\\\\n",
       "\t6 & FGR          & -5.6093681   & 1.440000e-18 & 122.79253   \\\\\n",
       "\t8 & FUCA2        & -0.7644220   & 5.400523e-03 &  72.03849   \\\\\n",
       "\t9 & GCLC         & -0.6690268   & 1.563919e-03 & 232.82360   \\\\\n",
       "\t14 & ENPP4        & -1.0797584   & 5.970000e-05 & 166.51521   \\\\\n",
       "\t22 & BAD          & -1.0572374   & 1.526298e-02 &  17.43336   \\\\\n",
       "\\end{tabular}\n"
      ],
      "text/markdown": [
       "\n",
       "| <!--/--> | gene.name | log2FoldChange | pvalue | baseMean | \n",
       "|---|---|---|---|---|---|\n",
       "| 5 | C1orf112     | -1.6201201   | 1.070000e-08 | 199.01199    | \n",
       "| 6 | FGR          | -5.6093681   | 1.440000e-18 | 122.79253    | \n",
       "| 8 | FUCA2        | -0.7644220   | 5.400523e-03 |  72.03849    | \n",
       "| 9 | GCLC         | -0.6690268   | 1.563919e-03 | 232.82360    | \n",
       "| 14 | ENPP4        | -1.0797584   | 5.970000e-05 | 166.51521    | \n",
       "| 22 | BAD          | -1.0572374   | 1.526298e-02 |  17.43336    | \n",
       "\n",
       "\n"
      ],
      "text/plain": [
       "   gene.name log2FoldChange pvalue       baseMean \n",
       "5  C1orf112  -1.6201201     1.070000e-08 199.01199\n",
       "6  FGR       -5.6093681     1.440000e-18 122.79253\n",
       "8  FUCA2     -0.7644220     5.400523e-03  72.03849\n",
       "9  GCLC      -0.6690268     1.563919e-03 232.82360\n",
       "14 ENPP4     -1.0797584     5.970000e-05 166.51521\n",
       "22 BAD       -1.0572374     1.526298e-02  17.43336"
      ]
     },
     "metadata": {},
     "output_type": "display_data"
    },
    {
     "data": {
      "text/html": [
       "<table>\n",
       "<thead><tr><th></th><th scope=col>gene.name</th><th scope=col>log2FoldChange</th><th scope=col>pvalue</th><th scope=col>baseMean</th></tr></thead>\n",
       "<tbody>\n",
       "\t<tr><th scope=row>1</th><td>TSPAN6     </td><td>1.3024688  </td><td>0.001772662</td><td> 25.25674  </td></tr>\n",
       "\t<tr><th scope=row>11</th><td>STPG1      </td><td>0.7720063  </td><td>0.048465615</td><td>108.07123  </td></tr>\n",
       "\t<tr><th scope=row>12</th><td>NIPAL3     </td><td>0.8900874  </td><td>0.000002760</td><td>810.65655  </td></tr>\n",
       "\t<tr><th scope=row>31</th><td>SNX11      </td><td>0.6963876  </td><td>0.001097049</td><td>114.35510  </td></tr>\n",
       "\t<tr><th scope=row>37</th><td>DBNDD1     </td><td>1.8243128  </td><td>0.003734245</td><td> 10.81136  </td></tr>\n",
       "\t<tr><th scope=row>39</th><td>CASP10     </td><td>0.7842184  </td><td>0.003391736</td><td>663.97073  </td></tr>\n",
       "</tbody>\n",
       "</table>\n"
      ],
      "text/latex": [
       "\\begin{tabular}{r|llll}\n",
       "  & gene.name & log2FoldChange & pvalue & baseMean\\\\\n",
       "\\hline\n",
       "\t1 & TSPAN6      & 1.3024688   & 0.001772662 &  25.25674  \\\\\n",
       "\t11 & STPG1       & 0.7720063   & 0.048465615 & 108.07123  \\\\\n",
       "\t12 & NIPAL3      & 0.8900874   & 0.000002760 & 810.65655  \\\\\n",
       "\t31 & SNX11       & 0.6963876   & 0.001097049 & 114.35510  \\\\\n",
       "\t37 & DBNDD1      & 1.8243128   & 0.003734245 &  10.81136  \\\\\n",
       "\t39 & CASP10      & 0.7842184   & 0.003391736 & 663.97073  \\\\\n",
       "\\end{tabular}\n"
      ],
      "text/markdown": [
       "\n",
       "| <!--/--> | gene.name | log2FoldChange | pvalue | baseMean | \n",
       "|---|---|---|---|---|---|\n",
       "| 1 | TSPAN6      | 1.3024688   | 0.001772662 |  25.25674   | \n",
       "| 11 | STPG1       | 0.7720063   | 0.048465615 | 108.07123   | \n",
       "| 12 | NIPAL3      | 0.8900874   | 0.000002760 | 810.65655   | \n",
       "| 31 | SNX11       | 0.6963876   | 0.001097049 | 114.35510   | \n",
       "| 37 | DBNDD1      | 1.8243128   | 0.003734245 |  10.81136   | \n",
       "| 39 | CASP10      | 0.7842184   | 0.003391736 | 663.97073   | \n",
       "\n",
       "\n"
      ],
      "text/plain": [
       "   gene.name log2FoldChange pvalue      baseMean \n",
       "1  TSPAN6    1.3024688      0.001772662  25.25674\n",
       "11 STPG1     0.7720063      0.048465615 108.07123\n",
       "12 NIPAL3    0.8900874      0.000002760 810.65655\n",
       "31 SNX11     0.6963876      0.001097049 114.35510\n",
       "37 DBNDD1    1.8243128      0.003734245  10.81136\n",
       "39 CASP10    0.7842184      0.003391736 663.97073"
      ]
     },
     "metadata": {},
     "output_type": "display_data"
    }
   ],
   "source": [
    "# Try subset()!\n",
    "nav.d14.sub.sig.less <- subset(nav.d14.sub, pvalue <= 0.05 & log2FoldChange <0)\n",
    "nav.d14.sub.sig.more <- subset(nav.d14.sub, pvalue <= 0.05 & log2FoldChange >0)\n",
    "head(nav.d14.sub.sig.less)\n",
    "head(nav.d14.sub.sig.more)"
   ]
  },
  {
   "cell_type": "markdown",
   "metadata": {},
   "source": [
    "#### 3.4 rbind(): merging dataframe horizontally\n",
    "```\n",
    "# rbind -- row-bind\n",
    "nav.d14.sub.sig.all <- rbind(nav.d14.sub.sig.less, nav.d14.sub.sig.more) # Merging rows\n",
    "dim(nav.d14.sub.sig.less)\n",
    "dim(nav.d14.sub.sig.more)\n",
    "dim(nav.d14.sub.sig.all)\n",
    "```"
   ]
  },
  {
   "cell_type": "code",
   "execution_count": 24,
   "metadata": {},
   "outputs": [
    {
     "data": {
      "text/html": [
       "<ol class=list-inline>\n",
       "\t<li>116</li>\n",
       "\t<li>4</li>\n",
       "</ol>\n"
      ],
      "text/latex": [
       "\\begin{enumerate*}\n",
       "\\item 116\n",
       "\\item 4\n",
       "\\end{enumerate*}\n"
      ],
      "text/markdown": [
       "1. 116\n",
       "2. 4\n",
       "\n",
       "\n"
      ],
      "text/plain": [
       "[1] 116   4"
      ]
     },
     "metadata": {},
     "output_type": "display_data"
    },
    {
     "data": {
      "text/html": [
       "<ol class=list-inline>\n",
       "\t<li>73</li>\n",
       "\t<li>4</li>\n",
       "</ol>\n"
      ],
      "text/latex": [
       "\\begin{enumerate*}\n",
       "\\item 73\n",
       "\\item 4\n",
       "\\end{enumerate*}\n"
      ],
      "text/markdown": [
       "1. 73\n",
       "2. 4\n",
       "\n",
       "\n"
      ],
      "text/plain": [
       "[1] 73  4"
      ]
     },
     "metadata": {},
     "output_type": "display_data"
    },
    {
     "data": {
      "text/html": [
       "<ol class=list-inline>\n",
       "\t<li>189</li>\n",
       "\t<li>4</li>\n",
       "</ol>\n"
      ],
      "text/latex": [
       "\\begin{enumerate*}\n",
       "\\item 189\n",
       "\\item 4\n",
       "\\end{enumerate*}\n"
      ],
      "text/markdown": [
       "1. 189\n",
       "2. 4\n",
       "\n",
       "\n"
      ],
      "text/plain": [
       "[1] 189   4"
      ]
     },
     "metadata": {},
     "output_type": "display_data"
    }
   ],
   "source": [
    "# Try rbind()!\n",
    "nav.d14.sub.sig.all <- rbind(nav.d14.sub.sig.less, nav.d14.sub.sig.more)\n",
    "dim(nav.d14.sub.sig.less)\n",
    "dim(nav.d14.sub.sig.more)\n",
    "dim(nav.d14.sub.sig.all)"
   ]
  },
  {
   "cell_type": "markdown",
   "metadata": {},
   "source": [
    "#### * Change column names\n",
    "```\n",
    "colnames(nav.d14.sub.sig.all) <- c(\"gn\",\"fc\",\"pval\",\"bm\")\n",
    "head(nav.d14.sub.sig.all)\n",
    "```"
   ]
  },
  {
   "cell_type": "code",
   "execution_count": 41,
   "metadata": {},
   "outputs": [],
   "source": [
    "# Try change colnames()!\n"
   ]
  },
  {
   "cell_type": "markdown",
   "metadata": {},
   "source": [
    "### 4. Sort data: order()\n",
    "```\n",
    "nav.d14.sub.sig.all.srt <- nav.d14.sub.sig.all[order(nav.d14.sub.sig.all$bm),]\n",
    "head(nav.d14.sub.sig.all, n=5)\n",
    "head(nav.d14.sub.sig.all.srt, n=5)\n",
    "```"
   ]
  },
  {
   "cell_type": "code",
   "execution_count": 1,
   "metadata": {
    "scrolled": true
   },
   "outputs": [],
   "source": [
    "# Try order()!"
   ]
  },
  {
   "cell_type": "markdown",
   "metadata": {},
   "source": [
    "### 5. User defined function and apply"
   ]
  },
  {
   "cell_type": "markdown",
   "metadata": {},
   "source": [
    "#### 5.1 User defined function\n",
    "```\n",
    "function.name <- function(x) {\n",
    "...\n",
    "return()\n",
    "}\n",
    "```"
   ]
  },
  {
   "cell_type": "code",
   "execution_count": 1,
   "metadata": {},
   "outputs": [
    {
     "name": "stdout",
     "output_type": "stream",
     "text": [
      "[1] \"Chocolate please!\"\n"
     ]
    }
   ],
   "source": [
    "# Simple function that does only print()\n",
    "requestChocolate <- function(x) {\n",
    "    print(\"Chocolate please!\")\n",
    "}\n",
    "requestChocolate()"
   ]
  },
  {
   "cell_type": "code",
   "execution_count": 2,
   "metadata": {},
   "outputs": [
    {
     "name": "stdout",
     "output_type": "stream",
     "text": [
      "[1] \"Cheese please!\"\n"
     ]
    }
   ],
   "source": [
    "# Function that take a input to print()\n",
    "requestFood <- function(x) {\n",
    "    requested <- paste(x, \" please!\", sep=\"\")\n",
    "    print(requested)\n",
    "}\n",
    "requestFood(\"Cheese\")"
   ]
  },
  {
   "cell_type": "code",
   "execution_count": 3,
   "metadata": {},
   "outputs": [
    {
     "name": "stdout",
     "output_type": "stream",
     "text": [
      "[1] \"Food please!\"\n"
     ]
    },
    {
     "data": {
      "text/html": [
       "TRUE"
      ],
      "text/latex": [
       "TRUE"
      ],
      "text/markdown": [
       "TRUE"
      ],
      "text/plain": [
       "[1] TRUE"
      ]
     },
     "metadata": {},
     "output_type": "display_data"
    }
   ],
   "source": [
    "# Function that take a input and contain if ..., and return a result.\n",
    "needMoreFood <- function(food.weight) {\n",
    "    if (food.weight<10){\n",
    "        print(\"Food please!\")\n",
    "    }\n",
    "    return(TRUE)\n",
    "}\n",
    "food.weight.eval <- needMoreFood(8)\n",
    "food.weight.eval"
   ]
  },
  {
   "cell_type": "markdown",
   "metadata": {
    "collapsed": true
   },
   "source": [
    "##### A function that contain if ... else if ... else ...\n",
    "```\n",
    "# Define a function to evaluate fold change, up-regulation/ down-regulation / no fold change\n",
    "fcEval <- function(x) {\n",
    "    if(x>0){\n",
    "        return(\"UP\")\n",
    "    }\n",
    "    else if(x<0){\n",
    "        return(\"DOWN\")\n",
    "    }\n",
    "    else{\n",
    "        return(\"NONE\")\n",
    "    }\n",
    "}\n",
    "```"
   ]
  },
  {
   "cell_type": "code",
   "execution_count": 17,
   "metadata": {},
   "outputs": [],
   "source": [
    "# Try define the function above!"
   ]
  },
  {
   "cell_type": "markdown",
   "metadata": {},
   "source": [
    "#### 5.2 lapply(): give function to every element of a list and return a list as result\n",
    "Read more about apply: https://www.datacamp.com/community/tutorials/r-tutorial-apply-family\n",
    "```\n",
    "fc.eval.results <- lapply(nav.d14.sub.sig.all$fc,fcEval) # Use lapply to process all the \n",
    "fc.eval.results <- factor(unlist(fc.eval.results)) # Convert list to vector\n",
    "summary(fc.eval.results)\n",
    "```"
   ]
  },
  {
   "cell_type": "code",
   "execution_count": 18,
   "metadata": {},
   "outputs": [],
   "source": [
    "# Try to use your function by apply!"
   ]
  },
  {
   "cell_type": "markdown",
   "metadata": {
    "collapsed": true
   },
   "source": [
    "### 6. Export data"
   ]
  },
  {
   "cell_type": "markdown",
   "metadata": {
    "collapsed": true
   },
   "source": [
    "```\n",
    "write.table(nav.d14.sub.sig.all.srt,row.names=FALSE, \"nav.d14.sub.sig.all.srt.csv\", sep=\",\")\n",
    "```"
   ]
  },
  {
   "cell_type": "code",
   "execution_count": 19,
   "metadata": {},
   "outputs": [],
   "source": [
    "# Try export data!"
   ]
  },
  {
   "cell_type": "markdown",
   "metadata": {},
   "source": [
    "## Homework"
   ]
  },
  {
   "cell_type": "markdown",
   "metadata": {},
   "source": [
    "## 1. Hello world everyday!\n",
    "### 1.1 Make a vector containing days of the week, from Monday to Sunday.\n",
    "### 1.2 Use a for loop to pring \"Hello world XXXday!\" for each day of the week."
   ]
  },
  {
   "cell_type": "markdown",
   "metadata": {},
   "source": [
    "## 2. The Pie\n",
    "### 2.1 In the first 100 digits of pie, count how many numbers are even. \n",
    "### 2.2 Convert the first 200 digits of pie into a 20x10 matrix\n",
    "https://www.piday.org/million/"
   ]
  },
  {
   "cell_type": "markdown",
   "metadata": {},
   "source": [
    "## 3. Prime numbers\n",
    "### Find first 500 prime numbers. What is the 500th prime number?"
   ]
  },
  {
   "cell_type": "code",
   "execution_count": 71,
   "metadata": {},
   "outputs": [
    {
     "name": "stdout",
     "output_type": "stream",
     "text": [
      "[1] 2\n",
      "[1] 3\n",
      "[1] 5\n",
      "[1] 7\n",
      "[1] 11\n",
      "[1] 13\n",
      "[1] 17\n",
      "[1] 19\n",
      "[1] 23\n",
      "[1] 29\n",
      "[1] 31\n",
      "[1] 37\n",
      "[1] 41\n",
      "[1] 43\n",
      "[1] 47\n",
      "[1] 53\n",
      "[1] 59\n",
      "[1] 61\n",
      "[1] 67\n",
      "[1] 71\n",
      "[1] 73\n",
      "[1] 79\n",
      "[1] 83\n",
      "[1] 89\n",
      "[1] 97\n",
      "[1] 101\n",
      "[1] 103\n",
      "[1] 107\n",
      "[1] 109\n",
      "[1] 113\n",
      "[1] 127\n",
      "[1] 131\n",
      "[1] 137\n",
      "[1] 139\n",
      "[1] 149\n",
      "[1] 151\n",
      "[1] 157\n",
      "[1] 163\n",
      "[1] 167\n",
      "[1] 173\n",
      "[1] 179\n",
      "[1] 181\n",
      "[1] 191\n",
      "[1] 193\n",
      "[1] 197\n",
      "[1] 199\n",
      "[1] 211\n",
      "[1] 223\n",
      "[1] 227\n",
      "[1] 229\n",
      "[1] 233\n",
      "[1] 239\n",
      "[1] 241\n",
      "[1] 251\n",
      "[1] 257\n",
      "[1] 263\n",
      "[1] 269\n",
      "[1] 271\n",
      "[1] 277\n",
      "[1] 281\n",
      "[1] 283\n",
      "[1] 293\n",
      "[1] 307\n",
      "[1] 311\n",
      "[1] 313\n",
      "[1] 317\n",
      "[1] 331\n",
      "[1] 337\n",
      "[1] 347\n",
      "[1] 349\n",
      "[1] 353\n",
      "[1] 359\n",
      "[1] 367\n",
      "[1] 373\n",
      "[1] 379\n",
      "[1] 383\n",
      "[1] 389\n",
      "[1] 397\n",
      "[1] 401\n",
      "[1] 409\n",
      "[1] 419\n",
      "[1] 421\n",
      "[1] 431\n",
      "[1] 433\n",
      "[1] 439\n",
      "[1] 443\n",
      "[1] 449\n",
      "[1] 457\n",
      "[1] 461\n",
      "[1] 463\n",
      "[1] 467\n",
      "[1] 479\n",
      "[1] 487\n",
      "[1] 491\n",
      "[1] 499\n",
      "[1] 503\n",
      "[1] 509\n",
      "[1] 521\n",
      "[1] 523\n",
      "[1] 541\n",
      "[1] 547\n",
      "[1] 557\n",
      "[1] 563\n",
      "[1] 569\n",
      "[1] 571\n",
      "[1] 577\n",
      "[1] 587\n",
      "[1] 593\n",
      "[1] 599\n",
      "[1] 601\n",
      "[1] 607\n",
      "[1] 613\n",
      "[1] 617\n",
      "[1] 619\n",
      "[1] 631\n",
      "[1] 641\n",
      "[1] 643\n",
      "[1] 647\n",
      "[1] 653\n",
      "[1] 659\n",
      "[1] 661\n",
      "[1] 673\n",
      "[1] 677\n",
      "[1] 683\n",
      "[1] 691\n",
      "[1] 701\n",
      "[1] 709\n",
      "[1] 719\n",
      "[1] 727\n",
      "[1] 733\n",
      "[1] 739\n",
      "[1] 743\n",
      "[1] 751\n",
      "[1] 757\n",
      "[1] 761\n",
      "[1] 769\n",
      "[1] 773\n",
      "[1] 787\n",
      "[1] 797\n",
      "[1] 809\n",
      "[1] 811\n",
      "[1] 821\n",
      "[1] 823\n",
      "[1] 827\n",
      "[1] 829\n",
      "[1] 839\n",
      "[1] 853\n",
      "[1] 857\n",
      "[1] 859\n",
      "[1] 863\n",
      "[1] 877\n",
      "[1] 881\n",
      "[1] 883\n",
      "[1] 887\n",
      "[1] 907\n",
      "[1] 911\n",
      "[1] 919\n",
      "[1] 929\n",
      "[1] 937\n",
      "[1] 941\n",
      "[1] 947\n",
      "[1] 953\n",
      "[1] 967\n",
      "[1] 971\n",
      "[1] 977\n",
      "[1] 983\n",
      "[1] 991\n",
      "[1] 997\n",
      "[1] 1009\n",
      "[1] 1013\n",
      "[1] 1019\n",
      "[1] 1021\n",
      "[1] 1031\n",
      "[1] 1033\n",
      "[1] 1039\n",
      "[1] 1049\n",
      "[1] 1051\n",
      "[1] 1061\n",
      "[1] 1063\n",
      "[1] 1069\n",
      "[1] 1087\n",
      "[1] 1091\n",
      "[1] 1093\n",
      "[1] 1097\n",
      "[1] 1103\n",
      "[1] 1109\n",
      "[1] 1117\n",
      "[1] 1123\n",
      "[1] 1129\n",
      "[1] 1151\n",
      "[1] 1153\n",
      "[1] 1163\n",
      "[1] 1171\n",
      "[1] 1181\n",
      "[1] 1187\n",
      "[1] 1193\n",
      "[1] 1201\n",
      "[1] 1213\n",
      "[1] 1217\n",
      "[1] 1223\n",
      "[1] 1229\n",
      "[1] 1231\n",
      "[1] 1237\n",
      "[1] 1249\n",
      "[1] 1259\n",
      "[1] 1277\n",
      "[1] 1279\n",
      "[1] 1283\n",
      "[1] 1289\n",
      "[1] 1291\n",
      "[1] 1297\n",
      "[1] 1301\n",
      "[1] 1303\n",
      "[1] 1307\n",
      "[1] 1319\n",
      "[1] 1321\n",
      "[1] 1327\n",
      "[1] 1361\n",
      "[1] 1367\n",
      "[1] 1373\n",
      "[1] 1381\n",
      "[1] 1399\n",
      "[1] 1409\n",
      "[1] 1423\n",
      "[1] 1427\n",
      "[1] 1429\n",
      "[1] 1433\n",
      "[1] 1439\n",
      "[1] 1447\n",
      "[1] 1451\n",
      "[1] 1453\n",
      "[1] 1459\n",
      "[1] 1471\n",
      "[1] 1481\n",
      "[1] 1483\n",
      "[1] 1487\n",
      "[1] 1489\n",
      "[1] 1493\n",
      "[1] 1499\n",
      "[1] 1511\n",
      "[1] 1523\n",
      "[1] 1531\n",
      "[1] 1543\n",
      "[1] 1549\n",
      "[1] 1553\n",
      "[1] 1559\n",
      "[1] 1567\n",
      "[1] 1571\n",
      "[1] 1579\n",
      "[1] 1583\n",
      "[1] 1597\n",
      "[1] 1601\n",
      "[1] 1607\n",
      "[1] 1609\n",
      "[1] 1613\n",
      "[1] 1619\n",
      "[1] 1621\n",
      "[1] 1627\n",
      "[1] 1637\n",
      "[1] 1657\n",
      "[1] 1663\n",
      "[1] 1667\n",
      "[1] 1669\n",
      "[1] 1693\n",
      "[1] 1697\n",
      "[1] 1699\n",
      "[1] 1709\n",
      "[1] 1721\n",
      "[1] 1723\n",
      "[1] 1733\n",
      "[1] 1741\n",
      "[1] 1747\n",
      "[1] 1753\n",
      "[1] 1759\n",
      "[1] 1777\n",
      "[1] 1783\n",
      "[1] 1787\n",
      "[1] 1789\n",
      "[1] 1801\n",
      "[1] 1811\n",
      "[1] 1823\n",
      "[1] 1831\n",
      "[1] 1847\n",
      "[1] 1861\n",
      "[1] 1867\n",
      "[1] 1871\n",
      "[1] 1873\n",
      "[1] 1877\n",
      "[1] 1879\n",
      "[1] 1889\n",
      "[1] 1901\n",
      "[1] 1907\n",
      "[1] 1913\n",
      "[1] 1931\n",
      "[1] 1933\n",
      "[1] 1949\n",
      "[1] 1951\n",
      "[1] 1973\n",
      "[1] 1979\n",
      "[1] 1987\n",
      "[1] 1993\n",
      "[1] 1997\n",
      "[1] 1999\n",
      "[1] 2003\n",
      "[1] 2011\n",
      "[1] 2017\n",
      "[1] 2027\n",
      "[1] 2029\n",
      "[1] 2039\n",
      "[1] 2053\n",
      "[1] 2063\n",
      "[1] 2069\n",
      "[1] 2081\n",
      "[1] 2083\n",
      "[1] 2087\n",
      "[1] 2089\n",
      "[1] 2099\n",
      "[1] 2111\n",
      "[1] 2113\n",
      "[1] 2129\n",
      "[1] 2131\n",
      "[1] 2137\n",
      "[1] 2141\n",
      "[1] 2143\n",
      "[1] 2153\n",
      "[1] 2161\n",
      "[1] 2179\n",
      "[1] 2203\n",
      "[1] 2207\n",
      "[1] 2213\n",
      "[1] 2221\n",
      "[1] 2237\n",
      "[1] 2239\n",
      "[1] 2243\n",
      "[1] 2251\n",
      "[1] 2267\n",
      "[1] 2269\n",
      "[1] 2273\n",
      "[1] 2281\n",
      "[1] 2287\n",
      "[1] 2293\n",
      "[1] 2297\n",
      "[1] 2309\n",
      "[1] 2311\n",
      "[1] 2333\n",
      "[1] 2339\n",
      "[1] 2341\n",
      "[1] 2347\n",
      "[1] 2351\n",
      "[1] 2357\n",
      "[1] 2371\n",
      "[1] 2377\n",
      "[1] 2381\n",
      "[1] 2383\n",
      "[1] 2389\n",
      "[1] 2393\n",
      "[1] 2399\n",
      "[1] 2411\n",
      "[1] 2417\n",
      "[1] 2423\n",
      "[1] 2437\n",
      "[1] 2441\n",
      "[1] 2447\n",
      "[1] 2459\n",
      "[1] 2467\n",
      "[1] 2473\n",
      "[1] 2477\n",
      "[1] 2503\n",
      "[1] 2521\n",
      "[1] 2531\n",
      "[1] 2539\n",
      "[1] 2543\n",
      "[1] 2549\n",
      "[1] 2551\n",
      "[1] 2557\n",
      "[1] 2579\n",
      "[1] 2591\n",
      "[1] 2593\n",
      "[1] 2609\n",
      "[1] 2617\n",
      "[1] 2621\n",
      "[1] 2633\n",
      "[1] 2647\n",
      "[1] 2657\n",
      "[1] 2659\n",
      "[1] 2663\n",
      "[1] 2671\n",
      "[1] 2677\n",
      "[1] 2683\n",
      "[1] 2687\n",
      "[1] 2689\n",
      "[1] 2693\n",
      "[1] 2699\n",
      "[1] 2707\n",
      "[1] 2711\n",
      "[1] 2713\n",
      "[1] 2719\n",
      "[1] 2729\n",
      "[1] 2731\n",
      "[1] 2741\n",
      "[1] 2749\n",
      "[1] 2753\n",
      "[1] 2767\n",
      "[1] 2777\n",
      "[1] 2789\n",
      "[1] 2791\n",
      "[1] 2797\n",
      "[1] 2801\n",
      "[1] 2803\n",
      "[1] 2819\n",
      "[1] 2833\n",
      "[1] 2837\n",
      "[1] 2843\n",
      "[1] 2851\n",
      "[1] 2857\n",
      "[1] 2861\n",
      "[1] 2879\n",
      "[1] 2887\n",
      "[1] 2897\n",
      "[1] 2903\n",
      "[1] 2909\n",
      "[1] 2917\n",
      "[1] 2927\n",
      "[1] 2939\n",
      "[1] 2953\n",
      "[1] 2957\n",
      "[1] 2963\n",
      "[1] 2969\n",
      "[1] 2971\n",
      "[1] 2999\n",
      "[1] 3001\n",
      "[1] 3011\n",
      "[1] 3019\n",
      "[1] 3023\n",
      "[1] 3037\n",
      "[1] 3041\n",
      "[1] 3049\n",
      "[1] 3061\n",
      "[1] 3067\n",
      "[1] 3079\n",
      "[1] 3083\n",
      "[1] 3089\n",
      "[1] 3109\n",
      "[1] 3119\n",
      "[1] 3121\n",
      "[1] 3137\n",
      "[1] 3163\n",
      "[1] 3167\n",
      "[1] 3169\n",
      "[1] 3181\n",
      "[1] 3187\n",
      "[1] 3191\n",
      "[1] 3203\n",
      "[1] 3209\n",
      "[1] 3217\n",
      "[1] 3221\n",
      "[1] 3229\n",
      "[1] 3251\n",
      "[1] 3253\n",
      "[1] 3257\n",
      "[1] 3259\n",
      "[1] 3271\n",
      "[1] 3299\n",
      "[1] 3301\n",
      "[1] 3307\n",
      "[1] 3313\n",
      "[1] 3319\n",
      "[1] 3323\n",
      "[1] 3329\n",
      "[1] 3331\n",
      "[1] 3343\n",
      "[1] 3347\n",
      "[1] 3359\n",
      "[1] 3361\n",
      "[1] 3371\n",
      "[1] 3373\n",
      "[1] 3389\n",
      "[1] 3391\n",
      "[1] 3407\n",
      "[1] 3413\n",
      "[1] 3433\n",
      "[1] 3449\n",
      "[1] 3457\n",
      "[1] 3461\n",
      "[1] 3463\n",
      "[1] 3467\n",
      "[1] 3469\n",
      "[1] 3491\n",
      "[1] 3499\n",
      "[1] 3511\n",
      "[1] 3517\n",
      "[1] 3527\n",
      "[1] 3529\n",
      "[1] 3533\n",
      "[1] 3539\n",
      "[1] 3541\n",
      "[1] 3547\n",
      "[1] 3557\n",
      "[1] 3559\n",
      "[1] 500\n"
     ]
    }
   ],
   "source": [
    "primecount <- 1\n",
    "numcheck <- 2\n",
    "while (primecount < 500){\n",
    "    i <-2\n",
    "    k <-FALSE\n",
    "    while (i <= sqrt(numcheck)) { #alternatively can do numcheck -1 without sqrt to check every single # prior to the number.\n",
    "        \n",
    "        if (numcheck%%i == 0){k<-TRUE} \n",
    "        i<-i+1\n",
    "    }\n",
    "if (k == FALSE){\n",
    "            primecount <- primecount +1\n",
    "            print (numcheck)\n",
    "    }\n",
    "numcheck <- numcheck +1\n",
    "}\n",
    "print (primecount)"
   ]
  },
  {
   "cell_type": "markdown",
   "metadata": {},
   "source": [
    "## 4. Fibonacci number\n",
    "### Define a function to return the Xth fibonacci number\n",
    "https://en.wikipedia.org/wiki/Fibonacci_number"
   ]
  },
  {
   "cell_type": "code",
   "execution_count": 1,
   "metadata": {},
   "outputs": [
    {
     "name": "stdout",
     "output_type": "stream",
     "text": [
      "[1] 0\n",
      "[1] 1\n",
      "[1] 1\n",
      "[1] 2\n",
      "[1] 3\n",
      "[1] 5\n",
      "[1] 8\n",
      "[1] 13\n",
      "[1] 21\n",
      "[1] 34\n",
      "[1] 55\n",
      "[1] 89\n",
      "[1] 144\n",
      "[1] 233\n",
      "[1] 377\n",
      "[1] 610\n",
      "[1] 987\n",
      "[1] 1597\n",
      "[1] 2584\n",
      "[1] 4181\n",
      "[1] 6765\n"
     ]
    }
   ],
   "source": [
    "fibnum <- function (x) {\n",
    "    if (x == 0){return (0)}\n",
    "    else if (x == 1) {return (1)}\n",
    "    else if (x == 2 ) {return (1)}\n",
    "    else {#x-1 function\n",
    "        fib.vector <- c(0,1,1)\n",
    "        ilen <- length(fib.vector)\n",
    "        for (i in 1:x){\n",
    "            fib.vector[ilen + i] <- fib.vector[ilen+i-1]+fib.vector[ilen-2+i]}\n",
    "        return (fib.vector[x+1])\n",
    "    }\n",
    "}\n",
    "\n",
    "for (i in 0:20){\n",
    "    print(fibnum(i))}"
   ]
  },
  {
   "cell_type": "markdown",
   "metadata": {},
   "source": [
    "## 5. Read both NAV-D14_DEseq2.csv and NAV-MEM-DEseq2.csv into dataframes: df.nav.d14 and df.nav.mem .\n",
    "### 5.1 Subset both dataframes to include only \"baseMean\", \"log2FoldChange\" and \"padj\"\n",
    "### 5.2 Merge the two dataframes (Change column names so that there are no repetative column names. The base mean in two spreadsheets are the same so delete the extra one.) into a dataframe df.nav.d14.mem.\n",
    "### 5.3 Sort the new dataframe on \" baseMean\".\n",
    "### 5.4 Define a function to evaluate padj output:\n",
    "    - padj > 0.05: nonsig\n",
    "    - padj <= 0.05: sig\n",
    "### 5.5 Apply the function to both nav.mem and nav.d14 and create one column to add the evaluation result."
   ]
  },
  {
   "cell_type": "code",
   "execution_count": 31,
   "metadata": {},
   "outputs": [
    {
     "data": {
      "text/html": [
       "'/home/rtu/Applied-Bioinformatics/Applied-Bioinformatics-HW/Unit1-module2-R'"
      ],
      "text/latex": [
       "'/home/rtu/Applied-Bioinformatics/Applied-Bioinformatics-HW/Unit1-module2-R'"
      ],
      "text/markdown": [
       "'/home/rtu/Applied-Bioinformatics/Applied-Bioinformatics-HW/Unit1-module2-R'"
      ],
      "text/plain": [
       "[1] \"/home/rtu/Applied-Bioinformatics/Applied-Bioinformatics-HW/Unit1-module2-R\""
      ]
     },
     "metadata": {},
     "output_type": "display_data"
    },
    {
     "data": {
      "text/html": [
       "<table>\n",
       "<thead><tr><th scope=col>baseMean</th><th scope=col>log2FoldChange</th><th scope=col>padj</th></tr></thead>\n",
       "<tbody>\n",
       "\t<tr><td> 25.256745  </td><td> 1.30246882 </td><td>8.209295e-03</td></tr>\n",
       "\t<tr><td>  0.288508  </td><td>-0.05077872 </td><td>          NA</td></tr>\n",
       "\t<tr><td>163.507773  </td><td>-0.05502833 </td><td>9.144493e-01</td></tr>\n",
       "\t<tr><td>296.461713  </td><td> 0.27370099 </td><td>3.312390e-01</td></tr>\n",
       "\t<tr><td>199.011986  </td><td>-1.62012005 </td><td>1.590000e-07</td></tr>\n",
       "\t<tr><td>122.792530  </td><td>-5.60936805 </td><td>7.150000e-17</td></tr>\n",
       "</tbody>\n",
       "</table>\n"
      ],
      "text/latex": [
       "\\begin{tabular}{r|lll}\n",
       " baseMean & log2FoldChange & padj\\\\\n",
       "\\hline\n",
       "\t  25.256745   &  1.30246882  & 8.209295e-03\\\\\n",
       "\t   0.288508   & -0.05077872  &           NA\\\\\n",
       "\t 163.507773   & -0.05502833  & 9.144493e-01\\\\\n",
       "\t 296.461713   &  0.27370099  & 3.312390e-01\\\\\n",
       "\t 199.011986   & -1.62012005  & 1.590000e-07\\\\\n",
       "\t 122.792530   & -5.60936805  & 7.150000e-17\\\\\n",
       "\\end{tabular}\n"
      ],
      "text/markdown": [
       "\n",
       "baseMean | log2FoldChange | padj | \n",
       "|---|---|---|---|---|---|\n",
       "|  25.256745   |  1.30246882  | 8.209295e-03 | \n",
       "|   0.288508   | -0.05077872  |           NA | \n",
       "| 163.507773   | -0.05502833  | 9.144493e-01 | \n",
       "| 296.461713   |  0.27370099  | 3.312390e-01 | \n",
       "| 199.011986   | -1.62012005  | 1.590000e-07 | \n",
       "| 122.792530   | -5.60936805  | 7.150000e-17 | \n",
       "\n",
       "\n"
      ],
      "text/plain": [
       "  baseMean   log2FoldChange padj        \n",
       "1  25.256745  1.30246882    8.209295e-03\n",
       "2   0.288508 -0.05077872              NA\n",
       "3 163.507773 -0.05502833    9.144493e-01\n",
       "4 296.461713  0.27370099    3.312390e-01\n",
       "5 199.011986 -1.62012005    1.590000e-07\n",
       "6 122.792530 -5.60936805    7.150000e-17"
      ]
     },
     "metadata": {},
     "output_type": "display_data"
    },
    {
     "data": {
      "text/html": [
       "<table>\n",
       "<thead><tr><th scope=col>baseMean</th><th scope=col>log2FoldChange</th><th scope=col>padj</th></tr></thead>\n",
       "<tbody>\n",
       "\t<tr><td> 25.256745  </td><td> 0.79648366 </td><td>1.592970e-01</td></tr>\n",
       "\t<tr><td>  0.288508  </td><td> 0.11136908 </td><td>          NA</td></tr>\n",
       "\t<tr><td>163.507773  </td><td>-0.35399129 </td><td>3.222973e-01</td></tr>\n",
       "\t<tr><td>296.461713  </td><td> 0.07204111 </td><td>8.587087e-01</td></tr>\n",
       "\t<tr><td>199.011986  </td><td> 0.20171786 </td><td>6.914181e-01</td></tr>\n",
       "\t<tr><td>122.792530  </td><td>-3.99706084 </td><td>1.250000e-09</td></tr>\n",
       "</tbody>\n",
       "</table>\n"
      ],
      "text/latex": [
       "\\begin{tabular}{r|lll}\n",
       " baseMean & log2FoldChange & padj\\\\\n",
       "\\hline\n",
       "\t  25.256745   &  0.79648366  & 1.592970e-01\\\\\n",
       "\t   0.288508   &  0.11136908  &           NA\\\\\n",
       "\t 163.507773   & -0.35399129  & 3.222973e-01\\\\\n",
       "\t 296.461713   &  0.07204111  & 8.587087e-01\\\\\n",
       "\t 199.011986   &  0.20171786  & 6.914181e-01\\\\\n",
       "\t 122.792530   & -3.99706084  & 1.250000e-09\\\\\n",
       "\\end{tabular}\n"
      ],
      "text/markdown": [
       "\n",
       "baseMean | log2FoldChange | padj | \n",
       "|---|---|---|---|---|---|\n",
       "|  25.256745   |  0.79648366  | 1.592970e-01 | \n",
       "|   0.288508   |  0.11136908  |           NA | \n",
       "| 163.507773   | -0.35399129  | 3.222973e-01 | \n",
       "| 296.461713   |  0.07204111  | 8.587087e-01 | \n",
       "| 199.011986   |  0.20171786  | 6.914181e-01 | \n",
       "| 122.792530   | -3.99706084  | 1.250000e-09 | \n",
       "\n",
       "\n"
      ],
      "text/plain": [
       "  baseMean   log2FoldChange padj        \n",
       "1  25.256745  0.79648366    1.592970e-01\n",
       "2   0.288508  0.11136908              NA\n",
       "3 163.507773 -0.35399129    3.222973e-01\n",
       "4 296.461713  0.07204111    8.587087e-01\n",
       "5 199.011986  0.20171786    6.914181e-01\n",
       "6 122.792530 -3.99706084    1.250000e-09"
      ]
     },
     "metadata": {},
     "output_type": "display_data"
    },
    {
     "data": {
      "text/html": [
       "<table>\n",
       "<thead><tr><th scope=col>baseMean2</th><th scope=col>log2FoldChange2</th><th scope=col>padj2</th></tr></thead>\n",
       "<tbody>\n",
       "\t<tr><td> 25.256745  </td><td> 0.79648366 </td><td>1.592970e-01</td></tr>\n",
       "\t<tr><td>  0.288508  </td><td> 0.11136908 </td><td>          NA</td></tr>\n",
       "\t<tr><td>163.507773  </td><td>-0.35399129 </td><td>3.222973e-01</td></tr>\n",
       "\t<tr><td>296.461713  </td><td> 0.07204111 </td><td>8.587087e-01</td></tr>\n",
       "\t<tr><td>199.011986  </td><td> 0.20171786 </td><td>6.914181e-01</td></tr>\n",
       "\t<tr><td>122.792530  </td><td>-3.99706084 </td><td>1.250000e-09</td></tr>\n",
       "</tbody>\n",
       "</table>\n"
      ],
      "text/latex": [
       "\\begin{tabular}{r|lll}\n",
       " baseMean2 & log2FoldChange2 & padj2\\\\\n",
       "\\hline\n",
       "\t  25.256745   &  0.79648366  & 1.592970e-01\\\\\n",
       "\t   0.288508   &  0.11136908  &           NA\\\\\n",
       "\t 163.507773   & -0.35399129  & 3.222973e-01\\\\\n",
       "\t 296.461713   &  0.07204111  & 8.587087e-01\\\\\n",
       "\t 199.011986   &  0.20171786  & 6.914181e-01\\\\\n",
       "\t 122.792530   & -3.99706084  & 1.250000e-09\\\\\n",
       "\\end{tabular}\n"
      ],
      "text/markdown": [
       "\n",
       "baseMean2 | log2FoldChange2 | padj2 | \n",
       "|---|---|---|---|---|---|\n",
       "|  25.256745   |  0.79648366  | 1.592970e-01 | \n",
       "|   0.288508   |  0.11136908  |           NA | \n",
       "| 163.507773   | -0.35399129  | 3.222973e-01 | \n",
       "| 296.461713   |  0.07204111  | 8.587087e-01 | \n",
       "| 199.011986   |  0.20171786  | 6.914181e-01 | \n",
       "| 122.792530   | -3.99706084  | 1.250000e-09 | \n",
       "\n",
       "\n"
      ],
      "text/plain": [
       "  baseMean2  log2FoldChange2 padj2       \n",
       "1  25.256745  0.79648366     1.592970e-01\n",
       "2   0.288508  0.11136908               NA\n",
       "3 163.507773 -0.35399129     3.222973e-01\n",
       "4 296.461713  0.07204111     8.587087e-01\n",
       "5 199.011986  0.20171786     6.914181e-01\n",
       "6 122.792530 -3.99706084     1.250000e-09"
      ]
     },
     "metadata": {},
     "output_type": "display_data"
    },
    {
     "data": {
      "text/html": [
       "<table>\n",
       "<thead><tr><th scope=col>baseMean</th><th scope=col>log2FoldChange</th><th scope=col>padj</th><th scope=col>log2FoldChange2</th><th scope=col>padj2</th></tr></thead>\n",
       "<tbody>\n",
       "\t<tr><td>  25.2567446</td><td> 1.302468822</td><td>8.209295e-03</td><td> 0.79648366 </td><td>1.592970e-01</td></tr>\n",
       "\t<tr><td>   0.2885080</td><td>-0.050778715</td><td>          NA</td><td> 0.11136908 </td><td>          NA</td></tr>\n",
       "\t<tr><td> 163.5077733</td><td>-0.055028326</td><td>9.144493e-01</td><td>-0.35399129 </td><td>3.222973e-01</td></tr>\n",
       "\t<tr><td> 296.4617127</td><td> 0.273700992</td><td>3.312390e-01</td><td> 0.07204111 </td><td>8.587087e-01</td></tr>\n",
       "\t<tr><td> 199.0119864</td><td>-1.620120054</td><td>1.590000e-07</td><td> 0.20171786 </td><td>6.914181e-01</td></tr>\n",
       "\t<tr><td> 122.7925300</td><td>-5.609368054</td><td>7.150000e-17</td><td>-3.99706084 </td><td>1.250000e-09</td></tr>\n",
       "\t<tr><td>  27.4052165</td><td>-0.054920405</td><td>9.742211e-01</td><td>-1.84120916 </td><td>6.322038e-02</td></tr>\n",
       "\t<tr><td>  72.0384923</td><td>-0.764421958</td><td>2.135803e-02</td><td> 0.10954800 </td><td>8.529961e-01</td></tr>\n",
       "\t<tr><td> 232.8235989</td><td>-0.669026757</td><td>7.365785e-03</td><td>-0.41392536 </td><td>1.287769e-01</td></tr>\n",
       "\t<tr><td> 557.5801607</td><td>-0.007449532</td><td>9.850497e-01</td><td>-0.30851566 </td><td>1.647130e-01</td></tr>\n",
       "\t<tr><td> 108.0712339</td><td> 0.772006269</td><td>1.301502e-01</td><td> 0.91751126 </td><td>5.609208e-02</td></tr>\n",
       "\t<tr><td> 810.6565538</td><td> 0.890087366</td><td>2.670000e-05</td><td> 0.83670242 </td><td>1.090000e-05</td></tr>\n",
       "\t<tr><td> 541.2743227</td><td> 0.243789623</td><td>4.646951e-01</td><td> 0.16497279 </td><td>6.578371e-01</td></tr>\n",
       "\t<tr><td> 166.5152095</td><td>-1.079758358</td><td>4.158050e-04</td><td>-0.80371730 </td><td>7.661222e-03</td></tr>\n",
       "\t<tr><td>   0.7756764</td><td> 0.018149013</td><td>          NA</td><td> 0.66772511 </td><td>          NA</td></tr>\n",
       "\t<tr><td>  21.0101464</td><td>-0.152174024</td><td>8.859011e-01</td><td>-0.65582070 </td><td>4.170020e-01</td></tr>\n",
       "\t<tr><td> 851.1972930</td><td>-0.244293694</td><td>3.091941e-01</td><td>-0.03061215 </td><td>9.372355e-01</td></tr>\n",
       "\t<tr><td> 232.2112019</td><td>-0.375691024</td><td>2.950932e-01</td><td>-0.81798019 </td><td>3.051591e-03</td></tr>\n",
       "\t<tr><td> 646.5918389</td><td> 0.231034820</td><td>4.243037e-01</td><td> 0.10256815 </td><td>7.735338e-01</td></tr>\n",
       "\t<tr><td> 239.2300392</td><td>-0.232950518</td><td>6.475512e-01</td><td>-0.04952455 </td><td>9.449632e-01</td></tr>\n",
       "\t<tr><td>   4.3225472</td><td> 0.928279411</td><td>3.681571e-01</td><td> 1.55734384 </td><td>1.222245e-01</td></tr>\n",
       "\t<tr><td>  17.4333591</td><td>-1.057237408</td><td>5.114864e-02</td><td>-0.12542602 </td><td>9.043709e-01</td></tr>\n",
       "\t<tr><td> 365.2625318</td><td>-1.030560331</td><td>2.888787e-03</td><td>-1.30340649 </td><td>1.590000e-05</td></tr>\n",
       "\t<tr><td> 643.5209068</td><td>-2.255638839</td><td>1.250000e-14</td><td>-1.71778117 </td><td>7.700000e-11</td></tr>\n",
       "\t<tr><td>  14.7767394</td><td> 0.270394524</td><td>7.364323e-01</td><td> 0.31471265 </td><td>7.116803e-01</td></tr>\n",
       "\t<tr><td>   3.1094441</td><td> 0.241018564</td><td>8.623265e-01</td><td>-0.19599581 </td><td>9.077030e-01</td></tr>\n",
       "\t<tr><td>   4.1070926</td><td> 1.180624115</td><td>1.870495e-01</td><td> 1.91194168 </td><td>2.616917e-02</td></tr>\n",
       "\t<tr><td>  17.8167829</td><td>-0.026159525</td><td>9.877749e-01</td><td>-0.06634516 </td><td>9.727670e-01</td></tr>\n",
       "\t<tr><td>  99.3680284</td><td>-0.144866391</td><td>8.151420e-01</td><td> 0.25255324 </td><td>6.590225e-01</td></tr>\n",
       "\t<tr><td>1961.0769280</td><td>-1.336887734</td><td>3.760000e-08</td><td>-0.16891823 </td><td>6.589888e-01</td></tr>\n",
       "\t<tr><td>⋮</td><td>⋮</td><td>⋮</td><td>⋮</td><td>⋮</td></tr>\n",
       "\t<tr><td> 463.1803447</td><td> 0.53986676 </td><td>1.006744e-01</td><td>-0.04961649 </td><td>0.931644845 </td></tr>\n",
       "\t<tr><td> 281.2836333</td><td> 0.34280709 </td><td>2.619995e-01</td><td>-0.57404502 </td><td>0.022749148 </td></tr>\n",
       "\t<tr><td>1190.4092840</td><td> 0.01255498 </td><td>9.858765e-01</td><td> 0.49526967 </td><td>0.247536808 </td></tr>\n",
       "\t<tr><td> 175.5906321</td><td>-0.62320065 </td><td>5.305227e-02</td><td>-0.45304666 </td><td>0.190816444 </td></tr>\n",
       "\t<tr><td>  74.6212440</td><td>-2.76567200 </td><td>1.380000e-07</td><td> 0.29684534 </td><td>0.748611178 </td></tr>\n",
       "\t<tr><td>6448.8751000</td><td> 0.02525367 </td><td>9.572118e-01</td><td>-0.50616012 </td><td>0.043855466 </td></tr>\n",
       "\t<tr><td> 488.5664401</td><td>-0.49177374 </td><td>3.281471e-02</td><td>-0.18028350 </td><td>0.553068948 </td></tr>\n",
       "\t<tr><td>  20.2343537</td><td> 0.57319429 </td><td>4.280409e-01</td><td> 0.99917935 </td><td>0.117980768 </td></tr>\n",
       "\t<tr><td>   0.5011933</td><td>-0.10374941 </td><td>          NA</td><td>-0.22755156 </td><td>         NA </td></tr>\n",
       "\t<tr><td> 131.0923289</td><td> 0.31741102 </td><td>2.814311e-01</td><td> 0.59927138 </td><td>0.014859821 </td></tr>\n",
       "\t<tr><td>1068.0602190</td><td>-0.21975993 </td><td>3.729001e-01</td><td> 0.15964952 </td><td>0.553130169 </td></tr>\n",
       "\t<tr><td>  84.3692469</td><td>-4.38728848 </td><td>1.450000e-23</td><td>-1.45955641 </td><td>0.002513022 </td></tr>\n",
       "\t<tr><td> 822.1479147</td><td> 0.41786705 </td><td>2.519199e-01</td><td> 0.50617619 </td><td>0.133498993 </td></tr>\n",
       "\t<tr><td> 120.1631076</td><td>-1.71103311 </td><td>1.480000e-09</td><td>-0.49311687 </td><td>0.162497533 </td></tr>\n",
       "\t<tr><td>   1.3780993</td><td> 0.48417947 </td><td>          NA</td><td> 0.71784871 </td><td>         NA </td></tr>\n",
       "\t<tr><td> 289.8239287</td><td>-1.63161054 </td><td>2.998390e-04</td><td> 1.83631261 </td><td>0.000008850 </td></tr>\n",
       "\t<tr><td>  80.1371645</td><td>-1.09598517 </td><td>1.000973e-01</td><td>-1.09995420 </td><td>0.103228035 </td></tr>\n",
       "\t<tr><td> 965.9769543</td><td>-0.12459964 </td><td>7.485698e-01</td><td>-0.20947877 </td><td>0.546345370 </td></tr>\n",
       "\t<tr><td>  66.8541134</td><td>-0.70478574 </td><td>2.632495e-01</td><td>-0.67896250 </td><td>0.290780453 </td></tr>\n",
       "\t<tr><td>  24.1658529</td><td>-0.99668553 </td><td>9.348970e-02</td><td> 0.72993965 </td><td>0.307438234 </td></tr>\n",
       "\t<tr><td> 383.4006187</td><td>-0.01094582 </td><td>9.797778e-01</td><td> 0.28139957 </td><td>0.280485495 </td></tr>\n",
       "\t<tr><td> 379.8428768</td><td> 0.08522877 </td><td>7.848873e-01</td><td> 0.20579506 </td><td>0.424287293 </td></tr>\n",
       "\t<tr><td>1435.3239890</td><td> 0.04869732 </td><td>9.010712e-01</td><td>-0.12064051 </td><td>0.722405642 </td></tr>\n",
       "\t<tr><td>  87.8650442</td><td>-0.95503525 </td><td>3.582930e-04</td><td>-0.24976375 </td><td>0.518934959 </td></tr>\n",
       "\t<tr><td> 146.4175068</td><td>-0.14635328 </td><td>7.821706e-01</td><td>-0.20697579 </td><td>0.685467475 </td></tr>\n",
       "\t<tr><td> 111.7153911</td><td> 0.60100567 </td><td>1.361938e-01</td><td> 0.39353897 </td><td>0.391459416 </td></tr>\n",
       "\t<tr><td>  72.3719334</td><td> 0.33922670 </td><td>3.352177e-01</td><td> 0.47437050 </td><td>0.150090906 </td></tr>\n",
       "\t<tr><td> 270.0027762</td><td>-0.22916478 </td><td>4.418914e-01</td><td>-0.09439890 </td><td>0.804811613 </td></tr>\n",
       "\t<tr><td> 288.4767585</td><td> 0.10264088 </td><td>8.456544e-01</td><td> 0.20858449 </td><td>0.654878806 </td></tr>\n",
       "\t<tr><td> 171.7401625</td><td>-0.07133449 </td><td>8.936611e-01</td><td>-0.29497122 </td><td>0.461054038 </td></tr>\n",
       "</tbody>\n",
       "</table>\n"
      ],
      "text/latex": [
       "\\begin{tabular}{r|lllll}\n",
       " baseMean & log2FoldChange & padj & log2FoldChange2 & padj2\\\\\n",
       "\\hline\n",
       "\t   25.2567446 &  1.302468822 & 8.209295e-03 &  0.79648366  & 1.592970e-01\\\\\n",
       "\t    0.2885080 & -0.050778715 &           NA &  0.11136908  &           NA\\\\\n",
       "\t  163.5077733 & -0.055028326 & 9.144493e-01 & -0.35399129  & 3.222973e-01\\\\\n",
       "\t  296.4617127 &  0.273700992 & 3.312390e-01 &  0.07204111  & 8.587087e-01\\\\\n",
       "\t  199.0119864 & -1.620120054 & 1.590000e-07 &  0.20171786  & 6.914181e-01\\\\\n",
       "\t  122.7925300 & -5.609368054 & 7.150000e-17 & -3.99706084  & 1.250000e-09\\\\\n",
       "\t   27.4052165 & -0.054920405 & 9.742211e-01 & -1.84120916  & 6.322038e-02\\\\\n",
       "\t   72.0384923 & -0.764421958 & 2.135803e-02 &  0.10954800  & 8.529961e-01\\\\\n",
       "\t  232.8235989 & -0.669026757 & 7.365785e-03 & -0.41392536  & 1.287769e-01\\\\\n",
       "\t  557.5801607 & -0.007449532 & 9.850497e-01 & -0.30851566  & 1.647130e-01\\\\\n",
       "\t  108.0712339 &  0.772006269 & 1.301502e-01 &  0.91751126  & 5.609208e-02\\\\\n",
       "\t  810.6565538 &  0.890087366 & 2.670000e-05 &  0.83670242  & 1.090000e-05\\\\\n",
       "\t  541.2743227 &  0.243789623 & 4.646951e-01 &  0.16497279  & 6.578371e-01\\\\\n",
       "\t  166.5152095 & -1.079758358 & 4.158050e-04 & -0.80371730  & 7.661222e-03\\\\\n",
       "\t    0.7756764 &  0.018149013 &           NA &  0.66772511  &           NA\\\\\n",
       "\t   21.0101464 & -0.152174024 & 8.859011e-01 & -0.65582070  & 4.170020e-01\\\\\n",
       "\t  851.1972930 & -0.244293694 & 3.091941e-01 & -0.03061215  & 9.372355e-01\\\\\n",
       "\t  232.2112019 & -0.375691024 & 2.950932e-01 & -0.81798019  & 3.051591e-03\\\\\n",
       "\t  646.5918389 &  0.231034820 & 4.243037e-01 &  0.10256815  & 7.735338e-01\\\\\n",
       "\t  239.2300392 & -0.232950518 & 6.475512e-01 & -0.04952455  & 9.449632e-01\\\\\n",
       "\t    4.3225472 &  0.928279411 & 3.681571e-01 &  1.55734384  & 1.222245e-01\\\\\n",
       "\t   17.4333591 & -1.057237408 & 5.114864e-02 & -0.12542602  & 9.043709e-01\\\\\n",
       "\t  365.2625318 & -1.030560331 & 2.888787e-03 & -1.30340649  & 1.590000e-05\\\\\n",
       "\t  643.5209068 & -2.255638839 & 1.250000e-14 & -1.71778117  & 7.700000e-11\\\\\n",
       "\t   14.7767394 &  0.270394524 & 7.364323e-01 &  0.31471265  & 7.116803e-01\\\\\n",
       "\t    3.1094441 &  0.241018564 & 8.623265e-01 & -0.19599581  & 9.077030e-01\\\\\n",
       "\t    4.1070926 &  1.180624115 & 1.870495e-01 &  1.91194168  & 2.616917e-02\\\\\n",
       "\t   17.8167829 & -0.026159525 & 9.877749e-01 & -0.06634516  & 9.727670e-01\\\\\n",
       "\t   99.3680284 & -0.144866391 & 8.151420e-01 &  0.25255324  & 6.590225e-01\\\\\n",
       "\t 1961.0769280 & -1.336887734 & 3.760000e-08 & -0.16891823  & 6.589888e-01\\\\\n",
       "\t ⋮ & ⋮ & ⋮ & ⋮ & ⋮\\\\\n",
       "\t  463.1803447 &  0.53986676  & 1.006744e-01 & -0.04961649  & 0.931644845 \\\\\n",
       "\t  281.2836333 &  0.34280709  & 2.619995e-01 & -0.57404502  & 0.022749148 \\\\\n",
       "\t 1190.4092840 &  0.01255498  & 9.858765e-01 &  0.49526967  & 0.247536808 \\\\\n",
       "\t  175.5906321 & -0.62320065  & 5.305227e-02 & -0.45304666  & 0.190816444 \\\\\n",
       "\t   74.6212440 & -2.76567200  & 1.380000e-07 &  0.29684534  & 0.748611178 \\\\\n",
       "\t 6448.8751000 &  0.02525367  & 9.572118e-01 & -0.50616012  & 0.043855466 \\\\\n",
       "\t  488.5664401 & -0.49177374  & 3.281471e-02 & -0.18028350  & 0.553068948 \\\\\n",
       "\t   20.2343537 &  0.57319429  & 4.280409e-01 &  0.99917935  & 0.117980768 \\\\\n",
       "\t    0.5011933 & -0.10374941  &           NA & -0.22755156  &          NA \\\\\n",
       "\t  131.0923289 &  0.31741102  & 2.814311e-01 &  0.59927138  & 0.014859821 \\\\\n",
       "\t 1068.0602190 & -0.21975993  & 3.729001e-01 &  0.15964952  & 0.553130169 \\\\\n",
       "\t   84.3692469 & -4.38728848  & 1.450000e-23 & -1.45955641  & 0.002513022 \\\\\n",
       "\t  822.1479147 &  0.41786705  & 2.519199e-01 &  0.50617619  & 0.133498993 \\\\\n",
       "\t  120.1631076 & -1.71103311  & 1.480000e-09 & -0.49311687  & 0.162497533 \\\\\n",
       "\t    1.3780993 &  0.48417947  &           NA &  0.71784871  &          NA \\\\\n",
       "\t  289.8239287 & -1.63161054  & 2.998390e-04 &  1.83631261  & 0.000008850 \\\\\n",
       "\t   80.1371645 & -1.09598517  & 1.000973e-01 & -1.09995420  & 0.103228035 \\\\\n",
       "\t  965.9769543 & -0.12459964  & 7.485698e-01 & -0.20947877  & 0.546345370 \\\\\n",
       "\t   66.8541134 & -0.70478574  & 2.632495e-01 & -0.67896250  & 0.290780453 \\\\\n",
       "\t   24.1658529 & -0.99668553  & 9.348970e-02 &  0.72993965  & 0.307438234 \\\\\n",
       "\t  383.4006187 & -0.01094582  & 9.797778e-01 &  0.28139957  & 0.280485495 \\\\\n",
       "\t  379.8428768 &  0.08522877  & 7.848873e-01 &  0.20579506  & 0.424287293 \\\\\n",
       "\t 1435.3239890 &  0.04869732  & 9.010712e-01 & -0.12064051  & 0.722405642 \\\\\n",
       "\t   87.8650442 & -0.95503525  & 3.582930e-04 & -0.24976375  & 0.518934959 \\\\\n",
       "\t  146.4175068 & -0.14635328  & 7.821706e-01 & -0.20697579  & 0.685467475 \\\\\n",
       "\t  111.7153911 &  0.60100567  & 1.361938e-01 &  0.39353897  & 0.391459416 \\\\\n",
       "\t   72.3719334 &  0.33922670  & 3.352177e-01 &  0.47437050  & 0.150090906 \\\\\n",
       "\t  270.0027762 & -0.22916478  & 4.418914e-01 & -0.09439890  & 0.804811613 \\\\\n",
       "\t  288.4767585 &  0.10264088  & 8.456544e-01 &  0.20858449  & 0.654878806 \\\\\n",
       "\t  171.7401625 & -0.07133449  & 8.936611e-01 & -0.29497122  & 0.461054038 \\\\\n",
       "\\end{tabular}\n"
      ],
      "text/markdown": [
       "\n",
       "baseMean | log2FoldChange | padj | log2FoldChange2 | padj2 | \n",
       "|---|---|---|---|---|---|---|---|---|---|---|---|---|---|---|---|---|---|---|---|---|---|---|---|---|---|---|---|---|---|---|---|---|---|---|---|---|---|---|---|---|---|---|---|---|---|---|---|---|---|---|---|---|---|---|---|---|---|---|---|---|\n",
       "|   25.2567446 |  1.302468822 | 8.209295e-03 |  0.79648366  | 1.592970e-01 | \n",
       "|    0.2885080 | -0.050778715 |           NA |  0.11136908  |           NA | \n",
       "|  163.5077733 | -0.055028326 | 9.144493e-01 | -0.35399129  | 3.222973e-01 | \n",
       "|  296.4617127 |  0.273700992 | 3.312390e-01 |  0.07204111  | 8.587087e-01 | \n",
       "|  199.0119864 | -1.620120054 | 1.590000e-07 |  0.20171786  | 6.914181e-01 | \n",
       "|  122.7925300 | -5.609368054 | 7.150000e-17 | -3.99706084  | 1.250000e-09 | \n",
       "|   27.4052165 | -0.054920405 | 9.742211e-01 | -1.84120916  | 6.322038e-02 | \n",
       "|   72.0384923 | -0.764421958 | 2.135803e-02 |  0.10954800  | 8.529961e-01 | \n",
       "|  232.8235989 | -0.669026757 | 7.365785e-03 | -0.41392536  | 1.287769e-01 | \n",
       "|  557.5801607 | -0.007449532 | 9.850497e-01 | -0.30851566  | 1.647130e-01 | \n",
       "|  108.0712339 |  0.772006269 | 1.301502e-01 |  0.91751126  | 5.609208e-02 | \n",
       "|  810.6565538 |  0.890087366 | 2.670000e-05 |  0.83670242  | 1.090000e-05 | \n",
       "|  541.2743227 |  0.243789623 | 4.646951e-01 |  0.16497279  | 6.578371e-01 | \n",
       "|  166.5152095 | -1.079758358 | 4.158050e-04 | -0.80371730  | 7.661222e-03 | \n",
       "|    0.7756764 |  0.018149013 |           NA |  0.66772511  |           NA | \n",
       "|   21.0101464 | -0.152174024 | 8.859011e-01 | -0.65582070  | 4.170020e-01 | \n",
       "|  851.1972930 | -0.244293694 | 3.091941e-01 | -0.03061215  | 9.372355e-01 | \n",
       "|  232.2112019 | -0.375691024 | 2.950932e-01 | -0.81798019  | 3.051591e-03 | \n",
       "|  646.5918389 |  0.231034820 | 4.243037e-01 |  0.10256815  | 7.735338e-01 | \n",
       "|  239.2300392 | -0.232950518 | 6.475512e-01 | -0.04952455  | 9.449632e-01 | \n",
       "|    4.3225472 |  0.928279411 | 3.681571e-01 |  1.55734384  | 1.222245e-01 | \n",
       "|   17.4333591 | -1.057237408 | 5.114864e-02 | -0.12542602  | 9.043709e-01 | \n",
       "|  365.2625318 | -1.030560331 | 2.888787e-03 | -1.30340649  | 1.590000e-05 | \n",
       "|  643.5209068 | -2.255638839 | 1.250000e-14 | -1.71778117  | 7.700000e-11 | \n",
       "|   14.7767394 |  0.270394524 | 7.364323e-01 |  0.31471265  | 7.116803e-01 | \n",
       "|    3.1094441 |  0.241018564 | 8.623265e-01 | -0.19599581  | 9.077030e-01 | \n",
       "|    4.1070926 |  1.180624115 | 1.870495e-01 |  1.91194168  | 2.616917e-02 | \n",
       "|   17.8167829 | -0.026159525 | 9.877749e-01 | -0.06634516  | 9.727670e-01 | \n",
       "|   99.3680284 | -0.144866391 | 8.151420e-01 |  0.25255324  | 6.590225e-01 | \n",
       "| 1961.0769280 | -1.336887734 | 3.760000e-08 | -0.16891823  | 6.589888e-01 | \n",
       "| ⋮ | ⋮ | ⋮ | ⋮ | ⋮ | \n",
       "|  463.1803447 |  0.53986676  | 1.006744e-01 | -0.04961649  | 0.931644845  | \n",
       "|  281.2836333 |  0.34280709  | 2.619995e-01 | -0.57404502  | 0.022749148  | \n",
       "| 1190.4092840 |  0.01255498  | 9.858765e-01 |  0.49526967  | 0.247536808  | \n",
       "|  175.5906321 | -0.62320065  | 5.305227e-02 | -0.45304666  | 0.190816444  | \n",
       "|   74.6212440 | -2.76567200  | 1.380000e-07 |  0.29684534  | 0.748611178  | \n",
       "| 6448.8751000 |  0.02525367  | 9.572118e-01 | -0.50616012  | 0.043855466  | \n",
       "|  488.5664401 | -0.49177374  | 3.281471e-02 | -0.18028350  | 0.553068948  | \n",
       "|   20.2343537 |  0.57319429  | 4.280409e-01 |  0.99917935  | 0.117980768  | \n",
       "|    0.5011933 | -0.10374941  |           NA | -0.22755156  |          NA  | \n",
       "|  131.0923289 |  0.31741102  | 2.814311e-01 |  0.59927138  | 0.014859821  | \n",
       "| 1068.0602190 | -0.21975993  | 3.729001e-01 |  0.15964952  | 0.553130169  | \n",
       "|   84.3692469 | -4.38728848  | 1.450000e-23 | -1.45955641  | 0.002513022  | \n",
       "|  822.1479147 |  0.41786705  | 2.519199e-01 |  0.50617619  | 0.133498993  | \n",
       "|  120.1631076 | -1.71103311  | 1.480000e-09 | -0.49311687  | 0.162497533  | \n",
       "|    1.3780993 |  0.48417947  |           NA |  0.71784871  |          NA  | \n",
       "|  289.8239287 | -1.63161054  | 2.998390e-04 |  1.83631261  | 0.000008850  | \n",
       "|   80.1371645 | -1.09598517  | 1.000973e-01 | -1.09995420  | 0.103228035  | \n",
       "|  965.9769543 | -0.12459964  | 7.485698e-01 | -0.20947877  | 0.546345370  | \n",
       "|   66.8541134 | -0.70478574  | 2.632495e-01 | -0.67896250  | 0.290780453  | \n",
       "|   24.1658529 | -0.99668553  | 9.348970e-02 |  0.72993965  | 0.307438234  | \n",
       "|  383.4006187 | -0.01094582  | 9.797778e-01 |  0.28139957  | 0.280485495  | \n",
       "|  379.8428768 |  0.08522877  | 7.848873e-01 |  0.20579506  | 0.424287293  | \n",
       "| 1435.3239890 |  0.04869732  | 9.010712e-01 | -0.12064051  | 0.722405642  | \n",
       "|   87.8650442 | -0.95503525  | 3.582930e-04 | -0.24976375  | 0.518934959  | \n",
       "|  146.4175068 | -0.14635328  | 7.821706e-01 | -0.20697579  | 0.685467475  | \n",
       "|  111.7153911 |  0.60100567  | 1.361938e-01 |  0.39353897  | 0.391459416  | \n",
       "|   72.3719334 |  0.33922670  | 3.352177e-01 |  0.47437050  | 0.150090906  | \n",
       "|  270.0027762 | -0.22916478  | 4.418914e-01 | -0.09439890  | 0.804811613  | \n",
       "|  288.4767585 |  0.10264088  | 8.456544e-01 |  0.20858449  | 0.654878806  | \n",
       "|  171.7401625 | -0.07133449  | 8.936611e-01 | -0.29497122  | 0.461054038  | \n",
       "\n",
       "\n"
      ],
      "text/plain": [
       "    baseMean     log2FoldChange padj         log2FoldChange2 padj2       \n",
       "1     25.2567446  1.302468822   8.209295e-03  0.79648366     1.592970e-01\n",
       "2      0.2885080 -0.050778715             NA  0.11136908               NA\n",
       "3    163.5077733 -0.055028326   9.144493e-01 -0.35399129     3.222973e-01\n",
       "4    296.4617127  0.273700992   3.312390e-01  0.07204111     8.587087e-01\n",
       "5    199.0119864 -1.620120054   1.590000e-07  0.20171786     6.914181e-01\n",
       "6    122.7925300 -5.609368054   7.150000e-17 -3.99706084     1.250000e-09\n",
       "7     27.4052165 -0.054920405   9.742211e-01 -1.84120916     6.322038e-02\n",
       "8     72.0384923 -0.764421958   2.135803e-02  0.10954800     8.529961e-01\n",
       "9    232.8235989 -0.669026757   7.365785e-03 -0.41392536     1.287769e-01\n",
       "10   557.5801607 -0.007449532   9.850497e-01 -0.30851566     1.647130e-01\n",
       "11   108.0712339  0.772006269   1.301502e-01  0.91751126     5.609208e-02\n",
       "12   810.6565538  0.890087366   2.670000e-05  0.83670242     1.090000e-05\n",
       "13   541.2743227  0.243789623   4.646951e-01  0.16497279     6.578371e-01\n",
       "14   166.5152095 -1.079758358   4.158050e-04 -0.80371730     7.661222e-03\n",
       "15     0.7756764  0.018149013             NA  0.66772511               NA\n",
       "16    21.0101464 -0.152174024   8.859011e-01 -0.65582070     4.170020e-01\n",
       "17   851.1972930 -0.244293694   3.091941e-01 -0.03061215     9.372355e-01\n",
       "18   232.2112019 -0.375691024   2.950932e-01 -0.81798019     3.051591e-03\n",
       "19   646.5918389  0.231034820   4.243037e-01  0.10256815     7.735338e-01\n",
       "20   239.2300392 -0.232950518   6.475512e-01 -0.04952455     9.449632e-01\n",
       "21     4.3225472  0.928279411   3.681571e-01  1.55734384     1.222245e-01\n",
       "22    17.4333591 -1.057237408   5.114864e-02 -0.12542602     9.043709e-01\n",
       "23   365.2625318 -1.030560331   2.888787e-03 -1.30340649     1.590000e-05\n",
       "24   643.5209068 -2.255638839   1.250000e-14 -1.71778117     7.700000e-11\n",
       "25    14.7767394  0.270394524   7.364323e-01  0.31471265     7.116803e-01\n",
       "26     3.1094441  0.241018564   8.623265e-01 -0.19599581     9.077030e-01\n",
       "27     4.1070926  1.180624115   1.870495e-01  1.91194168     2.616917e-02\n",
       "28    17.8167829 -0.026159525   9.877749e-01 -0.06634516     9.727670e-01\n",
       "29    99.3680284 -0.144866391   8.151420e-01  0.25255324     6.590225e-01\n",
       "30  1961.0769280 -1.336887734   3.760000e-08 -0.16891823     6.589888e-01\n",
       "⋮   ⋮            ⋮              ⋮            ⋮               ⋮           \n",
       "471  463.1803447  0.53986676    1.006744e-01 -0.04961649     0.931644845 \n",
       "472  281.2836333  0.34280709    2.619995e-01 -0.57404502     0.022749148 \n",
       "473 1190.4092840  0.01255498    9.858765e-01  0.49526967     0.247536808 \n",
       "474  175.5906321 -0.62320065    5.305227e-02 -0.45304666     0.190816444 \n",
       "475   74.6212440 -2.76567200    1.380000e-07  0.29684534     0.748611178 \n",
       "476 6448.8751000  0.02525367    9.572118e-01 -0.50616012     0.043855466 \n",
       "477  488.5664401 -0.49177374    3.281471e-02 -0.18028350     0.553068948 \n",
       "478   20.2343537  0.57319429    4.280409e-01  0.99917935     0.117980768 \n",
       "479    0.5011933 -0.10374941              NA -0.22755156              NA \n",
       "480  131.0923289  0.31741102    2.814311e-01  0.59927138     0.014859821 \n",
       "481 1068.0602190 -0.21975993    3.729001e-01  0.15964952     0.553130169 \n",
       "482   84.3692469 -4.38728848    1.450000e-23 -1.45955641     0.002513022 \n",
       "483  822.1479147  0.41786705    2.519199e-01  0.50617619     0.133498993 \n",
       "484  120.1631076 -1.71103311    1.480000e-09 -0.49311687     0.162497533 \n",
       "485    1.3780993  0.48417947              NA  0.71784871              NA \n",
       "486  289.8239287 -1.63161054    2.998390e-04  1.83631261     0.000008850 \n",
       "487   80.1371645 -1.09598517    1.000973e-01 -1.09995420     0.103228035 \n",
       "488  965.9769543 -0.12459964    7.485698e-01 -0.20947877     0.546345370 \n",
       "489   66.8541134 -0.70478574    2.632495e-01 -0.67896250     0.290780453 \n",
       "490   24.1658529 -0.99668553    9.348970e-02  0.72993965     0.307438234 \n",
       "491  383.4006187 -0.01094582    9.797778e-01  0.28139957     0.280485495 \n",
       "492  379.8428768  0.08522877    7.848873e-01  0.20579506     0.424287293 \n",
       "493 1435.3239890  0.04869732    9.010712e-01 -0.12064051     0.722405642 \n",
       "494   87.8650442 -0.95503525    3.582930e-04 -0.24976375     0.518934959 \n",
       "495  146.4175068 -0.14635328    7.821706e-01 -0.20697579     0.685467475 \n",
       "496  111.7153911  0.60100567    1.361938e-01  0.39353897     0.391459416 \n",
       "497   72.3719334  0.33922670    3.352177e-01  0.47437050     0.150090906 \n",
       "498  270.0027762 -0.22916478    4.418914e-01 -0.09439890     0.804811613 \n",
       "499  288.4767585  0.10264088    8.456544e-01  0.20858449     0.654878806 \n",
       "500  171.7401625 -0.07133449    8.936611e-01 -0.29497122     0.461054038 "
      ]
     },
     "metadata": {},
     "output_type": "display_data"
    }
   ],
   "source": [
    "#5.1\n",
    "getwd()\n",
    "setwd(\"/home/rtu/Applied-Bioinformatics/Applied-Bioinformatics-HW/Unit1-module2-R\")\n",
    "nav.d14 <- read.csv (\"NAV-D14_DEseq2.csv\", header = TRUE)\n",
    "nav.mem <- read.csv (\"NAV-MEM_DEseq2.csv\", header = TRUE)\n",
    "\n",
    "nav.d14.sub <- nav.d14[c(\"baseMean\",\"log2FoldChange\",\"padj\")]\n",
    "nav.mem.sub <- nav.mem[c(\"baseMean\",\"log2FoldChange\",\"padj\")]\n",
    "head(nav.d14.sub)\n",
    "head(nav.mem.sub)\n",
    "\n",
    "#5.2\n",
    "colnames(nav.mem.sub)<-c(\"baseMean2\",\"log2FoldChange2\",\"padj2\")\n",
    "head(nav.mem.sub)\n",
    "\n",
    "nav.d14.sub.comb <- cbind(nav.d14.sub,nav.mem.sub[\"log2FoldChange2\"],nav.mem.sub[\"padj2\"])\n",
    "nav.d14.sub.comb"
   ]
  },
  {
   "cell_type": "code",
   "execution_count": 32,
   "metadata": {},
   "outputs": [
    {
     "data": {
      "text/html": [
       "<table>\n",
       "<thead><tr><th></th><th scope=col>baseMean</th><th scope=col>log2FoldChange</th><th scope=col>padj</th><th scope=col>log2FoldChange2</th><th scope=col>padj2</th></tr></thead>\n",
       "<tbody>\n",
       "\t<tr><th scope=row>78</th><td>0.05932533  </td><td> 0.085169654</td><td>NA          </td><td> 0.034678088</td><td>NA          </td></tr>\n",
       "\t<tr><th scope=row>143</th><td>0.09053621  </td><td> 0.000000000</td><td>NA          </td><td>-0.128044154</td><td>NA          </td></tr>\n",
       "\t<tr><th scope=row>177</th><td>0.11865065  </td><td> 0.150154594</td><td>NA          </td><td> 0.110060614</td><td>NA          </td></tr>\n",
       "\t<tr><th scope=row>399</th><td>0.14345538  </td><td> 0.069523026</td><td>NA          </td><td>-0.052763100</td><td>NA          </td></tr>\n",
       "\t<tr><th scope=row>382</th><td>0.15787023  </td><td>-0.119992758</td><td>NA          </td><td> 0.025610652</td><td>NA          </td></tr>\n",
       "\t<tr><th scope=row>121</th><td>0.21961349  </td><td>-0.050179462</td><td>NA          </td><td> 0.101788864</td><td>NA          </td></tr>\n",
       "\t<tr><th scope=row>2</th><td>0.28850802  </td><td>-0.050778715</td><td>NA          </td><td> 0.111369078</td><td>NA          </td></tr>\n",
       "\t<tr><th scope=row>359</th><td>0.29039109  </td><td>-0.127156970</td><td>NA          </td><td>-0.077997090</td><td>NA          </td></tr>\n",
       "\t<tr><th scope=row>367</th><td>0.29423279  </td><td> 0.160969318</td><td>NA          </td><td> 0.252740351</td><td>NA          </td></tr>\n",
       "\t<tr><th scope=row>58</th><td>0.34271462  </td><td> 0.007486801</td><td>NA          </td><td> 0.187331099</td><td>NA          </td></tr>\n",
       "\t<tr><th scope=row>254</th><td>0.43972874  </td><td>-0.345377759</td><td>NA          </td><td>-0.179454669</td><td>NA          </td></tr>\n",
       "\t<tr><th scope=row>206</th><td>0.47039701  </td><td>-0.430684608</td><td>NA          </td><td> 0.071024465</td><td>NA          </td></tr>\n",
       "\t<tr><th scope=row>479</th><td>0.50119335  </td><td>-0.103749413</td><td>NA          </td><td>-0.227551563</td><td>NA          </td></tr>\n",
       "\t<tr><th scope=row>127</th><td>0.51033946  </td><td>-0.081423954</td><td>NA          </td><td> 0.280519384</td><td>NA          </td></tr>\n",
       "\t<tr><th scope=row>389</th><td>0.54027987  </td><td> 0.125599224</td><td>NA          </td><td> 0.394472286</td><td>NA          </td></tr>\n",
       "\t<tr><th scope=row>160</th><td>0.59296080  </td><td> 0.496454085</td><td>NA          </td><td> 0.531475113</td><td>NA          </td></tr>\n",
       "\t<tr><th scope=row>173</th><td>0.69778870  </td><td> 0.336977215</td><td>NA          </td><td> 0.681373060</td><td>NA          </td></tr>\n",
       "\t<tr><th scope=row>370</th><td>0.74935878  </td><td> 0.230915436</td><td>NA          </td><td> 0.780792568</td><td>NA          </td></tr>\n",
       "\t<tr><th scope=row>202</th><td>0.76972246  </td><td> 0.212517777</td><td>NA          </td><td> 0.378909824</td><td>NA          </td></tr>\n",
       "\t<tr><th scope=row>15</th><td>0.77567641  </td><td> 0.018149013</td><td>NA          </td><td> 0.667725107</td><td>NA          </td></tr>\n",
       "\t<tr><th scope=row>205</th><td>0.85261062  </td><td>-0.519191427</td><td>NA          </td><td> 0.005459387</td><td>NA          </td></tr>\n",
       "\t<tr><th scope=row>70</th><td>0.97367654  </td><td> 0.560557787</td><td>NA          </td><td> 0.517196885</td><td>NA          </td></tr>\n",
       "\t<tr><th scope=row>132</th><td>0.97382917  </td><td>-0.188665857</td><td>NA          </td><td>-1.045886265</td><td>NA          </td></tr>\n",
       "\t<tr><th scope=row>61</th><td>0.99235301  </td><td> 0.710344976</td><td>NA          </td><td> 0.867568598</td><td>NA          </td></tr>\n",
       "\t<tr><th scope=row>35</th><td>1.03158610  </td><td>-0.219877332</td><td>NA          </td><td> 0.480447287</td><td>NA          </td></tr>\n",
       "\t<tr><th scope=row>236</th><td>1.10802575  </td><td>-0.568364689</td><td>NA          </td><td> 0.376167921</td><td>NA          </td></tr>\n",
       "\t<tr><th scope=row>145</th><td>1.29067849  </td><td> 0.123184236</td><td>NA          </td><td> 0.173966416</td><td>NA          </td></tr>\n",
       "\t<tr><th scope=row>120</th><td>1.35701325  </td><td>-0.103919697</td><td>NA          </td><td> 0.047562445</td><td>NA          </td></tr>\n",
       "\t<tr><th scope=row>393</th><td>1.36702663  </td><td>-0.303912735</td><td>NA          </td><td> 0.500491300</td><td>NA          </td></tr>\n",
       "\t<tr><th scope=row>318</th><td>1.37191320  </td><td> 0.290328873</td><td>NA          </td><td> 0.283739499</td><td>NA          </td></tr>\n",
       "\t<tr><th scope=row>⋮</th><td>⋮</td><td>⋮</td><td>⋮</td><td>⋮</td><td>⋮</td></tr>\n",
       "\t<tr><th scope=row>344</th><td> 1680.532   </td><td> 0.62615520 </td><td>1.762096e-02</td><td>-0.176840622</td><td>6.280854e-01</td></tr>\n",
       "\t<tr><th scope=row>169</th><td> 1727.929   </td><td>-0.62833098 </td><td>4.400091e-03</td><td>-0.062229469</td><td>8.760484e-01</td></tr>\n",
       "\t<tr><th scope=row>222</th><td> 1865.606   </td><td> 1.11515946 </td><td>6.990000e-09</td><td> 0.197371463</td><td>4.642870e-01</td></tr>\n",
       "\t<tr><th scope=row>30</th><td> 1961.077   </td><td>-1.33688773 </td><td>3.760000e-08</td><td>-0.168918234</td><td>6.589888e-01</td></tr>\n",
       "\t<tr><th scope=row>430</th><td> 1974.824   </td><td> 0.37992502 </td><td>4.901573e-02</td><td> 0.070146474</td><td>8.159639e-01</td></tr>\n",
       "\t<tr><th scope=row>244</th><td> 1994.265   </td><td>-0.78826507 </td><td>2.660000e-05</td><td>-0.150703616</td><td>5.797679e-01</td></tr>\n",
       "\t<tr><th scope=row>126</th><td> 2226.782   </td><td>-0.45436473 </td><td>1.552016e-02</td><td>-0.258244524</td><td>2.187709e-01</td></tr>\n",
       "\t<tr><th scope=row>461</th><td> 2252.549   </td><td> 0.50307849 </td><td>6.962840e-02</td><td> 0.031405655</td><td>9.505880e-01</td></tr>\n",
       "\t<tr><th scope=row>403</th><td> 2330.627   </td><td>-1.13008295 </td><td>1.160000e-10</td><td>-1.627667248</td><td>2.930000e-28</td></tr>\n",
       "\t<tr><th scope=row>272</th><td> 2330.741   </td><td>-0.98241396 </td><td>9.270000e-09</td><td>-0.905777856</td><td>2.100000e-09</td></tr>\n",
       "\t<tr><th scope=row>43</th><td> 2408.477   </td><td> 0.17145537 </td><td>6.274582e-01</td><td> 0.000476363</td><td>9.993864e-01</td></tr>\n",
       "\t<tr><th scope=row>394</th><td> 2666.667   </td><td>-3.13359321 </td><td>1.540000e-45</td><td>-1.555761684</td><td>8.080000e-15</td></tr>\n",
       "\t<tr><th scope=row>355</th><td> 2740.172   </td><td>-0.15981597 </td><td>4.620735e-01</td><td>-0.136628762</td><td>5.446536e-01</td></tr>\n",
       "\t<tr><th scope=row>361</th><td> 2854.473   </td><td>-0.07253171 </td><td>8.369317e-01</td><td>-0.151992422</td><td>6.149466e-01</td></tr>\n",
       "\t<tr><th scope=row>240</th><td> 2919.044   </td><td> 0.34780103 </td><td>1.723861e-01</td><td> 0.691495931</td><td>5.371370e-04</td></tr>\n",
       "\t<tr><th scope=row>335</th><td> 3028.438   </td><td> 0.25103675 </td><td>6.208534e-01</td><td>-0.775060250</td><td>3.113416e-02</td></tr>\n",
       "\t<tr><th scope=row>250</th><td> 3561.995   </td><td>-0.47212759 </td><td>4.934328e-03</td><td>-0.046850191</td><td>8.767660e-01</td></tr>\n",
       "\t<tr><th scope=row>273</th><td> 3786.947   </td><td> 0.40137173 </td><td>2.426788e-02</td><td>-0.064954716</td><td>8.197728e-01</td></tr>\n",
       "\t<tr><th scope=row>93</th><td> 3983.507   </td><td> 0.04999207 </td><td>9.381028e-01</td><td>-0.208850046</td><td>7.013419e-01</td></tr>\n",
       "\t<tr><th scope=row>40</th><td> 3988.392   </td><td>-0.84837068 </td><td>8.290000e-08</td><td>-0.667456720</td><td>3.440000e-06</td></tr>\n",
       "\t<tr><th scope=row>264</th><td> 4226.709   </td><td> 0.16490195 </td><td>6.781748e-01</td><td>-1.588759769</td><td>2.790000e-13</td></tr>\n",
       "\t<tr><th scope=row>463</th><td> 4921.310   </td><td>-0.68905537 </td><td>4.261150e-04</td><td>-0.081414826</td><td>8.049843e-01</td></tr>\n",
       "\t<tr><th scope=row>108</th><td> 5239.439   </td><td>-1.47668196 </td><td>7.890000e-12</td><td>-0.805554025</td><td>9.220000e-05</td></tr>\n",
       "\t<tr><th scope=row>101</th><td> 5380.166   </td><td> 0.29640980 </td><td>3.297466e-01</td><td>-0.245635966</td><td>4.408810e-01</td></tr>\n",
       "\t<tr><th scope=row>476</th><td> 6448.875   </td><td> 0.02525367 </td><td>9.572118e-01</td><td>-0.506160120</td><td>4.385547e-02</td></tr>\n",
       "\t<tr><th scope=row>106</th><td> 6626.632   </td><td> 0.30564128 </td><td>1.621762e-01</td><td> 0.140618605</td><td>6.008990e-01</td></tr>\n",
       "\t<tr><th scope=row>453</th><td> 6746.769   </td><td> 0.32324041 </td><td>4.461893e-01</td><td>-0.979986283</td><td>9.195240e-04</td></tr>\n",
       "\t<tr><th scope=row>232</th><td> 7849.075   </td><td> 0.18479473 </td><td>5.155087e-01</td><td>-0.169382565</td><td>5.586797e-01</td></tr>\n",
       "\t<tr><th scope=row>231</th><td> 9247.880   </td><td> 0.83693411 </td><td>6.680000e-05</td><td>-0.001688742</td><td>9.970915e-01</td></tr>\n",
       "\t<tr><th scope=row>457</th><td>11501.159   </td><td>-0.12100062 </td><td>6.985532e-01</td><td>-0.629118752</td><td>9.195240e-04</td></tr>\n",
       "</tbody>\n",
       "</table>\n"
      ],
      "text/latex": [
       "\\begin{tabular}{r|lllll}\n",
       "  & baseMean & log2FoldChange & padj & log2FoldChange2 & padj2\\\\\n",
       "\\hline\n",
       "\t78 & 0.05932533   &  0.085169654 & NA           &  0.034678088 & NA          \\\\\n",
       "\t143 & 0.09053621   &  0.000000000 & NA           & -0.128044154 & NA          \\\\\n",
       "\t177 & 0.11865065   &  0.150154594 & NA           &  0.110060614 & NA          \\\\\n",
       "\t399 & 0.14345538   &  0.069523026 & NA           & -0.052763100 & NA          \\\\\n",
       "\t382 & 0.15787023   & -0.119992758 & NA           &  0.025610652 & NA          \\\\\n",
       "\t121 & 0.21961349   & -0.050179462 & NA           &  0.101788864 & NA          \\\\\n",
       "\t2 & 0.28850802   & -0.050778715 & NA           &  0.111369078 & NA          \\\\\n",
       "\t359 & 0.29039109   & -0.127156970 & NA           & -0.077997090 & NA          \\\\\n",
       "\t367 & 0.29423279   &  0.160969318 & NA           &  0.252740351 & NA          \\\\\n",
       "\t58 & 0.34271462   &  0.007486801 & NA           &  0.187331099 & NA          \\\\\n",
       "\t254 & 0.43972874   & -0.345377759 & NA           & -0.179454669 & NA          \\\\\n",
       "\t206 & 0.47039701   & -0.430684608 & NA           &  0.071024465 & NA          \\\\\n",
       "\t479 & 0.50119335   & -0.103749413 & NA           & -0.227551563 & NA          \\\\\n",
       "\t127 & 0.51033946   & -0.081423954 & NA           &  0.280519384 & NA          \\\\\n",
       "\t389 & 0.54027987   &  0.125599224 & NA           &  0.394472286 & NA          \\\\\n",
       "\t160 & 0.59296080   &  0.496454085 & NA           &  0.531475113 & NA          \\\\\n",
       "\t173 & 0.69778870   &  0.336977215 & NA           &  0.681373060 & NA          \\\\\n",
       "\t370 & 0.74935878   &  0.230915436 & NA           &  0.780792568 & NA          \\\\\n",
       "\t202 & 0.76972246   &  0.212517777 & NA           &  0.378909824 & NA          \\\\\n",
       "\t15 & 0.77567641   &  0.018149013 & NA           &  0.667725107 & NA          \\\\\n",
       "\t205 & 0.85261062   & -0.519191427 & NA           &  0.005459387 & NA          \\\\\n",
       "\t70 & 0.97367654   &  0.560557787 & NA           &  0.517196885 & NA          \\\\\n",
       "\t132 & 0.97382917   & -0.188665857 & NA           & -1.045886265 & NA          \\\\\n",
       "\t61 & 0.99235301   &  0.710344976 & NA           &  0.867568598 & NA          \\\\\n",
       "\t35 & 1.03158610   & -0.219877332 & NA           &  0.480447287 & NA          \\\\\n",
       "\t236 & 1.10802575   & -0.568364689 & NA           &  0.376167921 & NA          \\\\\n",
       "\t145 & 1.29067849   &  0.123184236 & NA           &  0.173966416 & NA          \\\\\n",
       "\t120 & 1.35701325   & -0.103919697 & NA           &  0.047562445 & NA          \\\\\n",
       "\t393 & 1.36702663   & -0.303912735 & NA           &  0.500491300 & NA          \\\\\n",
       "\t318 & 1.37191320   &  0.290328873 & NA           &  0.283739499 & NA          \\\\\n",
       "\t⋮ & ⋮ & ⋮ & ⋮ & ⋮ & ⋮\\\\\n",
       "\t344 &  1680.532    &  0.62615520  & 1.762096e-02 & -0.176840622 & 6.280854e-01\\\\\n",
       "\t169 &  1727.929    & -0.62833098  & 4.400091e-03 & -0.062229469 & 8.760484e-01\\\\\n",
       "\t222 &  1865.606    &  1.11515946  & 6.990000e-09 &  0.197371463 & 4.642870e-01\\\\\n",
       "\t30 &  1961.077    & -1.33688773  & 3.760000e-08 & -0.168918234 & 6.589888e-01\\\\\n",
       "\t430 &  1974.824    &  0.37992502  & 4.901573e-02 &  0.070146474 & 8.159639e-01\\\\\n",
       "\t244 &  1994.265    & -0.78826507  & 2.660000e-05 & -0.150703616 & 5.797679e-01\\\\\n",
       "\t126 &  2226.782    & -0.45436473  & 1.552016e-02 & -0.258244524 & 2.187709e-01\\\\\n",
       "\t461 &  2252.549    &  0.50307849  & 6.962840e-02 &  0.031405655 & 9.505880e-01\\\\\n",
       "\t403 &  2330.627    & -1.13008295  & 1.160000e-10 & -1.627667248 & 2.930000e-28\\\\\n",
       "\t272 &  2330.741    & -0.98241396  & 9.270000e-09 & -0.905777856 & 2.100000e-09\\\\\n",
       "\t43 &  2408.477    &  0.17145537  & 6.274582e-01 &  0.000476363 & 9.993864e-01\\\\\n",
       "\t394 &  2666.667    & -3.13359321  & 1.540000e-45 & -1.555761684 & 8.080000e-15\\\\\n",
       "\t355 &  2740.172    & -0.15981597  & 4.620735e-01 & -0.136628762 & 5.446536e-01\\\\\n",
       "\t361 &  2854.473    & -0.07253171  & 8.369317e-01 & -0.151992422 & 6.149466e-01\\\\\n",
       "\t240 &  2919.044    &  0.34780103  & 1.723861e-01 &  0.691495931 & 5.371370e-04\\\\\n",
       "\t335 &  3028.438    &  0.25103675  & 6.208534e-01 & -0.775060250 & 3.113416e-02\\\\\n",
       "\t250 &  3561.995    & -0.47212759  & 4.934328e-03 & -0.046850191 & 8.767660e-01\\\\\n",
       "\t273 &  3786.947    &  0.40137173  & 2.426788e-02 & -0.064954716 & 8.197728e-01\\\\\n",
       "\t93 &  3983.507    &  0.04999207  & 9.381028e-01 & -0.208850046 & 7.013419e-01\\\\\n",
       "\t40 &  3988.392    & -0.84837068  & 8.290000e-08 & -0.667456720 & 3.440000e-06\\\\\n",
       "\t264 &  4226.709    &  0.16490195  & 6.781748e-01 & -1.588759769 & 2.790000e-13\\\\\n",
       "\t463 &  4921.310    & -0.68905537  & 4.261150e-04 & -0.081414826 & 8.049843e-01\\\\\n",
       "\t108 &  5239.439    & -1.47668196  & 7.890000e-12 & -0.805554025 & 9.220000e-05\\\\\n",
       "\t101 &  5380.166    &  0.29640980  & 3.297466e-01 & -0.245635966 & 4.408810e-01\\\\\n",
       "\t476 &  6448.875    &  0.02525367  & 9.572118e-01 & -0.506160120 & 4.385547e-02\\\\\n",
       "\t106 &  6626.632    &  0.30564128  & 1.621762e-01 &  0.140618605 & 6.008990e-01\\\\\n",
       "\t453 &  6746.769    &  0.32324041  & 4.461893e-01 & -0.979986283 & 9.195240e-04\\\\\n",
       "\t232 &  7849.075    &  0.18479473  & 5.155087e-01 & -0.169382565 & 5.586797e-01\\\\\n",
       "\t231 &  9247.880    &  0.83693411  & 6.680000e-05 & -0.001688742 & 9.970915e-01\\\\\n",
       "\t457 & 11501.159    & -0.12100062  & 6.985532e-01 & -0.629118752 & 9.195240e-04\\\\\n",
       "\\end{tabular}\n"
      ],
      "text/markdown": [
       "\n",
       "| <!--/--> | baseMean | log2FoldChange | padj | log2FoldChange2 | padj2 | \n",
       "|---|---|---|---|---|---|---|---|---|---|---|---|---|---|---|---|---|---|---|---|---|---|---|---|---|---|---|---|---|---|---|---|---|---|---|---|---|---|---|---|---|---|---|---|---|---|---|---|---|---|---|---|---|---|---|---|---|---|---|---|---|\n",
       "| 78 | 0.05932533   |  0.085169654 | NA           |  0.034678088 | NA           | \n",
       "| 143 | 0.09053621   |  0.000000000 | NA           | -0.128044154 | NA           | \n",
       "| 177 | 0.11865065   |  0.150154594 | NA           |  0.110060614 | NA           | \n",
       "| 399 | 0.14345538   |  0.069523026 | NA           | -0.052763100 | NA           | \n",
       "| 382 | 0.15787023   | -0.119992758 | NA           |  0.025610652 | NA           | \n",
       "| 121 | 0.21961349   | -0.050179462 | NA           |  0.101788864 | NA           | \n",
       "| 2 | 0.28850802   | -0.050778715 | NA           |  0.111369078 | NA           | \n",
       "| 359 | 0.29039109   | -0.127156970 | NA           | -0.077997090 | NA           | \n",
       "| 367 | 0.29423279   |  0.160969318 | NA           |  0.252740351 | NA           | \n",
       "| 58 | 0.34271462   |  0.007486801 | NA           |  0.187331099 | NA           | \n",
       "| 254 | 0.43972874   | -0.345377759 | NA           | -0.179454669 | NA           | \n",
       "| 206 | 0.47039701   | -0.430684608 | NA           |  0.071024465 | NA           | \n",
       "| 479 | 0.50119335   | -0.103749413 | NA           | -0.227551563 | NA           | \n",
       "| 127 | 0.51033946   | -0.081423954 | NA           |  0.280519384 | NA           | \n",
       "| 389 | 0.54027987   |  0.125599224 | NA           |  0.394472286 | NA           | \n",
       "| 160 | 0.59296080   |  0.496454085 | NA           |  0.531475113 | NA           | \n",
       "| 173 | 0.69778870   |  0.336977215 | NA           |  0.681373060 | NA           | \n",
       "| 370 | 0.74935878   |  0.230915436 | NA           |  0.780792568 | NA           | \n",
       "| 202 | 0.76972246   |  0.212517777 | NA           |  0.378909824 | NA           | \n",
       "| 15 | 0.77567641   |  0.018149013 | NA           |  0.667725107 | NA           | \n",
       "| 205 | 0.85261062   | -0.519191427 | NA           |  0.005459387 | NA           | \n",
       "| 70 | 0.97367654   |  0.560557787 | NA           |  0.517196885 | NA           | \n",
       "| 132 | 0.97382917   | -0.188665857 | NA           | -1.045886265 | NA           | \n",
       "| 61 | 0.99235301   |  0.710344976 | NA           |  0.867568598 | NA           | \n",
       "| 35 | 1.03158610   | -0.219877332 | NA           |  0.480447287 | NA           | \n",
       "| 236 | 1.10802575   | -0.568364689 | NA           |  0.376167921 | NA           | \n",
       "| 145 | 1.29067849   |  0.123184236 | NA           |  0.173966416 | NA           | \n",
       "| 120 | 1.35701325   | -0.103919697 | NA           |  0.047562445 | NA           | \n",
       "| 393 | 1.36702663   | -0.303912735 | NA           |  0.500491300 | NA           | \n",
       "| 318 | 1.37191320   |  0.290328873 | NA           |  0.283739499 | NA           | \n",
       "| ⋮ | ⋮ | ⋮ | ⋮ | ⋮ | ⋮ | \n",
       "| 344 |  1680.532    |  0.62615520  | 1.762096e-02 | -0.176840622 | 6.280854e-01 | \n",
       "| 169 |  1727.929    | -0.62833098  | 4.400091e-03 | -0.062229469 | 8.760484e-01 | \n",
       "| 222 |  1865.606    |  1.11515946  | 6.990000e-09 |  0.197371463 | 4.642870e-01 | \n",
       "| 30 |  1961.077    | -1.33688773  | 3.760000e-08 | -0.168918234 | 6.589888e-01 | \n",
       "| 430 |  1974.824    |  0.37992502  | 4.901573e-02 |  0.070146474 | 8.159639e-01 | \n",
       "| 244 |  1994.265    | -0.78826507  | 2.660000e-05 | -0.150703616 | 5.797679e-01 | \n",
       "| 126 |  2226.782    | -0.45436473  | 1.552016e-02 | -0.258244524 | 2.187709e-01 | \n",
       "| 461 |  2252.549    |  0.50307849  | 6.962840e-02 |  0.031405655 | 9.505880e-01 | \n",
       "| 403 |  2330.627    | -1.13008295  | 1.160000e-10 | -1.627667248 | 2.930000e-28 | \n",
       "| 272 |  2330.741    | -0.98241396  | 9.270000e-09 | -0.905777856 | 2.100000e-09 | \n",
       "| 43 |  2408.477    |  0.17145537  | 6.274582e-01 |  0.000476363 | 9.993864e-01 | \n",
       "| 394 |  2666.667    | -3.13359321  | 1.540000e-45 | -1.555761684 | 8.080000e-15 | \n",
       "| 355 |  2740.172    | -0.15981597  | 4.620735e-01 | -0.136628762 | 5.446536e-01 | \n",
       "| 361 |  2854.473    | -0.07253171  | 8.369317e-01 | -0.151992422 | 6.149466e-01 | \n",
       "| 240 |  2919.044    |  0.34780103  | 1.723861e-01 |  0.691495931 | 5.371370e-04 | \n",
       "| 335 |  3028.438    |  0.25103675  | 6.208534e-01 | -0.775060250 | 3.113416e-02 | \n",
       "| 250 |  3561.995    | -0.47212759  | 4.934328e-03 | -0.046850191 | 8.767660e-01 | \n",
       "| 273 |  3786.947    |  0.40137173  | 2.426788e-02 | -0.064954716 | 8.197728e-01 | \n",
       "| 93 |  3983.507    |  0.04999207  | 9.381028e-01 | -0.208850046 | 7.013419e-01 | \n",
       "| 40 |  3988.392    | -0.84837068  | 8.290000e-08 | -0.667456720 | 3.440000e-06 | \n",
       "| 264 |  4226.709    |  0.16490195  | 6.781748e-01 | -1.588759769 | 2.790000e-13 | \n",
       "| 463 |  4921.310    | -0.68905537  | 4.261150e-04 | -0.081414826 | 8.049843e-01 | \n",
       "| 108 |  5239.439    | -1.47668196  | 7.890000e-12 | -0.805554025 | 9.220000e-05 | \n",
       "| 101 |  5380.166    |  0.29640980  | 3.297466e-01 | -0.245635966 | 4.408810e-01 | \n",
       "| 476 |  6448.875    |  0.02525367  | 9.572118e-01 | -0.506160120 | 4.385547e-02 | \n",
       "| 106 |  6626.632    |  0.30564128  | 1.621762e-01 |  0.140618605 | 6.008990e-01 | \n",
       "| 453 |  6746.769    |  0.32324041  | 4.461893e-01 | -0.979986283 | 9.195240e-04 | \n",
       "| 232 |  7849.075    |  0.18479473  | 5.155087e-01 | -0.169382565 | 5.586797e-01 | \n",
       "| 231 |  9247.880    |  0.83693411  | 6.680000e-05 | -0.001688742 | 9.970915e-01 | \n",
       "| 457 | 11501.159    | -0.12100062  | 6.985532e-01 | -0.629118752 | 9.195240e-04 | \n",
       "\n",
       "\n"
      ],
      "text/plain": [
       "    baseMean   log2FoldChange padj         log2FoldChange2 padj2       \n",
       "78  0.05932533  0.085169654   NA            0.034678088    NA          \n",
       "143 0.09053621  0.000000000   NA           -0.128044154    NA          \n",
       "177 0.11865065  0.150154594   NA            0.110060614    NA          \n",
       "399 0.14345538  0.069523026   NA           -0.052763100    NA          \n",
       "382 0.15787023 -0.119992758   NA            0.025610652    NA          \n",
       "121 0.21961349 -0.050179462   NA            0.101788864    NA          \n",
       "2   0.28850802 -0.050778715   NA            0.111369078    NA          \n",
       "359 0.29039109 -0.127156970   NA           -0.077997090    NA          \n",
       "367 0.29423279  0.160969318   NA            0.252740351    NA          \n",
       "58  0.34271462  0.007486801   NA            0.187331099    NA          \n",
       "254 0.43972874 -0.345377759   NA           -0.179454669    NA          \n",
       "206 0.47039701 -0.430684608   NA            0.071024465    NA          \n",
       "479 0.50119335 -0.103749413   NA           -0.227551563    NA          \n",
       "127 0.51033946 -0.081423954   NA            0.280519384    NA          \n",
       "389 0.54027987  0.125599224   NA            0.394472286    NA          \n",
       "160 0.59296080  0.496454085   NA            0.531475113    NA          \n",
       "173 0.69778870  0.336977215   NA            0.681373060    NA          \n",
       "370 0.74935878  0.230915436   NA            0.780792568    NA          \n",
       "202 0.76972246  0.212517777   NA            0.378909824    NA          \n",
       "15  0.77567641  0.018149013   NA            0.667725107    NA          \n",
       "205 0.85261062 -0.519191427   NA            0.005459387    NA          \n",
       "70  0.97367654  0.560557787   NA            0.517196885    NA          \n",
       "132 0.97382917 -0.188665857   NA           -1.045886265    NA          \n",
       "61  0.99235301  0.710344976   NA            0.867568598    NA          \n",
       "35  1.03158610 -0.219877332   NA            0.480447287    NA          \n",
       "236 1.10802575 -0.568364689   NA            0.376167921    NA          \n",
       "145 1.29067849  0.123184236   NA            0.173966416    NA          \n",
       "120 1.35701325 -0.103919697   NA            0.047562445    NA          \n",
       "393 1.36702663 -0.303912735   NA            0.500491300    NA          \n",
       "318 1.37191320  0.290328873   NA            0.283739499    NA          \n",
       "⋮   ⋮          ⋮              ⋮            ⋮               ⋮           \n",
       "344  1680.532   0.62615520    1.762096e-02 -0.176840622    6.280854e-01\n",
       "169  1727.929  -0.62833098    4.400091e-03 -0.062229469    8.760484e-01\n",
       "222  1865.606   1.11515946    6.990000e-09  0.197371463    4.642870e-01\n",
       "30   1961.077  -1.33688773    3.760000e-08 -0.168918234    6.589888e-01\n",
       "430  1974.824   0.37992502    4.901573e-02  0.070146474    8.159639e-01\n",
       "244  1994.265  -0.78826507    2.660000e-05 -0.150703616    5.797679e-01\n",
       "126  2226.782  -0.45436473    1.552016e-02 -0.258244524    2.187709e-01\n",
       "461  2252.549   0.50307849    6.962840e-02  0.031405655    9.505880e-01\n",
       "403  2330.627  -1.13008295    1.160000e-10 -1.627667248    2.930000e-28\n",
       "272  2330.741  -0.98241396    9.270000e-09 -0.905777856    2.100000e-09\n",
       "43   2408.477   0.17145537    6.274582e-01  0.000476363    9.993864e-01\n",
       "394  2666.667  -3.13359321    1.540000e-45 -1.555761684    8.080000e-15\n",
       "355  2740.172  -0.15981597    4.620735e-01 -0.136628762    5.446536e-01\n",
       "361  2854.473  -0.07253171    8.369317e-01 -0.151992422    6.149466e-01\n",
       "240  2919.044   0.34780103    1.723861e-01  0.691495931    5.371370e-04\n",
       "335  3028.438   0.25103675    6.208534e-01 -0.775060250    3.113416e-02\n",
       "250  3561.995  -0.47212759    4.934328e-03 -0.046850191    8.767660e-01\n",
       "273  3786.947   0.40137173    2.426788e-02 -0.064954716    8.197728e-01\n",
       "93   3983.507   0.04999207    9.381028e-01 -0.208850046    7.013419e-01\n",
       "40   3988.392  -0.84837068    8.290000e-08 -0.667456720    3.440000e-06\n",
       "264  4226.709   0.16490195    6.781748e-01 -1.588759769    2.790000e-13\n",
       "463  4921.310  -0.68905537    4.261150e-04 -0.081414826    8.049843e-01\n",
       "108  5239.439  -1.47668196    7.890000e-12 -0.805554025    9.220000e-05\n",
       "101  5380.166   0.29640980    3.297466e-01 -0.245635966    4.408810e-01\n",
       "476  6448.875   0.02525367    9.572118e-01 -0.506160120    4.385547e-02\n",
       "106  6626.632   0.30564128    1.621762e-01  0.140618605    6.008990e-01\n",
       "453  6746.769   0.32324041    4.461893e-01 -0.979986283    9.195240e-04\n",
       "232  7849.075   0.18479473    5.155087e-01 -0.169382565    5.586797e-01\n",
       "231  9247.880   0.83693411    6.680000e-05 -0.001688742    9.970915e-01\n",
       "457 11501.159  -0.12100062    6.985532e-01 -0.629118752    9.195240e-04"
      ]
     },
     "metadata": {},
     "output_type": "display_data"
    }
   ],
   "source": [
    "#5.3\n",
    "nav.d14.sub.comb.sort <- nav.d14.sub.comb[order(nav.d14.sub.comb$baseMean),]\n",
    "nav.d14.sub.comb.sort"
   ]
  },
  {
   "cell_type": "code",
   "execution_count": 70,
   "metadata": {},
   "outputs": [
    {
     "data": {
      "text/html": [
       "'list'"
      ],
      "text/latex": [
       "'list'"
      ],
      "text/markdown": [
       "'list'"
      ],
      "text/plain": [
       "[1] \"list\""
      ]
     },
     "metadata": {},
     "output_type": "display_data"
    },
    {
     "data": {
      "text/html": [
       "'character'"
      ],
      "text/latex": [
       "'character'"
      ],
      "text/markdown": [
       "'character'"
      ],
      "text/plain": [
       "[1] \"character\""
      ]
     },
     "metadata": {},
     "output_type": "display_data"
    },
    {
     "data": {
      "text/html": [
       "<table>\n",
       "<thead><tr><th scope=col>baseMean</th><th scope=col>log2FoldChange</th><th scope=col>padj</th><th scope=col>nav.d14.sub.sub</th></tr></thead>\n",
       "<tbody>\n",
       "\t<tr><td>  25.2567446</td><td> 1.302468822</td><td>8.209295e-03</td><td>sig         </td></tr>\n",
       "\t<tr><td>   0.2885080</td><td>-0.050778715</td><td>          NA</td><td>NA          </td></tr>\n",
       "\t<tr><td> 163.5077733</td><td>-0.055028326</td><td>9.144493e-01</td><td>!sig        </td></tr>\n",
       "\t<tr><td> 296.4617127</td><td> 0.273700992</td><td>3.312390e-01</td><td>!sig        </td></tr>\n",
       "\t<tr><td> 199.0119864</td><td>-1.620120054</td><td>1.590000e-07</td><td>sig         </td></tr>\n",
       "\t<tr><td> 122.7925300</td><td>-5.609368054</td><td>7.150000e-17</td><td>sig         </td></tr>\n",
       "\t<tr><td>  27.4052165</td><td>-0.054920405</td><td>9.742211e-01</td><td>!sig        </td></tr>\n",
       "\t<tr><td>  72.0384923</td><td>-0.764421958</td><td>2.135803e-02</td><td>sig         </td></tr>\n",
       "\t<tr><td> 232.8235989</td><td>-0.669026757</td><td>7.365785e-03</td><td>sig         </td></tr>\n",
       "\t<tr><td> 557.5801607</td><td>-0.007449532</td><td>9.850497e-01</td><td>!sig        </td></tr>\n",
       "\t<tr><td> 108.0712339</td><td> 0.772006269</td><td>1.301502e-01</td><td>!sig        </td></tr>\n",
       "\t<tr><td> 810.6565538</td><td> 0.890087366</td><td>2.670000e-05</td><td>sig         </td></tr>\n",
       "\t<tr><td> 541.2743227</td><td> 0.243789623</td><td>4.646951e-01</td><td>!sig        </td></tr>\n",
       "\t<tr><td> 166.5152095</td><td>-1.079758358</td><td>4.158050e-04</td><td>sig         </td></tr>\n",
       "\t<tr><td>   0.7756764</td><td> 0.018149013</td><td>          NA</td><td>NA          </td></tr>\n",
       "\t<tr><td>  21.0101464</td><td>-0.152174024</td><td>8.859011e-01</td><td>!sig        </td></tr>\n",
       "\t<tr><td> 851.1972930</td><td>-0.244293694</td><td>3.091941e-01</td><td>!sig        </td></tr>\n",
       "\t<tr><td> 232.2112019</td><td>-0.375691024</td><td>2.950932e-01</td><td>!sig        </td></tr>\n",
       "\t<tr><td> 646.5918389</td><td> 0.231034820</td><td>4.243037e-01</td><td>!sig        </td></tr>\n",
       "\t<tr><td> 239.2300392</td><td>-0.232950518</td><td>6.475512e-01</td><td>!sig        </td></tr>\n",
       "\t<tr><td>   4.3225472</td><td> 0.928279411</td><td>3.681571e-01</td><td>!sig        </td></tr>\n",
       "\t<tr><td>  17.4333591</td><td>-1.057237408</td><td>5.114864e-02</td><td>!sig        </td></tr>\n",
       "\t<tr><td> 365.2625318</td><td>-1.030560331</td><td>2.888787e-03</td><td>sig         </td></tr>\n",
       "\t<tr><td> 643.5209068</td><td>-2.255638839</td><td>1.250000e-14</td><td>sig         </td></tr>\n",
       "\t<tr><td>  14.7767394</td><td> 0.270394524</td><td>7.364323e-01</td><td>!sig        </td></tr>\n",
       "\t<tr><td>   3.1094441</td><td> 0.241018564</td><td>8.623265e-01</td><td>!sig        </td></tr>\n",
       "\t<tr><td>   4.1070926</td><td> 1.180624115</td><td>1.870495e-01</td><td>!sig        </td></tr>\n",
       "\t<tr><td>  17.8167829</td><td>-0.026159525</td><td>9.877749e-01</td><td>!sig        </td></tr>\n",
       "\t<tr><td>  99.3680284</td><td>-0.144866391</td><td>8.151420e-01</td><td>!sig        </td></tr>\n",
       "\t<tr><td>1961.0769280</td><td>-1.336887734</td><td>3.760000e-08</td><td>sig         </td></tr>\n",
       "\t<tr><td>⋮</td><td>⋮</td><td>⋮</td><td>⋮</td></tr>\n",
       "\t<tr><td> 463.1803447</td><td> 0.53986676 </td><td>1.006744e-01</td><td>!sig        </td></tr>\n",
       "\t<tr><td> 281.2836333</td><td> 0.34280709 </td><td>2.619995e-01</td><td>!sig        </td></tr>\n",
       "\t<tr><td>1190.4092840</td><td> 0.01255498 </td><td>9.858765e-01</td><td>!sig        </td></tr>\n",
       "\t<tr><td> 175.5906321</td><td>-0.62320065 </td><td>5.305227e-02</td><td>!sig        </td></tr>\n",
       "\t<tr><td>  74.6212440</td><td>-2.76567200 </td><td>1.380000e-07</td><td>sig         </td></tr>\n",
       "\t<tr><td>6448.8751000</td><td> 0.02525367 </td><td>9.572118e-01</td><td>!sig        </td></tr>\n",
       "\t<tr><td> 488.5664401</td><td>-0.49177374 </td><td>3.281471e-02</td><td>sig         </td></tr>\n",
       "\t<tr><td>  20.2343537</td><td> 0.57319429 </td><td>4.280409e-01</td><td>!sig        </td></tr>\n",
       "\t<tr><td>   0.5011933</td><td>-0.10374941 </td><td>          NA</td><td>NA          </td></tr>\n",
       "\t<tr><td> 131.0923289</td><td> 0.31741102 </td><td>2.814311e-01</td><td>!sig        </td></tr>\n",
       "\t<tr><td>1068.0602190</td><td>-0.21975993 </td><td>3.729001e-01</td><td>!sig        </td></tr>\n",
       "\t<tr><td>  84.3692469</td><td>-4.38728848 </td><td>1.450000e-23</td><td>sig         </td></tr>\n",
       "\t<tr><td> 822.1479147</td><td> 0.41786705 </td><td>2.519199e-01</td><td>!sig        </td></tr>\n",
       "\t<tr><td> 120.1631076</td><td>-1.71103311 </td><td>1.480000e-09</td><td>sig         </td></tr>\n",
       "\t<tr><td>   1.3780993</td><td> 0.48417947 </td><td>          NA</td><td>NA          </td></tr>\n",
       "\t<tr><td> 289.8239287</td><td>-1.63161054 </td><td>2.998390e-04</td><td>sig         </td></tr>\n",
       "\t<tr><td>  80.1371645</td><td>-1.09598517 </td><td>1.000973e-01</td><td>!sig        </td></tr>\n",
       "\t<tr><td> 965.9769543</td><td>-0.12459964 </td><td>7.485698e-01</td><td>!sig        </td></tr>\n",
       "\t<tr><td>  66.8541134</td><td>-0.70478574 </td><td>2.632495e-01</td><td>!sig        </td></tr>\n",
       "\t<tr><td>  24.1658529</td><td>-0.99668553 </td><td>9.348970e-02</td><td>!sig        </td></tr>\n",
       "\t<tr><td> 383.4006187</td><td>-0.01094582 </td><td>9.797778e-01</td><td>!sig        </td></tr>\n",
       "\t<tr><td> 379.8428768</td><td> 0.08522877 </td><td>7.848873e-01</td><td>!sig        </td></tr>\n",
       "\t<tr><td>1435.3239890</td><td> 0.04869732 </td><td>9.010712e-01</td><td>!sig        </td></tr>\n",
       "\t<tr><td>  87.8650442</td><td>-0.95503525 </td><td>3.582930e-04</td><td>sig         </td></tr>\n",
       "\t<tr><td> 146.4175068</td><td>-0.14635328 </td><td>7.821706e-01</td><td>!sig        </td></tr>\n",
       "\t<tr><td> 111.7153911</td><td> 0.60100567 </td><td>1.361938e-01</td><td>!sig        </td></tr>\n",
       "\t<tr><td>  72.3719334</td><td> 0.33922670 </td><td>3.352177e-01</td><td>!sig        </td></tr>\n",
       "\t<tr><td> 270.0027762</td><td>-0.22916478 </td><td>4.418914e-01</td><td>!sig        </td></tr>\n",
       "\t<tr><td> 288.4767585</td><td> 0.10264088 </td><td>8.456544e-01</td><td>!sig        </td></tr>\n",
       "\t<tr><td> 171.7401625</td><td>-0.07133449 </td><td>8.936611e-01</td><td>!sig        </td></tr>\n",
       "</tbody>\n",
       "</table>\n"
      ],
      "text/latex": [
       "\\begin{tabular}{r|llll}\n",
       " baseMean & log2FoldChange & padj & nav.d14.sub.sub\\\\\n",
       "\\hline\n",
       "\t   25.2567446 &  1.302468822 & 8.209295e-03 & sig         \\\\\n",
       "\t    0.2885080 & -0.050778715 &           NA & NA          \\\\\n",
       "\t  163.5077733 & -0.055028326 & 9.144493e-01 & !sig        \\\\\n",
       "\t  296.4617127 &  0.273700992 & 3.312390e-01 & !sig        \\\\\n",
       "\t  199.0119864 & -1.620120054 & 1.590000e-07 & sig         \\\\\n",
       "\t  122.7925300 & -5.609368054 & 7.150000e-17 & sig         \\\\\n",
       "\t   27.4052165 & -0.054920405 & 9.742211e-01 & !sig        \\\\\n",
       "\t   72.0384923 & -0.764421958 & 2.135803e-02 & sig         \\\\\n",
       "\t  232.8235989 & -0.669026757 & 7.365785e-03 & sig         \\\\\n",
       "\t  557.5801607 & -0.007449532 & 9.850497e-01 & !sig        \\\\\n",
       "\t  108.0712339 &  0.772006269 & 1.301502e-01 & !sig        \\\\\n",
       "\t  810.6565538 &  0.890087366 & 2.670000e-05 & sig         \\\\\n",
       "\t  541.2743227 &  0.243789623 & 4.646951e-01 & !sig        \\\\\n",
       "\t  166.5152095 & -1.079758358 & 4.158050e-04 & sig         \\\\\n",
       "\t    0.7756764 &  0.018149013 &           NA & NA          \\\\\n",
       "\t   21.0101464 & -0.152174024 & 8.859011e-01 & !sig        \\\\\n",
       "\t  851.1972930 & -0.244293694 & 3.091941e-01 & !sig        \\\\\n",
       "\t  232.2112019 & -0.375691024 & 2.950932e-01 & !sig        \\\\\n",
       "\t  646.5918389 &  0.231034820 & 4.243037e-01 & !sig        \\\\\n",
       "\t  239.2300392 & -0.232950518 & 6.475512e-01 & !sig        \\\\\n",
       "\t    4.3225472 &  0.928279411 & 3.681571e-01 & !sig        \\\\\n",
       "\t   17.4333591 & -1.057237408 & 5.114864e-02 & !sig        \\\\\n",
       "\t  365.2625318 & -1.030560331 & 2.888787e-03 & sig         \\\\\n",
       "\t  643.5209068 & -2.255638839 & 1.250000e-14 & sig         \\\\\n",
       "\t   14.7767394 &  0.270394524 & 7.364323e-01 & !sig        \\\\\n",
       "\t    3.1094441 &  0.241018564 & 8.623265e-01 & !sig        \\\\\n",
       "\t    4.1070926 &  1.180624115 & 1.870495e-01 & !sig        \\\\\n",
       "\t   17.8167829 & -0.026159525 & 9.877749e-01 & !sig        \\\\\n",
       "\t   99.3680284 & -0.144866391 & 8.151420e-01 & !sig        \\\\\n",
       "\t 1961.0769280 & -1.336887734 & 3.760000e-08 & sig         \\\\\n",
       "\t ⋮ & ⋮ & ⋮ & ⋮\\\\\n",
       "\t  463.1803447 &  0.53986676  & 1.006744e-01 & !sig        \\\\\n",
       "\t  281.2836333 &  0.34280709  & 2.619995e-01 & !sig        \\\\\n",
       "\t 1190.4092840 &  0.01255498  & 9.858765e-01 & !sig        \\\\\n",
       "\t  175.5906321 & -0.62320065  & 5.305227e-02 & !sig        \\\\\n",
       "\t   74.6212440 & -2.76567200  & 1.380000e-07 & sig         \\\\\n",
       "\t 6448.8751000 &  0.02525367  & 9.572118e-01 & !sig        \\\\\n",
       "\t  488.5664401 & -0.49177374  & 3.281471e-02 & sig         \\\\\n",
       "\t   20.2343537 &  0.57319429  & 4.280409e-01 & !sig        \\\\\n",
       "\t    0.5011933 & -0.10374941  &           NA & NA          \\\\\n",
       "\t  131.0923289 &  0.31741102  & 2.814311e-01 & !sig        \\\\\n",
       "\t 1068.0602190 & -0.21975993  & 3.729001e-01 & !sig        \\\\\n",
       "\t   84.3692469 & -4.38728848  & 1.450000e-23 & sig         \\\\\n",
       "\t  822.1479147 &  0.41786705  & 2.519199e-01 & !sig        \\\\\n",
       "\t  120.1631076 & -1.71103311  & 1.480000e-09 & sig         \\\\\n",
       "\t    1.3780993 &  0.48417947  &           NA & NA          \\\\\n",
       "\t  289.8239287 & -1.63161054  & 2.998390e-04 & sig         \\\\\n",
       "\t   80.1371645 & -1.09598517  & 1.000973e-01 & !sig        \\\\\n",
       "\t  965.9769543 & -0.12459964  & 7.485698e-01 & !sig        \\\\\n",
       "\t   66.8541134 & -0.70478574  & 2.632495e-01 & !sig        \\\\\n",
       "\t   24.1658529 & -0.99668553  & 9.348970e-02 & !sig        \\\\\n",
       "\t  383.4006187 & -0.01094582  & 9.797778e-01 & !sig        \\\\\n",
       "\t  379.8428768 &  0.08522877  & 7.848873e-01 & !sig        \\\\\n",
       "\t 1435.3239890 &  0.04869732  & 9.010712e-01 & !sig        \\\\\n",
       "\t   87.8650442 & -0.95503525  & 3.582930e-04 & sig         \\\\\n",
       "\t  146.4175068 & -0.14635328  & 7.821706e-01 & !sig        \\\\\n",
       "\t  111.7153911 &  0.60100567  & 1.361938e-01 & !sig        \\\\\n",
       "\t   72.3719334 &  0.33922670  & 3.352177e-01 & !sig        \\\\\n",
       "\t  270.0027762 & -0.22916478  & 4.418914e-01 & !sig        \\\\\n",
       "\t  288.4767585 &  0.10264088  & 8.456544e-01 & !sig        \\\\\n",
       "\t  171.7401625 & -0.07133449  & 8.936611e-01 & !sig        \\\\\n",
       "\\end{tabular}\n"
      ],
      "text/markdown": [
       "\n",
       "baseMean | log2FoldChange | padj | nav.d14.sub.sub | \n",
       "|---|---|---|---|---|---|---|---|---|---|---|---|---|---|---|---|---|---|---|---|---|---|---|---|---|---|---|---|---|---|---|---|---|---|---|---|---|---|---|---|---|---|---|---|---|---|---|---|---|---|---|---|---|---|---|---|---|---|---|---|---|\n",
       "|   25.2567446 |  1.302468822 | 8.209295e-03 | sig          | \n",
       "|    0.2885080 | -0.050778715 |           NA | NA           | \n",
       "|  163.5077733 | -0.055028326 | 9.144493e-01 | !sig         | \n",
       "|  296.4617127 |  0.273700992 | 3.312390e-01 | !sig         | \n",
       "|  199.0119864 | -1.620120054 | 1.590000e-07 | sig          | \n",
       "|  122.7925300 | -5.609368054 | 7.150000e-17 | sig          | \n",
       "|   27.4052165 | -0.054920405 | 9.742211e-01 | !sig         | \n",
       "|   72.0384923 | -0.764421958 | 2.135803e-02 | sig          | \n",
       "|  232.8235989 | -0.669026757 | 7.365785e-03 | sig          | \n",
       "|  557.5801607 | -0.007449532 | 9.850497e-01 | !sig         | \n",
       "|  108.0712339 |  0.772006269 | 1.301502e-01 | !sig         | \n",
       "|  810.6565538 |  0.890087366 | 2.670000e-05 | sig          | \n",
       "|  541.2743227 |  0.243789623 | 4.646951e-01 | !sig         | \n",
       "|  166.5152095 | -1.079758358 | 4.158050e-04 | sig          | \n",
       "|    0.7756764 |  0.018149013 |           NA | NA           | \n",
       "|   21.0101464 | -0.152174024 | 8.859011e-01 | !sig         | \n",
       "|  851.1972930 | -0.244293694 | 3.091941e-01 | !sig         | \n",
       "|  232.2112019 | -0.375691024 | 2.950932e-01 | !sig         | \n",
       "|  646.5918389 |  0.231034820 | 4.243037e-01 | !sig         | \n",
       "|  239.2300392 | -0.232950518 | 6.475512e-01 | !sig         | \n",
       "|    4.3225472 |  0.928279411 | 3.681571e-01 | !sig         | \n",
       "|   17.4333591 | -1.057237408 | 5.114864e-02 | !sig         | \n",
       "|  365.2625318 | -1.030560331 | 2.888787e-03 | sig          | \n",
       "|  643.5209068 | -2.255638839 | 1.250000e-14 | sig          | \n",
       "|   14.7767394 |  0.270394524 | 7.364323e-01 | !sig         | \n",
       "|    3.1094441 |  0.241018564 | 8.623265e-01 | !sig         | \n",
       "|    4.1070926 |  1.180624115 | 1.870495e-01 | !sig         | \n",
       "|   17.8167829 | -0.026159525 | 9.877749e-01 | !sig         | \n",
       "|   99.3680284 | -0.144866391 | 8.151420e-01 | !sig         | \n",
       "| 1961.0769280 | -1.336887734 | 3.760000e-08 | sig          | \n",
       "| ⋮ | ⋮ | ⋮ | ⋮ | \n",
       "|  463.1803447 |  0.53986676  | 1.006744e-01 | !sig         | \n",
       "|  281.2836333 |  0.34280709  | 2.619995e-01 | !sig         | \n",
       "| 1190.4092840 |  0.01255498  | 9.858765e-01 | !sig         | \n",
       "|  175.5906321 | -0.62320065  | 5.305227e-02 | !sig         | \n",
       "|   74.6212440 | -2.76567200  | 1.380000e-07 | sig          | \n",
       "| 6448.8751000 |  0.02525367  | 9.572118e-01 | !sig         | \n",
       "|  488.5664401 | -0.49177374  | 3.281471e-02 | sig          | \n",
       "|   20.2343537 |  0.57319429  | 4.280409e-01 | !sig         | \n",
       "|    0.5011933 | -0.10374941  |           NA | NA           | \n",
       "|  131.0923289 |  0.31741102  | 2.814311e-01 | !sig         | \n",
       "| 1068.0602190 | -0.21975993  | 3.729001e-01 | !sig         | \n",
       "|   84.3692469 | -4.38728848  | 1.450000e-23 | sig          | \n",
       "|  822.1479147 |  0.41786705  | 2.519199e-01 | !sig         | \n",
       "|  120.1631076 | -1.71103311  | 1.480000e-09 | sig          | \n",
       "|    1.3780993 |  0.48417947  |           NA | NA           | \n",
       "|  289.8239287 | -1.63161054  | 2.998390e-04 | sig          | \n",
       "|   80.1371645 | -1.09598517  | 1.000973e-01 | !sig         | \n",
       "|  965.9769543 | -0.12459964  | 7.485698e-01 | !sig         | \n",
       "|   66.8541134 | -0.70478574  | 2.632495e-01 | !sig         | \n",
       "|   24.1658529 | -0.99668553  | 9.348970e-02 | !sig         | \n",
       "|  383.4006187 | -0.01094582  | 9.797778e-01 | !sig         | \n",
       "|  379.8428768 |  0.08522877  | 7.848873e-01 | !sig         | \n",
       "| 1435.3239890 |  0.04869732  | 9.010712e-01 | !sig         | \n",
       "|   87.8650442 | -0.95503525  | 3.582930e-04 | sig          | \n",
       "|  146.4175068 | -0.14635328  | 7.821706e-01 | !sig         | \n",
       "|  111.7153911 |  0.60100567  | 1.361938e-01 | !sig         | \n",
       "|   72.3719334 |  0.33922670  | 3.352177e-01 | !sig         | \n",
       "|  270.0027762 | -0.22916478  | 4.418914e-01 | !sig         | \n",
       "|  288.4767585 |  0.10264088  | 8.456544e-01 | !sig         | \n",
       "|  171.7401625 | -0.07133449  | 8.936611e-01 | !sig         | \n",
       "\n",
       "\n"
      ],
      "text/plain": [
       "    baseMean     log2FoldChange padj         nav.d14.sub.sub\n",
       "1     25.2567446  1.302468822   8.209295e-03 sig            \n",
       "2      0.2885080 -0.050778715             NA NA             \n",
       "3    163.5077733 -0.055028326   9.144493e-01 !sig           \n",
       "4    296.4617127  0.273700992   3.312390e-01 !sig           \n",
       "5    199.0119864 -1.620120054   1.590000e-07 sig            \n",
       "6    122.7925300 -5.609368054   7.150000e-17 sig            \n",
       "7     27.4052165 -0.054920405   9.742211e-01 !sig           \n",
       "8     72.0384923 -0.764421958   2.135803e-02 sig            \n",
       "9    232.8235989 -0.669026757   7.365785e-03 sig            \n",
       "10   557.5801607 -0.007449532   9.850497e-01 !sig           \n",
       "11   108.0712339  0.772006269   1.301502e-01 !sig           \n",
       "12   810.6565538  0.890087366   2.670000e-05 sig            \n",
       "13   541.2743227  0.243789623   4.646951e-01 !sig           \n",
       "14   166.5152095 -1.079758358   4.158050e-04 sig            \n",
       "15     0.7756764  0.018149013             NA NA             \n",
       "16    21.0101464 -0.152174024   8.859011e-01 !sig           \n",
       "17   851.1972930 -0.244293694   3.091941e-01 !sig           \n",
       "18   232.2112019 -0.375691024   2.950932e-01 !sig           \n",
       "19   646.5918389  0.231034820   4.243037e-01 !sig           \n",
       "20   239.2300392 -0.232950518   6.475512e-01 !sig           \n",
       "21     4.3225472  0.928279411   3.681571e-01 !sig           \n",
       "22    17.4333591 -1.057237408   5.114864e-02 !sig           \n",
       "23   365.2625318 -1.030560331   2.888787e-03 sig            \n",
       "24   643.5209068 -2.255638839   1.250000e-14 sig            \n",
       "25    14.7767394  0.270394524   7.364323e-01 !sig           \n",
       "26     3.1094441  0.241018564   8.623265e-01 !sig           \n",
       "27     4.1070926  1.180624115   1.870495e-01 !sig           \n",
       "28    17.8167829 -0.026159525   9.877749e-01 !sig           \n",
       "29    99.3680284 -0.144866391   8.151420e-01 !sig           \n",
       "30  1961.0769280 -1.336887734   3.760000e-08 sig            \n",
       "⋮   ⋮            ⋮              ⋮            ⋮              \n",
       "471  463.1803447  0.53986676    1.006744e-01 !sig           \n",
       "472  281.2836333  0.34280709    2.619995e-01 !sig           \n",
       "473 1190.4092840  0.01255498    9.858765e-01 !sig           \n",
       "474  175.5906321 -0.62320065    5.305227e-02 !sig           \n",
       "475   74.6212440 -2.76567200    1.380000e-07 sig            \n",
       "476 6448.8751000  0.02525367    9.572118e-01 !sig           \n",
       "477  488.5664401 -0.49177374    3.281471e-02 sig            \n",
       "478   20.2343537  0.57319429    4.280409e-01 !sig           \n",
       "479    0.5011933 -0.10374941              NA NA             \n",
       "480  131.0923289  0.31741102    2.814311e-01 !sig           \n",
       "481 1068.0602190 -0.21975993    3.729001e-01 !sig           \n",
       "482   84.3692469 -4.38728848    1.450000e-23 sig            \n",
       "483  822.1479147  0.41786705    2.519199e-01 !sig           \n",
       "484  120.1631076 -1.71103311    1.480000e-09 sig            \n",
       "485    1.3780993  0.48417947              NA NA             \n",
       "486  289.8239287 -1.63161054    2.998390e-04 sig            \n",
       "487   80.1371645 -1.09598517    1.000973e-01 !sig           \n",
       "488  965.9769543 -0.12459964    7.485698e-01 !sig           \n",
       "489   66.8541134 -0.70478574    2.632495e-01 !sig           \n",
       "490   24.1658529 -0.99668553    9.348970e-02 !sig           \n",
       "491  383.4006187 -0.01094582    9.797778e-01 !sig           \n",
       "492  379.8428768  0.08522877    7.848873e-01 !sig           \n",
       "493 1435.3239890  0.04869732    9.010712e-01 !sig           \n",
       "494   87.8650442 -0.95503525    3.582930e-04 sig            \n",
       "495  146.4175068 -0.14635328    7.821706e-01 !sig           \n",
       "496  111.7153911  0.60100567    1.361938e-01 !sig           \n",
       "497   72.3719334  0.33922670    3.352177e-01 !sig           \n",
       "498  270.0027762 -0.22916478    4.418914e-01 !sig           \n",
       "499  288.4767585  0.10264088    8.456544e-01 !sig           \n",
       "500  171.7401625 -0.07133449    8.936611e-01 !sig           "
      ]
     },
     "metadata": {},
     "output_type": "display_data"
    }
   ],
   "source": [
    "#5.4 padj >.05: nonsig, padj <=.05: sig\n",
    "\n",
    "padj.function<-function(x){\n",
    "    if (is.na(x)){return (\"NA\")}\n",
    "    else if (x>.05){return (\"!sig\")}\n",
    "    else {return(\"sig\")}\n",
    "# Below doesn't work for some reason\n",
    "#    item.sub\n",
    "#    bool.sub <- c()\n",
    "#    counter <- 0\n",
    "#   for (i in item.sub){\n",
    "#        counter <- counter +1\n",
    "#        #i in the loop is the value in the vector. is pdaj format not number which is why its all significant?\n",
    "#        ifelse (i>.05, bool.sub<-c(bool.sub,\"nonsig\"),bool.sub<-c(bool.sub,\"sig\"))\n",
    "#    }\n",
    "#    x.comb <- cbind(x, bool.sub)\n",
    "    \n",
    "#    return (x.comb)\n",
    "}\n",
    "nav.d14.sub.sub <- lapply(nav.d14.sub$padj,padj.function) #returns a list\n",
    "nav.d14.sub.sub <- unlist(nav.d14.sub.sub, use.names=FALSE) #converts to a vector of characters\n",
    "nav.d14.sub.sub <- cbind(nav.d14.sub,nav.d14.sub.sub) #adds the vector to data frame\n",
    "nav.d14.sub.sub"
   ]
  },
  {
   "cell_type": "markdown",
   "metadata": {},
   "source": [
    "## Install Swirl,  do \"R programming\" and \"Data analysis\"\n",
    "https://swirlstats.com/students.html"
   ]
  },
  {
   "cell_type": "code",
   "execution_count": null,
   "metadata": {
    "collapsed": true
   },
   "outputs": [],
   "source": []
  }
 ],
 "metadata": {
  "kernelspec": {
   "display_name": "R",
   "language": "R",
   "name": "ir"
  },
  "language_info": {
   "codemirror_mode": "r",
   "file_extension": ".r",
   "mimetype": "text/x-r-source",
   "name": "R",
   "pygments_lexer": "r",
   "version": "3.5.1"
  }
 },
 "nbformat": 4,
 "nbformat_minor": 2
}
