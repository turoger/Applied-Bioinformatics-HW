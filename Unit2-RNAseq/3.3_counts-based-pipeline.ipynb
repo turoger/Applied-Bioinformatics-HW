{
 "cells": [
  {
   "cell_type": "markdown",
   "metadata": {},
   "source": [
    "## 3.1 Gene counts based expression analysis\n",
    "\n",
    "Read counts summary - inspect the uncounted reads\n",
    "#### How many reads were not counted towards individual genes?"
   ]
  },
  {
   "cell_type": "code",
   "execution_count": 6,
   "metadata": {},
   "outputs": [
    {
     "name": "stdout",
     "output_type": "stream",
     "text": [
      "ENSG00000285990\t0\n",
      "ENSG00000285991\t0\n",
      "ENSG00000285992\t0\n",
      "ENSG00000285993\t0\n",
      "ENSG00000285994\t5\n",
      "__no_feature\t3149550\n",
      "__ambiguous\t395230\n",
      "__too_low_aQual\t0\n",
      "__not_aligned\t833738\n",
      "__alignment_not_unique\t7502708\n"
     ]
    }
   ],
   "source": [
    "%%bash\n",
    "cd /mnt/c/Users/Jerry/Downloads/\n",
    "tail ./htseq_out/SRR5454079_gtf_genecounts_v11_s-reverse.txt"
   ]
  },
  {
   "cell_type": "markdown",
   "metadata": {},
   "source": [
    "#### How many reads to start with?\n",
    "Find out the number of pre-mapping reads, the number of reads mapped and number of secondary alignments"
   ]
  },
  {
   "cell_type": "code",
   "execution_count": 4,
   "metadata": {},
   "outputs": [
    {
     "name": "stdout",
     "output_type": "stream",
     "text": [
      "24142929 + 0 in total (QC-passed reads + QC-failed reads)\n",
      "5443891 + 0 secondary\n",
      "0 + 0 supplementary\n",
      "0 + 0 duplicates\n",
      "23309191 + 0 mapped (96.55% : N/A)\n",
      "0 + 0 paired in sequencing\n",
      "0 + 0 read1\n",
      "0 + 0 read2\n",
      "0 + 0 properly paired (N/A : N/A)\n",
      "0 + 0 with itself and mate mapped\n",
      "0 + 0 singletons (N/A : N/A)\n",
      "0 + 0 with mate mapped to a different chr\n",
      "0 + 0 with mate mapped to a different chr (mapQ>=5)\n"
     ]
    }
   ],
   "source": [
    "%%bash\n",
    "cd /mnt/c/Users/Jerry/Downloads/\n",
    "samtools flagstat ./hisat_out/SRR5454079.bam"
   ]
  },
  {
   "cell_type": "markdown",
   "metadata": {},
   "source": [
    "#### Questions - write the answer below each question."
   ]
  },
  {
   "cell_type": "markdown",
   "metadata": {},
   "source": [
    "I) What are the components of a FASTQ file?"
   ]
  },
  {
   "cell_type": "markdown",
   "metadata": {},
   "source": [
    "Label, Nucleotide Sequence, and Quality score."
   ]
  },
  {
   "cell_type": "markdown",
   "metadata": {},
   "source": [
    "II) What is a SAM file?"
   ]
  },
  {
   "cell_type": "markdown",
   "metadata": {},
   "source": [
    "SAM files are sequence aligned maps that align the fastq file to specific bits of the genome."
   ]
  },
  {
   "cell_type": "markdown",
   "metadata": {},
   "source": [
    "III) Why is it not possible to run htseq-count directly on FASTQ files? What is the missing step?"
   ]
  },
  {
   "cell_type": "markdown",
   "metadata": {},
   "source": [
    "Because the FASTQ file is not sequenced aligned. Prior to running a sequencing count, you need to have an idea of where the nucleotides are mapped otherwise you can't count the genes."
   ]
  },
  {
   "cell_type": "markdown",
   "metadata": {},
   "source": [
    "IV) Find one example of an optional SAM tag and explain why it might be useful."
   ]
  },
  {
   "cell_type": "markdown",
   "metadata": {},
   "source": [
    "CB is an optional SAM tag that is a cell identifier and contains a cell barcode and optional suffixes. The suffix consists of a dash and one characters to form an identifier. \n",
    "\n",
    "\"In the case of the cellular barcode (CR) being based on multiple barcode sequences\n",
    "the recommended implementation concatenates all the (corrected or uncorrected) barcodes with a\n",
    "hyphen (‘-’) between the different barcodes. Sequencing errors etc aside, all reads from a single cell\n",
    "are expected to have the same CB tag.\""
   ]
  },
  {
   "cell_type": "markdown",
   "metadata": {},
   "source": [
    "V) You practiced the steps from FASTQ to BAM but is it possible to go from BAM to FASTQ? If so, how?"
   ]
  },
  {
   "cell_type": "markdown",
   "metadata": {},
   "source": [
    "Yes. You would need to install HTSLib, shuffle the reads in the BAM files, revert the BAM file to FASTQ and compress it. \n",
    "\n",
    "Instructions can be found at:\n",
    "https://gatkforums.broadinstitute.org/gatk/discussion/2908/howto-revert-a-bam-file-to-fastq-format"
   ]
  },
  {
   "cell_type": "markdown",
   "metadata": {},
   "source": [
    "VI) Describe the process of a spliced alignment and explain why it is more difficult than mapping genomic DNA reads."
   ]
  },
  {
   "cell_type": "markdown",
   "metadata": {},
   "source": [
    "The process of spliced alignment begins with mapping RNA-seq reads to the best location on DNA. However, because RNA-seq reads represent RNA (with introns and exons), the reads may be thousands of base pairs apart.spliced alignment is difficult to map because the RNA-seq reads may not necessarily be be in the next gene over, and may be far apart."
   ]
  },
  {
   "cell_type": "markdown",
   "metadata": {},
   "source": [
    "VII) Using the default settings of htseq-count, would a read which mapped fully to a genomic region on which 2 genes overlap be counted towards any of the 2 genes? Explain why."
   ]
  },
  {
   "cell_type": "markdown",
   "metadata": {},
   "source": [
    "The default setting of htseq-count is Union. If a read was mapped to two overlapping genes, the read would be counted to neither of the two genes because counting it for two genes would lead to an overestimation of genes being differentially expressed. By throwing out the read that maps to two genes, you have an underestimation of all differentially expressed genes. However, because all genes are being underrepresented, the fraction of underrepresentation is the same, therefore the magnitude and results are still correct."
   ]
  },
  {
   "cell_type": "markdown",
   "metadata": {},
   "source": [
    "VIII) You are interested in RNA-sequencing an organism for which no transcriptome annotations are available. Can you still use htseq-count to examine gene expression? If so, what upstream analyses would you perform first?"
   ]
  },
  {
   "cell_type": "markdown",
   "metadata": {},
   "source": [
    "Yes, you can still use htseq-count to examine gene expression without annotations. However, upstream to this step you would still need to map the RNA-seq to a BAM file then run the htseq-count to create your own transcriptome/alignment of your sequences."
   ]
  },
  {
   "cell_type": "markdown",
   "metadata": {},
   "source": [
    "IX) Intron retention can result in mRNA isoforms that contain unspliced introns. If **sample 1** contains a high frequency of intron-retained isoforms of gene A whereas **sample 2** contains fully spliced isoforms of gene A, but each sample has the identical number of reads mapping to gene A, which sample will have a higher gene A count using default htseq-count settings?"
   ]
  },
  {
   "cell_type": "markdown",
   "metadata": {},
   "source": [
    "I think sample 2 would have a higher gene A count using the default htseq-count function (union). Sample 2 would not map introns to another potential gene. However, some counts on sample 1 would be thrown out as its introns may map to two different genes."
   ]
  },
  {
   "cell_type": "markdown",
   "metadata": {},
   "source": []
  }
 ],
 "metadata": {
  "kernelspec": {
   "display_name": "Python 3",
   "language": "python",
   "name": "python3"
  },
  "language_info": {
   "codemirror_mode": {
    "name": "ipython",
    "version": 3
   },
   "file_extension": ".py",
   "mimetype": "text/x-python",
   "name": "python",
   "nbconvert_exporter": "python",
   "pygments_lexer": "ipython3",
   "version": "3.5.2"
  }
 },
 "nbformat": 4,
 "nbformat_minor": 2
}
